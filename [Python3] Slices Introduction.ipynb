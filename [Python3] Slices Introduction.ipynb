{
 "cells": [
  {
   "cell_type": "markdown",
   "id": "f7a01f37",
   "metadata": {},
   "source": [
    "# Chapter 3 內建資料結構、函式和檔案"
   ]
  },
  {
   "cell_type": "markdown",
   "id": "e068f8a1",
   "metadata": {},
   "source": [
    "## Slice Introduction"
   ]
  },
  {
   "cell_type": "markdown",
   "id": "59c469fb",
   "metadata": {},
   "source": [
    "### Slice: 序列可以切開成獨立的元素。 形式為[start:stop] ，start的元素會被包含，stop元素不會被包含。"
   ]
  },
  {
   "cell_type": "code",
   "execution_count": 1,
   "id": "c68ede0e",
   "metadata": {},
   "outputs": [
    {
     "name": "stdout",
     "output_type": "stream",
     "text": [
      "a[2:5]= [2, 3, 4]\n"
     ]
    }
   ],
   "source": [
    "a=[0,1,2,3,4,5,6]\n",
    "print(f'a[2:5]= {a[2:5]}')"
   ]
  },
  {
   "cell_type": "markdown",
   "id": "10457336",
   "metadata": {},
   "source": [
    "### 可以依據序列更換值。"
   ]
  },
  {
   "cell_type": "code",
   "execution_count": 2,
   "id": "dde3f9c7",
   "metadata": {},
   "outputs": [
    {
     "name": "stdout",
     "output_type": "stream",
     "text": [
      "a= [0, 1, 2, 3, 4, 7, 6]\n"
     ]
    }
   ],
   "source": [
    "a[5:6]=[7]\n",
    "print(f'a= {a}')"
   ]
  },
  {
   "cell_type": "code",
   "execution_count": 3,
   "id": "b93de29f",
   "metadata": {},
   "outputs": [
    {
     "name": "stdout",
     "output_type": "stream",
     "text": [
      "a= ['x', 'y', 2, 3, 4, 7, 6]\n"
     ]
    }
   ],
   "source": [
    "a[0:2]=['x','y']\n",
    "print(f'a= {a}')"
   ]
  },
  {
   "cell_type": "markdown",
   "id": "855a48f8",
   "metadata": {},
   "source": [
    "### 忽略start或是stop代表從頭開始，或是直到序列結尾。"
   ]
  },
  {
   "cell_type": "code",
   "execution_count": 4,
   "id": "8bfbf4f7",
   "metadata": {},
   "outputs": [
    {
     "data": {
      "text/plain": [
       "['x', 'y', 2, 3]"
      ]
     },
     "execution_count": 4,
     "metadata": {},
     "output_type": "execute_result"
    }
   ],
   "source": [
    "a[:4]"
   ]
  },
  {
   "cell_type": "code",
   "execution_count": 5,
   "id": "e8b68224",
   "metadata": {},
   "outputs": [
    {
     "data": {
      "text/plain": [
       "[3, 4, 7, 6]"
      ]
     },
     "execution_count": 5,
     "metadata": {},
     "output_type": "execute_result"
    }
   ],
   "source": [
    "a[3:]"
   ]
  },
  {
   "cell_type": "markdown",
   "id": "007affec",
   "metadata": {},
   "source": [
    "### [start:stop:間隔] ：可以設定slice要間隔多少元素。"
   ]
  },
  {
   "cell_type": "code",
   "execution_count": 6,
   "id": "b9f01b71",
   "metadata": {},
   "outputs": [
    {
     "data": {
      "text/plain": [
       "['x', 2, 4, 6]"
      ]
     },
     "execution_count": 6,
     "metadata": {},
     "output_type": "execute_result"
    }
   ],
   "source": [
    "a[::2]"
   ]
  },
  {
   "cell_type": "markdown",
   "id": "9e52e393",
   "metadata": {},
   "source": [
    "### [::-1]:可以翻轉一個list或是tuple"
   ]
  },
  {
   "cell_type": "code",
   "execution_count": 7,
   "id": "77316e14",
   "metadata": {},
   "outputs": [
    {
     "data": {
      "text/plain": [
       "[6, 7, 4, 3, 2, 'y', 'x']"
      ]
     },
     "execution_count": 7,
     "metadata": {},
     "output_type": "execute_result"
    }
   ],
   "source": [
    "a[::-1] #翻轉list"
   ]
  },
  {
   "cell_type": "code",
   "execution_count": 8,
   "id": "9f36b22e",
   "metadata": {},
   "outputs": [
    {
     "data": {
      "text/plain": [
       "(7, 6, 5, 4, 3, 2, 1)"
      ]
     },
     "execution_count": 8,
     "metadata": {},
     "output_type": "execute_result"
    }
   ],
   "source": [
    "b=1,2,3,4,5,6,7\n",
    "b[::-1] #翻轉tuple"
   ]
  }
 ],
 "metadata": {
  "kernelspec": {
   "display_name": "Python 3 (ipykernel)",
   "language": "python",
   "name": "python3"
  },
  "language_info": {
   "codemirror_mode": {
    "name": "ipython",
    "version": 3
   },
   "file_extension": ".py",
   "mimetype": "text/x-python",
   "name": "python",
   "nbconvert_exporter": "python",
   "pygments_lexer": "ipython3",
   "version": "3.9.12"
  }
 },
 "nbformat": 4,
 "nbformat_minor": 5
}
