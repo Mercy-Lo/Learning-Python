{
 "cells": [
  {
   "cell_type": "markdown",
   "id": "424f7c52",
   "metadata": {},
   "source": [
    "# Chapter11 時間序列"
   ]
  },
  {
   "cell_type": "markdown",
   "id": "20b93b33",
   "metadata": {},
   "source": [
    "## Time Series PartII"
   ]
  },
  {
   "cell_type": "markdown",
   "id": "8131c2e4",
   "metadata": {},
   "source": [
    "### 日期區間、頻率和位移"
   ]
  },
  {
   "cell_type": "code",
   "execution_count": 1,
   "id": "a1ea5f68",
   "metadata": {},
   "outputs": [],
   "source": [
    "import pandas as pd"
   ]
  },
  {
   "cell_type": "code",
   "execution_count": 2,
   "id": "e2e9b518",
   "metadata": {},
   "outputs": [],
   "source": [
    "import numpy as np"
   ]
  },
  {
   "cell_type": "code",
   "execution_count": 3,
   "id": "ebe4031d",
   "metadata": {},
   "outputs": [],
   "source": [
    "from datetime import datetime"
   ]
  },
  {
   "cell_type": "code",
   "execution_count": 4,
   "id": "327f3009",
   "metadata": {},
   "outputs": [],
   "source": [
    "dates=[datetime(2011,1,2),datetime(2011,1,3),datetime(2011,1,4),datetime(2011,1,5),\n",
    "       datetime(2011,1,6),datetime(2011,1,7),datetime(2011,1,8),datetime(2011,1,9)]"
   ]
  },
  {
   "cell_type": "code",
   "execution_count": 5,
   "id": "806750a9",
   "metadata": {},
   "outputs": [],
   "source": [
    "ts=pd.Series(np.random.rand(8),index=dates)"
   ]
  },
  {
   "cell_type": "code",
   "execution_count": 6,
   "id": "54455c4a",
   "metadata": {},
   "outputs": [
    {
     "data": {
      "text/plain": [
       "2011-01-02    0.853673\n",
       "2011-01-03    0.981514\n",
       "2011-01-04    0.120110\n",
       "2011-01-05    0.821109\n",
       "2011-01-06    0.600622\n",
       "2011-01-07    0.549698\n",
       "2011-01-08    0.012455\n",
       "2011-01-09    0.815696\n",
       "dtype: float64"
      ]
     },
     "execution_count": 6,
     "metadata": {},
     "output_type": "execute_result"
    }
   ],
   "source": [
    "ts"
   ]
  },
  {
   "cell_type": "code",
   "execution_count": 7,
   "id": "04d62ede",
   "metadata": {},
   "outputs": [
    {
     "data": {
      "text/plain": [
       "2011-01-02    1.835186\n",
       "2011-01-04    0.941218\n",
       "2011-01-06    1.150320\n",
       "2011-01-08    0.828151\n",
       "Freq: 2D, dtype: float64"
      ]
     },
     "execution_count": 7,
     "metadata": {},
     "output_type": "execute_result"
    }
   ],
   "source": [
    "ts.resample('2D').sum()"
   ]
  },
  {
   "cell_type": "markdown",
   "id": "05d1c3cc",
   "metadata": {},
   "source": [
    "### series.resample('3T').sum() ：可以按照頻率取出表格的日期，並且進行聚合運算。"
   ]
  },
  {
   "cell_type": "code",
   "execution_count": 8,
   "id": "1e0ca2d6",
   "metadata": {},
   "outputs": [
    {
     "data": {
      "text/plain": [
       "2019-01-01 00:03:00     3\n",
       "2019-01-01 00:06:00    12\n",
       "2019-01-01 00:09:00    13\n",
       "Freq: 3T, dtype: int64"
      ]
     },
     "execution_count": 8,
     "metadata": {},
     "output_type": "execute_result"
    }
   ],
   "source": [
    "import numpy as np\n",
    "import pandas as pd\n",
    "index = pd.date_range('1/1/2019', periods=8, freq='T')\n",
    "series = pd.Series(range(8), index=index)\n",
    "series.resample('3T', label='right').sum()"
   ]
  },
  {
   "cell_type": "code",
   "execution_count": 9,
   "id": "83045678",
   "metadata": {},
   "outputs": [
    {
     "data": {
      "text/html": [
       "<div>\n",
       "<style scoped>\n",
       "    .dataframe tbody tr th:only-of-type {\n",
       "        vertical-align: middle;\n",
       "    }\n",
       "\n",
       "    .dataframe tbody tr th {\n",
       "        vertical-align: top;\n",
       "    }\n",
       "\n",
       "    .dataframe thead th {\n",
       "        text-align: right;\n",
       "    }\n",
       "</style>\n",
       "<table border=\"1\" class=\"dataframe\">\n",
       "  <thead>\n",
       "    <tr style=\"text-align: right;\">\n",
       "      <th></th>\n",
       "      <th>mean</th>\n",
       "      <th>sum</th>\n",
       "      <th>max</th>\n",
       "      <th>min</th>\n",
       "    </tr>\n",
       "  </thead>\n",
       "  <tbody>\n",
       "    <tr>\n",
       "      <th>2019-01-01 00:03:00</th>\n",
       "      <td>1.0</td>\n",
       "      <td>3</td>\n",
       "      <td>2</td>\n",
       "      <td>0</td>\n",
       "    </tr>\n",
       "    <tr>\n",
       "      <th>2019-01-01 00:06:00</th>\n",
       "      <td>4.0</td>\n",
       "      <td>12</td>\n",
       "      <td>5</td>\n",
       "      <td>3</td>\n",
       "    </tr>\n",
       "    <tr>\n",
       "      <th>2019-01-01 00:09:00</th>\n",
       "      <td>6.5</td>\n",
       "      <td>13</td>\n",
       "      <td>7</td>\n",
       "      <td>6</td>\n",
       "    </tr>\n",
       "  </tbody>\n",
       "</table>\n",
       "</div>"
      ],
      "text/plain": [
       "                     mean  sum  max  min\n",
       "2019-01-01 00:03:00   1.0    3    2    0\n",
       "2019-01-01 00:06:00   4.0   12    5    3\n",
       "2019-01-01 00:09:00   6.5   13    7    6"
      ]
     },
     "execution_count": 9,
     "metadata": {},
     "output_type": "execute_result"
    }
   ],
   "source": [
    "import numpy as np\n",
    "import pandas as pd\n",
    "index = pd.date_range('1/1/2019', periods=8, freq='T')\n",
    "series = pd.Series(range(8), index=index)\n",
    "series.resample('3T', label='right').agg(['mean','sum','max','min'])"
   ]
  },
  {
   "cell_type": "markdown",
   "id": "d8c54239",
   "metadata": {},
   "source": [
    "### 產生區間日期"
   ]
  },
  {
   "cell_type": "markdown",
   "id": "c72ac5e3",
   "metadata": {},
   "source": [
    "### pd.date_range(起始日,終止日) 間隔預設值為1天。"
   ]
  },
  {
   "cell_type": "code",
   "execution_count": 10,
   "id": "fa75e329",
   "metadata": {},
   "outputs": [],
   "source": [
    "index=pd.date_range('2012-04-01','2012-06-01')"
   ]
  },
  {
   "cell_type": "code",
   "execution_count": 11,
   "id": "52a0c932",
   "metadata": {},
   "outputs": [
    {
     "data": {
      "text/plain": [
       "DatetimeIndex(['2012-04-01', '2012-04-02', '2012-04-03', '2012-04-04',\n",
       "               '2012-04-05', '2012-04-06', '2012-04-07', '2012-04-08',\n",
       "               '2012-04-09', '2012-04-10', '2012-04-11', '2012-04-12',\n",
       "               '2012-04-13', '2012-04-14', '2012-04-15', '2012-04-16',\n",
       "               '2012-04-17', '2012-04-18', '2012-04-19', '2012-04-20',\n",
       "               '2012-04-21', '2012-04-22', '2012-04-23', '2012-04-24',\n",
       "               '2012-04-25', '2012-04-26', '2012-04-27', '2012-04-28',\n",
       "               '2012-04-29', '2012-04-30', '2012-05-01', '2012-05-02',\n",
       "               '2012-05-03', '2012-05-04', '2012-05-05', '2012-05-06',\n",
       "               '2012-05-07', '2012-05-08', '2012-05-09', '2012-05-10',\n",
       "               '2012-05-11', '2012-05-12', '2012-05-13', '2012-05-14',\n",
       "               '2012-05-15', '2012-05-16', '2012-05-17', '2012-05-18',\n",
       "               '2012-05-19', '2012-05-20', '2012-05-21', '2012-05-22',\n",
       "               '2012-05-23', '2012-05-24', '2012-05-25', '2012-05-26',\n",
       "               '2012-05-27', '2012-05-28', '2012-05-29', '2012-05-30',\n",
       "               '2012-05-31', '2012-06-01'],\n",
       "              dtype='datetime64[ns]', freq='D')"
      ]
     },
     "execution_count": 11,
     "metadata": {},
     "output_type": "execute_result"
    }
   ],
   "source": [
    "index"
   ]
  },
  {
   "cell_type": "markdown",
   "id": "c85e19bd",
   "metadata": {},
   "source": [
    "### pd.date_range(start=起始日, period=持續幾天)"
   ]
  },
  {
   "cell_type": "code",
   "execution_count": 12,
   "id": "fbd1c6fd",
   "metadata": {},
   "outputs": [
    {
     "data": {
      "text/plain": [
       "DatetimeIndex(['2012-04-01', '2012-04-02', '2012-04-03', '2012-04-04',\n",
       "               '2012-04-05', '2012-04-06', '2012-04-07', '2012-04-08',\n",
       "               '2012-04-09', '2012-04-10', '2012-04-11', '2012-04-12',\n",
       "               '2012-04-13', '2012-04-14', '2012-04-15', '2012-04-16',\n",
       "               '2012-04-17', '2012-04-18', '2012-04-19', '2012-04-20'],\n",
       "              dtype='datetime64[ns]', freq='D')"
      ]
     },
     "execution_count": 12,
     "metadata": {},
     "output_type": "execute_result"
    }
   ],
   "source": [
    "pd.date_range(start='2012-04-01',periods=20)"
   ]
  },
  {
   "cell_type": "markdown",
   "id": "10fe901d",
   "metadata": {},
   "source": [
    "### pd.date_range(end=終止日，periods=持續幾日)"
   ]
  },
  {
   "cell_type": "code",
   "execution_count": 13,
   "id": "d023de5a",
   "metadata": {},
   "outputs": [
    {
     "data": {
      "text/plain": [
       "DatetimeIndex(['2012-05-13', '2012-05-14', '2012-05-15', '2012-05-16',\n",
       "               '2012-05-17', '2012-05-18', '2012-05-19', '2012-05-20',\n",
       "               '2012-05-21', '2012-05-22', '2012-05-23', '2012-05-24',\n",
       "               '2012-05-25', '2012-05-26', '2012-05-27', '2012-05-28',\n",
       "               '2012-05-29', '2012-05-30', '2012-05-31', '2012-06-01'],\n",
       "              dtype='datetime64[ns]', freq='D')"
      ]
     },
     "execution_count": 13,
     "metadata": {},
     "output_type": "execute_result"
    }
   ],
   "source": [
    "pd.date_range(end='2012-06-01', periods=20)"
   ]
  },
  {
   "cell_type": "markdown",
   "id": "d1831e74",
   "metadata": {},
   "source": [
    "### freq='BM' business end of month 每個月最後一個上班日。"
   ]
  },
  {
   "cell_type": "code",
   "execution_count": 14,
   "id": "785a542c",
   "metadata": {},
   "outputs": [
    {
     "data": {
      "text/plain": [
       "DatetimeIndex(['2022-01-31', '2022-02-28', '2022-03-31', '2022-04-29',\n",
       "               '2022-05-31', '2022-06-30', '2022-07-29', '2022-08-31',\n",
       "               '2022-09-30', '2022-10-31', '2022-11-30', '2022-12-30'],\n",
       "              dtype='datetime64[ns]', freq='BM')"
      ]
     },
     "execution_count": 14,
     "metadata": {},
     "output_type": "execute_result"
    }
   ],
   "source": [
    "pd.date_range('2022-01-01','2022-12-31',freq='BM')"
   ]
  },
  {
   "cell_type": "markdown",
   "id": "4ff05a70",
   "metadata": {},
   "source": [
    "### freq='B' 上班日"
   ]
  },
  {
   "cell_type": "code",
   "execution_count": 15,
   "id": "194b38e3",
   "metadata": {},
   "outputs": [
    {
     "data": {
      "text/plain": [
       "DatetimeIndex(['2022-10-03', '2022-10-04', '2022-10-05', '2022-10-06',\n",
       "               '2022-10-07', '2022-10-10', '2022-10-11', '2022-10-12',\n",
       "               '2022-10-13', '2022-10-14', '2022-10-17', '2022-10-18',\n",
       "               '2022-10-19', '2022-10-20', '2022-10-21', '2022-10-24',\n",
       "               '2022-10-25', '2022-10-26', '2022-10-27', '2022-10-28',\n",
       "               '2022-10-31'],\n",
       "              dtype='datetime64[ns]', freq='B')"
      ]
     },
     "execution_count": 15,
     "metadata": {},
     "output_type": "execute_result"
    }
   ],
   "source": [
    "pd.date_range('2022-10-01','2022-10-31',freq='B')"
   ]
  },
  {
   "cell_type": "markdown",
   "id": "b0ca79e6",
   "metadata": {},
   "source": [
    "### pd.date_range() 預設值為起始日，間隔為1天。"
   ]
  },
  {
   "cell_type": "code",
   "execution_count": 16,
   "id": "1a28addf",
   "metadata": {},
   "outputs": [
    {
     "data": {
      "text/plain": [
       "DatetimeIndex(['2022-10-20 12:56:31', '2022-10-21 12:56:31',\n",
       "               '2022-10-22 12:56:31', '2022-10-23 12:56:31',\n",
       "               '2022-10-24 12:56:31'],\n",
       "              dtype='datetime64[ns]', freq='D')"
      ]
     },
     "execution_count": 16,
     "metadata": {},
     "output_type": "execute_result"
    }
   ],
   "source": [
    "pd.date_range('2022-10-20 12:56:31', periods=5)"
   ]
  },
  {
   "cell_type": "markdown",
   "id": "92566887",
   "metadata": {},
   "source": [
    "### normalize=True 可以讓所有的日期變成子夜。"
   ]
  },
  {
   "cell_type": "code",
   "execution_count": 17,
   "id": "e2d4dbfa",
   "metadata": {},
   "outputs": [
    {
     "data": {
      "text/plain": [
       "DatetimeIndex(['2022-10-20', '2022-10-21', '2022-10-22', '2022-10-23',\n",
       "               '2022-10-24'],\n",
       "              dtype='datetime64[ns]', freq='D')"
      ]
     },
     "execution_count": 17,
     "metadata": {},
     "output_type": "execute_result"
    }
   ],
   "source": [
    "pd.date_range('2022-10-20 12:56:31', periods=5, normalize=True)"
   ]
  },
  {
   "cell_type": "markdown",
   "id": "14bb5189",
   "metadata": {},
   "source": [
    "### 頻率和資料位移 base frequency & Data Offset"
   ]
  },
  {
   "cell_type": "code",
   "execution_count": 18,
   "id": "e372547e",
   "metadata": {},
   "outputs": [],
   "source": [
    "from pandas.tseries.offsets import Hour, Minute"
   ]
  },
  {
   "cell_type": "code",
   "execution_count": 19,
   "id": "bf5222f4",
   "metadata": {},
   "outputs": [],
   "source": [
    "hour=Hour()"
   ]
  },
  {
   "cell_type": "code",
   "execution_count": 20,
   "id": "2bc24c85",
   "metadata": {},
   "outputs": [
    {
     "data": {
      "text/plain": [
       "<Hour>"
      ]
     },
     "execution_count": 20,
     "metadata": {},
     "output_type": "execute_result"
    }
   ],
   "source": [
    "hour"
   ]
  },
  {
   "cell_type": "code",
   "execution_count": 21,
   "id": "9ec930a7",
   "metadata": {},
   "outputs": [],
   "source": [
    "four_hours=Hour(4)"
   ]
  },
  {
   "cell_type": "code",
   "execution_count": 22,
   "id": "a923ce2c",
   "metadata": {},
   "outputs": [
    {
     "data": {
      "text/plain": [
       "<4 * Hours>"
      ]
     },
     "execution_count": 22,
     "metadata": {},
     "output_type": "execute_result"
    }
   ],
   "source": [
    "four_hours"
   ]
  },
  {
   "cell_type": "markdown",
   "id": "1ffae333",
   "metadata": {},
   "source": [
    "### freq='4h' 表示間隔四個小時。"
   ]
  },
  {
   "cell_type": "code",
   "execution_count": 23,
   "id": "192e4fd9",
   "metadata": {
    "scrolled": true
   },
   "outputs": [
    {
     "data": {
      "text/plain": [
       "DatetimeIndex(['2022-01-01 00:00:00', '2022-01-01 04:00:00',\n",
       "               '2022-01-01 08:00:00', '2022-01-01 12:00:00',\n",
       "               '2022-01-01 16:00:00', '2022-01-01 20:00:00',\n",
       "               '2022-01-02 00:00:00', '2022-01-02 04:00:00',\n",
       "               '2022-01-02 08:00:00', '2022-01-02 12:00:00',\n",
       "               '2022-01-02 16:00:00', '2022-01-02 20:00:00',\n",
       "               '2022-01-03 00:00:00'],\n",
       "              dtype='datetime64[ns]', freq='4H')"
      ]
     },
     "execution_count": 23,
     "metadata": {},
     "output_type": "execute_result"
    }
   ],
   "source": [
    "pd.date_range('2022-01-01','2022-01-03',freq='4h')"
   ]
  },
  {
   "cell_type": "code",
   "execution_count": 24,
   "id": "d63d269c",
   "metadata": {},
   "outputs": [
    {
     "data": {
      "text/plain": [
       "<270 * Minutes>"
      ]
     },
     "execution_count": 24,
     "metadata": {},
     "output_type": "execute_result"
    }
   ],
   "source": [
    "Hour(4)+Minute(30)"
   ]
  },
  {
   "cell_type": "markdown",
   "id": "e8bc5c65",
   "metadata": {},
   "source": [
    "### freq='1h30min' 可以被系統解讀為1個小時又30分鐘。"
   ]
  },
  {
   "cell_type": "code",
   "execution_count": 25,
   "id": "b6feecc6",
   "metadata": {},
   "outputs": [
    {
     "data": {
      "text/plain": [
       "DatetimeIndex(['2022-01-01 00:00:00', '2022-01-01 01:30:00',\n",
       "               '2022-01-01 03:00:00', '2022-01-01 04:30:00',\n",
       "               '2022-01-01 06:00:00', '2022-01-01 07:30:00',\n",
       "               '2022-01-01 09:00:00', '2022-01-01 10:30:00',\n",
       "               '2022-01-01 12:00:00', '2022-01-01 13:30:00'],\n",
       "              dtype='datetime64[ns]', freq='90T')"
      ]
     },
     "execution_count": 25,
     "metadata": {},
     "output_type": "execute_result"
    }
   ],
   "source": [
    "pd.date_range('2022-01-01', periods=10, freq='1h30min')"
   ]
  },
  {
   "cell_type": "markdown",
   "id": "2de84411",
   "metadata": {},
   "source": [
    "### 錨點定位 Anchored Offset: 'Ｍ'代表每個月最後一天，'BM'代表每個月最後一個週間日。間隔並非相等。"
   ]
  },
  {
   "cell_type": "markdown",
   "id": "f5df7af8",
   "metadata": {},
   "source": [
    "### 每個月的第幾週的星期幾"
   ]
  },
  {
   "cell_type": "markdown",
   "id": "99d9c81f",
   "metadata": {},
   "source": [
    "### freq='WOM-FRI' 每個月的第三個星期五"
   ]
  },
  {
   "cell_type": "code",
   "execution_count": 26,
   "id": "009aa636",
   "metadata": {},
   "outputs": [],
   "source": [
    "rng=pd.date_range('2022-01-02','2022-08-01',freq='WOM-3FRI')"
   ]
  },
  {
   "cell_type": "code",
   "execution_count": 27,
   "id": "799a036b",
   "metadata": {},
   "outputs": [
    {
     "data": {
      "text/plain": [
       "[Timestamp('2022-01-21 00:00:00', freq='WOM-3FRI'),\n",
       " Timestamp('2022-02-18 00:00:00', freq='WOM-3FRI'),\n",
       " Timestamp('2022-03-18 00:00:00', freq='WOM-3FRI'),\n",
       " Timestamp('2022-04-15 00:00:00', freq='WOM-3FRI'),\n",
       " Timestamp('2022-05-20 00:00:00', freq='WOM-3FRI'),\n",
       " Timestamp('2022-06-17 00:00:00', freq='WOM-3FRI'),\n",
       " Timestamp('2022-07-15 00:00:00', freq='WOM-3FRI')]"
      ]
     },
     "execution_count": 27,
     "metadata": {},
     "output_type": "execute_result"
    }
   ],
   "source": [
    "list(rng)"
   ]
  },
  {
   "cell_type": "markdown",
   "id": "0ebef7f3",
   "metadata": {},
   "source": [
    "### 移動（開頭或結尾）資料"
   ]
  },
  {
   "cell_type": "code",
   "execution_count": 28,
   "id": "a53bd06e",
   "metadata": {},
   "outputs": [],
   "source": [
    "ts2=pd.Series(np.random.randn(4), index=pd.date_range('1/1/2022', periods=4, freq='M'))"
   ]
  },
  {
   "cell_type": "code",
   "execution_count": 29,
   "id": "93add432",
   "metadata": {},
   "outputs": [
    {
     "data": {
      "text/plain": [
       "2022-01-31   -1.353566\n",
       "2022-02-28    1.433630\n",
       "2022-03-31   -1.098296\n",
       "2022-04-30    1.434977\n",
       "Freq: M, dtype: float64"
      ]
     },
     "execution_count": 29,
     "metadata": {},
     "output_type": "execute_result"
    }
   ],
   "source": [
    "ts2"
   ]
  },
  {
   "cell_type": "markdown",
   "id": "5c7bbe74",
   "metadata": {},
   "source": [
    "### shift(): 可以讓值向下位移，但是index不變。\n",
    "### 因為數值平行位移，就會出現遺失值。"
   ]
  },
  {
   "cell_type": "code",
   "execution_count": 30,
   "id": "aadc8d46",
   "metadata": {},
   "outputs": [
    {
     "data": {
      "text/plain": [
       "2022-01-31         NaN\n",
       "2022-02-28         NaN\n",
       "2022-03-31   -1.353566\n",
       "2022-04-30    1.433630\n",
       "Freq: M, dtype: float64"
      ]
     },
     "execution_count": 30,
     "metadata": {},
     "output_type": "execute_result"
    }
   ],
   "source": [
    "ts2.shift(2)"
   ]
  },
  {
   "cell_type": "code",
   "execution_count": 31,
   "id": "347a8187",
   "metadata": {},
   "outputs": [
    {
     "data": {
      "text/plain": [
       "2022-01-31   -1.098296\n",
       "2022-02-28    1.434977\n",
       "2022-03-31         NaN\n",
       "2022-04-30         NaN\n",
       "Freq: M, dtype: float64"
      ]
     },
     "execution_count": 31,
     "metadata": {},
     "output_type": "execute_result"
    }
   ],
   "source": [
    "ts2.shift(-2)"
   ]
  },
  {
   "cell_type": "markdown",
   "id": "c6e4bdb2",
   "metadata": {},
   "source": [
    "### ts2.shift(2, freq='M'): 起始日會往後2個月。"
   ]
  },
  {
   "cell_type": "code",
   "execution_count": 32,
   "id": "d04ffadc",
   "metadata": {},
   "outputs": [
    {
     "data": {
      "text/plain": [
       "2022-01-31   -1.353566\n",
       "2022-02-28    1.433630\n",
       "2022-03-31   -1.098296\n",
       "2022-04-30    1.434977\n",
       "Freq: M, dtype: float64"
      ]
     },
     "execution_count": 32,
     "metadata": {},
     "output_type": "execute_result"
    }
   ],
   "source": [
    "ts2"
   ]
  },
  {
   "cell_type": "code",
   "execution_count": 33,
   "id": "8a869e67",
   "metadata": {
    "scrolled": true
   },
   "outputs": [
    {
     "data": {
      "text/plain": [
       "2022-03-31   -1.353566\n",
       "2022-04-30    1.433630\n",
       "2022-05-31   -1.098296\n",
       "2022-06-30    1.434977\n",
       "Freq: M, dtype: float64"
      ]
     },
     "execution_count": 33,
     "metadata": {},
     "output_type": "execute_result"
    }
   ],
   "source": [
    "ts2.shift(2, freq='M')"
   ]
  },
  {
   "cell_type": "markdown",
   "id": "054afc28",
   "metadata": {},
   "source": [
    "### ts2.shift(3,freq='D'): 起始日會往後3天。"
   ]
  },
  {
   "cell_type": "code",
   "execution_count": 34,
   "id": "f8366dc7",
   "metadata": {
    "scrolled": true
   },
   "outputs": [
    {
     "data": {
      "text/plain": [
       "2022-02-03   -1.353566\n",
       "2022-03-03    1.433630\n",
       "2022-04-03   -1.098296\n",
       "2022-05-03    1.434977\n",
       "dtype: float64"
      ]
     },
     "execution_count": 34,
     "metadata": {},
     "output_type": "execute_result"
    }
   ],
   "source": [
    "ts2.shift(3, freq='D')"
   ]
  },
  {
   "cell_type": "markdown",
   "id": "3685ddf6",
   "metadata": {},
   "source": [
    "### ts2.shiift(1,freq='90T'): 起始日會往後延1.5小時。"
   ]
  },
  {
   "cell_type": "code",
   "execution_count": 35,
   "id": "10dc451c",
   "metadata": {
    "scrolled": true
   },
   "outputs": [
    {
     "data": {
      "text/plain": [
       "2022-01-31 01:30:00   -1.353566\n",
       "2022-02-28 01:30:00    1.433630\n",
       "2022-03-31 01:30:00   -1.098296\n",
       "2022-04-30 01:30:00    1.434977\n",
       "dtype: float64"
      ]
     },
     "execution_count": 35,
     "metadata": {},
     "output_type": "execute_result"
    }
   ],
   "source": [
    "ts2.shift(1, freq='90T')"
   ]
  },
  {
   "cell_type": "code",
   "execution_count": 36,
   "id": "29adfa7b",
   "metadata": {},
   "outputs": [
    {
     "data": {
      "text/plain": [
       "2011-01-02          NaN\n",
       "2011-01-03     0.149754\n",
       "2011-01-04    -0.877628\n",
       "2011-01-05     5.836322\n",
       "2011-01-06    -0.268523\n",
       "2011-01-07    -0.084785\n",
       "2011-01-08    -0.977342\n",
       "2011-01-09    64.492234\n",
       "dtype: float64"
      ]
     },
     "execution_count": 36,
     "metadata": {},
     "output_type": "execute_result"
    }
   ],
   "source": [
    "ts/ts.shift(1)-1"
   ]
  },
  {
   "cell_type": "markdown",
   "id": "46cc0c9a",
   "metadata": {},
   "source": [
    "### 用位移量移動日期"
   ]
  },
  {
   "cell_type": "code",
   "execution_count": 37,
   "id": "6ceabe19",
   "metadata": {},
   "outputs": [],
   "source": [
    "from pandas.tseries.offsets import Day, MonthEnd"
   ]
  },
  {
   "cell_type": "code",
   "execution_count": 38,
   "id": "71be25e3",
   "metadata": {},
   "outputs": [],
   "source": [
    "now=datetime(2011,11,17)"
   ]
  },
  {
   "cell_type": "code",
   "execution_count": 39,
   "id": "b55a532f",
   "metadata": {},
   "outputs": [
    {
     "data": {
      "text/plain": [
       "Timestamp('2011-11-20 00:00:00')"
      ]
     },
     "execution_count": 39,
     "metadata": {},
     "output_type": "execute_result"
    }
   ],
   "source": [
    "now+3*Day()"
   ]
  },
  {
   "cell_type": "markdown",
   "id": "447be9cf",
   "metadata": {},
   "source": [
    "### MonthEnd():讓時間跳到月底。"
   ]
  },
  {
   "cell_type": "code",
   "execution_count": 40,
   "id": "0065131b",
   "metadata": {},
   "outputs": [
    {
     "data": {
      "text/plain": [
       "Timestamp('2011-11-30 00:00:00')"
      ]
     },
     "execution_count": 40,
     "metadata": {},
     "output_type": "execute_result"
    }
   ],
   "source": [
    "now+MonthEnd()"
   ]
  },
  {
   "cell_type": "code",
   "execution_count": 41,
   "id": "03616ead",
   "metadata": {},
   "outputs": [
    {
     "data": {
      "text/plain": [
       "Timestamp('2011-12-31 00:00:00')"
      ]
     },
     "execution_count": 41,
     "metadata": {},
     "output_type": "execute_result"
    }
   ],
   "source": [
    "now+MonthEnd(2)"
   ]
  },
  {
   "cell_type": "code",
   "execution_count": 42,
   "id": "5199ea65",
   "metadata": {},
   "outputs": [],
   "source": [
    "offset=MonthEnd()"
   ]
  },
  {
   "cell_type": "markdown",
   "id": "74c9f53f",
   "metadata": {},
   "source": [
    "### rollforward(): 時間向前推進。"
   ]
  },
  {
   "cell_type": "code",
   "execution_count": 43,
   "id": "bf733b5d",
   "metadata": {
    "scrolled": true
   },
   "outputs": [
    {
     "data": {
      "text/plain": [
       "Timestamp('2011-11-30 00:00:00')"
      ]
     },
     "execution_count": 43,
     "metadata": {},
     "output_type": "execute_result"
    }
   ],
   "source": [
    "offset.rollforward(now)"
   ]
  },
  {
   "cell_type": "markdown",
   "id": "deae0f18",
   "metadata": {},
   "source": [
    "### rollback(): 時間向後推進。"
   ]
  },
  {
   "cell_type": "code",
   "execution_count": 44,
   "id": "6e6706cf",
   "metadata": {},
   "outputs": [
    {
     "data": {
      "text/plain": [
       "Timestamp('2011-10-31 00:00:00')"
      ]
     },
     "execution_count": 44,
     "metadata": {},
     "output_type": "execute_result"
    }
   ],
   "source": [
    "offset.rollback(now)"
   ]
  },
  {
   "cell_type": "code",
   "execution_count": 45,
   "id": "28d8e33f",
   "metadata": {},
   "outputs": [],
   "source": [
    "ts = pd.Series(np.random.randn(20),index=pd.date_range('1/15/2022', periods=20, freq='4d'))"
   ]
  },
  {
   "cell_type": "code",
   "execution_count": 46,
   "id": "e2dadddf",
   "metadata": {},
   "outputs": [
    {
     "data": {
      "text/plain": [
       "2022-01-15   -1.017767\n",
       "2022-01-19   -0.683204\n",
       "2022-01-23    0.653662\n",
       "2022-01-27   -0.004899\n",
       "2022-01-31   -0.973660\n",
       "2022-02-04   -0.504489\n",
       "2022-02-08   -1.842698\n",
       "2022-02-12    1.199840\n",
       "2022-02-16   -0.185953\n",
       "2022-02-20   -0.075443\n",
       "2022-02-24    0.567593\n",
       "2022-02-28   -0.132991\n",
       "2022-03-04    0.290135\n",
       "2022-03-08   -1.543973\n",
       "2022-03-12   -0.562852\n",
       "2022-03-16   -0.038485\n",
       "2022-03-20    0.437508\n",
       "2022-03-24   -1.967320\n",
       "2022-03-28   -0.000148\n",
       "2022-04-01   -0.319179\n",
       "Freq: 4D, dtype: float64"
      ]
     },
     "execution_count": 46,
     "metadata": {},
     "output_type": "execute_result"
    }
   ],
   "source": [
    "ts"
   ]
  },
  {
   "cell_type": "markdown",
   "id": "011e66f1",
   "metadata": {},
   "source": [
    "### offset.rollforward: 找到ts每個月底的月份。 groupby():以月底為分組依據。"
   ]
  },
  {
   "cell_type": "code",
   "execution_count": 47,
   "id": "d4866358",
   "metadata": {
    "scrolled": true
   },
   "outputs": [
    {
     "data": {
      "text/plain": [
       "2022-01-31   -0.405174\n",
       "2022-02-28   -0.139163\n",
       "2022-03-31   -0.483591\n",
       "2022-04-30   -0.319179\n",
       "dtype: float64"
      ]
     },
     "execution_count": 47,
     "metadata": {},
     "output_type": "execute_result"
    }
   ],
   "source": [
    "ts.groupby(offset.rollforward).mean()"
   ]
  },
  {
   "cell_type": "markdown",
   "id": "a2340d60",
   "metadata": {},
   "source": [
    "### resample(): 可以幫時間做分群，可搭配聚合函數進行運算。"
   ]
  },
  {
   "cell_type": "code",
   "execution_count": 48,
   "id": "8a57b03f",
   "metadata": {
    "scrolled": true
   },
   "outputs": [
    {
     "data": {
      "text/plain": [
       "2022-01-31   -0.405174\n",
       "2022-02-28   -0.139163\n",
       "2022-03-31   -0.483591\n",
       "2022-04-30   -0.319179\n",
       "Freq: M, dtype: float64"
      ]
     },
     "execution_count": 48,
     "metadata": {},
     "output_type": "execute_result"
    }
   ],
   "source": [
    "ts.resample('M').mean()"
   ]
  },
  {
   "cell_type": "markdown",
   "id": "c88fb6d3",
   "metadata": {},
   "source": [
    "### 時區"
   ]
  },
  {
   "cell_type": "code",
   "execution_count": 49,
   "id": "b7b9f8a1",
   "metadata": {},
   "outputs": [],
   "source": [
    "import pytz"
   ]
  },
  {
   "cell_type": "code",
   "execution_count": 50,
   "id": "f23610b3",
   "metadata": {},
   "outputs": [
    {
     "data": {
      "text/plain": [
       "['US/Eastern', 'US/Hawaii', 'US/Mountain', 'US/Pacific', 'UTC']"
      ]
     },
     "execution_count": 50,
     "metadata": {},
     "output_type": "execute_result"
    }
   ],
   "source": [
    "pytz.common_timezones[-5:]"
   ]
  },
  {
   "cell_type": "code",
   "execution_count": 51,
   "id": "035134d7",
   "metadata": {},
   "outputs": [
    {
     "data": {
      "text/plain": [
       "['Africa/Abidjan',\n",
       " 'Africa/Accra',\n",
       " 'Africa/Addis_Ababa',\n",
       " 'Africa/Algiers',\n",
       " 'Africa/Asmara',\n",
       " 'Africa/Bamako',\n",
       " 'Africa/Bangui',\n",
       " 'Africa/Banjul',\n",
       " 'Africa/Bissau',\n",
       " 'Africa/Blantyre',\n",
       " 'Africa/Brazzaville',\n",
       " 'Africa/Bujumbura',\n",
       " 'Africa/Cairo',\n",
       " 'Africa/Casablanca',\n",
       " 'Africa/Ceuta',\n",
       " 'Africa/Conakry',\n",
       " 'Africa/Dakar',\n",
       " 'Africa/Dar_es_Salaam',\n",
       " 'Africa/Djibouti',\n",
       " 'Africa/Douala',\n",
       " 'Africa/El_Aaiun',\n",
       " 'Africa/Freetown',\n",
       " 'Africa/Gaborone',\n",
       " 'Africa/Harare',\n",
       " 'Africa/Johannesburg',\n",
       " 'Africa/Juba',\n",
       " 'Africa/Kampala',\n",
       " 'Africa/Khartoum',\n",
       " 'Africa/Kigali',\n",
       " 'Africa/Kinshasa',\n",
       " 'Africa/Lagos',\n",
       " 'Africa/Libreville',\n",
       " 'Africa/Lome',\n",
       " 'Africa/Luanda',\n",
       " 'Africa/Lubumbashi',\n",
       " 'Africa/Lusaka',\n",
       " 'Africa/Malabo',\n",
       " 'Africa/Maputo',\n",
       " 'Africa/Maseru',\n",
       " 'Africa/Mbabane',\n",
       " 'Africa/Mogadishu',\n",
       " 'Africa/Monrovia',\n",
       " 'Africa/Nairobi',\n",
       " 'Africa/Ndjamena',\n",
       " 'Africa/Niamey',\n",
       " 'Africa/Nouakchott',\n",
       " 'Africa/Ouagadougou',\n",
       " 'Africa/Porto-Novo',\n",
       " 'Africa/Sao_Tome',\n",
       " 'Africa/Tripoli',\n",
       " 'Africa/Tunis',\n",
       " 'Africa/Windhoek',\n",
       " 'America/Adak',\n",
       " 'America/Anchorage',\n",
       " 'America/Anguilla',\n",
       " 'America/Antigua',\n",
       " 'America/Araguaina',\n",
       " 'America/Argentina/Buenos_Aires',\n",
       " 'America/Argentina/Catamarca',\n",
       " 'America/Argentina/Cordoba',\n",
       " 'America/Argentina/Jujuy',\n",
       " 'America/Argentina/La_Rioja',\n",
       " 'America/Argentina/Mendoza',\n",
       " 'America/Argentina/Rio_Gallegos',\n",
       " 'America/Argentina/Salta',\n",
       " 'America/Argentina/San_Juan',\n",
       " 'America/Argentina/San_Luis',\n",
       " 'America/Argentina/Tucuman',\n",
       " 'America/Argentina/Ushuaia',\n",
       " 'America/Aruba',\n",
       " 'America/Asuncion',\n",
       " 'America/Atikokan',\n",
       " 'America/Bahia',\n",
       " 'America/Bahia_Banderas',\n",
       " 'America/Barbados',\n",
       " 'America/Belem',\n",
       " 'America/Belize',\n",
       " 'America/Blanc-Sablon',\n",
       " 'America/Boa_Vista',\n",
       " 'America/Bogota',\n",
       " 'America/Boise',\n",
       " 'America/Cambridge_Bay',\n",
       " 'America/Campo_Grande',\n",
       " 'America/Cancun',\n",
       " 'America/Caracas',\n",
       " 'America/Cayenne',\n",
       " 'America/Cayman',\n",
       " 'America/Chicago',\n",
       " 'America/Chihuahua',\n",
       " 'America/Costa_Rica',\n",
       " 'America/Creston',\n",
       " 'America/Cuiaba',\n",
       " 'America/Curacao',\n",
       " 'America/Danmarkshavn',\n",
       " 'America/Dawson',\n",
       " 'America/Dawson_Creek',\n",
       " 'America/Denver',\n",
       " 'America/Detroit',\n",
       " 'America/Dominica',\n",
       " 'America/Edmonton',\n",
       " 'America/Eirunepe',\n",
       " 'America/El_Salvador',\n",
       " 'America/Fort_Nelson',\n",
       " 'America/Fortaleza',\n",
       " 'America/Glace_Bay',\n",
       " 'America/Goose_Bay',\n",
       " 'America/Grand_Turk',\n",
       " 'America/Grenada',\n",
       " 'America/Guadeloupe',\n",
       " 'America/Guatemala',\n",
       " 'America/Guayaquil',\n",
       " 'America/Guyana',\n",
       " 'America/Halifax',\n",
       " 'America/Havana',\n",
       " 'America/Hermosillo',\n",
       " 'America/Indiana/Indianapolis',\n",
       " 'America/Indiana/Knox',\n",
       " 'America/Indiana/Marengo',\n",
       " 'America/Indiana/Petersburg',\n",
       " 'America/Indiana/Tell_City',\n",
       " 'America/Indiana/Vevay',\n",
       " 'America/Indiana/Vincennes',\n",
       " 'America/Indiana/Winamac',\n",
       " 'America/Inuvik',\n",
       " 'America/Iqaluit',\n",
       " 'America/Jamaica',\n",
       " 'America/Juneau',\n",
       " 'America/Kentucky/Louisville',\n",
       " 'America/Kentucky/Monticello',\n",
       " 'America/Kralendijk',\n",
       " 'America/La_Paz',\n",
       " 'America/Lima',\n",
       " 'America/Los_Angeles',\n",
       " 'America/Lower_Princes',\n",
       " 'America/Maceio',\n",
       " 'America/Managua',\n",
       " 'America/Manaus',\n",
       " 'America/Marigot',\n",
       " 'America/Martinique',\n",
       " 'America/Matamoros',\n",
       " 'America/Mazatlan',\n",
       " 'America/Menominee',\n",
       " 'America/Merida',\n",
       " 'America/Metlakatla',\n",
       " 'America/Mexico_City',\n",
       " 'America/Miquelon',\n",
       " 'America/Moncton',\n",
       " 'America/Monterrey',\n",
       " 'America/Montevideo',\n",
       " 'America/Montserrat',\n",
       " 'America/Nassau',\n",
       " 'America/New_York',\n",
       " 'America/Nipigon',\n",
       " 'America/Nome',\n",
       " 'America/Noronha',\n",
       " 'America/North_Dakota/Beulah',\n",
       " 'America/North_Dakota/Center',\n",
       " 'America/North_Dakota/New_Salem',\n",
       " 'America/Nuuk',\n",
       " 'America/Ojinaga',\n",
       " 'America/Panama',\n",
       " 'America/Pangnirtung',\n",
       " 'America/Paramaribo',\n",
       " 'America/Phoenix',\n",
       " 'America/Port-au-Prince',\n",
       " 'America/Port_of_Spain',\n",
       " 'America/Porto_Velho',\n",
       " 'America/Puerto_Rico',\n",
       " 'America/Punta_Arenas',\n",
       " 'America/Rainy_River',\n",
       " 'America/Rankin_Inlet',\n",
       " 'America/Recife',\n",
       " 'America/Regina',\n",
       " 'America/Resolute',\n",
       " 'America/Rio_Branco',\n",
       " 'America/Santarem',\n",
       " 'America/Santiago',\n",
       " 'America/Santo_Domingo',\n",
       " 'America/Sao_Paulo',\n",
       " 'America/Scoresbysund',\n",
       " 'America/Sitka',\n",
       " 'America/St_Barthelemy',\n",
       " 'America/St_Johns',\n",
       " 'America/St_Kitts',\n",
       " 'America/St_Lucia',\n",
       " 'America/St_Thomas',\n",
       " 'America/St_Vincent',\n",
       " 'America/Swift_Current',\n",
       " 'America/Tegucigalpa',\n",
       " 'America/Thule',\n",
       " 'America/Thunder_Bay',\n",
       " 'America/Tijuana',\n",
       " 'America/Toronto',\n",
       " 'America/Tortola',\n",
       " 'America/Vancouver',\n",
       " 'America/Whitehorse',\n",
       " 'America/Winnipeg',\n",
       " 'America/Yakutat',\n",
       " 'America/Yellowknife',\n",
       " 'Antarctica/Casey',\n",
       " 'Antarctica/Davis',\n",
       " 'Antarctica/DumontDUrville',\n",
       " 'Antarctica/Macquarie',\n",
       " 'Antarctica/Mawson',\n",
       " 'Antarctica/McMurdo',\n",
       " 'Antarctica/Palmer',\n",
       " 'Antarctica/Rothera',\n",
       " 'Antarctica/Syowa',\n",
       " 'Antarctica/Troll',\n",
       " 'Antarctica/Vostok',\n",
       " 'Arctic/Longyearbyen',\n",
       " 'Asia/Aden',\n",
       " 'Asia/Almaty',\n",
       " 'Asia/Amman',\n",
       " 'Asia/Anadyr',\n",
       " 'Asia/Aqtau',\n",
       " 'Asia/Aqtobe',\n",
       " 'Asia/Ashgabat',\n",
       " 'Asia/Atyrau',\n",
       " 'Asia/Baghdad',\n",
       " 'Asia/Bahrain',\n",
       " 'Asia/Baku',\n",
       " 'Asia/Bangkok',\n",
       " 'Asia/Barnaul',\n",
       " 'Asia/Beirut',\n",
       " 'Asia/Bishkek',\n",
       " 'Asia/Brunei',\n",
       " 'Asia/Chita',\n",
       " 'Asia/Choibalsan',\n",
       " 'Asia/Colombo',\n",
       " 'Asia/Damascus',\n",
       " 'Asia/Dhaka',\n",
       " 'Asia/Dili',\n",
       " 'Asia/Dubai',\n",
       " 'Asia/Dushanbe',\n",
       " 'Asia/Famagusta',\n",
       " 'Asia/Gaza',\n",
       " 'Asia/Hebron',\n",
       " 'Asia/Ho_Chi_Minh',\n",
       " 'Asia/Hong_Kong',\n",
       " 'Asia/Hovd',\n",
       " 'Asia/Irkutsk',\n",
       " 'Asia/Jakarta',\n",
       " 'Asia/Jayapura',\n",
       " 'Asia/Jerusalem',\n",
       " 'Asia/Kabul',\n",
       " 'Asia/Kamchatka',\n",
       " 'Asia/Karachi',\n",
       " 'Asia/Kathmandu',\n",
       " 'Asia/Khandyga',\n",
       " 'Asia/Kolkata',\n",
       " 'Asia/Krasnoyarsk',\n",
       " 'Asia/Kuala_Lumpur',\n",
       " 'Asia/Kuching',\n",
       " 'Asia/Kuwait',\n",
       " 'Asia/Macau',\n",
       " 'Asia/Magadan',\n",
       " 'Asia/Makassar',\n",
       " 'Asia/Manila',\n",
       " 'Asia/Muscat',\n",
       " 'Asia/Nicosia',\n",
       " 'Asia/Novokuznetsk',\n",
       " 'Asia/Novosibirsk',\n",
       " 'Asia/Omsk',\n",
       " 'Asia/Oral',\n",
       " 'Asia/Phnom_Penh',\n",
       " 'Asia/Pontianak',\n",
       " 'Asia/Pyongyang',\n",
       " 'Asia/Qatar',\n",
       " 'Asia/Qostanay',\n",
       " 'Asia/Qyzylorda',\n",
       " 'Asia/Riyadh',\n",
       " 'Asia/Sakhalin',\n",
       " 'Asia/Samarkand',\n",
       " 'Asia/Seoul',\n",
       " 'Asia/Shanghai',\n",
       " 'Asia/Singapore',\n",
       " 'Asia/Srednekolymsk',\n",
       " 'Asia/Taipei',\n",
       " 'Asia/Tashkent',\n",
       " 'Asia/Tbilisi',\n",
       " 'Asia/Tehran',\n",
       " 'Asia/Thimphu',\n",
       " 'Asia/Tokyo',\n",
       " 'Asia/Tomsk',\n",
       " 'Asia/Ulaanbaatar',\n",
       " 'Asia/Urumqi',\n",
       " 'Asia/Ust-Nera',\n",
       " 'Asia/Vientiane',\n",
       " 'Asia/Vladivostok',\n",
       " 'Asia/Yakutsk',\n",
       " 'Asia/Yangon',\n",
       " 'Asia/Yekaterinburg',\n",
       " 'Asia/Yerevan',\n",
       " 'Atlantic/Azores',\n",
       " 'Atlantic/Bermuda',\n",
       " 'Atlantic/Canary',\n",
       " 'Atlantic/Cape_Verde',\n",
       " 'Atlantic/Faroe',\n",
       " 'Atlantic/Madeira',\n",
       " 'Atlantic/Reykjavik',\n",
       " 'Atlantic/South_Georgia',\n",
       " 'Atlantic/St_Helena',\n",
       " 'Atlantic/Stanley',\n",
       " 'Australia/Adelaide',\n",
       " 'Australia/Brisbane',\n",
       " 'Australia/Broken_Hill',\n",
       " 'Australia/Darwin',\n",
       " 'Australia/Eucla',\n",
       " 'Australia/Hobart',\n",
       " 'Australia/Lindeman',\n",
       " 'Australia/Lord_Howe',\n",
       " 'Australia/Melbourne',\n",
       " 'Australia/Perth',\n",
       " 'Australia/Sydney',\n",
       " 'Canada/Atlantic',\n",
       " 'Canada/Central',\n",
       " 'Canada/Eastern',\n",
       " 'Canada/Mountain',\n",
       " 'Canada/Newfoundland',\n",
       " 'Canada/Pacific',\n",
       " 'Europe/Amsterdam',\n",
       " 'Europe/Andorra',\n",
       " 'Europe/Astrakhan',\n",
       " 'Europe/Athens',\n",
       " 'Europe/Belgrade',\n",
       " 'Europe/Berlin',\n",
       " 'Europe/Bratislava',\n",
       " 'Europe/Brussels',\n",
       " 'Europe/Bucharest',\n",
       " 'Europe/Budapest',\n",
       " 'Europe/Busingen',\n",
       " 'Europe/Chisinau',\n",
       " 'Europe/Copenhagen',\n",
       " 'Europe/Dublin',\n",
       " 'Europe/Gibraltar',\n",
       " 'Europe/Guernsey',\n",
       " 'Europe/Helsinki',\n",
       " 'Europe/Isle_of_Man',\n",
       " 'Europe/Istanbul',\n",
       " 'Europe/Jersey',\n",
       " 'Europe/Kaliningrad',\n",
       " 'Europe/Kiev',\n",
       " 'Europe/Kirov',\n",
       " 'Europe/Lisbon',\n",
       " 'Europe/Ljubljana',\n",
       " 'Europe/London',\n",
       " 'Europe/Luxembourg',\n",
       " 'Europe/Madrid',\n",
       " 'Europe/Malta',\n",
       " 'Europe/Mariehamn',\n",
       " 'Europe/Minsk',\n",
       " 'Europe/Monaco',\n",
       " 'Europe/Moscow',\n",
       " 'Europe/Oslo',\n",
       " 'Europe/Paris',\n",
       " 'Europe/Podgorica',\n",
       " 'Europe/Prague',\n",
       " 'Europe/Riga',\n",
       " 'Europe/Rome',\n",
       " 'Europe/Samara',\n",
       " 'Europe/San_Marino',\n",
       " 'Europe/Sarajevo',\n",
       " 'Europe/Saratov',\n",
       " 'Europe/Simferopol',\n",
       " 'Europe/Skopje',\n",
       " 'Europe/Sofia',\n",
       " 'Europe/Stockholm',\n",
       " 'Europe/Tallinn',\n",
       " 'Europe/Tirane',\n",
       " 'Europe/Ulyanovsk',\n",
       " 'Europe/Uzhgorod',\n",
       " 'Europe/Vaduz',\n",
       " 'Europe/Vatican',\n",
       " 'Europe/Vienna',\n",
       " 'Europe/Vilnius',\n",
       " 'Europe/Volgograd',\n",
       " 'Europe/Warsaw',\n",
       " 'Europe/Zagreb',\n",
       " 'Europe/Zaporozhye',\n",
       " 'Europe/Zurich',\n",
       " 'GMT',\n",
       " 'Indian/Antananarivo',\n",
       " 'Indian/Chagos',\n",
       " 'Indian/Christmas',\n",
       " 'Indian/Cocos',\n",
       " 'Indian/Comoro',\n",
       " 'Indian/Kerguelen',\n",
       " 'Indian/Mahe',\n",
       " 'Indian/Maldives',\n",
       " 'Indian/Mauritius',\n",
       " 'Indian/Mayotte',\n",
       " 'Indian/Reunion',\n",
       " 'Pacific/Apia',\n",
       " 'Pacific/Auckland',\n",
       " 'Pacific/Bougainville',\n",
       " 'Pacific/Chatham',\n",
       " 'Pacific/Chuuk',\n",
       " 'Pacific/Easter',\n",
       " 'Pacific/Efate',\n",
       " 'Pacific/Fakaofo',\n",
       " 'Pacific/Fiji',\n",
       " 'Pacific/Funafuti',\n",
       " 'Pacific/Galapagos',\n",
       " 'Pacific/Gambier',\n",
       " 'Pacific/Guadalcanal',\n",
       " 'Pacific/Guam',\n",
       " 'Pacific/Honolulu',\n",
       " 'Pacific/Kanton',\n",
       " 'Pacific/Kiritimati',\n",
       " 'Pacific/Kosrae',\n",
       " 'Pacific/Kwajalein',\n",
       " 'Pacific/Majuro',\n",
       " 'Pacific/Marquesas',\n",
       " 'Pacific/Midway',\n",
       " 'Pacific/Nauru',\n",
       " 'Pacific/Niue',\n",
       " 'Pacific/Norfolk',\n",
       " 'Pacific/Noumea',\n",
       " 'Pacific/Pago_Pago',\n",
       " 'Pacific/Palau',\n",
       " 'Pacific/Pitcairn',\n",
       " 'Pacific/Pohnpei',\n",
       " 'Pacific/Port_Moresby',\n",
       " 'Pacific/Rarotonga',\n",
       " 'Pacific/Saipan',\n",
       " 'Pacific/Tahiti',\n",
       " 'Pacific/Tarawa',\n",
       " 'Pacific/Tongatapu',\n",
       " 'Pacific/Wake',\n",
       " 'Pacific/Wallis',\n",
       " 'US/Alaska',\n",
       " 'US/Arizona',\n",
       " 'US/Central',\n",
       " 'US/Eastern',\n",
       " 'US/Hawaii',\n",
       " 'US/Mountain',\n",
       " 'US/Pacific',\n",
       " 'UTC']"
      ]
     },
     "execution_count": 51,
     "metadata": {},
     "output_type": "execute_result"
    }
   ],
   "source": [
    "pytz.common_timezones"
   ]
  },
  {
   "cell_type": "code",
   "execution_count": 52,
   "id": "c894ebbf",
   "metadata": {},
   "outputs": [],
   "source": [
    "tz=pytz.timezone('America/New_York')"
   ]
  },
  {
   "cell_type": "code",
   "execution_count": 53,
   "id": "1121df0f",
   "metadata": {},
   "outputs": [
    {
     "data": {
      "text/plain": [
       "<DstTzInfo 'America/New_York' LMT-1 day, 19:04:00 STD>"
      ]
     },
     "execution_count": 53,
     "metadata": {},
     "output_type": "execute_result"
    }
   ],
   "source": [
    "tz"
   ]
  },
  {
   "cell_type": "code",
   "execution_count": 54,
   "id": "8854d0a7",
   "metadata": {},
   "outputs": [
    {
     "data": {
      "text/plain": [
       "<DstTzInfo 'Asia/Taipei' LMT+8:06:00 STD>"
      ]
     },
     "execution_count": 54,
     "metadata": {},
     "output_type": "execute_result"
    }
   ],
   "source": [
    "pytz.timezone('Asia/Taipei')"
   ]
  },
  {
   "cell_type": "markdown",
   "id": "2577c06e",
   "metadata": {},
   "source": [
    "### pd.date_range(起始日,periods=持續多久,freq='D') 頻率為'1天'"
   ]
  },
  {
   "cell_type": "code",
   "execution_count": 55,
   "id": "d1c79b55",
   "metadata": {},
   "outputs": [],
   "source": [
    "rng=pd.date_range('3/9/2022 9:30', periods=6, freq='D')"
   ]
  },
  {
   "cell_type": "code",
   "execution_count": 56,
   "id": "5a9cb96c",
   "metadata": {},
   "outputs": [
    {
     "data": {
      "text/plain": [
       "DatetimeIndex(['2022-03-09 09:30:00', '2022-03-10 09:30:00',\n",
       "               '2022-03-11 09:30:00', '2022-03-12 09:30:00',\n",
       "               '2022-03-13 09:30:00', '2022-03-14 09:30:00'],\n",
       "              dtype='datetime64[ns]', freq='D')"
      ]
     },
     "execution_count": 56,
     "metadata": {},
     "output_type": "execute_result"
    }
   ],
   "source": [
    "rng"
   ]
  },
  {
   "cell_type": "markdown",
   "id": "9eac9840",
   "metadata": {},
   "source": [
    "### len(rng): 可以計算rng內有幾個元素。"
   ]
  },
  {
   "cell_type": "code",
   "execution_count": 57,
   "id": "b2e60835",
   "metadata": {},
   "outputs": [],
   "source": [
    "ts=pd.Series(np.random.randn(len(rng)),index=rng)"
   ]
  },
  {
   "cell_type": "code",
   "execution_count": 58,
   "id": "aa782d1b",
   "metadata": {},
   "outputs": [
    {
     "data": {
      "text/plain": [
       "2022-03-09 09:30:00   -0.621956\n",
       "2022-03-10 09:30:00    0.210512\n",
       "2022-03-11 09:30:00   -0.723122\n",
       "2022-03-12 09:30:00    0.077259\n",
       "2022-03-13 09:30:00    0.595105\n",
       "2022-03-14 09:30:00   -1.459499\n",
       "Freq: D, dtype: float64"
      ]
     },
     "execution_count": 58,
     "metadata": {},
     "output_type": "execute_result"
    }
   ],
   "source": [
    "ts"
   ]
  },
  {
   "cell_type": "markdown",
   "id": "5499ad25",
   "metadata": {},
   "source": [
    "### index.tz: 指的是timezone時區。"
   ]
  },
  {
   "cell_type": "code",
   "execution_count": 59,
   "id": "99ba4aee",
   "metadata": {
    "scrolled": true
   },
   "outputs": [
    {
     "name": "stdout",
     "output_type": "stream",
     "text": [
      "None\n"
     ]
    }
   ],
   "source": [
    "print(ts.index.tz)"
   ]
  },
  {
   "cell_type": "markdown",
   "id": "e89c910c",
   "metadata": {},
   "source": [
    "### pd.date_range(tz='UTC'): UTC是Coordinated Universal Time 世界協調時間。可以在date_range加入時區設定。"
   ]
  },
  {
   "cell_type": "code",
   "execution_count": 60,
   "id": "47e27242",
   "metadata": {},
   "outputs": [
    {
     "data": {
      "text/plain": [
       "DatetimeIndex(['2022-03-09 09:30:00+00:00', '2022-03-10 09:30:00+00:00',\n",
       "               '2022-03-11 09:30:00+00:00', '2022-03-12 09:30:00+00:00',\n",
       "               '2022-03-13 09:30:00+00:00', '2022-03-14 09:30:00+00:00',\n",
       "               '2022-03-15 09:30:00+00:00', '2022-03-16 09:30:00+00:00',\n",
       "               '2022-03-17 09:30:00+00:00', '2022-03-18 09:30:00+00:00'],\n",
       "              dtype='datetime64[ns, UTC]', freq='D')"
      ]
     },
     "execution_count": 60,
     "metadata": {},
     "output_type": "execute_result"
    }
   ],
   "source": [
    "pd.date_range('3/9/2022 9:30', periods=10, freq='D', tz='UTC')"
   ]
  },
  {
   "cell_type": "code",
   "execution_count": 61,
   "id": "206dc831",
   "metadata": {},
   "outputs": [
    {
     "data": {
      "text/plain": [
       "2022-03-09 09:30:00   -0.621956\n",
       "2022-03-10 09:30:00    0.210512\n",
       "2022-03-11 09:30:00   -0.723122\n",
       "2022-03-12 09:30:00    0.077259\n",
       "2022-03-13 09:30:00    0.595105\n",
       "2022-03-14 09:30:00   -1.459499\n",
       "Freq: D, dtype: float64"
      ]
     },
     "execution_count": 61,
     "metadata": {},
     "output_type": "execute_result"
    }
   ],
   "source": [
    "ts"
   ]
  },
  {
   "cell_type": "markdown",
   "id": "137fea98",
   "metadata": {},
   "source": [
    "### tz_localize(''): 本地化時間。"
   ]
  },
  {
   "cell_type": "code",
   "execution_count": 62,
   "id": "5e440ebd",
   "metadata": {},
   "outputs": [],
   "source": [
    "ts_utc=ts.tz_localize('UTC')"
   ]
  },
  {
   "cell_type": "code",
   "execution_count": 63,
   "id": "91dc31fe",
   "metadata": {},
   "outputs": [
    {
     "data": {
      "text/plain": [
       "2022-03-09 09:30:00+00:00   -0.621956\n",
       "2022-03-10 09:30:00+00:00    0.210512\n",
       "2022-03-11 09:30:00+00:00   -0.723122\n",
       "2022-03-12 09:30:00+00:00    0.077259\n",
       "2022-03-13 09:30:00+00:00    0.595105\n",
       "2022-03-14 09:30:00+00:00   -1.459499\n",
       "Freq: D, dtype: float64"
      ]
     },
     "execution_count": 63,
     "metadata": {},
     "output_type": "execute_result"
    }
   ],
   "source": [
    "ts_utc"
   ]
  },
  {
   "cell_type": "markdown",
   "id": "b19a5c15",
   "metadata": {},
   "source": [
    "### ts_utc.index: 因為有把tz加入ts內，所以ts的index就會出現UTC。"
   ]
  },
  {
   "cell_type": "code",
   "execution_count": 64,
   "id": "172f950f",
   "metadata": {},
   "outputs": [
    {
     "data": {
      "text/plain": [
       "DatetimeIndex(['2022-03-09 09:30:00+00:00', '2022-03-10 09:30:00+00:00',\n",
       "               '2022-03-11 09:30:00+00:00', '2022-03-12 09:30:00+00:00',\n",
       "               '2022-03-13 09:30:00+00:00', '2022-03-14 09:30:00+00:00'],\n",
       "              dtype='datetime64[ns, UTC]', freq='D')"
      ]
     },
     "execution_count": 64,
     "metadata": {},
     "output_type": "execute_result"
    }
   ],
   "source": [
    "ts_utc.index"
   ]
  },
  {
   "cell_type": "markdown",
   "id": "b70ade24",
   "metadata": {},
   "source": [
    "### 方才有使用tz_localize('UTC')，可以再使用tz_convert('America/New_York')轉換時區。"
   ]
  },
  {
   "cell_type": "code",
   "execution_count": 65,
   "id": "8e71e3f2",
   "metadata": {},
   "outputs": [
    {
     "data": {
      "text/plain": [
       "2022-03-09 04:30:00-05:00   -0.621956\n",
       "2022-03-10 04:30:00-05:00    0.210512\n",
       "2022-03-11 04:30:00-05:00   -0.723122\n",
       "2022-03-12 04:30:00-05:00    0.077259\n",
       "2022-03-13 05:30:00-04:00    0.595105\n",
       "2022-03-14 05:30:00-04:00   -1.459499\n",
       "Freq: D, dtype: float64"
      ]
     },
     "execution_count": 65,
     "metadata": {},
     "output_type": "execute_result"
    }
   ],
   "source": [
    "ts_utc.tz_convert('America/New_York')"
   ]
  },
  {
   "cell_type": "markdown",
   "id": "4877050c",
   "metadata": {},
   "source": [
    "### ts.tz_localize('Amercia/New_York') 將時區調整為美東標準時間。"
   ]
  },
  {
   "cell_type": "code",
   "execution_count": 66,
   "id": "82f30739",
   "metadata": {},
   "outputs": [],
   "source": [
    "ts_eastern=ts.tz_localize('America/New_York')"
   ]
  },
  {
   "cell_type": "code",
   "execution_count": 67,
   "id": "5c1636f2",
   "metadata": {},
   "outputs": [
    {
     "data": {
      "text/plain": [
       "2022-03-09 14:30:00+00:00   -0.621956\n",
       "2022-03-10 14:30:00+00:00    0.210512\n",
       "2022-03-11 14:30:00+00:00   -0.723122\n",
       "2022-03-12 14:30:00+00:00    0.077259\n",
       "2022-03-13 13:30:00+00:00    0.595105\n",
       "2022-03-14 13:30:00+00:00   -1.459499\n",
       "dtype: float64"
      ]
     },
     "execution_count": 67,
     "metadata": {},
     "output_type": "execute_result"
    }
   ],
   "source": [
    "ts_eastern.tz_convert('UTC')"
   ]
  },
  {
   "cell_type": "markdown",
   "id": "f855261d",
   "metadata": {},
   "source": [
    "### ts_eastern.tz_convert('Europe/Berlin') 將時區換成柏林時間。"
   ]
  },
  {
   "cell_type": "code",
   "execution_count": 68,
   "id": "85ecf64d",
   "metadata": {
    "scrolled": true
   },
   "outputs": [
    {
     "data": {
      "text/plain": [
       "2022-03-09 15:30:00+01:00   -0.621956\n",
       "2022-03-10 15:30:00+01:00    0.210512\n",
       "2022-03-11 15:30:00+01:00   -0.723122\n",
       "2022-03-12 15:30:00+01:00    0.077259\n",
       "2022-03-13 14:30:00+01:00    0.595105\n",
       "2022-03-14 14:30:00+01:00   -1.459499\n",
       "dtype: float64"
      ]
     },
     "execution_count": 68,
     "metadata": {},
     "output_type": "execute_result"
    }
   ],
   "source": [
    "ts_eastern.tz_convert('Europe/Berlin')"
   ]
  },
  {
   "cell_type": "markdown",
   "id": "e93696f7",
   "metadata": {},
   "source": [
    "### tz_localize, tz_convert 屬性為DatetimeIndex，可以series.index.tz_localize讀取出DatetimeIndex的資料。"
   ]
  },
  {
   "cell_type": "code",
   "execution_count": 69,
   "id": "ae675b48",
   "metadata": {},
   "outputs": [
    {
     "data": {
      "text/plain": [
       "DatetimeIndex(['2022-03-09 09:30:00+08:00', '2022-03-10 09:30:00+08:00',\n",
       "               '2022-03-11 09:30:00+08:00', '2022-03-12 09:30:00+08:00',\n",
       "               '2022-03-13 09:30:00+08:00', '2022-03-14 09:30:00+08:00'],\n",
       "              dtype='datetime64[ns, Asia/Shanghai]', freq=None)"
      ]
     },
     "execution_count": 69,
     "metadata": {},
     "output_type": "execute_result"
    }
   ],
   "source": [
    "ts.index.tz_localize('Asia/Shanghai')"
   ]
  },
  {
   "cell_type": "markdown",
   "id": "fa8fd1a7",
   "metadata": {},
   "source": [
    "### 含時區的TimeStamp物件"
   ]
  },
  {
   "cell_type": "code",
   "execution_count": 70,
   "id": "3fc41594",
   "metadata": {},
   "outputs": [],
   "source": [
    "stamp=pd.Timestamp('2022-10-29')"
   ]
  },
  {
   "cell_type": "code",
   "execution_count": 71,
   "id": "44e7c9fd",
   "metadata": {},
   "outputs": [],
   "source": [
    "stamp_utc=stamp.tz_localize('utc')"
   ]
  },
  {
   "cell_type": "code",
   "execution_count": 72,
   "id": "4506fa17",
   "metadata": {},
   "outputs": [
    {
     "data": {
      "text/plain": [
       "Timestamp('2022-10-28 20:00:00-0400', tz='America/New_York')"
      ]
     },
     "execution_count": 72,
     "metadata": {},
     "output_type": "execute_result"
    }
   ],
   "source": [
    "stamp_utc.tz_convert('America/New_York')"
   ]
  },
  {
   "cell_type": "markdown",
   "id": "5d6083cc",
   "metadata": {},
   "source": [
    "### pd.TimeStamp(tz='Europe/Moscow')：可以直接在TimeStamp內定義時區。"
   ]
  },
  {
   "cell_type": "code",
   "execution_count": 73,
   "id": "8cb76aa6",
   "metadata": {},
   "outputs": [],
   "source": [
    "stamp_moscow=pd.Timestamp('2022-10-10 05:00', tz='Europe/Moscow')"
   ]
  },
  {
   "cell_type": "code",
   "execution_count": 74,
   "id": "16b44687",
   "metadata": {},
   "outputs": [
    {
     "data": {
      "text/plain": [
       "Timestamp('2022-10-10 05:00:00+0300', tz='Europe/Moscow')"
      ]
     },
     "execution_count": 74,
     "metadata": {},
     "output_type": "execute_result"
    }
   ],
   "source": [
    "stamp_moscow"
   ]
  },
  {
   "cell_type": "markdown",
   "id": "d6426917",
   "metadata": {},
   "source": [
    "### 每一個stamp都有一個預設值，不同時區的值都一樣。"
   ]
  },
  {
   "cell_type": "code",
   "execution_count": 75,
   "id": "4592f86f",
   "metadata": {},
   "outputs": [
    {
     "data": {
      "text/plain": [
       "1667001600000000000"
      ]
     },
     "execution_count": 75,
     "metadata": {},
     "output_type": "execute_result"
    }
   ],
   "source": [
    "stamp_utc.value"
   ]
  },
  {
   "cell_type": "code",
   "execution_count": 76,
   "id": "12e28a89",
   "metadata": {},
   "outputs": [
    {
     "data": {
      "text/plain": [
       "1667001600000000000"
      ]
     },
     "execution_count": 76,
     "metadata": {},
     "output_type": "execute_result"
    }
   ],
   "source": [
    "stamp_utc.tz_convert('America/New_York').value"
   ]
  },
  {
   "cell_type": "code",
   "execution_count": 77,
   "id": "854e728d",
   "metadata": {},
   "outputs": [],
   "source": [
    "from pandas.tseries.offsets import Hour"
   ]
  },
  {
   "cell_type": "code",
   "execution_count": 78,
   "id": "1458f895",
   "metadata": {},
   "outputs": [],
   "source": [
    "stamp=pd.Timestamp('2022-10-24 01:30', tz='US/Eastern')"
   ]
  },
  {
   "cell_type": "code",
   "execution_count": 79,
   "id": "9943e65f",
   "metadata": {},
   "outputs": [
    {
     "data": {
      "text/plain": [
       "Timestamp('2022-10-24 01:30:00-0400', tz='US/Eastern')"
      ]
     },
     "execution_count": 79,
     "metadata": {},
     "output_type": "execute_result"
    }
   ],
   "source": [
    "stamp"
   ]
  },
  {
   "cell_type": "markdown",
   "id": "9e0b919a",
   "metadata": {},
   "source": [
    "### 日光節約時間，stamp+Hour(): 增加一個小時。"
   ]
  },
  {
   "cell_type": "code",
   "execution_count": 80,
   "id": "cab70fe5",
   "metadata": {},
   "outputs": [
    {
     "data": {
      "text/plain": [
       "Timestamp('2022-10-24 02:30:00-0400', tz='US/Eastern')"
      ]
     },
     "execution_count": 80,
     "metadata": {},
     "output_type": "execute_result"
    }
   ],
   "source": [
    "stamp+Hour()"
   ]
  },
  {
   "cell_type": "code",
   "execution_count": 81,
   "id": "1207edb1",
   "metadata": {},
   "outputs": [],
   "source": [
    "stamp=pd.Timestamp('2022-10-20 10:30', tz='US/Eastern')"
   ]
  },
  {
   "cell_type": "code",
   "execution_count": 82,
   "id": "6b21108d",
   "metadata": {},
   "outputs": [
    {
     "data": {
      "text/plain": [
       "Timestamp('2022-10-20 10:30:00-0400', tz='US/Eastern')"
      ]
     },
     "execution_count": 82,
     "metadata": {},
     "output_type": "execute_result"
    }
   ],
   "source": [
    "stamp"
   ]
  },
  {
   "cell_type": "markdown",
   "id": "e9bf88ff",
   "metadata": {},
   "source": [
    "### stamp+2*Hour()：增加兩個小時。"
   ]
  },
  {
   "cell_type": "code",
   "execution_count": 83,
   "id": "5f625224",
   "metadata": {
    "scrolled": true
   },
   "outputs": [
    {
     "data": {
      "text/plain": [
       "Timestamp('2022-10-20 12:30:00-0400', tz='US/Eastern')"
      ]
     },
     "execution_count": 83,
     "metadata": {},
     "output_type": "execute_result"
    }
   ],
   "source": [
    "stamp+2*Hour()"
   ]
  },
  {
   "cell_type": "markdown",
   "id": "d131f0f5",
   "metadata": {},
   "source": [
    "### 不同時區的操作"
   ]
  },
  {
   "cell_type": "code",
   "execution_count": 84,
   "id": "b3c695b0",
   "metadata": {},
   "outputs": [],
   "source": [
    "rng=pd.date_range('9/30/2022', periods=10, freq='B')"
   ]
  },
  {
   "cell_type": "code",
   "execution_count": 85,
   "id": "5d8bda66",
   "metadata": {},
   "outputs": [],
   "source": [
    "ts=pd.Series(np.random.randn(len(rng)),index=rng)"
   ]
  },
  {
   "cell_type": "code",
   "execution_count": 86,
   "id": "d75065de",
   "metadata": {},
   "outputs": [
    {
     "data": {
      "text/plain": [
       "2022-09-30   -0.422336\n",
       "2022-10-03    0.988435\n",
       "2022-10-04    0.296337\n",
       "2022-10-05    0.542284\n",
       "2022-10-06   -0.134518\n",
       "2022-10-07   -1.121224\n",
       "2022-10-10   -0.818501\n",
       "2022-10-11   -1.103492\n",
       "2022-10-12   -0.853816\n",
       "2022-10-13    1.826191\n",
       "Freq: B, dtype: float64"
      ]
     },
     "execution_count": 86,
     "metadata": {},
     "output_type": "execute_result"
    }
   ],
   "source": [
    "ts"
   ]
  },
  {
   "cell_type": "code",
   "execution_count": 87,
   "id": "caf0f821",
   "metadata": {},
   "outputs": [],
   "source": [
    "ts1=ts[:7].tz_localize('Europe/London')"
   ]
  },
  {
   "cell_type": "code",
   "execution_count": 88,
   "id": "554375f9",
   "metadata": {},
   "outputs": [],
   "source": [
    "ts2=ts1[2:].tz_convert('Europe/Moscow')"
   ]
  },
  {
   "cell_type": "code",
   "execution_count": 89,
   "id": "e1dcd75c",
   "metadata": {},
   "outputs": [],
   "source": [
    "result=ts1+ts2"
   ]
  },
  {
   "cell_type": "markdown",
   "id": "8415b7af",
   "metadata": {},
   "source": [
    "### 如果一組日期內有不同的時區，系統會自動將時區調整為'UTC'。"
   ]
  },
  {
   "cell_type": "code",
   "execution_count": 90,
   "id": "19b7a34c",
   "metadata": {},
   "outputs": [
    {
     "data": {
      "text/plain": [
       "DatetimeIndex(['2022-09-29 23:00:00+00:00', '2022-10-02 23:00:00+00:00',\n",
       "               '2022-10-03 23:00:00+00:00', '2022-10-04 23:00:00+00:00',\n",
       "               '2022-10-05 23:00:00+00:00', '2022-10-06 23:00:00+00:00',\n",
       "               '2022-10-09 23:00:00+00:00'],\n",
       "              dtype='datetime64[ns, UTC]', freq=None)"
      ]
     },
     "execution_count": 90,
     "metadata": {},
     "output_type": "execute_result"
    }
   ],
   "source": [
    "result.index"
   ]
  }
 ],
 "metadata": {
  "kernelspec": {
   "display_name": "Python 3 (ipykernel)",
   "language": "python",
   "name": "python3"
  },
  "language_info": {
   "codemirror_mode": {
    "name": "ipython",
    "version": 3
   },
   "file_extension": ".py",
   "mimetype": "text/x-python",
   "name": "python",
   "nbconvert_exporter": "python",
   "pygments_lexer": "ipython3",
   "version": "3.9.12"
  }
 },
 "nbformat": 4,
 "nbformat_minor": 5
}
