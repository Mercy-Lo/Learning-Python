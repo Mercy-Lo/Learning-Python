{
 "cells": [
  {
   "cell_type": "markdown",
   "id": "bf25b3d6",
   "metadata": {},
   "source": [
    "# Chapter 3 內建資料結構、函式和檔案"
   ]
  },
  {
   "cell_type": "markdown",
   "id": "c22bf3f1",
   "metadata": {},
   "source": [
    "## Dict Introduction"
   ]
  },
  {
   "cell_type": "markdown",
   "id": "690b3718",
   "metadata": {},
   "source": [
    "### dict: 常被稱為hash map, associative array, 可以儲存任意大小的鍵值對(key-value pair)。\n",
    "### 顯示方式： 大括號{}加上冒號分隔鍵與值。"
   ]
  },
  {
   "cell_type": "code",
   "execution_count": 1,
   "id": "35576914",
   "metadata": {},
   "outputs": [
    {
     "data": {
      "text/plain": [
       "{'a': 1, 'b': 2, 'c': 3, 'd': True, ('e', 'f', 'g'): 'Iceland'}"
      ]
     },
     "execution_count": 1,
     "metadata": {},
     "output_type": "execute_result"
    }
   ],
   "source": [
    "d1={'a':1,'b':2,'c':3,'d':True, ('e','f','g'):'Iceland'}\n",
    "d1"
   ]
  },
  {
   "cell_type": "markdown",
   "id": "77287c49",
   "metadata": {},
   "source": [
    "### [ ] 可以存取、插入或設定dict中的元素。"
   ]
  },
  {
   "cell_type": "code",
   "execution_count": 2,
   "id": "82b1a20e",
   "metadata": {},
   "outputs": [
    {
     "data": {
      "text/plain": [
       "{'a': 1, 'b': 2, 'c': 3, 'd': True, ('e', 'f', 'g'): 'Iceland', 'h': 4}"
      ]
     },
     "execution_count": 2,
     "metadata": {},
     "output_type": "execute_result"
    }
   ],
   "source": [
    "d1['h']=4\n",
    "d1"
   ]
  },
  {
   "cell_type": "code",
   "execution_count": 3,
   "id": "1d3025a4",
   "metadata": {},
   "outputs": [
    {
     "data": {
      "text/plain": [
       "{'a': 1,\n",
       " 'b': 2,\n",
       " 'c': 3,\n",
       " 'd': True,\n",
       " ('e', 'f', 'g'): 'Iceland',\n",
       " 'h': 4,\n",
       " 10: 100}"
      ]
     },
     "execution_count": 3,
     "metadata": {},
     "output_type": "execute_result"
    }
   ],
   "source": [
    "d1[10]=100\n",
    "d1"
   ]
  },
  {
   "cell_type": "code",
   "execution_count": 4,
   "id": "41b8aead",
   "metadata": {},
   "outputs": [
    {
     "data": {
      "text/plain": [
       "True"
      ]
     },
     "execution_count": 4,
     "metadata": {},
     "output_type": "execute_result"
    }
   ],
   "source": [
    "d1['d']"
   ]
  },
  {
   "cell_type": "markdown",
   "id": "4b9fe8f0",
   "metadata": {},
   "source": [
    "### in 可以檢查key有沒有在dict內。"
   ]
  },
  {
   "cell_type": "code",
   "execution_count": 5,
   "id": "1e997462",
   "metadata": {},
   "outputs": [
    {
     "data": {
      "text/plain": [
       "True"
      ]
     },
     "execution_count": 5,
     "metadata": {},
     "output_type": "execute_result"
    }
   ],
   "source": [
    "'a' in d1"
   ]
  },
  {
   "cell_type": "code",
   "execution_count": 6,
   "id": "9a4ea704",
   "metadata": {},
   "outputs": [
    {
     "data": {
      "text/plain": [
       "False"
      ]
     },
     "execution_count": 6,
     "metadata": {},
     "output_type": "execute_result"
    }
   ],
   "source": [
    "('e','f','g') not in d1"
   ]
  },
  {
   "cell_type": "markdown",
   "id": "e15760f1",
   "metadata": {},
   "source": [
    "### del dict[], dict.pop() 可以刪除值。 pop可以存取刪除的元素。"
   ]
  },
  {
   "cell_type": "code",
   "execution_count": 7,
   "id": "59417dd7",
   "metadata": {},
   "outputs": [],
   "source": [
    "del d1['h']"
   ]
  },
  {
   "cell_type": "code",
   "execution_count": 8,
   "id": "e0683930",
   "metadata": {},
   "outputs": [
    {
     "data": {
      "text/plain": [
       "{'a': 1, 'b': 2, 'c': 3, 'd': True, ('e', 'f', 'g'): 'Iceland', 10: 100}"
      ]
     },
     "execution_count": 8,
     "metadata": {},
     "output_type": "execute_result"
    }
   ],
   "source": [
    "d1"
   ]
  },
  {
   "cell_type": "code",
   "execution_count": 9,
   "id": "f186fd73",
   "metadata": {},
   "outputs": [
    {
     "data": {
      "text/plain": [
       "100"
      ]
     },
     "execution_count": 9,
     "metadata": {},
     "output_type": "execute_result"
    }
   ],
   "source": [
    "d1.pop(10)"
   ]
  },
  {
   "cell_type": "code",
   "execution_count": 10,
   "id": "80660704",
   "metadata": {},
   "outputs": [
    {
     "data": {
      "text/plain": [
       "{'a': 1, 'b': 2, 'c': 3, 'd': True, ('e', 'f', 'g'): 'Iceland'}"
      ]
     },
     "execution_count": 10,
     "metadata": {},
     "output_type": "execute_result"
    }
   ],
   "source": [
    "d1"
   ]
  },
  {
   "cell_type": "markdown",
   "id": "8c25c33b",
   "metadata": {},
   "source": [
    "### keys(), values(): 回傳dict內的keys,values，需搭配list()一起使用。"
   ]
  },
  {
   "cell_type": "code",
   "execution_count": 11,
   "id": "12ec6337",
   "metadata": {},
   "outputs": [
    {
     "data": {
      "text/plain": [
       "['a', 'b', 'c', 'd', ('e', 'f', 'g')]"
      ]
     },
     "execution_count": 11,
     "metadata": {},
     "output_type": "execute_result"
    }
   ],
   "source": [
    "list(d1.keys())"
   ]
  },
  {
   "cell_type": "code",
   "execution_count": 12,
   "id": "abd3d8a9",
   "metadata": {},
   "outputs": [
    {
     "data": {
      "text/plain": [
       "[1, 2, 3, True, 'Iceland']"
      ]
     },
     "execution_count": 12,
     "metadata": {},
     "output_type": "execute_result"
    }
   ],
   "source": [
    "list(d1.values())"
   ]
  },
  {
   "cell_type": "markdown",
   "id": "63d69b3a",
   "metadata": {},
   "source": [
    "### update() 可以合併2個dict。"
   ]
  },
  {
   "cell_type": "code",
   "execution_count": 13,
   "id": "cf95b854",
   "metadata": {},
   "outputs": [
    {
     "data": {
      "text/plain": [
       "{'a': 1,\n",
       " 'b': 2,\n",
       " 'c': 3,\n",
       " 'd': True,\n",
       " ('e', 'f', 'g'): 'Iceland',\n",
       " 10: 100,\n",
       " 20: 200,\n",
       " 30: 300}"
      ]
     },
     "execution_count": 13,
     "metadata": {},
     "output_type": "execute_result"
    }
   ],
   "source": [
    "d1.update({10:100,20:200,30:300})\n",
    "d1"
   ]
  },
  {
   "cell_type": "markdown",
   "id": "110a1f5c",
   "metadata": {},
   "source": [
    "### update() 會原地更新資料，如果key值一樣，會直接蓋過去。"
   ]
  },
  {
   "cell_type": "code",
   "execution_count": 14,
   "id": "7037cbca",
   "metadata": {},
   "outputs": [
    {
     "data": {
      "text/plain": [
       "{'a': 2,\n",
       " 'b': 4,\n",
       " 'c': 6,\n",
       " 'd': True,\n",
       " ('e', 'f', 'g'): 'Iceland',\n",
       " 10: 100,\n",
       " 20: 200,\n",
       " 30: 300}"
      ]
     },
     "execution_count": 14,
     "metadata": {},
     "output_type": "execute_result"
    }
   ],
   "source": [
    "d1.update({'a':2, 'b':4, 'c':6})\n",
    "d1"
   ]
  },
  {
   "cell_type": "markdown",
   "id": "6ce74831",
   "metadata": {},
   "source": [
    "### dict 本質上由2個tuple構成，可以接受2個range()"
   ]
  },
  {
   "cell_type": "code",
   "execution_count": 15,
   "id": "bc36d3c9",
   "metadata": {},
   "outputs": [
    {
     "data": {
      "text/plain": [
       "{0: 6, 1: 5, 2: 4, 3: 3, 4: 2, 5: 1, 6: 0}"
      ]
     },
     "execution_count": 15,
     "metadata": {},
     "output_type": "execute_result"
    }
   ],
   "source": [
    "d2=dict(zip(range(7),reversed(range(7))))\n",
    "d2"
   ]
  },
  {
   "cell_type": "markdown",
   "id": "df6c38a8",
   "metadata": {},
   "source": [
    "### get(), pop() 可以回傳預設值。"
   ]
  },
  {
   "cell_type": "code",
   "execution_count": 16,
   "id": "e1f235d3",
   "metadata": {},
   "outputs": [
    {
     "data": {
      "text/plain": [
       "2"
      ]
     },
     "execution_count": 16,
     "metadata": {},
     "output_type": "execute_result"
    }
   ],
   "source": [
    "a=d1.get('a')\n",
    "a"
   ]
  },
  {
   "cell_type": "code",
   "execution_count": 17,
   "id": "ef4e25fb",
   "metadata": {},
   "outputs": [
    {
     "data": {
      "text/plain": [
       "4"
      ]
     },
     "execution_count": 17,
     "metadata": {},
     "output_type": "execute_result"
    }
   ],
   "source": [
    "b=d1.pop('b')\n",
    "b"
   ]
  },
  {
   "cell_type": "markdown",
   "id": "6382252d",
   "metadata": {},
   "source": [
    "### 如果key不存在，get()回傳none, pop()會自動回報錯誤值。"
   ]
  },
  {
   "cell_type": "code",
   "execution_count": 18,
   "id": "67f8a64a",
   "metadata": {},
   "outputs": [],
   "source": [
    "a_dict={'a':1,'b':2}"
   ]
  },
  {
   "cell_type": "code",
   "execution_count": 19,
   "id": "b9fdf5b1",
   "metadata": {},
   "outputs": [
    {
     "data": {
      "text/plain": [
       "1"
      ]
     },
     "execution_count": 19,
     "metadata": {},
     "output_type": "execute_result"
    }
   ],
   "source": [
    "a_dict.get('a')"
   ]
  },
  {
   "cell_type": "code",
   "execution_count": 20,
   "id": "351e6222",
   "metadata": {},
   "outputs": [],
   "source": [
    "a_dict.get('c')  #因為c不存在在a_dict，故get()回傳None"
   ]
  },
  {
   "cell_type": "code",
   "execution_count": 21,
   "id": "d8ec2d0b",
   "metadata": {},
   "outputs": [
    {
     "ename": "KeyError",
     "evalue": "'d'",
     "output_type": "error",
     "traceback": [
      "\u001b[0;31m---------------------------------------------------------------------------\u001b[0m",
      "\u001b[0;31mKeyError\u001b[0m                                  Traceback (most recent call last)",
      "Input \u001b[0;32mIn [21]\u001b[0m, in \u001b[0;36m<cell line: 1>\u001b[0;34m()\u001b[0m\n\u001b[0;32m----> 1\u001b[0m \u001b[43ma_dict\u001b[49m\u001b[38;5;241;43m.\u001b[39;49m\u001b[43mpop\u001b[49m\u001b[43m(\u001b[49m\u001b[38;5;124;43m'\u001b[39;49m\u001b[38;5;124;43md\u001b[39;49m\u001b[38;5;124;43m'\u001b[39;49m\u001b[43m)\u001b[49m\n",
      "\u001b[0;31mKeyError\u001b[0m: 'd'"
     ]
    }
   ],
   "source": [
    "a_dict.pop('d') #雖然ｄ不存在在a_dict，系統會自動回報。"
   ]
  },
  {
   "cell_type": "markdown",
   "id": "4d1c8e6b",
   "metadata": {},
   "source": [
    "### 除了指定key值外，還可以透過for迴圈，給予dict指定的key值。"
   ]
  },
  {
   "cell_type": "code",
   "execution_count": 22,
   "id": "6961ebbe",
   "metadata": {},
   "outputs": [],
   "source": [
    "words=['Alice','Anthea','Bruce','Bean','Bill']\n",
    "by_letter={}"
   ]
  },
  {
   "cell_type": "code",
   "execution_count": 23,
   "id": "7680dcff",
   "metadata": {},
   "outputs": [],
   "source": [
    "for word in words:\n",
    "    letter = word[0]  \n",
    "    #這裡會找到Alice開頭的第一個字母'A'\n",
    "    if letter not in by_letter: \n",
    "        by_letter[letter]=[word]  \n",
    "        #由於'A'一開始不在by_letter內，所以啟動該判斷式，by_letter={'A': ['Alice']} 生成。\n",
    "    else:\n",
    "        by_letter[letter].append(word)\n",
    "        #輪到'Anthea時，因為'A'已經進來by_letter，所以啟動該判斷式，by_letter={'A':['Alice','Anthea']}"
   ]
  },
  {
   "cell_type": "code",
   "execution_count": 24,
   "id": "7f212d64",
   "metadata": {},
   "outputs": [
    {
     "data": {
      "text/plain": [
       "{'A': ['Alice', 'Anthea'], 'B': ['Bruce', 'Bean', 'Bill']}"
      ]
     },
     "execution_count": 24,
     "metadata": {},
     "output_type": "execute_result"
    }
   ],
   "source": [
    "by_letter"
   ]
  },
  {
   "cell_type": "code",
   "execution_count": 25,
   "id": "24ee2663",
   "metadata": {},
   "outputs": [
    {
     "name": "stdout",
     "output_type": "stream",
     "text": [
      "letter: A\n",
      "by_letter: {'A': ['Alice']}\n",
      "letter: A\n",
      "by_letter: {'A': ['Alice', 'Anthea']}\n",
      "letter: B\n",
      "by_letter: {'A': ['Alice', 'Anthea'], 'B': ['Bruce']}\n",
      "letter: B\n",
      "by_letter: {'A': ['Alice', 'Anthea'], 'B': ['Bruce', 'Bean']}\n",
      "letter: B\n",
      "by_letter: {'A': ['Alice', 'Anthea'], 'B': ['Bruce', 'Bean', 'Bill']}\n"
     ]
    }
   ],
   "source": [
    "words=['Alice','Anthea','Bruce','Bean','Bill']\n",
    "by_letter={}\n",
    "\n",
    "for word in words:\n",
    "    letter = word[0]  \n",
    "    print(f'letter: {letter}')\n",
    "    if letter not in by_letter: \n",
    "        by_letter[letter]=[word]\n",
    "        print(f'by_letter: {by_letter}')\n",
    "        \n",
    "    else:\n",
    "        by_letter[letter].append(word)\n",
    "        print(f'by_letter: {by_letter}')\n",
    "       "
   ]
  },
  {
   "cell_type": "markdown",
   "id": "ca48ec76",
   "metadata": {},
   "source": [
    "### setdefault(key, [] ).append(value): 可以取代前面的if, else，先在前方放上key值，後面定義格式為list，再從原先的List提取value。\n",
    "### (不可為tuple，因為tuple不能變動 ; 不可為dict，因為dict不能使用append())"
   ]
  },
  {
   "cell_type": "code",
   "execution_count": 26,
   "id": "2af753fe",
   "metadata": {},
   "outputs": [
    {
     "name": "stdout",
     "output_type": "stream",
     "text": [
      " by_letter: {'A': ['Alice']}\n",
      " by_letter: {'A': ['Alice', 'Anthea']}\n",
      " by_letter: {'A': ['Alice', 'Anthea'], 'B': ['Bruce']}\n",
      " by_letter: {'A': ['Alice', 'Anthea'], 'B': ['Bruce', 'Bean']}\n",
      " by_letter: {'A': ['Alice', 'Anthea'], 'B': ['Bruce', 'Bean', 'Bill']}\n"
     ]
    }
   ],
   "source": [
    "words=['Alice','Anthea','Bruce','Bean','Bill']\n",
    "by_letter={} \n",
    "\n",
    "for word in words:\n",
    "    letter = word[0]\n",
    "    by_letter.setdefault(letter,[]).append(word)\n",
    "    print(f' by_letter: {by_letter}')"
   ]
  },
  {
   "cell_type": "markdown",
   "id": "f7a2666b",
   "metadata": {},
   "source": [
    "### defaultdict(factory_function): 當dict中的key值不存在時，則返回factory_funciton，比如list返回[], str返回'',int返回0。 "
   ]
  },
  {
   "cell_type": "code",
   "execution_count": 27,
   "id": "fe683437",
   "metadata": {},
   "outputs": [],
   "source": [
    "words=['Alice','Anthea','Bruce','Bean','Bill']\n",
    "by_letter={} \n",
    "\n",
    "from collections import defaultdict"
   ]
  },
  {
   "cell_type": "code",
   "execution_count": 28,
   "id": "870c3fb8",
   "metadata": {},
   "outputs": [
    {
     "name": "stdout",
     "output_type": "stream",
     "text": [
      "by_letter: defaultdict(<class 'list'>, {'A': ['Alice']})\n",
      "by_letter: defaultdict(<class 'list'>, {'A': ['Alice', 'Anthea']})\n",
      "by_letter: defaultdict(<class 'list'>, {'A': ['Alice', 'Anthea'], 'B': ['Bruce']})\n",
      "by_letter: defaultdict(<class 'list'>, {'A': ['Alice', 'Anthea'], 'B': ['Bruce', 'Bean']})\n",
      "by_letter: defaultdict(<class 'list'>, {'A': ['Alice', 'Anthea'], 'B': ['Bruce', 'Bean', 'Bill']})\n"
     ]
    }
   ],
   "source": [
    "by_letter = defaultdict(list)\n",
    "for word in words:\n",
    "    by_letter[word[0]].append(word)\n",
    "    print(f'by_letter: {by_letter}')"
   ]
  },
  {
   "cell_type": "markdown",
   "id": "9d45e708",
   "metadata": {},
   "source": [
    "### dict合法的key型態：必須是immutable, 可以為int, float, string, tuple"
   ]
  },
  {
   "cell_type": "markdown",
   "id": "29c09bb2",
   "metadata": {},
   "source": [
    "### hash(): 可以用來檢查是否可以成為dict的key。"
   ]
  },
  {
   "cell_type": "markdown",
   "id": "994235f0",
   "metadata": {},
   "source": [
    "### string, integer, float, boolean, tuple 都可以是dict的key, 但是list不行。"
   ]
  },
  {
   "cell_type": "code",
   "execution_count": 29,
   "id": "dd1687cc",
   "metadata": {},
   "outputs": [
    {
     "data": {
      "text/plain": [
       "1278722407294492378"
      ]
     },
     "execution_count": 29,
     "metadata": {},
     "output_type": "execute_result"
    }
   ],
   "source": [
    "hash('a')"
   ]
  },
  {
   "cell_type": "code",
   "execution_count": 30,
   "id": "84705f81",
   "metadata": {},
   "outputs": [
    {
     "data": {
      "text/plain": [
       "-3550055125485641917"
      ]
     },
     "execution_count": 30,
     "metadata": {},
     "output_type": "execute_result"
    }
   ],
   "source": [
    "hash((1,2))"
   ]
  },
  {
   "cell_type": "code",
   "execution_count": 31,
   "id": "e944d6a9",
   "metadata": {},
   "outputs": [
    {
     "data": {
      "text/plain": [
       "322818021289917443"
      ]
     },
     "execution_count": 31,
     "metadata": {},
     "output_type": "execute_result"
    }
   ],
   "source": [
    "hash(3.14)"
   ]
  },
  {
   "cell_type": "code",
   "execution_count": 32,
   "id": "d4b38cb3",
   "metadata": {},
   "outputs": [
    {
     "data": {
      "text/plain": [
       "1"
      ]
     },
     "execution_count": 32,
     "metadata": {},
     "output_type": "execute_result"
    }
   ],
   "source": [
    "hash(True)"
   ]
  },
  {
   "cell_type": "code",
   "execution_count": 33,
   "id": "6f03c77f",
   "metadata": {},
   "outputs": [
    {
     "ename": "TypeError",
     "evalue": "unhashable type: 'list'",
     "output_type": "error",
     "traceback": [
      "\u001b[0;31m---------------------------------------------------------------------------\u001b[0m",
      "\u001b[0;31mTypeError\u001b[0m                                 Traceback (most recent call last)",
      "Input \u001b[0;32mIn [33]\u001b[0m, in \u001b[0;36m<cell line: 1>\u001b[0;34m()\u001b[0m\n\u001b[0;32m----> 1\u001b[0m \u001b[38;5;28;43mhash\u001b[39;49m\u001b[43m(\u001b[49m\u001b[43m[\u001b[49m\u001b[38;5;241;43m3\u001b[39;49m\u001b[43m,\u001b[49m\u001b[38;5;241;43m4\u001b[39;49m\u001b[43m]\u001b[49m\u001b[43m)\u001b[49m\n",
      "\u001b[0;31mTypeError\u001b[0m: unhashable type: 'list'"
     ]
    }
   ],
   "source": [
    "hash([3,4])"
   ]
  },
  {
   "cell_type": "markdown",
   "id": "d710f173",
   "metadata": {},
   "source": [
    "### 如果希望list成為key，可以將list轉為tuple，即可成為dict的key。"
   ]
  },
  {
   "cell_type": "code",
   "execution_count": 34,
   "id": "0e1030fa",
   "metadata": {},
   "outputs": [
    {
     "name": "stdout",
     "output_type": "stream",
     "text": [
      "d3= {(1, 2, 3): 100}\n"
     ]
    }
   ],
   "source": [
    "d3={}\n",
    "d3[tuple([1,2,3])]=100\n",
    "print(f'd3= {d3}')"
   ]
  }
 ],
 "metadata": {
  "kernelspec": {
   "display_name": "Python 3 (ipykernel)",
   "language": "python",
   "name": "python3"
  },
  "language_info": {
   "codemirror_mode": {
    "name": "ipython",
    "version": 3
   },
   "file_extension": ".py",
   "mimetype": "text/x-python",
   "name": "python",
   "nbconvert_exporter": "python",
   "pygments_lexer": "ipython3",
   "version": "3.9.12"
  }
 },
 "nbformat": 4,
 "nbformat_minor": 5
}
