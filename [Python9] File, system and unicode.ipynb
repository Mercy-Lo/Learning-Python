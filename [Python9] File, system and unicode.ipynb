{
 "cells": [
  {
   "cell_type": "markdown",
   "id": "1d6e8353",
   "metadata": {},
   "source": [
    "# Chapter 3 內建資料結構、函式和檔案"
   ]
  },
  {
   "cell_type": "markdown",
   "id": "a5947248",
   "metadata": {},
   "source": [
    "## 檔案和作業系統"
   ]
  },
  {
   "cell_type": "markdown",
   "id": "ead38c82",
   "metadata": {},
   "source": [
    "### path: 輸入檔案的路徑。"
   ]
  },
  {
   "cell_type": "code",
   "execution_count": 1,
   "id": "49c53269",
   "metadata": {},
   "outputs": [],
   "source": [
    "path='examples/example_1.csv'"
   ]
  },
  {
   "cell_type": "markdown",
   "id": "f327f182",
   "metadata": {},
   "source": [
    "### open(): 可以傳入路徑。"
   ]
  },
  {
   "cell_type": "code",
   "execution_count": 2,
   "id": "4633f641",
   "metadata": {},
   "outputs": [],
   "source": [
    "f=open(path)"
   ]
  },
  {
   "cell_type": "code",
   "execution_count": 3,
   "id": "cd3e223b",
   "metadata": {},
   "outputs": [],
   "source": [
    "for line in f:\n",
    "    pass"
   ]
  },
  {
   "cell_type": "code",
   "execution_count": 4,
   "id": "f3a46f32",
   "metadata": {},
   "outputs": [
    {
     "data": {
      "text/plain": [
       "[]"
      ]
     },
     "execution_count": 4,
     "metadata": {},
     "output_type": "execute_result"
    }
   ],
   "source": [
    "lines =[x.rstrip() for x in open(path)]\n",
    "lines"
   ]
  },
  {
   "cell_type": "markdown",
   "id": "a3c81034",
   "metadata": {},
   "source": [
    "### close() 關閉很重要！關閉檔案會讓它佔用的資源還給系統。"
   ]
  },
  {
   "cell_type": "code",
   "execution_count": 5,
   "id": "8178809a",
   "metadata": {},
   "outputs": [],
   "source": [
    "f.close()"
   ]
  },
  {
   "cell_type": "markdown",
   "id": "f0798c3e",
   "metadata": {},
   "source": [
    "### with 的設定，可以讓自己不會忘記關閉檔案。"
   ]
  },
  {
   "cell_type": "code",
   "execution_count": 6,
   "id": "48f073e6",
   "metadata": {},
   "outputs": [],
   "source": [
    "with open(path) as f:\n",
    "    lines =[x.rstrip() for x in f]"
   ]
  },
  {
   "cell_type": "markdown",
   "id": "c9ea9970",
   "metadata": {},
   "source": [
    "### w代表建立新檔，會覆寫所有資料。"
   ]
  },
  {
   "cell_type": "code",
   "execution_count": 7,
   "id": "d64015c2",
   "metadata": {},
   "outputs": [],
   "source": [
    "path2='examples/example_1.csv'\n",
    "f=open(path,'w')"
   ]
  },
  {
   "cell_type": "markdown",
   "id": "8eb9531e",
   "metadata": {},
   "source": [
    "### x代表建立新檔，如果檔案已存在，則失敗。"
   ]
  },
  {
   "cell_type": "code",
   "execution_count": 8,
   "id": "797ed02b",
   "metadata": {},
   "outputs": [],
   "source": [
    "path3='examples/example_path3.csv'\n",
    "f2=open(path3,'x')"
   ]
  },
  {
   "cell_type": "markdown",
   "id": "cc6f5bcf",
   "metadata": {},
   "source": [
    "### read(), seek(), tell()"
   ]
  },
  {
   "cell_type": "code",
   "execution_count": 9,
   "id": "a0f594d4",
   "metadata": {},
   "outputs": [],
   "source": [
    "path2='examples/example_2.csv'\n",
    "f=open(path2)"
   ]
  },
  {
   "cell_type": "code",
   "execution_count": 10,
   "id": "95615aed",
   "metadata": {},
   "outputs": [
    {
     "data": {
      "text/plain": [
       "'\\ufeffkey1,key2,value1,value2,value3\\none,a,1,2,4\\none,b,3,4,8\\none,c,5,6,9\\none,d,7,8,10\\ntwo,a,9,10,11\\ntwo,b,11,12,12\\ntwo,c,13,14,13\\ntwo,d,15,16,14'"
      ]
     },
     "execution_count": 10,
     "metadata": {},
     "output_type": "execute_result"
    }
   ],
   "source": [
    "f.read()"
   ]
  },
  {
   "cell_type": "markdown",
   "id": "73efb48f",
   "metadata": {},
   "source": [
    "### rb代表2進位模式。"
   ]
  },
  {
   "cell_type": "code",
   "execution_count": 11,
   "id": "62960a81",
   "metadata": {},
   "outputs": [],
   "source": [
    "f2= open(path2,'rb')"
   ]
  },
  {
   "cell_type": "code",
   "execution_count": 12,
   "id": "2e830444",
   "metadata": {
    "scrolled": true
   },
   "outputs": [
    {
     "data": {
      "text/plain": [
       "b'\\xef\\xbb\\xbfkey1,key2,value1,value2,value3\\r\\none,a,1,2,4\\r\\none,b,3,4,8\\r\\none,c,5,6,9\\r\\none,d,7,8,10\\r\\ntwo,a,9,10,11\\r\\ntwo,b,11,12,12\\r\\ntwo,c,13,14,13\\r\\ntwo,d,15,16,14'"
      ]
     },
     "execution_count": 12,
     "metadata": {},
     "output_type": "execute_result"
    }
   ],
   "source": [
    "f2.read()"
   ]
  },
  {
   "cell_type": "code",
   "execution_count": 13,
   "id": "a56f4d8b",
   "metadata": {},
   "outputs": [
    {
     "data": {
      "text/plain": [
       "['\\ufeffkey1,key2,value1,value2,value3',\n",
       " 'one,a,1,2,4',\n",
       " 'one,b,3,4,8',\n",
       " 'one,c,5,6,9',\n",
       " 'one,d,7,8,10',\n",
       " 'two,a,9,10,11',\n",
       " 'two,b,11,12,12',\n",
       " 'two,c,13,14,13',\n",
       " 'two,d,15,16,14']"
      ]
     },
     "execution_count": 13,
     "metadata": {},
     "output_type": "execute_result"
    }
   ],
   "source": [
    "lines2 =[x.rstrip() for x in open(path2)]\n",
    "lines2"
   ]
  },
  {
   "cell_type": "markdown",
   "id": "62144744",
   "metadata": {},
   "source": [
    "### tell(): 告訴你位置在何處。"
   ]
  },
  {
   "cell_type": "code",
   "execution_count": 14,
   "id": "68ea3bd4",
   "metadata": {},
   "outputs": [
    {
     "data": {
      "text/plain": [
       "149"
      ]
     },
     "execution_count": 14,
     "metadata": {},
     "output_type": "execute_result"
    }
   ],
   "source": [
    "f.tell()"
   ]
  },
  {
   "cell_type": "code",
   "execution_count": 15,
   "id": "05863ca7",
   "metadata": {},
   "outputs": [
    {
     "data": {
      "text/plain": [
       "149"
      ]
     },
     "execution_count": 15,
     "metadata": {},
     "output_type": "execute_result"
    }
   ],
   "source": [
    "f2.tell()"
   ]
  },
  {
   "cell_type": "markdown",
   "id": "49d3e72c",
   "metadata": {},
   "source": [
    "### 使用sys模組看預設的編碼是什麼。"
   ]
  },
  {
   "cell_type": "code",
   "execution_count": 16,
   "id": "f2330063",
   "metadata": {},
   "outputs": [],
   "source": [
    "import sys"
   ]
  },
  {
   "cell_type": "code",
   "execution_count": 17,
   "id": "341b4578",
   "metadata": {},
   "outputs": [
    {
     "data": {
      "text/plain": [
       "'utf-8'"
      ]
     },
     "execution_count": 17,
     "metadata": {},
     "output_type": "execute_result"
    }
   ],
   "source": [
    "sys.getdefaultencoding()"
   ]
  },
  {
   "cell_type": "markdown",
   "id": "c04e9f3d",
   "metadata": {},
   "source": [
    "### seek(): 改變目前檔案以位元組為單位的檔案位置。"
   ]
  },
  {
   "cell_type": "code",
   "execution_count": 18,
   "id": "73577ea9",
   "metadata": {},
   "outputs": [
    {
     "data": {
      "text/plain": [
       "5"
      ]
     },
     "execution_count": 18,
     "metadata": {},
     "output_type": "execute_result"
    }
   ],
   "source": [
    "f.seek(5)"
   ]
  },
  {
   "cell_type": "code",
   "execution_count": 19,
   "id": "de227fb4",
   "metadata": {},
   "outputs": [
    {
     "data": {
      "text/plain": [
       "'y'"
      ]
     },
     "execution_count": 19,
     "metadata": {},
     "output_type": "execute_result"
    }
   ],
   "source": [
    "f.read(1)"
   ]
  },
  {
   "cell_type": "code",
   "execution_count": 20,
   "id": "fcaf6771",
   "metadata": {},
   "outputs": [],
   "source": [
    "f.close()"
   ]
  },
  {
   "cell_type": "code",
   "execution_count": 21,
   "id": "404553a5",
   "metadata": {},
   "outputs": [],
   "source": [
    "f2.close()"
   ]
  },
  {
   "cell_type": "markdown",
   "id": "53e17c4f",
   "metadata": {},
   "source": [
    "### 若想要將文字寫入到檔案中，可以使用write或是writelines。"
   ]
  },
  {
   "cell_type": "code",
   "execution_count": 22,
   "id": "643e8c90",
   "metadata": {},
   "outputs": [],
   "source": [
    "with open('examples/example_1.csv','w')as handle:\n",
    "    handle.writelines(x for x in open(path) if len(x)>1)"
   ]
  },
  {
   "cell_type": "code",
   "execution_count": 23,
   "id": "1f812331",
   "metadata": {},
   "outputs": [],
   "source": [
    "with open ('examples/example_1.csv') as f:\n",
    "    lines = f.readlines()"
   ]
  },
  {
   "cell_type": "code",
   "execution_count": 24,
   "id": "533fe102",
   "metadata": {},
   "outputs": [
    {
     "data": {
      "text/plain": [
       "[]"
      ]
     },
     "execution_count": 24,
     "metadata": {},
     "output_type": "execute_result"
    }
   ],
   "source": [
    "lines"
   ]
  },
  {
   "cell_type": "markdown",
   "id": "00e4e8bd",
   "metadata": {},
   "source": [
    "### 檔案中的位元組與Unicode。"
   ]
  },
  {
   "cell_type": "code",
   "execution_count": 25,
   "id": "906f9cc8",
   "metadata": {},
   "outputs": [
    {
     "data": {
      "text/plain": [
       "''"
      ]
     },
     "execution_count": 25,
     "metadata": {},
     "output_type": "execute_result"
    }
   ],
   "source": [
    "with open(path) as f:\n",
    "    chars=f.read(10)\n",
    "chars"
   ]
  },
  {
   "cell_type": "markdown",
   "id": "cd09155f",
   "metadata": {},
   "source": [
    "### 如果放入rb的格式，可以指定b到檔案中。(binary 二元制)"
   ]
  },
  {
   "cell_type": "code",
   "execution_count": 26,
   "id": "cf3b4d72",
   "metadata": {},
   "outputs": [],
   "source": [
    "with open(path,'rb') as f:\n",
    "    data=f.read(10)"
   ]
  },
  {
   "cell_type": "code",
   "execution_count": 27,
   "id": "47109534",
   "metadata": {},
   "outputs": [
    {
     "data": {
      "text/plain": [
       "b''"
      ]
     },
     "execution_count": 27,
     "metadata": {},
     "output_type": "execute_result"
    }
   ],
   "source": [
    "data"
   ]
  },
  {
   "cell_type": "markdown",
   "id": "b27fb463",
   "metadata": {},
   "source": [
    "### 自行將位元組編碼為str物件。"
   ]
  },
  {
   "cell_type": "code",
   "execution_count": 28,
   "id": "d8539892",
   "metadata": {},
   "outputs": [
    {
     "data": {
      "text/plain": [
       "''"
      ]
     },
     "execution_count": 28,
     "metadata": {},
     "output_type": "execute_result"
    }
   ],
   "source": [
    "data.decode('utf8')"
   ]
  },
  {
   "cell_type": "code",
   "execution_count": 29,
   "id": "a6499527",
   "metadata": {},
   "outputs": [
    {
     "data": {
      "text/plain": [
       "''"
      ]
     },
     "execution_count": 29,
     "metadata": {},
     "output_type": "execute_result"
    }
   ],
   "source": [
    "data[:4].decode('utf8')"
   ]
  },
  {
   "cell_type": "markdown",
   "id": "0ca3df88",
   "metadata": {},
   "source": [
    "### 可以指定endcoding。"
   ]
  },
  {
   "cell_type": "code",
   "execution_count": 32,
   "id": "f90a261c",
   "metadata": {},
   "outputs": [],
   "source": [
    "sink_path='sink.txt'"
   ]
  },
  {
   "cell_type": "code",
   "execution_count": 33,
   "id": "2556adbe",
   "metadata": {},
   "outputs": [],
   "source": [
    "with open(path) as source:\n",
    "    with open(sink_path, 'xt', encoding='iso-8859-1') as sink:\n",
    "        sink.write(source.read())"
   ]
  },
  {
   "cell_type": "code",
   "execution_count": 34,
   "id": "6f6e5a99",
   "metadata": {},
   "outputs": [
    {
     "name": "stdout",
     "output_type": "stream",
     "text": [
      "\n"
     ]
    }
   ],
   "source": [
    "with open(sink_path, encoding='iso=8859-1')as f:\n",
    "    print(f.read(10))"
   ]
  },
  {
   "cell_type": "code",
   "execution_count": 35,
   "id": "82fed6eb",
   "metadata": {},
   "outputs": [],
   "source": [
    "f=open(path)"
   ]
  },
  {
   "cell_type": "code",
   "execution_count": 36,
   "id": "da9c762b",
   "metadata": {},
   "outputs": [
    {
     "data": {
      "text/plain": [
       "''"
      ]
     },
     "execution_count": 36,
     "metadata": {},
     "output_type": "execute_result"
    }
   ],
   "source": [
    "f.read(5)"
   ]
  },
  {
   "cell_type": "code",
   "execution_count": 37,
   "id": "bf2fb3d3",
   "metadata": {},
   "outputs": [
    {
     "data": {
      "text/plain": [
       "4"
      ]
     },
     "execution_count": 37,
     "metadata": {},
     "output_type": "execute_result"
    }
   ],
   "source": [
    "f.seek(4)"
   ]
  },
  {
   "cell_type": "code",
   "execution_count": 38,
   "id": "f3a5cd85",
   "metadata": {},
   "outputs": [
    {
     "data": {
      "text/plain": [
       "''"
      ]
     },
     "execution_count": 38,
     "metadata": {},
     "output_type": "execute_result"
    }
   ],
   "source": [
    "f.read(1)"
   ]
  }
 ],
 "metadata": {
  "kernelspec": {
   "display_name": "Python 3 (ipykernel)",
   "language": "python",
   "name": "python3"
  },
  "language_info": {
   "codemirror_mode": {
    "name": "ipython",
    "version": 3
   },
   "file_extension": ".py",
   "mimetype": "text/x-python",
   "name": "python",
   "nbconvert_exporter": "python",
   "pygments_lexer": "ipython3",
   "version": "3.9.12"
  }
 },
 "nbformat": 4,
 "nbformat_minor": 5
}
