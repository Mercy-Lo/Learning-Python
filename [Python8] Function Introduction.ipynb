{
 "cells": [
  {
   "cell_type": "markdown",
   "id": "5c28f505",
   "metadata": {},
   "source": [
    "# Chapter 3 內建資料結構、函式和檔案"
   ]
  },
  {
   "cell_type": "markdown",
   "id": "da71efa8",
   "metadata": {},
   "source": [
    "## Function Introduction"
   ]
  },
  {
   "cell_type": "markdown",
   "id": "09ec68dc",
   "metadata": {},
   "source": [
    "### 函式使用時機點：你預期一些程式碼會被重複使用，就可以寫成一個函式。"
   ]
  },
  {
   "cell_type": "code",
   "execution_count": 1,
   "id": "2d81b150",
   "metadata": {},
   "outputs": [],
   "source": [
    "def my_function(x,y,z=1.5):\n",
    "    if z > 1:\n",
    "        return z*(x+y)\n",
    "    else:\n",
    "        return z/(x+y)"
   ]
  },
  {
   "cell_type": "markdown",
   "id": "62f7a06b",
   "metadata": {},
   "source": [
    "### x, y為位置參數(positional parameter), z為關鍵字參數(keyword parameter)，關鍵字參數必須出現在位置參數後面。"
   ]
  },
  {
   "cell_type": "code",
   "execution_count": 2,
   "id": "ad613151",
   "metadata": {},
   "outputs": [
    {
     "data": {
      "text/plain": [
       "150"
      ]
     },
     "execution_count": 2,
     "metadata": {},
     "output_type": "execute_result"
    }
   ],
   "source": [
    "my_function(10,20,5)"
   ]
  },
  {
   "cell_type": "code",
   "execution_count": 3,
   "id": "5e650238",
   "metadata": {},
   "outputs": [
    {
     "data": {
      "text/plain": [
       "0.00625"
      ]
     },
     "execution_count": 3,
     "metadata": {},
     "output_type": "execute_result"
    }
   ],
   "source": [
    "my_function(14,18,0.2)"
   ]
  },
  {
   "cell_type": "code",
   "execution_count": 4,
   "id": "d628beb9",
   "metadata": {},
   "outputs": [
    {
     "data": {
      "text/plain": [
       "45.0"
      ]
     },
     "execution_count": 4,
     "metadata": {},
     "output_type": "execute_result"
    }
   ],
   "source": [
    "my_function(10,20) #系統會自動將數字按照順序給位置參數，而關鍵參數由於已經有定義值，運算就可以順利進行。"
   ]
  },
  {
   "cell_type": "code",
   "execution_count": 5,
   "id": "ebe093cb",
   "metadata": {},
   "outputs": [
    {
     "data": {
      "text/plain": [
       "0.001"
      ]
     },
     "execution_count": 5,
     "metadata": {},
     "output_type": "execute_result"
    }
   ],
   "source": [
    "my_function(z=0.2, y=100, x=100) #也可以直接寫出每個參數的名稱，就不需要在乎順序。"
   ]
  },
  {
   "cell_type": "markdown",
   "id": "eb501234",
   "metadata": {},
   "source": [
    "### Global Scope v.s. Local Scope"
   ]
  },
  {
   "cell_type": "markdown",
   "id": "48e7a318",
   "metadata": {},
   "source": [
    "### 在函式內的變數屬於Local Scope，出了函式外就不可以使用，Global Scope為函式外的變數，可以被不同的公式所取用，不會消失。"
   ]
  },
  {
   "cell_type": "code",
   "execution_count": 6,
   "id": "3aa2129c",
   "metadata": {},
   "outputs": [],
   "source": [
    "def func():\n",
    "\n",
    "### 因為在函式裡面，這裡的a為local scope，函式結束即消失。\n",
    "\n",
    "    a=[]\n",
    "    for i in range(5):\n",
    "        a.append(i)\n",
    "    return a "
   ]
  },
  {
   "cell_type": "code",
   "execution_count": 7,
   "id": "3d4d6537",
   "metadata": {},
   "outputs": [
    {
     "data": {
      "text/plain": [
       "[0, 1, 2, 3, 4]"
      ]
     },
     "execution_count": 7,
     "metadata": {},
     "output_type": "execute_result"
    }
   ],
   "source": [
    "func()"
   ]
  },
  {
   "cell_type": "markdown",
   "id": "8a70d185",
   "metadata": {},
   "source": [
    "### 因為在函式外面，這裡的a為global scope，並不會消失。"
   ]
  },
  {
   "cell_type": "code",
   "execution_count": 8,
   "id": "dca0b0af",
   "metadata": {},
   "outputs": [],
   "source": [
    "a=[]\n",
    "def func():\n",
    "    for i in range(5):\n",
    "        a.append(i)\n",
    "    return a "
   ]
  },
  {
   "cell_type": "code",
   "execution_count": 9,
   "id": "d3b42714",
   "metadata": {},
   "outputs": [
    {
     "data": {
      "text/plain": [
       "[0, 1, 2, 3, 4]"
      ]
     },
     "execution_count": 9,
     "metadata": {},
     "output_type": "execute_result"
    }
   ],
   "source": [
    "func()"
   ]
  },
  {
   "cell_type": "markdown",
   "id": "308be94a",
   "metadata": {},
   "source": [
    "### 函式的好處：可以回傳多個值。"
   ]
  },
  {
   "cell_type": "code",
   "execution_count": 10,
   "id": "11cef3d5",
   "metadata": {},
   "outputs": [],
   "source": [
    "def f():\n",
    "    a=5\n",
    "    b=6\n",
    "    c=7\n",
    "    return a,b,c\n",
    "a,b,c=f()"
   ]
  },
  {
   "cell_type": "code",
   "execution_count": 11,
   "id": "c2f72890",
   "metadata": {},
   "outputs": [
    {
     "name": "stdout",
     "output_type": "stream",
     "text": [
      "5 6 7\n"
     ]
    }
   ],
   "source": [
    "print(a,b,c) "
   ]
  },
  {
   "cell_type": "code",
   "execution_count": 12,
   "id": "a0dd4869",
   "metadata": {},
   "outputs": [],
   "source": [
    "def f():\n",
    "    a=6\n",
    "    b=7\n",
    "    c=8\n",
    "    return {'a':a, 'b':b, 'c':c}"
   ]
  },
  {
   "cell_type": "markdown",
   "id": "7f8ba8ba",
   "metadata": {},
   "source": [
    "### 可以寫成dict的型態。"
   ]
  },
  {
   "cell_type": "code",
   "execution_count": 13,
   "id": "7e858b92",
   "metadata": {},
   "outputs": [
    {
     "data": {
      "text/plain": [
       "{'a': 6, 'b': 7, 'c': 8}"
      ]
     },
     "execution_count": 13,
     "metadata": {},
     "output_type": "execute_result"
    }
   ],
   "source": [
    "f()"
   ]
  },
  {
   "cell_type": "markdown",
   "id": "e29ea70a",
   "metadata": {},
   "source": [
    "### 函式即物件: 透過def設定函式，也可以透過for迴圈，巧妙的將不同的函式集合起來使用，使函式變成迴圈中的一個元素。"
   ]
  },
  {
   "cell_type": "markdown",
   "id": "e7efe5b8",
   "metadata": {},
   "source": [
    "### 使用sub()函式前記得先import re。"
   ]
  },
  {
   "cell_type": "markdown",
   "id": "133d6fcb",
   "metadata": {},
   "source": [
    "### re.sub(pattern, repl, string, count=0, flags=0)¶\n",
    "### pattern：代表要被置換的str/list。repl:要被取代成什麼？ \n",
    "### string: 要變動的那個value。 count:想要置換幾次。沒有寫代表全部都要換。 flags代表要不要啟動這個功能，0表示啟動，1表示關閉。"
   ]
  },
  {
   "cell_type": "markdown",
   "id": "90455a74",
   "metadata": {},
   "source": [
    "### strip()移除前後空格 ; sub()移除符號 ; title()開頭要大寫。"
   ]
  },
  {
   "cell_type": "markdown",
   "id": "407ded15",
   "metadata": {},
   "source": [
    "### 先定義clean_strings這個function，用來清理不同的字串。"
   ]
  },
  {
   "cell_type": "code",
   "execution_count": 14,
   "id": "0fb215eb",
   "metadata": {},
   "outputs": [],
   "source": [
    "import re\n",
    "\n",
    "def clean_strings(strings):\n",
    "    result=[]\n",
    "    for value in strings:\n",
    "        value= value.strip()\n",
    "        value= re.sub('[!#?]','',value)\n",
    "        value= value.title()\n",
    "        result.append(value)\n",
    "    return result"
   ]
  },
  {
   "cell_type": "markdown",
   "id": "50631ee8",
   "metadata": {},
   "source": [
    "### 給予clean_strings一個list，讓他有值可以運作。"
   ]
  },
  {
   "cell_type": "code",
   "execution_count": 15,
   "id": "51762e99",
   "metadata": {},
   "outputs": [
    {
     "data": {
      "text/plain": [
       "['Taiwan', 'Japan', 'Spain', 'New Zealand', 'Iceland']"
      ]
     },
     "execution_count": 15,
     "metadata": {},
     "output_type": "execute_result"
    }
   ],
   "source": [
    "country=['!Taiwan','JAPAN?','spain#','?new zeaLAND','  iceland ']\n",
    "\n",
    "clean_strings(country)"
   ]
  },
  {
   "cell_type": "markdown",
   "id": "f6a266d5",
   "metadata": {},
   "source": [
    "### 上面的寫法為把所有的函式都包含在一個函式內去做使用。下面會介紹把函式當成物件，集合起來成為一個List，會讓函式的增加、減少更有彈性。"
   ]
  },
  {
   "cell_type": "code",
   "execution_count": 16,
   "id": "1dbd40f4",
   "metadata": {},
   "outputs": [],
   "source": [
    "### 定義一個可以移除標點符號的函式remove_punctuation。\n",
    "import re\n",
    "\n",
    "def remove_punctuation(value):\n",
    "    return re.sub('[!#?]','',value)\n",
    "\n",
    "\n",
    "### 設定一個list，包含三個funciton。\n",
    "clean_ops=[str.strip,remove_punctuation,str.title]\n",
    "\n",
    "\n",
    "### 設定一個函式，讓list可以套用clean_ops內的每一個函式。\n",
    "def clean_strings(strings, ops):\n",
    "    result=[]\n",
    "    for value in strings:\n",
    "        for function in ops:\n",
    "            value=function(value)\n",
    "        result.append(value)\n",
    "    return result"
   ]
  },
  {
   "cell_type": "code",
   "execution_count": 17,
   "id": "cfba1634",
   "metadata": {},
   "outputs": [
    {
     "data": {
      "text/plain": [
       "['Taiwan', 'Japan', 'Spain', 'New Zealand', 'Iceland']"
      ]
     },
     "execution_count": 17,
     "metadata": {},
     "output_type": "execute_result"
    }
   ],
   "source": [
    "country=['!Taiwan','JAPAN?','spain#','?new zeaLAND','  iceland ']\n",
    "\n",
    "clean_strings(country,clean_ops)"
   ]
  },
  {
   "cell_type": "markdown",
   "id": "37911a90",
   "metadata": {},
   "source": [
    "### map(function, list): 可以讓list內每一個值執行function的功能，最精美的寫法。"
   ]
  },
  {
   "cell_type": "code",
   "execution_count": 18,
   "id": "5eb9efaa",
   "metadata": {},
   "outputs": [
    {
     "name": "stdout",
     "output_type": "stream",
     "text": [
      "Taiwan\n",
      "Japan\n",
      "Spain\n",
      "New Zealand\n",
      "Iceland\n"
     ]
    }
   ],
   "source": [
    "country=['!Taiwan','Japan?','Spain#','?New Zealand','Iceland##']\n",
    "\n",
    "import re\n",
    "\n",
    "def remove_punctuation(value):\n",
    "    return re.sub('[!#?]','',value)\n",
    "\n",
    "for x in map(remove_punctuation,country):\n",
    "    print(x)\n"
   ]
  },
  {
   "cell_type": "markdown",
   "id": "353b2e2f",
   "metadata": {},
   "source": [
    "### 匿名Lambda函式"
   ]
  },
  {
   "cell_type": "code",
   "execution_count": 19,
   "id": "6610bd22",
   "metadata": {},
   "outputs": [],
   "source": [
    "def short_function(x):\n",
    "    return x*2"
   ]
  },
  {
   "cell_type": "code",
   "execution_count": 20,
   "id": "3b4e035a",
   "metadata": {},
   "outputs": [
    {
     "data": {
      "text/plain": [
       "10"
      ]
     },
     "execution_count": 20,
     "metadata": {},
     "output_type": "execute_result"
    }
   ],
   "source": [
    "short_function(5)"
   ]
  },
  {
   "cell_type": "markdown",
   "id": "89dc6e1a",
   "metadata": {},
   "source": [
    "### equiv_anon 可以替換為其他的文字。\n",
    "### lambda可以直接拿來定義函式，比def return精簡許多。"
   ]
  },
  {
   "cell_type": "code",
   "execution_count": 21,
   "id": "a5edf6f1",
   "metadata": {},
   "outputs": [],
   "source": [
    "equiv_anon=lambda x: x*2"
   ]
  },
  {
   "cell_type": "code",
   "execution_count": 22,
   "id": "cb527ae9",
   "metadata": {},
   "outputs": [
    {
     "data": {
      "text/plain": [
       "20"
      ]
     },
     "execution_count": 22,
     "metadata": {},
     "output_type": "execute_result"
    }
   ],
   "source": [
    "equiv_anon(10)"
   ]
  },
  {
   "cell_type": "code",
   "execution_count": 23,
   "id": "d78e4567",
   "metadata": {},
   "outputs": [
    {
     "data": {
      "text/plain": [
       "[8, 0, 2, 10, 12]"
      ]
     },
     "execution_count": 23,
     "metadata": {},
     "output_type": "execute_result"
    }
   ],
   "source": [
    "def apply_to_list(some_list,f):\n",
    "    return [f(x) for x in some_list]\n",
    "ints=[4,0,1,5,6]\n",
    "apply_to_list(ints, lambda x:x*2)"
   ]
  },
  {
   "cell_type": "code",
   "execution_count": 24,
   "id": "c467fec0",
   "metadata": {},
   "outputs": [],
   "source": [
    "strings=['tv','lamp','sofa','kitchen']\n",
    "strings.sort(key=lambda x: len(set(list(x))))"
   ]
  },
  {
   "cell_type": "code",
   "execution_count": 25,
   "id": "0c07dc5a",
   "metadata": {},
   "outputs": [
    {
     "data": {
      "text/plain": [
       "['tv', 'lamp', 'sofa', 'kitchen']"
      ]
     },
     "execution_count": 25,
     "metadata": {},
     "output_type": "execute_result"
    }
   ],
   "source": [
    "strings"
   ]
  },
  {
   "cell_type": "markdown",
   "id": "9dc4c88c",
   "metadata": {},
   "source": [
    "### 柯里化（currying): 是一個計算機科學術語，代表只給現有函式加上部份變數，之後衍生出新函式的動作。"
   ]
  },
  {
   "cell_type": "code",
   "execution_count": 26,
   "id": "1979c496",
   "metadata": {},
   "outputs": [],
   "source": [
    "def add_number(x,y):\n",
    "    return x+y"
   ]
  },
  {
   "cell_type": "markdown",
   "id": "e51c31b9",
   "metadata": {},
   "source": [
    "### 如果只提供一個value給add_number，會衍生出一個新的函式add_five。"
   ]
  },
  {
   "cell_type": "code",
   "execution_count": 27,
   "id": "65680fc0",
   "metadata": {},
   "outputs": [],
   "source": [
    "add_five=lambda y:add_number(5,y)"
   ]
  },
  {
   "cell_type": "markdown",
   "id": "4fba7e8c",
   "metadata": {},
   "source": [
    "### 這代表add_number的第二個參數ｙ被柯里化。"
   ]
  },
  {
   "cell_type": "markdown",
   "id": "9754b758",
   "metadata": {},
   "source": [
    "### functools 內的partial 可以簡化柯里化的流程，也就是更快速定義一個新的函式。"
   ]
  },
  {
   "cell_type": "code",
   "execution_count": 28,
   "id": "f39b0b8a",
   "metadata": {},
   "outputs": [],
   "source": [
    "from functools import partial"
   ]
  },
  {
   "cell_type": "code",
   "execution_count": 29,
   "id": "fafe32be",
   "metadata": {},
   "outputs": [],
   "source": [
    "add_five=partial(add_number,5)"
   ]
  },
  {
   "cell_type": "code",
   "execution_count": 30,
   "id": "ea57ca7c",
   "metadata": {},
   "outputs": [
    {
     "data": {
      "text/plain": [
       "105"
      ]
     },
     "execution_count": 30,
     "metadata": {},
     "output_type": "execute_result"
    }
   ],
   "source": [
    "add_five(100)"
   ]
  },
  {
   "cell_type": "markdown",
   "id": "197fc6ef",
   "metadata": {},
   "source": [
    "### [補充說明] format()用法"
   ]
  },
  {
   "cell_type": "code",
   "execution_count": 31,
   "id": "11fcbddf",
   "metadata": {},
   "outputs": [
    {
     "name": "stdout",
     "output_type": "stream",
     "text": [
      "This article is written by Python.\n"
     ]
    }
   ],
   "source": [
    "print('This article is written by {}.'.format('Python'))"
   ]
  },
  {
   "cell_type": "markdown",
   "id": "9e46d834",
   "metadata": {},
   "source": [
    "### format常與print做搭配，print的內容可以放置大括號{}，句末再加上.format()，就可以定義{}內要填入的內容囉！"
   ]
  },
  {
   "cell_type": "code",
   "execution_count": 32,
   "id": "ae879bff",
   "metadata": {},
   "outputs": [
    {
     "name": "stdout",
     "output_type": "stream",
     "text": [
      "Positivity, persistence, and bravery are the keys to success.\n"
     ]
    }
   ],
   "source": [
    "a='{},{},{} are the keys to success.'\n",
    "print(a.format('Positivity',' persistence', ' and bravery'))"
   ]
  },
  {
   "cell_type": "markdown",
   "id": "5a6a7f1c",
   "metadata": {},
   "source": [
    "### {0},{1} 代表forma的index()。"
   ]
  },
  {
   "cell_type": "code",
   "execution_count": 33,
   "id": "426f6125",
   "metadata": {},
   "outputs": [
    {
     "name": "stdout",
     "output_type": "stream",
     "text": [
      "Udemy, Coursera are nice learning process.\n"
     ]
    }
   ],
   "source": [
    "print('{1},{0} are nice learning process.'.format(' Coursera','Udemy'))"
   ]
  },
  {
   "cell_type": "markdown",
   "id": "b7158207",
   "metadata": {},
   "source": [
    "### 產生器(generator): 是產生一個新疊代物件的簡便方式，產生器可以回傳多個結果序列。"
   ]
  },
  {
   "cell_type": "markdown",
   "id": "02814a4f",
   "metadata": {},
   "source": [
    "### 疊代器協定 （itrtator protovol): 一種讓物件可以疊代的通運方法。"
   ]
  },
  {
   "cell_type": "markdown",
   "id": "1786969c",
   "metadata": {},
   "source": [
    "### 使用for迴圈，可以將dict帶入Python直譯器，傳出一個又一個的物件。"
   ]
  },
  {
   "cell_type": "code",
   "execution_count": 34,
   "id": "ff2aeb3b",
   "metadata": {},
   "outputs": [
    {
     "name": "stdout",
     "output_type": "stream",
     "text": [
      "a\n",
      "b\n",
      "c\n",
      "d\n",
      "e\n"
     ]
    }
   ],
   "source": [
    "some_dict={'a':1,'b':2,'c':3,'d':4,'e':5}\n",
    "\n",
    "for key in some_dict:\n",
    "    print(key)"
   ]
  },
  {
   "cell_type": "markdown",
   "id": "5d5b7bc5",
   "metadata": {},
   "source": [
    "### iterator 是迭代器，舉凡map(), list(), tuple() 等可以讓元素一起變動的函式，都可以稱作iterator。"
   ]
  },
  {
   "cell_type": "code",
   "execution_count": 35,
   "id": "7e7e7150",
   "metadata": {},
   "outputs": [],
   "source": [
    "dict_iterator=iter(some_dict)"
   ]
  },
  {
   "cell_type": "code",
   "execution_count": 36,
   "id": "e12caf29",
   "metadata": {},
   "outputs": [
    {
     "data": {
      "text/plain": [
       "<dict_keyiterator at 0x7fddc91b3ef0>"
      ]
     },
     "execution_count": 36,
     "metadata": {},
     "output_type": "execute_result"
    }
   ],
   "source": [
    "dict_iterator"
   ]
  },
  {
   "cell_type": "code",
   "execution_count": 37,
   "id": "a5abc561",
   "metadata": {},
   "outputs": [
    {
     "data": {
      "text/plain": [
       "['a', 'b', 'c', 'd', 'e']"
      ]
     },
     "execution_count": 37,
     "metadata": {},
     "output_type": "execute_result"
    }
   ],
   "source": [
    "list(dict_iterator)"
   ]
  },
  {
   "cell_type": "markdown",
   "id": "2a11cdf4",
   "metadata": {},
   "source": [
    "### def 中的return每次只能回傳一個值，如果要一次回傳多值，則需改為yield。"
   ]
  },
  {
   "cell_type": "markdown",
   "id": "fc280fad",
   "metadata": {},
   "source": [
    "### 觀察return()在squares()的回傳值個數。"
   ]
  },
  {
   "cell_type": "code",
   "execution_count": 38,
   "id": "b6b805ba",
   "metadata": {},
   "outputs": [
    {
     "name": "stdout",
     "output_type": "stream",
     "text": [
      "Generating squares from 1 to 100\n"
     ]
    },
    {
     "data": {
      "text/plain": [
       "1"
      ]
     },
     "execution_count": 38,
     "metadata": {},
     "output_type": "execute_result"
    }
   ],
   "source": [
    "def squares(n=10):\n",
    "    print('Generating squares from 1 to {0}'.format(n**2))\n",
    "    for i in range(1,n+1):\n",
    "        return i**2\n",
    "\n",
    "squares()"
   ]
  },
  {
   "cell_type": "markdown",
   "id": "3848fc3b",
   "metadata": {},
   "source": [
    "### yield()對於函式squares()為元素產生器()，故單純呼叫gen不會有值出現，需要搭配for迴圈，讓值顯示出來。"
   ]
  },
  {
   "cell_type": "code",
   "execution_count": 39,
   "id": "a671049a",
   "metadata": {},
   "outputs": [],
   "source": [
    "def squares(n=10):\n",
    "    print('Generating squares from 1 to {}'.format(n**2))\n",
    "    for i in range(1,n+1):\n",
    "        yield i**2"
   ]
  },
  {
   "cell_type": "code",
   "execution_count": 40,
   "id": "95a1275f",
   "metadata": {},
   "outputs": [
    {
     "data": {
      "text/plain": [
       "<generator object squares at 0x7fddc91bf190>"
      ]
     },
     "execution_count": 40,
     "metadata": {},
     "output_type": "execute_result"
    }
   ],
   "source": [
    "gen=squares()\n",
    "gen"
   ]
  },
  {
   "cell_type": "code",
   "execution_count": 41,
   "id": "9320ebb8",
   "metadata": {},
   "outputs": [
    {
     "name": "stdout",
     "output_type": "stream",
     "text": [
      "Generating squares from 1 to 100\n",
      "1 4 9 16 25 36 49 64 81 100 "
     ]
    }
   ],
   "source": [
    "for x in gen:\n",
    "    print(x, end=' ')"
   ]
  },
  {
   "cell_type": "markdown",
   "id": "a6719050",
   "metadata": {},
   "source": [
    "### 產生器述句(Generator Expression): 最簡易的方式製作產生器，需寫在小括號（）內。"
   ]
  },
  {
   "cell_type": "markdown",
   "id": "ff0a26c4",
   "metadata": {},
   "source": [
    "### 原先透過def yield製作generator，需要比較長的語法。"
   ]
  },
  {
   "cell_type": "code",
   "execution_count": 42,
   "id": "ce022a10",
   "metadata": {},
   "outputs": [
    {
     "data": {
      "text/plain": [
       "<generator object _make_gen at 0x7fddc91bf510>"
      ]
     },
     "execution_count": 42,
     "metadata": {},
     "output_type": "execute_result"
    }
   ],
   "source": [
    "def _make_gen(): \n",
    "    for x in range(11):\n",
    "        yield x **2\n",
    "        \n",
    "gen=_make_gen()\n",
    "gen"
   ]
  },
  {
   "cell_type": "markdown",
   "id": "bbcfabe5",
   "metadata": {},
   "source": [
    "### 現在透過小括號，可以直接快速產出一個generator。"
   ]
  },
  {
   "cell_type": "code",
   "execution_count": 43,
   "id": "515e9eb4",
   "metadata": {},
   "outputs": [
    {
     "data": {
      "text/plain": [
       "<generator object <genexpr> at 0x7fddc91bf3c0>"
      ]
     },
     "execution_count": 43,
     "metadata": {},
     "output_type": "execute_result"
    }
   ],
   "source": [
    "gen=(x**2 for x in range(11))\n",
    "gen"
   ]
  },
  {
   "cell_type": "code",
   "execution_count": 44,
   "id": "089a2d52",
   "metadata": {},
   "outputs": [
    {
     "name": "stdout",
     "output_type": "stream",
     "text": [
      "0\n",
      "1\n",
      "4\n",
      "9\n",
      "16\n",
      "25\n",
      "36\n",
      "49\n",
      "64\n",
      "81\n",
      "100\n"
     ]
    }
   ],
   "source": [
    "for x in gen:\n",
    "    print(x)"
   ]
  },
  {
   "cell_type": "markdown",
   "id": "a409d523",
   "metadata": {},
   "source": [
    "### 器述句（Generator Expression)的方便之處在於可以直接進行sum, dict, tuple等函式運算。"
   ]
  },
  {
   "cell_type": "code",
   "execution_count": 45,
   "id": "865b17bb",
   "metadata": {
    "scrolled": true
   },
   "outputs": [
    {
     "data": {
      "text/plain": [
       "385"
      ]
     },
     "execution_count": 45,
     "metadata": {},
     "output_type": "execute_result"
    }
   ],
   "source": [
    "sum(x**2 for x in range(11))"
   ]
  },
  {
   "cell_type": "code",
   "execution_count": 46,
   "id": "773f5964",
   "metadata": {},
   "outputs": [
    {
     "data": {
      "text/plain": [
       "{0: 0, 1: 1, 2: 4, 3: 9, 4: 16, 5: 25}"
      ]
     },
     "execution_count": 46,
     "metadata": {},
     "output_type": "execute_result"
    }
   ],
   "source": [
    "dict((i,i**2) for i in range(6))"
   ]
  },
  {
   "cell_type": "markdown",
   "id": "2ae148e5",
   "metadata": {},
   "source": [
    "### itertools Module 模組內的groupby(): 可以接受任一list, function當參數，依照函式回傳值將序列中連續元素進行分組。"
   ]
  },
  {
   "cell_type": "markdown",
   "id": "eeed0e6a",
   "metadata": {},
   "source": [
    "### groupby()運作方式： group_by(iterable, func_key)"
   ]
  },
  {
   "cell_type": "code",
   "execution_count": 47,
   "id": "fdab9afa",
   "metadata": {},
   "outputs": [],
   "source": [
    "import itertools"
   ]
  },
  {
   "cell_type": "markdown",
   "id": "0356bd61",
   "metadata": {},
   "source": [
    "### first_letter是一個function，裡面的值為元素的index=0。"
   ]
  },
  {
   "cell_type": "code",
   "execution_count": 48,
   "id": "9008271c",
   "metadata": {
    "scrolled": true
   },
   "outputs": [
    {
     "name": "stdout",
     "output_type": "stream",
     "text": [
      "A ['Adam', 'Alan']\n",
      "W ['Wes', 'Will']\n",
      "A ['Albert']\n",
      "S ['Steven']\n"
     ]
    }
   ],
   "source": [
    "first_letter=lambda x:x[0]\n",
    "\n",
    "names=['Adam','Alan','Wes','Will','Albert','Steven']\n",
    "\n",
    "for letter, names in itertools.groupby(names,first_letter):\n",
    "    print(letter, list(names))"
   ]
  },
  {
   "cell_type": "markdown",
   "id": "2b0d59e9",
   "metadata": {},
   "source": [
    "### 錯誤與例外處理: try, except"
   ]
  },
  {
   "cell_type": "code",
   "execution_count": 49,
   "id": "5c7befcc",
   "metadata": {},
   "outputs": [
    {
     "data": {
      "text/plain": [
       "2.5678"
      ]
     },
     "execution_count": 49,
     "metadata": {},
     "output_type": "execute_result"
    }
   ],
   "source": [
    "float('2.5678')"
   ]
  },
  {
   "cell_type": "code",
   "execution_count": 50,
   "id": "306b2dd6",
   "metadata": {},
   "outputs": [
    {
     "ename": "ValueError",
     "evalue": "could not convert string to float: 'a'",
     "output_type": "error",
     "traceback": [
      "\u001b[0;31m---------------------------------------------------------------------------\u001b[0m",
      "\u001b[0;31mValueError\u001b[0m                                Traceback (most recent call last)",
      "Input \u001b[0;32mIn [50]\u001b[0m, in \u001b[0;36m<cell line: 1>\u001b[0;34m()\u001b[0m\n\u001b[0;32m----> 1\u001b[0m \u001b[38;5;28;43mfloat\u001b[39;49m\u001b[43m(\u001b[49m\u001b[38;5;124;43m'\u001b[39;49m\u001b[38;5;124;43ma\u001b[39;49m\u001b[38;5;124;43m'\u001b[39;49m\u001b[43m)\u001b[49m\n",
      "\u001b[0;31mValueError\u001b[0m: could not convert string to float: 'a'"
     ]
    }
   ],
   "source": [
    "float('a')"
   ]
  },
  {
   "cell_type": "markdown",
   "id": "271a91c2",
   "metadata": {},
   "source": [
    "### 為了在ValueError的發生時，有對應的說明視窗出現，可以使用try, except。"
   ]
  },
  {
   "cell_type": "code",
   "execution_count": 51,
   "id": "986b13c1",
   "metadata": {},
   "outputs": [],
   "source": [
    "def attempt_float(x):\n",
    "    try:\n",
    "        return float(x)\n",
    "    except:\n",
    "        return x"
   ]
  },
  {
   "cell_type": "code",
   "execution_count": 52,
   "id": "16b7eb0e",
   "metadata": {},
   "outputs": [
    {
     "data": {
      "text/plain": [
       "'a'"
      ]
     },
     "execution_count": 52,
     "metadata": {},
     "output_type": "execute_result"
    }
   ],
   "source": [
    "attempt_float('a')"
   ]
  },
  {
   "cell_type": "markdown",
   "id": "e8a0da89",
   "metadata": {},
   "source": [
    "### 不過，除了ValueError，可能也會有TypeError，可以多捕捉不同型態的Error，給予對應的說明。"
   ]
  },
  {
   "cell_type": "code",
   "execution_count": 53,
   "id": "d14355ac",
   "metadata": {},
   "outputs": [],
   "source": [
    "def attempt_float(x):\n",
    "    try:\n",
    "        return float(x)\n",
    "    except (TypeError, ValueError):\n",
    "        return x"
   ]
  },
  {
   "cell_type": "code",
   "execution_count": 54,
   "id": "7a0b7f2b",
   "metadata": {},
   "outputs": [
    {
     "data": {
      "text/plain": [
       "(1, 2)"
      ]
     },
     "execution_count": 54,
     "metadata": {},
     "output_type": "execute_result"
    }
   ],
   "source": [
    "attempt_float((1,2))"
   ]
  },
  {
   "cell_type": "markdown",
   "id": "27974a01",
   "metadata": {},
   "source": [
    "### finally(): 如果try()執行失敗，就使用finally()"
   ]
  },
  {
   "cell_type": "markdown",
   "id": "105419ed",
   "metadata": {},
   "source": [
    "### else(): 只要try()執行成功，else()後面也會被執行。"
   ]
  }
 ],
 "metadata": {
  "kernelspec": {
   "display_name": "Python 3 (ipykernel)",
   "language": "python",
   "name": "python3"
  },
  "language_info": {
   "codemirror_mode": {
    "name": "ipython",
    "version": 3
   },
   "file_extension": ".py",
   "mimetype": "text/x-python",
   "name": "python",
   "nbconvert_exporter": "python",
   "pygments_lexer": "ipython3",
   "version": "3.9.12"
  }
 },
 "nbformat": 4,
 "nbformat_minor": 5
}
