{
 "cells": [
  {
   "cell_type": "markdown",
   "id": "cc2c60e7",
   "metadata": {},
   "source": [
    "# Chapter 6 資料載入、儲存和檔案格式"
   ]
  },
  {
   "cell_type": "markdown",
   "id": "86dfb45d",
   "metadata": {},
   "source": [
    "## Data Loading, Storage, and File Formats Part II"
   ]
  },
  {
   "cell_type": "markdown",
   "id": "346ae62a",
   "metadata": {},
   "source": [
    "### JSON資料 （Javascript Object Notation)"
   ]
  },
  {
   "cell_type": "markdown",
   "id": "3e7dfb94",
   "metadata": {},
   "source": [
    "### json.dumps(): 將python物件轉成json。 在python中，所有儲存成json的程式碼都是str。"
   ]
  },
  {
   "cell_type": "code",
   "execution_count": 1,
   "id": "1821f429",
   "metadata": {},
   "outputs": [],
   "source": [
    "import json\n",
    "import numpy as np\n",
    "import pandas as pd"
   ]
  },
  {
   "cell_type": "code",
   "execution_count": 2,
   "id": "40a59c71",
   "metadata": {},
   "outputs": [],
   "source": [
    "a_tuple=(1,2,3,4,5)\n",
    "b_list=['a','b','c','d','e']\n",
    "c_dict={'a':[True,False,True],'b':[True,True,True],'c':[False,False,False]}"
   ]
  },
  {
   "cell_type": "code",
   "execution_count": 3,
   "id": "69bdde79",
   "metadata": {},
   "outputs": [],
   "source": [
    "a_json_array=json.dumps(a_tuple)\n",
    "b_json_array=json.dumps(b_list)\n",
    "c_json_object=json.dumps(c_dict)"
   ]
  },
  {
   "cell_type": "code",
   "execution_count": 4,
   "id": "9329d40b",
   "metadata": {},
   "outputs": [
    {
     "name": "stdout",
     "output_type": "stream",
     "text": [
      "[1, 2, 3, 4, 5] <class 'str'>\n"
     ]
    }
   ],
   "source": [
    "print(a_json_array, type(a_json_array))"
   ]
  },
  {
   "cell_type": "code",
   "execution_count": 5,
   "id": "7e71b985",
   "metadata": {},
   "outputs": [
    {
     "name": "stdout",
     "output_type": "stream",
     "text": [
      "[\"a\", \"b\", \"c\", \"d\", \"e\"] <class 'str'>\n"
     ]
    }
   ],
   "source": [
    "print(b_json_array, type(b_json_array))"
   ]
  },
  {
   "cell_type": "code",
   "execution_count": 6,
   "id": "67946207",
   "metadata": {},
   "outputs": [
    {
     "name": "stdout",
     "output_type": "stream",
     "text": [
      "{\"a\": [true, false, true], \"b\": [true, true, true], \"c\": [false, false, false]} <class 'str'>\n"
     ]
    }
   ],
   "source": [
    "print(c_json_object, type(c_json_object))"
   ]
  },
  {
   "cell_type": "markdown",
   "id": "59f0b866",
   "metadata": {},
   "source": [
    "### json.loads(): 將json轉成python。"
   ]
  },
  {
   "cell_type": "code",
   "execution_count": 7,
   "id": "11f78ca3",
   "metadata": {},
   "outputs": [],
   "source": [
    "json_array='[10,20,30,40,50]'\n",
    "json_object='{\"a\":\"orange\",\"b\":\"blue\",\"c\": \"purple\"}'"
   ]
  },
  {
   "cell_type": "code",
   "execution_count": 8,
   "id": "293c31e5",
   "metadata": {},
   "outputs": [],
   "source": [
    "python_list=json.loads(json_array)\n",
    "python_dict=json.loads(json_object)"
   ]
  },
  {
   "cell_type": "code",
   "execution_count": 9,
   "id": "32c37ced",
   "metadata": {},
   "outputs": [
    {
     "name": "stdout",
     "output_type": "stream",
     "text": [
      "[10, 20, 30, 40, 50] <class 'list'>\n"
     ]
    }
   ],
   "source": [
    "print(python_list,type(python_list))"
   ]
  },
  {
   "cell_type": "code",
   "execution_count": 10,
   "id": "1367f463",
   "metadata": {},
   "outputs": [
    {
     "name": "stdout",
     "output_type": "stream",
     "text": [
      "{'a': 'orange', 'b': 'blue', 'c': 'purple'} <class 'dict'>\n"
     ]
    }
   ],
   "source": [
    "print(python_dict,type(python_dict))"
   ]
  },
  {
   "cell_type": "markdown",
   "id": "eadf7969",
   "metadata": {},
   "source": [
    "### 儲存json檔案"
   ]
  },
  {
   "cell_type": "markdown",
   "id": "98820b39",
   "metadata": {},
   "source": [
    "### with open(path,'w') as 變數"
   ]
  },
  {
   "cell_type": "code",
   "execution_count": 11,
   "id": "4e2190c4",
   "metadata": {},
   "outputs": [],
   "source": [
    "a_python_dict={'age':[30,40,50],'name':['Alice','Bruce','Charlie'], 'gender':['Female','Male','Male']}"
   ]
  },
  {
   "cell_type": "code",
   "execution_count": 12,
   "id": "824f40b5",
   "metadata": {},
   "outputs": [],
   "source": [
    "path='examples/test1.json'"
   ]
  },
  {
   "cell_type": "code",
   "execution_count": 13,
   "id": "976556b7",
   "metadata": {},
   "outputs": [
    {
     "name": "stdout",
     "output_type": "stream",
     "text": [
      "儲存成功\n"
     ]
    }
   ],
   "source": [
    "with open(path,'w') as json_obj:\n",
    "    json.dump(a_python_dict, json_obj)\n",
    "print('儲存成功')"
   ]
  },
  {
   "cell_type": "markdown",
   "id": "b28e596d",
   "metadata": {},
   "source": [
    "### 如果要儲存中文名稱的json檔案，需要輸入encoding='utf-8', ensure_ascii=False"
   ]
  },
  {
   "cell_type": "code",
   "execution_count": 14,
   "id": "15dff1a3",
   "metadata": {},
   "outputs": [],
   "source": [
    "c_python_dict={'年紀':['50歲','40歲','30歲'], '姓名':\n",
    "              ['大寶','二寶','小寶'], '性別':['男','女','男']}"
   ]
  },
  {
   "cell_type": "code",
   "execution_count": 15,
   "id": "a9d0b7e6",
   "metadata": {},
   "outputs": [],
   "source": [
    "path='examples/test2.json'"
   ]
  },
  {
   "cell_type": "code",
   "execution_count": 16,
   "id": "9df944dd",
   "metadata": {},
   "outputs": [
    {
     "name": "stdout",
     "output_type": "stream",
     "text": [
      "儲存成功\n"
     ]
    }
   ],
   "source": [
    "with open(path,'w', encoding='utf-8') as json_obj2:\n",
    "    json.dump(c_python_dict, json_obj2, ensure_ascii=False)\n",
    "print('儲存成功')"
   ]
  },
  {
   "cell_type": "markdown",
   "id": "925f2217",
   "metadata": {},
   "source": [
    "### 讀取json的資料"
   ]
  },
  {
   "cell_type": "markdown",
   "id": "42c236b6",
   "metadata": {},
   "source": [
    "### !cat ___資料位置＿＿＿ 即可直接讀取json檔案"
   ]
  },
  {
   "cell_type": "code",
   "execution_count": 17,
   "id": "2352d9db",
   "metadata": {},
   "outputs": [
    {
     "name": "stdout",
     "output_type": "stream",
     "text": [
      "{\"age\": [30, 40, 50], \"name\": [\"Alice\", \"Bruce\", \"Charlie\"], \"gender\": [\"Female\", \"Male\", \"Male\"]}"
     ]
    }
   ],
   "source": [
    "!cat examples/test1.json"
   ]
  },
  {
   "cell_type": "code",
   "execution_count": 18,
   "id": "9bff65f4",
   "metadata": {},
   "outputs": [
    {
     "name": "stdout",
     "output_type": "stream",
     "text": [
      "{\"年紀\": [\"50歲\", \"40歲\", \"30歲\"], \"姓名\": [\"大寶\", \"二寶\", \"小寶\"], \"性別\": [\"男\", \"女\", \"男\"]}"
     ]
    }
   ],
   "source": [
    "!cat examples/test2.json"
   ]
  },
  {
   "cell_type": "markdown",
   "id": "f730a197",
   "metadata": {},
   "source": [
    "### pd.read_json('資料位置')：可以將資料轉換為一個表格。"
   ]
  },
  {
   "cell_type": "code",
   "execution_count": 19,
   "id": "7d80c25e",
   "metadata": {},
   "outputs": [],
   "source": [
    "data=pd.read_json('examples/test1.json')"
   ]
  },
  {
   "cell_type": "code",
   "execution_count": 20,
   "id": "efb1c250",
   "metadata": {},
   "outputs": [
    {
     "data": {
      "text/html": [
       "<div>\n",
       "<style scoped>\n",
       "    .dataframe tbody tr th:only-of-type {\n",
       "        vertical-align: middle;\n",
       "    }\n",
       "\n",
       "    .dataframe tbody tr th {\n",
       "        vertical-align: top;\n",
       "    }\n",
       "\n",
       "    .dataframe thead th {\n",
       "        text-align: right;\n",
       "    }\n",
       "</style>\n",
       "<table border=\"1\" class=\"dataframe\">\n",
       "  <thead>\n",
       "    <tr style=\"text-align: right;\">\n",
       "      <th></th>\n",
       "      <th>age</th>\n",
       "      <th>name</th>\n",
       "      <th>gender</th>\n",
       "    </tr>\n",
       "  </thead>\n",
       "  <tbody>\n",
       "    <tr>\n",
       "      <th>0</th>\n",
       "      <td>30</td>\n",
       "      <td>Alice</td>\n",
       "      <td>Female</td>\n",
       "    </tr>\n",
       "    <tr>\n",
       "      <th>1</th>\n",
       "      <td>40</td>\n",
       "      <td>Bruce</td>\n",
       "      <td>Male</td>\n",
       "    </tr>\n",
       "    <tr>\n",
       "      <th>2</th>\n",
       "      <td>50</td>\n",
       "      <td>Charlie</td>\n",
       "      <td>Male</td>\n",
       "    </tr>\n",
       "  </tbody>\n",
       "</table>\n",
       "</div>"
      ],
      "text/plain": [
       "   age     name  gender\n",
       "0   30    Alice  Female\n",
       "1   40    Bruce    Male\n",
       "2   50  Charlie    Male"
      ]
     },
     "execution_count": 20,
     "metadata": {},
     "output_type": "execute_result"
    }
   ],
   "source": [
    "data"
   ]
  },
  {
   "cell_type": "markdown",
   "id": "8f71e588",
   "metadata": {},
   "source": [
    "### to_json：可將pandas的資料匯出成json格式。 orient='records'->列位輸出。"
   ]
  },
  {
   "cell_type": "code",
   "execution_count": 21,
   "id": "71cf7405",
   "metadata": {
    "scrolled": true
   },
   "outputs": [
    {
     "name": "stdout",
     "output_type": "stream",
     "text": [
      "{\"age\":{\"0\":30,\"1\":40,\"2\":50},\"name\":{\"0\":\"Alice\",\"1\":\"Bruce\",\"2\":\"Charlie\"},\"gender\":{\"0\":\"Female\",\"1\":\"Male\",\"2\":\"Male\"}}\n"
     ]
    }
   ],
   "source": [
    "print(data.to_json())"
   ]
  },
  {
   "cell_type": "code",
   "execution_count": 22,
   "id": "5c307870",
   "metadata": {},
   "outputs": [
    {
     "name": "stdout",
     "output_type": "stream",
     "text": [
      "[{\"age\":30,\"name\":\"Alice\",\"gender\":\"Female\"},{\"age\":40,\"name\":\"Bruce\",\"gender\":\"Male\"},{\"age\":50,\"name\":\"Charlie\",\"gender\":\"Male\"}]\n"
     ]
    }
   ],
   "source": [
    "print(data.to_json(orient='records'))"
   ]
  },
  {
   "cell_type": "markdown",
   "id": "30141c43",
   "metadata": {},
   "source": [
    "### with open(path) as 變數： 可以直接開啟json檔案"
   ]
  },
  {
   "cell_type": "code",
   "execution_count": 23,
   "id": "610a3ad4",
   "metadata": {},
   "outputs": [],
   "source": [
    "path='examples/test1.json'"
   ]
  },
  {
   "cell_type": "code",
   "execution_count": 24,
   "id": "54784da7",
   "metadata": {},
   "outputs": [],
   "source": [
    "with open(path) as json_obj:\n",
    "    data=json.load(json_obj)"
   ]
  },
  {
   "cell_type": "code",
   "execution_count": 25,
   "id": "624239c2",
   "metadata": {},
   "outputs": [
    {
     "name": "stdout",
     "output_type": "stream",
     "text": [
      "{'age': [30, 40, 50], 'name': ['Alice', 'Bruce', 'Charlie'], 'gender': ['Female', 'Male', 'Male']}\n"
     ]
    }
   ],
   "source": [
    "print(data)"
   ]
  },
  {
   "cell_type": "code",
   "execution_count": 26,
   "id": "2ab10ac1",
   "metadata": {},
   "outputs": [
    {
     "name": "stdout",
     "output_type": "stream",
     "text": [
      "<class 'dict'>\n"
     ]
    }
   ],
   "source": [
    "print(type(data))"
   ]
  },
  {
   "cell_type": "markdown",
   "id": "67b579a9",
   "metadata": {},
   "source": [
    "### XML和HTML: 從網站抓資料"
   ]
  },
  {
   "cell_type": "markdown",
   "id": "ae1dc8f0",
   "metadata": {},
   "source": [
    "### 範例的網站：https://www.fdic.gov/resources/resolutions/bank-failures/failed-bank-list/"
   ]
  },
  {
   "cell_type": "markdown",
   "id": "63a329e8",
   "metadata": {},
   "source": [
    "### pd.read_html('網址')：嘗試讀取網站的資料，出來的結果會是list。"
   ]
  },
  {
   "cell_type": "code",
   "execution_count": 27,
   "id": "5d196206",
   "metadata": {},
   "outputs": [],
   "source": [
    "tables=pd.read_html('https://www.fdic.gov/resources/resolutions/bank-failures/failed-bank-list/')"
   ]
  },
  {
   "cell_type": "code",
   "execution_count": 28,
   "id": "3f4b31bc",
   "metadata": {},
   "outputs": [
    {
     "data": {
      "text/plain": [
       "1"
      ]
     },
     "execution_count": 28,
     "metadata": {},
     "output_type": "execute_result"
    }
   ],
   "source": [
    "len(tables)"
   ]
  },
  {
   "cell_type": "code",
   "execution_count": 29,
   "id": "65dc0aff",
   "metadata": {},
   "outputs": [],
   "source": [
    "failures=tables[0]"
   ]
  },
  {
   "cell_type": "code",
   "execution_count": 30,
   "id": "e20a4645",
   "metadata": {},
   "outputs": [
    {
     "data": {
      "text/html": [
       "<div>\n",
       "<style scoped>\n",
       "    .dataframe tbody tr th:only-of-type {\n",
       "        vertical-align: middle;\n",
       "    }\n",
       "\n",
       "    .dataframe tbody tr th {\n",
       "        vertical-align: top;\n",
       "    }\n",
       "\n",
       "    .dataframe thead th {\n",
       "        text-align: right;\n",
       "    }\n",
       "</style>\n",
       "<table border=\"1\" class=\"dataframe\">\n",
       "  <thead>\n",
       "    <tr style=\"text-align: right;\">\n",
       "      <th></th>\n",
       "      <th>Bank NameBank</th>\n",
       "      <th>CityCity</th>\n",
       "      <th>StateSt</th>\n",
       "      <th>CertCert</th>\n",
       "      <th>Acquiring InstitutionAI</th>\n",
       "      <th>Closing DateClosing</th>\n",
       "      <th>FundFund</th>\n",
       "    </tr>\n",
       "  </thead>\n",
       "  <tbody>\n",
       "    <tr>\n",
       "      <th>0</th>\n",
       "      <td>Almena State Bank</td>\n",
       "      <td>Almena</td>\n",
       "      <td>KS</td>\n",
       "      <td>15426</td>\n",
       "      <td>Equity Bank</td>\n",
       "      <td>October 23, 2020</td>\n",
       "      <td>10538</td>\n",
       "    </tr>\n",
       "    <tr>\n",
       "      <th>1</th>\n",
       "      <td>First City Bank of Florida</td>\n",
       "      <td>Fort Walton Beach</td>\n",
       "      <td>FL</td>\n",
       "      <td>16748</td>\n",
       "      <td>United Fidelity Bank, fsb</td>\n",
       "      <td>October 16, 2020</td>\n",
       "      <td>10537</td>\n",
       "    </tr>\n",
       "    <tr>\n",
       "      <th>2</th>\n",
       "      <td>The First State Bank</td>\n",
       "      <td>Barboursville</td>\n",
       "      <td>WV</td>\n",
       "      <td>14361</td>\n",
       "      <td>MVB Bank, Inc.</td>\n",
       "      <td>April 3, 2020</td>\n",
       "      <td>10536</td>\n",
       "    </tr>\n",
       "    <tr>\n",
       "      <th>3</th>\n",
       "      <td>Ericson State Bank</td>\n",
       "      <td>Ericson</td>\n",
       "      <td>NE</td>\n",
       "      <td>18265</td>\n",
       "      <td>Farmers and Merchants Bank</td>\n",
       "      <td>February 14, 2020</td>\n",
       "      <td>10535</td>\n",
       "    </tr>\n",
       "    <tr>\n",
       "      <th>4</th>\n",
       "      <td>City National Bank of New Jersey</td>\n",
       "      <td>Newark</td>\n",
       "      <td>NJ</td>\n",
       "      <td>21111</td>\n",
       "      <td>Industrial Bank</td>\n",
       "      <td>November 1, 2019</td>\n",
       "      <td>10534</td>\n",
       "    </tr>\n",
       "  </tbody>\n",
       "</table>\n",
       "</div>"
      ],
      "text/plain": [
       "                      Bank NameBank           CityCity StateSt  CertCert  \\\n",
       "0                 Almena State Bank             Almena      KS     15426   \n",
       "1        First City Bank of Florida  Fort Walton Beach      FL     16748   \n",
       "2              The First State Bank      Barboursville      WV     14361   \n",
       "3                Ericson State Bank            Ericson      NE     18265   \n",
       "4  City National Bank of New Jersey             Newark      NJ     21111   \n",
       "\n",
       "      Acquiring InstitutionAI Closing DateClosing  FundFund  \n",
       "0                 Equity Bank    October 23, 2020     10538  \n",
       "1   United Fidelity Bank, fsb    October 16, 2020     10537  \n",
       "2              MVB Bank, Inc.       April 3, 2020     10536  \n",
       "3  Farmers and Merchants Bank   February 14, 2020     10535  \n",
       "4             Industrial Bank    November 1, 2019     10534  "
      ]
     },
     "execution_count": 30,
     "metadata": {},
     "output_type": "execute_result"
    }
   ],
   "source": [
    "failures.head()"
   ]
  },
  {
   "cell_type": "markdown",
   "id": "033217e9",
   "metadata": {},
   "source": [
    "### 計算每年的銀行出錯次數close_timestamps"
   ]
  },
  {
   "cell_type": "code",
   "execution_count": 31,
   "id": "eab2d595",
   "metadata": {},
   "outputs": [],
   "source": [
    "close_timestamps=pd.to_datetime(failures['Closing DateClosing'])"
   ]
  },
  {
   "cell_type": "code",
   "execution_count": 32,
   "id": "fd618445",
   "metadata": {},
   "outputs": [
    {
     "data": {
      "text/plain": [
       "2010    157\n",
       "2009    140\n",
       "2011     92\n",
       "2012     51\n",
       "2008     25\n",
       "2013     24\n",
       "2014     18\n",
       "2002     11\n",
       "2017      8\n",
       "2015      8\n",
       "2016      5\n",
       "2004      4\n",
       "2001      4\n",
       "2020      4\n",
       "2019      4\n",
       "2003      3\n",
       "2007      3\n",
       "2000      2\n",
       "Name: Closing DateClosing, dtype: int64"
      ]
     },
     "execution_count": 32,
     "metadata": {},
     "output_type": "execute_result"
    }
   ],
   "source": [
    "close_timestamps.dt.year.value_counts()"
   ]
  },
  {
   "cell_type": "markdown",
   "id": "603c787c",
   "metadata": {},
   "source": [
    "### XML(eXtensible Markup Language): 常用來支援階層式、巢式以及帶metadata的資料結構。"
   ]
  },
  {
   "cell_type": "code",
   "execution_count": 33,
   "id": "c6ad6081",
   "metadata": {},
   "outputs": [],
   "source": [
    "from lxml import objectify"
   ]
  },
  {
   "cell_type": "code",
   "execution_count": 34,
   "id": "c11e2d6b",
   "metadata": {},
   "outputs": [],
   "source": [
    "path = \"examples/PurchaseOrder.xml\"\n",
    "with open(path) as f:\n",
    "    parsed = objectify.parse(f)\n",
    "root = parsed.getroot()"
   ]
  },
  {
   "cell_type": "code",
   "execution_count": 35,
   "id": "e0e613b4",
   "metadata": {},
   "outputs": [],
   "source": [
    "data=[]"
   ]
  },
  {
   "cell_type": "markdown",
   "id": "73426fb7",
   "metadata": {},
   "source": [
    "### 讀取html的標籤"
   ]
  },
  {
   "cell_type": "code",
   "execution_count": 36,
   "id": "891a0f3c",
   "metadata": {},
   "outputs": [],
   "source": [
    "from io import StringIO"
   ]
  },
  {
   "cell_type": "code",
   "execution_count": 37,
   "id": "dda9bbf1",
   "metadata": {},
   "outputs": [],
   "source": [
    "tag='<a href=\"http://www.google.com\">Google</a>'"
   ]
  },
  {
   "cell_type": "code",
   "execution_count": 38,
   "id": "2c35689b",
   "metadata": {},
   "outputs": [],
   "source": [
    "root=objectify.parse(StringIO(tag)).getroot()"
   ]
  },
  {
   "cell_type": "code",
   "execution_count": 39,
   "id": "a0cebbec",
   "metadata": {},
   "outputs": [
    {
     "data": {
      "text/plain": [
       "<Element a at 0x7ff7ea915200>"
      ]
     },
     "execution_count": 39,
     "metadata": {},
     "output_type": "execute_result"
    }
   ],
   "source": [
    "root"
   ]
  },
  {
   "cell_type": "code",
   "execution_count": 40,
   "id": "53d55286",
   "metadata": {},
   "outputs": [
    {
     "data": {
      "text/plain": [
       "'http://www.google.com'"
      ]
     },
     "execution_count": 40,
     "metadata": {},
     "output_type": "execute_result"
    }
   ],
   "source": [
    "root.get('href')"
   ]
  },
  {
   "cell_type": "code",
   "execution_count": 41,
   "id": "31980f95",
   "metadata": {},
   "outputs": [
    {
     "data": {
      "text/plain": [
       "'Google'"
      ]
     },
     "execution_count": 41,
     "metadata": {},
     "output_type": "execute_result"
    }
   ],
   "source": [
    "root.text"
   ]
  },
  {
   "cell_type": "code",
   "execution_count": 42,
   "id": "c66e1be5",
   "metadata": {},
   "outputs": [
    {
     "name": "stdout",
     "output_type": "stream",
     "text": [
      "Requirement already satisfied: xmltodict in /Users/mercy/opt/anaconda3/lib/python3.9/site-packages (0.13.0)\n",
      "Note: you may need to restart the kernel to use updated packages.\n"
     ]
    }
   ],
   "source": [
    "pip install xmltodict"
   ]
  },
  {
   "cell_type": "markdown",
   "id": "b56b94e2",
   "metadata": {},
   "source": [
    "### xmltodict: 可以用來將xml的資料轉成python檔案。"
   ]
  },
  {
   "cell_type": "code",
   "execution_count": 43,
   "id": "18fdc7e0",
   "metadata": {},
   "outputs": [],
   "source": [
    "import requests"
   ]
  },
  {
   "cell_type": "code",
   "execution_count": 44,
   "id": "e3da0c60",
   "metadata": {},
   "outputs": [],
   "source": [
    "import xmltodict"
   ]
  },
  {
   "cell_type": "code",
   "execution_count": 45,
   "id": "9792b4ec",
   "metadata": {},
   "outputs": [],
   "source": [
    "url=\"https://ibus.tbkc.gov.tw/xmlbus/GetEstimateTime.xml?routeIds=1421\""
   ]
  },
  {
   "cell_type": "code",
   "execution_count": 46,
   "id": "2e3fd8b5",
   "metadata": {},
   "outputs": [],
   "source": [
    "html=requests.get(url).text"
   ]
  },
  {
   "cell_type": "code",
   "execution_count": 47,
   "id": "b9194cdf",
   "metadata": {},
   "outputs": [],
   "source": [
    "data=xmltodict.parse(html)"
   ]
  },
  {
   "cell_type": "code",
   "execution_count": 48,
   "id": "5c7f499c",
   "metadata": {},
   "outputs": [
    {
     "name": "stdout",
     "output_type": "stream",
     "text": [
      "金獅湖站 21:00\n",
      "金鼎路口 21:00\n",
      "金山路口 21:00\n",
      "鼎西里 21:01\n",
      "鼎金國小 21:02\n",
      "鼎金國中 21:03\n",
      "和順街口 21:05\n",
      "大順民族路口 21:06\n",
      "慈濟靜思堂(龍華國中) 21:08\n",
      "大順一路(好市多) 21:09\n",
      "捷運凹子底站(大順一路) 21:11\n",
      "龍華國小 21:12\n",
      "龍德路口(大順一路) 21:12\n",
      "裕誠路口(大順一路) 21:13\n",
      "龍子里 21:14\n",
      "變電所(中華二路) 21:15\n",
      "九如三路口 21:16\n",
      "臺鐵三塊厝站(中華路) 21:18\n",
      "三民市場 21:18\n",
      "七賢二路口(中華三路) 21:19\n",
      "六合二路口 21:21\n",
      "捷運市議會站 21:23\n",
      "台灣銀行(健保署) 21:24\n",
      "歷史博物館(高雄國際會議中心) 21:25\n",
      "捷運鹽埕埔站(大仁路) 21:27\n",
      "捷運鹽埕埔站(大仁路) 21:30\n",
      "大智路(光榮國小) 21:30\n",
      "大智路口(五福四路) 21:32\n",
      "大成街口(輕軌真愛碼頭站) 21:33\n",
      "高雄女中(真愛碼頭) 21:34\n",
      "漢神百貨 21:36\n",
      "苓雅市場 21:37\n",
      "自強三路口(四維四路) 21:39\n",
      "中華四路口 21:40\n",
      "苓雅國中 21:42\n",
      "忠孝路口(四維三路) 21:43\n",
      "市政大樓(四維三路) 21:44\n",
      "復華中學 21:45\n",
      "光華路口(四維二路) 21:46\n",
      "廣東一街口 21:47\n",
      "長青服務中心 21:48\n",
      "輕軌衛生局站(凱旋醫院) 21:50\n",
      "四維一路 21:51\n",
      "福安路口 21:52\n",
      "捷運五塊厝站(福德三路) 21:53\n",
      "建國一路口 21:56\n",
      "福德市場 21:58\n",
      "憲政路口 21:59\n",
      "臺鐵科工館站 22:00\n",
      "大順覺民路口(科工館) 22:01\n",
      "樹德家商 22:02\n",
      "正興國小 22:03\n",
      "建工路口(高雄高工) 22:05\n",
      "大順二路 22:06\n",
      "鼎山街口 22:06\n",
      "鼎金國中 22:08\n",
      "鼎金國小 22:09\n",
      "鼎西里 22:10\n",
      "金山路口 22:12\n",
      "金鼎路口 22:12\n",
      "金獅湖站 22:13\n"
     ]
    }
   ],
   "source": [
    "stops=data[\"BusDynInfo\"][\"BusInfo\"][\"Route\"][\"EstimateTime\"]\n",
    "for stop in stops:\n",
    "    print(stop[\"@StopName\"], stop[\"@comeTime\"])"
   ]
  },
  {
   "cell_type": "markdown",
   "id": "7ebff420",
   "metadata": {},
   "source": [
    "### 二進位資料格式"
   ]
  },
  {
   "cell_type": "markdown",
   "id": "6c0452fb",
   "metadata": {},
   "source": [
    "### pickle: 儲存二進位資料格式，也稱為序列化。(serialization)"
   ]
  },
  {
   "cell_type": "code",
   "execution_count": 49,
   "id": "ffac2578",
   "metadata": {},
   "outputs": [],
   "source": [
    "import pandas as pd\n",
    "import numpy as np"
   ]
  },
  {
   "cell_type": "code",
   "execution_count": 50,
   "id": "579aa089",
   "metadata": {},
   "outputs": [],
   "source": [
    "frame=pd.read_csv('examples/example_1.csv')"
   ]
  },
  {
   "cell_type": "code",
   "execution_count": 51,
   "id": "29b3898d",
   "metadata": {},
   "outputs": [
    {
     "data": {
      "text/html": [
       "<div>\n",
       "<style scoped>\n",
       "    .dataframe tbody tr th:only-of-type {\n",
       "        vertical-align: middle;\n",
       "    }\n",
       "\n",
       "    .dataframe tbody tr th {\n",
       "        vertical-align: top;\n",
       "    }\n",
       "\n",
       "    .dataframe thead th {\n",
       "        text-align: right;\n",
       "    }\n",
       "</style>\n",
       "<table border=\"1\" class=\"dataframe\">\n",
       "  <thead>\n",
       "    <tr style=\"text-align: right;\">\n",
       "      <th></th>\n",
       "      <th>key1</th>\n",
       "      <th>key2</th>\n",
       "      <th>value1</th>\n",
       "      <th>value2</th>\n",
       "    </tr>\n",
       "  </thead>\n",
       "  <tbody>\n",
       "    <tr>\n",
       "      <th>0</th>\n",
       "      <td>one</td>\n",
       "      <td>a</td>\n",
       "      <td>1</td>\n",
       "      <td>2</td>\n",
       "    </tr>\n",
       "    <tr>\n",
       "      <th>1</th>\n",
       "      <td>one</td>\n",
       "      <td>b</td>\n",
       "      <td>3</td>\n",
       "      <td>4</td>\n",
       "    </tr>\n",
       "    <tr>\n",
       "      <th>2</th>\n",
       "      <td>one</td>\n",
       "      <td>c</td>\n",
       "      <td>5</td>\n",
       "      <td>6</td>\n",
       "    </tr>\n",
       "    <tr>\n",
       "      <th>3</th>\n",
       "      <td>one</td>\n",
       "      <td>d</td>\n",
       "      <td>7</td>\n",
       "      <td>8</td>\n",
       "    </tr>\n",
       "    <tr>\n",
       "      <th>4</th>\n",
       "      <td>two</td>\n",
       "      <td>a</td>\n",
       "      <td>9</td>\n",
       "      <td>10</td>\n",
       "    </tr>\n",
       "    <tr>\n",
       "      <th>5</th>\n",
       "      <td>two</td>\n",
       "      <td>b</td>\n",
       "      <td>11</td>\n",
       "      <td>12</td>\n",
       "    </tr>\n",
       "    <tr>\n",
       "      <th>6</th>\n",
       "      <td>two</td>\n",
       "      <td>c</td>\n",
       "      <td>13</td>\n",
       "      <td>14</td>\n",
       "    </tr>\n",
       "    <tr>\n",
       "      <th>7</th>\n",
       "      <td>two</td>\n",
       "      <td>d</td>\n",
       "      <td>15</td>\n",
       "      <td>16</td>\n",
       "    </tr>\n",
       "  </tbody>\n",
       "</table>\n",
       "</div>"
      ],
      "text/plain": [
       "  key1 key2  value1  value2\n",
       "0  one    a       1       2\n",
       "1  one    b       3       4\n",
       "2  one    c       5       6\n",
       "3  one    d       7       8\n",
       "4  two    a       9      10\n",
       "5  two    b      11      12\n",
       "6  two    c      13      14\n",
       "7  two    d      15      16"
      ]
     },
     "execution_count": 51,
     "metadata": {},
     "output_type": "execute_result"
    }
   ],
   "source": [
    "frame"
   ]
  },
  {
   "cell_type": "code",
   "execution_count": 52,
   "id": "a5536ac9",
   "metadata": {},
   "outputs": [],
   "source": [
    "frame.to_pickle('examples/frame_pickle')"
   ]
  },
  {
   "cell_type": "code",
   "execution_count": 53,
   "id": "9aa0f72e",
   "metadata": {},
   "outputs": [
    {
     "data": {
      "text/html": [
       "<div>\n",
       "<style scoped>\n",
       "    .dataframe tbody tr th:only-of-type {\n",
       "        vertical-align: middle;\n",
       "    }\n",
       "\n",
       "    .dataframe tbody tr th {\n",
       "        vertical-align: top;\n",
       "    }\n",
       "\n",
       "    .dataframe thead th {\n",
       "        text-align: right;\n",
       "    }\n",
       "</style>\n",
       "<table border=\"1\" class=\"dataframe\">\n",
       "  <thead>\n",
       "    <tr style=\"text-align: right;\">\n",
       "      <th></th>\n",
       "      <th>key1</th>\n",
       "      <th>key2</th>\n",
       "      <th>value1</th>\n",
       "      <th>value2</th>\n",
       "    </tr>\n",
       "  </thead>\n",
       "  <tbody>\n",
       "    <tr>\n",
       "      <th>0</th>\n",
       "      <td>one</td>\n",
       "      <td>a</td>\n",
       "      <td>1</td>\n",
       "      <td>2</td>\n",
       "    </tr>\n",
       "    <tr>\n",
       "      <th>1</th>\n",
       "      <td>one</td>\n",
       "      <td>b</td>\n",
       "      <td>3</td>\n",
       "      <td>4</td>\n",
       "    </tr>\n",
       "    <tr>\n",
       "      <th>2</th>\n",
       "      <td>one</td>\n",
       "      <td>c</td>\n",
       "      <td>5</td>\n",
       "      <td>6</td>\n",
       "    </tr>\n",
       "    <tr>\n",
       "      <th>3</th>\n",
       "      <td>one</td>\n",
       "      <td>d</td>\n",
       "      <td>7</td>\n",
       "      <td>8</td>\n",
       "    </tr>\n",
       "    <tr>\n",
       "      <th>4</th>\n",
       "      <td>two</td>\n",
       "      <td>a</td>\n",
       "      <td>9</td>\n",
       "      <td>10</td>\n",
       "    </tr>\n",
       "    <tr>\n",
       "      <th>5</th>\n",
       "      <td>two</td>\n",
       "      <td>b</td>\n",
       "      <td>11</td>\n",
       "      <td>12</td>\n",
       "    </tr>\n",
       "    <tr>\n",
       "      <th>6</th>\n",
       "      <td>two</td>\n",
       "      <td>c</td>\n",
       "      <td>13</td>\n",
       "      <td>14</td>\n",
       "    </tr>\n",
       "    <tr>\n",
       "      <th>7</th>\n",
       "      <td>two</td>\n",
       "      <td>d</td>\n",
       "      <td>15</td>\n",
       "      <td>16</td>\n",
       "    </tr>\n",
       "  </tbody>\n",
       "</table>\n",
       "</div>"
      ],
      "text/plain": [
       "  key1 key2  value1  value2\n",
       "0  one    a       1       2\n",
       "1  one    b       3       4\n",
       "2  one    c       5       6\n",
       "3  one    d       7       8\n",
       "4  two    a       9      10\n",
       "5  two    b      11      12\n",
       "6  two    c      13      14\n",
       "7  two    d      15      16"
      ]
     },
     "execution_count": 53,
     "metadata": {},
     "output_type": "execute_result"
    }
   ],
   "source": [
    "pd.read_pickle('examples/frame_pickle')"
   ]
  },
  {
   "cell_type": "markdown",
   "id": "12183ed2",
   "metadata": {},
   "source": [
    "### HDF5格式：階層式資料格式（hierarchical data format)，可以有效率儲存資料，可用來處理大體積的資料集。"
   ]
  },
  {
   "cell_type": "code",
   "execution_count": 54,
   "id": "43d6150e",
   "metadata": {},
   "outputs": [],
   "source": [
    "frame=pd.DataFrame({'a':np.random.randn(100)})"
   ]
  },
  {
   "cell_type": "code",
   "execution_count": 55,
   "id": "c0433919",
   "metadata": {},
   "outputs": [],
   "source": [
    "store=pd.HDFStore('mydata.h5') #設定一個hdf文件(mydata.h5)"
   ]
  },
  {
   "cell_type": "code",
   "execution_count": 56,
   "id": "373f8c99",
   "metadata": {},
   "outputs": [],
   "source": [
    "store['obj1']=frame #將obj1儲存入hdf文件。"
   ]
  },
  {
   "cell_type": "code",
   "execution_count": 57,
   "id": "30304764",
   "metadata": {},
   "outputs": [],
   "source": [
    "store['obj1_col']=frame['a'] #將obj1_col儲存入hdf文件。"
   ]
  },
  {
   "cell_type": "code",
   "execution_count": 58,
   "id": "f44e4c10",
   "metadata": {},
   "outputs": [
    {
     "data": {
      "text/plain": [
       "<class 'pandas.io.pytables.HDFStore'>\n",
       "File path: mydata.h5"
      ]
     },
     "execution_count": 58,
     "metadata": {},
     "output_type": "execute_result"
    }
   ],
   "source": [
    "store"
   ]
  },
  {
   "cell_type": "code",
   "execution_count": 59,
   "id": "6cd18b8d",
   "metadata": {
    "scrolled": true
   },
   "outputs": [
    {
     "data": {
      "text/html": [
       "<div>\n",
       "<style scoped>\n",
       "    .dataframe tbody tr th:only-of-type {\n",
       "        vertical-align: middle;\n",
       "    }\n",
       "\n",
       "    .dataframe tbody tr th {\n",
       "        vertical-align: top;\n",
       "    }\n",
       "\n",
       "    .dataframe thead th {\n",
       "        text-align: right;\n",
       "    }\n",
       "</style>\n",
       "<table border=\"1\" class=\"dataframe\">\n",
       "  <thead>\n",
       "    <tr style=\"text-align: right;\">\n",
       "      <th></th>\n",
       "      <th>a</th>\n",
       "    </tr>\n",
       "  </thead>\n",
       "  <tbody>\n",
       "    <tr>\n",
       "      <th>0</th>\n",
       "      <td>-1.271092</td>\n",
       "    </tr>\n",
       "    <tr>\n",
       "      <th>1</th>\n",
       "      <td>-0.842996</td>\n",
       "    </tr>\n",
       "    <tr>\n",
       "      <th>2</th>\n",
       "      <td>1.041408</td>\n",
       "    </tr>\n",
       "    <tr>\n",
       "      <th>3</th>\n",
       "      <td>-1.249366</td>\n",
       "    </tr>\n",
       "    <tr>\n",
       "      <th>4</th>\n",
       "      <td>0.025766</td>\n",
       "    </tr>\n",
       "    <tr>\n",
       "      <th>...</th>\n",
       "      <td>...</td>\n",
       "    </tr>\n",
       "    <tr>\n",
       "      <th>95</th>\n",
       "      <td>-0.918638</td>\n",
       "    </tr>\n",
       "    <tr>\n",
       "      <th>96</th>\n",
       "      <td>-0.962154</td>\n",
       "    </tr>\n",
       "    <tr>\n",
       "      <th>97</th>\n",
       "      <td>0.345420</td>\n",
       "    </tr>\n",
       "    <tr>\n",
       "      <th>98</th>\n",
       "      <td>0.794217</td>\n",
       "    </tr>\n",
       "    <tr>\n",
       "      <th>99</th>\n",
       "      <td>-0.527838</td>\n",
       "    </tr>\n",
       "  </tbody>\n",
       "</table>\n",
       "<p>100 rows × 1 columns</p>\n",
       "</div>"
      ],
      "text/plain": [
       "           a\n",
       "0  -1.271092\n",
       "1  -0.842996\n",
       "2   1.041408\n",
       "3  -1.249366\n",
       "4   0.025766\n",
       "..       ...\n",
       "95 -0.918638\n",
       "96 -0.962154\n",
       "97  0.345420\n",
       "98  0.794217\n",
       "99 -0.527838\n",
       "\n",
       "[100 rows x 1 columns]"
      ]
     },
     "execution_count": 59,
     "metadata": {},
     "output_type": "execute_result"
    }
   ],
   "source": [
    "store['obj1']"
   ]
  },
  {
   "cell_type": "code",
   "execution_count": 60,
   "id": "02183565",
   "metadata": {},
   "outputs": [
    {
     "data": {
      "text/plain": [
       "0    -1.271092\n",
       "1    -0.842996\n",
       "2     1.041408\n",
       "3    -1.249366\n",
       "4     0.025766\n",
       "        ...   \n",
       "95   -0.918638\n",
       "96   -0.962154\n",
       "97    0.345420\n",
       "98    0.794217\n",
       "99   -0.527838\n",
       "Name: a, Length: 100, dtype: float64"
      ]
     },
     "execution_count": 60,
     "metadata": {},
     "output_type": "execute_result"
    }
   ],
   "source": [
    "store['obj1_col']"
   ]
  },
  {
   "cell_type": "markdown",
   "id": "00d4068f",
   "metadata": {},
   "source": [
    "### store.put('obj2',frame, format='table') == store('obj2')=frame"
   ]
  },
  {
   "cell_type": "code",
   "execution_count": 61,
   "id": "79ae2cc3",
   "metadata": {},
   "outputs": [],
   "source": [
    "store.put('obj2',frame,format='table')"
   ]
  },
  {
   "cell_type": "markdown",
   "id": "6d25eb36",
   "metadata": {},
   "source": [
    "### store.select('obj', where=[]) 可以使用SQL查詢語句。"
   ]
  },
  {
   "cell_type": "code",
   "execution_count": 62,
   "id": "80f709df",
   "metadata": {},
   "outputs": [
    {
     "data": {
      "text/html": [
       "<div>\n",
       "<style scoped>\n",
       "    .dataframe tbody tr th:only-of-type {\n",
       "        vertical-align: middle;\n",
       "    }\n",
       "\n",
       "    .dataframe tbody tr th {\n",
       "        vertical-align: top;\n",
       "    }\n",
       "\n",
       "    .dataframe thead th {\n",
       "        text-align: right;\n",
       "    }\n",
       "</style>\n",
       "<table border=\"1\" class=\"dataframe\">\n",
       "  <thead>\n",
       "    <tr style=\"text-align: right;\">\n",
       "      <th></th>\n",
       "      <th>a</th>\n",
       "    </tr>\n",
       "  </thead>\n",
       "  <tbody>\n",
       "    <tr>\n",
       "      <th>10</th>\n",
       "      <td>0.774856</td>\n",
       "    </tr>\n",
       "    <tr>\n",
       "      <th>11</th>\n",
       "      <td>-0.813744</td>\n",
       "    </tr>\n",
       "    <tr>\n",
       "      <th>12</th>\n",
       "      <td>0.453193</td>\n",
       "    </tr>\n",
       "    <tr>\n",
       "      <th>13</th>\n",
       "      <td>0.367914</td>\n",
       "    </tr>\n",
       "    <tr>\n",
       "      <th>14</th>\n",
       "      <td>-1.023223</td>\n",
       "    </tr>\n",
       "    <tr>\n",
       "      <th>15</th>\n",
       "      <td>-0.418815</td>\n",
       "    </tr>\n",
       "  </tbody>\n",
       "</table>\n",
       "</div>"
      ],
      "text/plain": [
       "           a\n",
       "10  0.774856\n",
       "11 -0.813744\n",
       "12  0.453193\n",
       "13  0.367914\n",
       "14 -1.023223\n",
       "15 -0.418815"
      ]
     },
     "execution_count": 62,
     "metadata": {},
     "output_type": "execute_result"
    }
   ],
   "source": [
    "store.select('obj2',where=['index>=10 and index <=15'])"
   ]
  },
  {
   "cell_type": "code",
   "execution_count": 63,
   "id": "5912478d",
   "metadata": {},
   "outputs": [],
   "source": [
    "store.close() #關閉HDF檔案。"
   ]
  },
  {
   "cell_type": "markdown",
   "id": "ec0299f2",
   "metadata": {},
   "source": [
    "### to_hdf（'路徑', 儲存的名稱, format='table'):更直覺的開起hdf檔案。"
   ]
  },
  {
   "cell_type": "code",
   "execution_count": 64,
   "id": "559d397f",
   "metadata": {},
   "outputs": [],
   "source": [
    "frame.to_hdf('mydata.h5','obj3',format='table')"
   ]
  },
  {
   "cell_type": "markdown",
   "id": "07548903",
   "metadata": {},
   "source": [
    "### pd.read_hdf('路徑',儲存的名稱,where=[])：更直覺的讀取hdf檔案。"
   ]
  },
  {
   "cell_type": "code",
   "execution_count": 65,
   "id": "625e7c29",
   "metadata": {
    "scrolled": true
   },
   "outputs": [
    {
     "data": {
      "text/html": [
       "<div>\n",
       "<style scoped>\n",
       "    .dataframe tbody tr th:only-of-type {\n",
       "        vertical-align: middle;\n",
       "    }\n",
       "\n",
       "    .dataframe tbody tr th {\n",
       "        vertical-align: top;\n",
       "    }\n",
       "\n",
       "    .dataframe thead th {\n",
       "        text-align: right;\n",
       "    }\n",
       "</style>\n",
       "<table border=\"1\" class=\"dataframe\">\n",
       "  <thead>\n",
       "    <tr style=\"text-align: right;\">\n",
       "      <th></th>\n",
       "      <th>a</th>\n",
       "    </tr>\n",
       "  </thead>\n",
       "  <tbody>\n",
       "    <tr>\n",
       "      <th>0</th>\n",
       "      <td>-1.271092</td>\n",
       "    </tr>\n",
       "    <tr>\n",
       "      <th>1</th>\n",
       "      <td>-0.842996</td>\n",
       "    </tr>\n",
       "    <tr>\n",
       "      <th>2</th>\n",
       "      <td>1.041408</td>\n",
       "    </tr>\n",
       "    <tr>\n",
       "      <th>3</th>\n",
       "      <td>-1.249366</td>\n",
       "    </tr>\n",
       "    <tr>\n",
       "      <th>4</th>\n",
       "      <td>0.025766</td>\n",
       "    </tr>\n",
       "  </tbody>\n",
       "</table>\n",
       "</div>"
      ],
      "text/plain": [
       "          a\n",
       "0 -1.271092\n",
       "1 -0.842996\n",
       "2  1.041408\n",
       "3 -1.249366\n",
       "4  0.025766"
      ]
     },
     "execution_count": 65,
     "metadata": {},
     "output_type": "execute_result"
    }
   ],
   "source": [
    "pd.read_hdf('mydata.h5','obj3',where=['index<5'])"
   ]
  },
  {
   "cell_type": "markdown",
   "id": "d13cf99f",
   "metadata": {},
   "source": [
    "### 讀取Microsoft Excel檔案"
   ]
  },
  {
   "cell_type": "code",
   "execution_count": 66,
   "id": "22923e47",
   "metadata": {},
   "outputs": [
    {
     "name": "stdout",
     "output_type": "stream",
     "text": [
      "Requirement already satisfied: xlrd in /Users/mercy/opt/anaconda3/lib/python3.9/site-packages (2.0.1)\n",
      "Note: you may need to restart the kernel to use updated packages.\n"
     ]
    }
   ],
   "source": [
    "pip install xlrd"
   ]
  },
  {
   "cell_type": "code",
   "execution_count": 67,
   "id": "e3a65208",
   "metadata": {},
   "outputs": [
    {
     "name": "stdout",
     "output_type": "stream",
     "text": [
      "Requirement already satisfied: openpyxl in /Users/mercy/opt/anaconda3/lib/python3.9/site-packages (3.0.9)\n",
      "Requirement already satisfied: et-xmlfile in /Users/mercy/opt/anaconda3/lib/python3.9/site-packages (from openpyxl) (1.1.0)\n",
      "Note: you may need to restart the kernel to use updated packages.\n"
     ]
    }
   ],
   "source": [
    "pip install openpyxl"
   ]
  },
  {
   "cell_type": "code",
   "execution_count": 68,
   "id": "3930ba1e",
   "metadata": {},
   "outputs": [],
   "source": [
    "xlsx=pd.ExcelFile('examples/Global Superstore Orders 2016.xlsx')"
   ]
  },
  {
   "cell_type": "code",
   "execution_count": 69,
   "id": "08b83c64",
   "metadata": {},
   "outputs": [],
   "source": [
    "orders=pd.read_excel(xlsx,'Orders')"
   ]
  },
  {
   "cell_type": "code",
   "execution_count": 70,
   "id": "616e5148",
   "metadata": {},
   "outputs": [],
   "source": [
    "people=pd.read_excel(xlsx,'People')"
   ]
  },
  {
   "cell_type": "code",
   "execution_count": 71,
   "id": "9b26d815",
   "metadata": {},
   "outputs": [
    {
     "data": {
      "text/html": [
       "<div>\n",
       "<style scoped>\n",
       "    .dataframe tbody tr th:only-of-type {\n",
       "        vertical-align: middle;\n",
       "    }\n",
       "\n",
       "    .dataframe tbody tr th {\n",
       "        vertical-align: top;\n",
       "    }\n",
       "\n",
       "    .dataframe thead th {\n",
       "        text-align: right;\n",
       "    }\n",
       "</style>\n",
       "<table border=\"1\" class=\"dataframe\">\n",
       "  <thead>\n",
       "    <tr style=\"text-align: right;\">\n",
       "      <th></th>\n",
       "      <th>Row ID</th>\n",
       "      <th>Order ID</th>\n",
       "      <th>Order Date</th>\n",
       "      <th>Ship Date</th>\n",
       "      <th>Ship Mode</th>\n",
       "      <th>Customer ID</th>\n",
       "      <th>Customer Name</th>\n",
       "      <th>Segment</th>\n",
       "      <th>Postal Code</th>\n",
       "      <th>City</th>\n",
       "      <th>...</th>\n",
       "      <th>Product ID</th>\n",
       "      <th>Category</th>\n",
       "      <th>Sub-Category</th>\n",
       "      <th>Product Name</th>\n",
       "      <th>Sales</th>\n",
       "      <th>Quantity</th>\n",
       "      <th>Discount</th>\n",
       "      <th>Profit</th>\n",
       "      <th>Shipping Cost</th>\n",
       "      <th>Order Priority</th>\n",
       "    </tr>\n",
       "  </thead>\n",
       "  <tbody>\n",
       "    <tr>\n",
       "      <th>0</th>\n",
       "      <td>40098</td>\n",
       "      <td>CA-2014-AB10015140-41954</td>\n",
       "      <td>2021-11-11 00:00:00</td>\n",
       "      <td>2014-11-13</td>\n",
       "      <td>First Class</td>\n",
       "      <td>AB-100151402</td>\n",
       "      <td>Aaron Bergman</td>\n",
       "      <td>Consumer</td>\n",
       "      <td>73120.0</td>\n",
       "      <td>Oklahoma City</td>\n",
       "      <td>...</td>\n",
       "      <td>TEC-PH-5816</td>\n",
       "      <td>Technology</td>\n",
       "      <td>Phones</td>\n",
       "      <td>Samsung Convoy 3</td>\n",
       "      <td>221.980</td>\n",
       "      <td>2</td>\n",
       "      <td>0.0</td>\n",
       "      <td>62.1544</td>\n",
       "      <td>40.77</td>\n",
       "      <td>High</td>\n",
       "    </tr>\n",
       "    <tr>\n",
       "      <th>1</th>\n",
       "      <td>26341</td>\n",
       "      <td>IN-2014-JR162107-41675</td>\n",
       "      <td>2021-02-05 00:00:00</td>\n",
       "      <td>2014-02-07</td>\n",
       "      <td>Second Class</td>\n",
       "      <td>JR-162107</td>\n",
       "      <td>Justin Ritter</td>\n",
       "      <td>Corporate</td>\n",
       "      <td>NaN</td>\n",
       "      <td>Wollongong</td>\n",
       "      <td>...</td>\n",
       "      <td>FUR-CH-5379</td>\n",
       "      <td>Furniture</td>\n",
       "      <td>Chairs</td>\n",
       "      <td>Novimex Executive Leather Armchair, Black</td>\n",
       "      <td>3709.395</td>\n",
       "      <td>9</td>\n",
       "      <td>0.1</td>\n",
       "      <td>-288.7650</td>\n",
       "      <td>923.63</td>\n",
       "      <td>Critical</td>\n",
       "    </tr>\n",
       "    <tr>\n",
       "      <th>2</th>\n",
       "      <td>25330</td>\n",
       "      <td>IN-2014-CR127307-41929</td>\n",
       "      <td>2021-10-17 00:00:00</td>\n",
       "      <td>2014-10-18</td>\n",
       "      <td>First Class</td>\n",
       "      <td>CR-127307</td>\n",
       "      <td>Craig Reiter</td>\n",
       "      <td>Consumer</td>\n",
       "      <td>NaN</td>\n",
       "      <td>Brisbane</td>\n",
       "      <td>...</td>\n",
       "      <td>TEC-PH-5356</td>\n",
       "      <td>Technology</td>\n",
       "      <td>Phones</td>\n",
       "      <td>Nokia Smart Phone, with Caller ID</td>\n",
       "      <td>5175.171</td>\n",
       "      <td>9</td>\n",
       "      <td>0.1</td>\n",
       "      <td>919.9710</td>\n",
       "      <td>915.49</td>\n",
       "      <td>Medium</td>\n",
       "    </tr>\n",
       "    <tr>\n",
       "      <th>3</th>\n",
       "      <td>13524</td>\n",
       "      <td>ES-2014-KM1637548-41667</td>\n",
       "      <td>2021-01-28 00:00:00</td>\n",
       "      <td>2014-01-30</td>\n",
       "      <td>First Class</td>\n",
       "      <td>KM-1637548</td>\n",
       "      <td>Katherine Murray</td>\n",
       "      <td>Home Office</td>\n",
       "      <td>NaN</td>\n",
       "      <td>Berlin</td>\n",
       "      <td>...</td>\n",
       "      <td>TEC-PH-5267</td>\n",
       "      <td>Technology</td>\n",
       "      <td>Phones</td>\n",
       "      <td>Motorola Smart Phone, Cordless</td>\n",
       "      <td>2892.510</td>\n",
       "      <td>5</td>\n",
       "      <td>0.1</td>\n",
       "      <td>-96.5400</td>\n",
       "      <td>910.16</td>\n",
       "      <td>Medium</td>\n",
       "    </tr>\n",
       "    <tr>\n",
       "      <th>4</th>\n",
       "      <td>47221</td>\n",
       "      <td>SG-2014-RH9495111-41948</td>\n",
       "      <td>2021-11-05 00:00:00</td>\n",
       "      <td>2014-11-06</td>\n",
       "      <td>Same Day</td>\n",
       "      <td>RH-9495111</td>\n",
       "      <td>Rick Hansen</td>\n",
       "      <td>Consumer</td>\n",
       "      <td>NaN</td>\n",
       "      <td>Dakar</td>\n",
       "      <td>...</td>\n",
       "      <td>TEC-CO-6011</td>\n",
       "      <td>Technology</td>\n",
       "      <td>Copiers</td>\n",
       "      <td>Sharp Wireless Fax, High-Speed</td>\n",
       "      <td>2832.960</td>\n",
       "      <td>8</td>\n",
       "      <td>0.0</td>\n",
       "      <td>311.5200</td>\n",
       "      <td>903.04</td>\n",
       "      <td>Critical</td>\n",
       "    </tr>\n",
       "  </tbody>\n",
       "</table>\n",
       "<p>5 rows × 24 columns</p>\n",
       "</div>"
      ],
      "text/plain": [
       "   Row ID                  Order ID           Order Date  Ship Date  \\\n",
       "0   40098  CA-2014-AB10015140-41954  2021-11-11 00:00:00 2014-11-13   \n",
       "1   26341    IN-2014-JR162107-41675  2021-02-05 00:00:00 2014-02-07   \n",
       "2   25330    IN-2014-CR127307-41929  2021-10-17 00:00:00 2014-10-18   \n",
       "3   13524   ES-2014-KM1637548-41667  2021-01-28 00:00:00 2014-01-30   \n",
       "4   47221   SG-2014-RH9495111-41948  2021-11-05 00:00:00 2014-11-06   \n",
       "\n",
       "      Ship Mode   Customer ID     Customer Name      Segment  Postal Code  \\\n",
       "0   First Class  AB-100151402     Aaron Bergman     Consumer      73120.0   \n",
       "1  Second Class     JR-162107     Justin Ritter    Corporate          NaN   \n",
       "2   First Class     CR-127307      Craig Reiter     Consumer          NaN   \n",
       "3   First Class    KM-1637548  Katherine Murray  Home Office          NaN   \n",
       "4      Same Day    RH-9495111       Rick Hansen     Consumer          NaN   \n",
       "\n",
       "            City  ...   Product ID    Category Sub-Category  \\\n",
       "0  Oklahoma City  ...  TEC-PH-5816  Technology       Phones   \n",
       "1     Wollongong  ...  FUR-CH-5379   Furniture       Chairs   \n",
       "2       Brisbane  ...  TEC-PH-5356  Technology       Phones   \n",
       "3         Berlin  ...  TEC-PH-5267  Technology       Phones   \n",
       "4          Dakar  ...  TEC-CO-6011  Technology      Copiers   \n",
       "\n",
       "                                Product Name     Sales Quantity Discount  \\\n",
       "0                           Samsung Convoy 3   221.980        2      0.0   \n",
       "1  Novimex Executive Leather Armchair, Black  3709.395        9      0.1   \n",
       "2          Nokia Smart Phone, with Caller ID  5175.171        9      0.1   \n",
       "3             Motorola Smart Phone, Cordless  2892.510        5      0.1   \n",
       "4             Sharp Wireless Fax, High-Speed  2832.960        8      0.0   \n",
       "\n",
       "     Profit  Shipping Cost  Order Priority  \n",
       "0   62.1544          40.77            High  \n",
       "1 -288.7650         923.63        Critical  \n",
       "2  919.9710         915.49          Medium  \n",
       "3  -96.5400         910.16          Medium  \n",
       "4  311.5200         903.04        Critical  \n",
       "\n",
       "[5 rows x 24 columns]"
      ]
     },
     "execution_count": 71,
     "metadata": {},
     "output_type": "execute_result"
    }
   ],
   "source": [
    "orders.head()"
   ]
  },
  {
   "cell_type": "code",
   "execution_count": 72,
   "id": "8d296cea",
   "metadata": {},
   "outputs": [
    {
     "data": {
      "text/html": [
       "<div>\n",
       "<style scoped>\n",
       "    .dataframe tbody tr th:only-of-type {\n",
       "        vertical-align: middle;\n",
       "    }\n",
       "\n",
       "    .dataframe tbody tr th {\n",
       "        vertical-align: top;\n",
       "    }\n",
       "\n",
       "    .dataframe thead th {\n",
       "        text-align: right;\n",
       "    }\n",
       "</style>\n",
       "<table border=\"1\" class=\"dataframe\">\n",
       "  <thead>\n",
       "    <tr style=\"text-align: right;\">\n",
       "      <th></th>\n",
       "      <th>Person</th>\n",
       "      <th>Region</th>\n",
       "    </tr>\n",
       "  </thead>\n",
       "  <tbody>\n",
       "    <tr>\n",
       "      <th>0</th>\n",
       "      <td>Marilène Rousseau</td>\n",
       "      <td>Caribbean</td>\n",
       "    </tr>\n",
       "    <tr>\n",
       "      <th>1</th>\n",
       "      <td>Andile Ihejirika</td>\n",
       "      <td>Central Africa</td>\n",
       "    </tr>\n",
       "    <tr>\n",
       "      <th>2</th>\n",
       "      <td>Nicodemo Bautista</td>\n",
       "      <td>Central America</td>\n",
       "    </tr>\n",
       "    <tr>\n",
       "      <th>3</th>\n",
       "      <td>Cansu Peynirci</td>\n",
       "      <td>Central Asia</td>\n",
       "    </tr>\n",
       "    <tr>\n",
       "      <th>4</th>\n",
       "      <td>Lon Bonher</td>\n",
       "      <td>Central US</td>\n",
       "    </tr>\n",
       "  </tbody>\n",
       "</table>\n",
       "</div>"
      ],
      "text/plain": [
       "              Person           Region\n",
       "0  Marilène Rousseau        Caribbean\n",
       "1   Andile Ihejirika   Central Africa\n",
       "2  Nicodemo Bautista  Central America\n",
       "3     Cansu Peynirci     Central Asia\n",
       "4         Lon Bonher       Central US"
      ]
     },
     "execution_count": 72,
     "metadata": {},
     "output_type": "execute_result"
    }
   ],
   "source": [
    "people.head()"
   ]
  },
  {
   "cell_type": "code",
   "execution_count": 73,
   "id": "3f253fce",
   "metadata": {},
   "outputs": [
    {
     "data": {
      "text/html": [
       "<div>\n",
       "<style scoped>\n",
       "    .dataframe tbody tr th:only-of-type {\n",
       "        vertical-align: middle;\n",
       "    }\n",
       "\n",
       "    .dataframe tbody tr th {\n",
       "        vertical-align: top;\n",
       "    }\n",
       "\n",
       "    .dataframe thead th {\n",
       "        text-align: right;\n",
       "    }\n",
       "</style>\n",
       "<table border=\"1\" class=\"dataframe\">\n",
       "  <thead>\n",
       "    <tr style=\"text-align: right;\">\n",
       "      <th></th>\n",
       "      <th>Row ID</th>\n",
       "      <th>Postal Code</th>\n",
       "      <th>Sales</th>\n",
       "      <th>Quantity</th>\n",
       "      <th>Discount</th>\n",
       "      <th>Profit</th>\n",
       "      <th>Shipping Cost</th>\n",
       "    </tr>\n",
       "  </thead>\n",
       "  <tbody>\n",
       "    <tr>\n",
       "      <th>count</th>\n",
       "      <td>51290.00000</td>\n",
       "      <td>9994.000000</td>\n",
       "      <td>51290.000000</td>\n",
       "      <td>51290.000000</td>\n",
       "      <td>51290.000000</td>\n",
       "      <td>51290.000000</td>\n",
       "      <td>51290.000000</td>\n",
       "    </tr>\n",
       "    <tr>\n",
       "      <th>mean</th>\n",
       "      <td>25645.50000</td>\n",
       "      <td>55190.379428</td>\n",
       "      <td>246.490581</td>\n",
       "      <td>3.476545</td>\n",
       "      <td>0.142908</td>\n",
       "      <td>28.610982</td>\n",
       "      <td>26.478567</td>\n",
       "    </tr>\n",
       "    <tr>\n",
       "      <th>std</th>\n",
       "      <td>14806.29199</td>\n",
       "      <td>32063.693350</td>\n",
       "      <td>487.565361</td>\n",
       "      <td>2.278766</td>\n",
       "      <td>0.212280</td>\n",
       "      <td>174.340972</td>\n",
       "      <td>57.251373</td>\n",
       "    </tr>\n",
       "    <tr>\n",
       "      <th>min</th>\n",
       "      <td>1.00000</td>\n",
       "      <td>1040.000000</td>\n",
       "      <td>0.444000</td>\n",
       "      <td>1.000000</td>\n",
       "      <td>0.000000</td>\n",
       "      <td>-6599.978000</td>\n",
       "      <td>1.002000</td>\n",
       "    </tr>\n",
       "    <tr>\n",
       "      <th>25%</th>\n",
       "      <td>12823.25000</td>\n",
       "      <td>23223.000000</td>\n",
       "      <td>30.758625</td>\n",
       "      <td>2.000000</td>\n",
       "      <td>0.000000</td>\n",
       "      <td>0.000000</td>\n",
       "      <td>2.610000</td>\n",
       "    </tr>\n",
       "    <tr>\n",
       "      <th>50%</th>\n",
       "      <td>25645.50000</td>\n",
       "      <td>56430.500000</td>\n",
       "      <td>85.053000</td>\n",
       "      <td>3.000000</td>\n",
       "      <td>0.000000</td>\n",
       "      <td>9.240000</td>\n",
       "      <td>7.790000</td>\n",
       "    </tr>\n",
       "    <tr>\n",
       "      <th>75%</th>\n",
       "      <td>38467.75000</td>\n",
       "      <td>90008.000000</td>\n",
       "      <td>251.053200</td>\n",
       "      <td>5.000000</td>\n",
       "      <td>0.200000</td>\n",
       "      <td>36.810000</td>\n",
       "      <td>24.450000</td>\n",
       "    </tr>\n",
       "    <tr>\n",
       "      <th>max</th>\n",
       "      <td>51290.00000</td>\n",
       "      <td>99301.000000</td>\n",
       "      <td>22638.480000</td>\n",
       "      <td>14.000000</td>\n",
       "      <td>0.850000</td>\n",
       "      <td>8399.976000</td>\n",
       "      <td>933.570000</td>\n",
       "    </tr>\n",
       "  </tbody>\n",
       "</table>\n",
       "</div>"
      ],
      "text/plain": [
       "            Row ID   Postal Code         Sales      Quantity      Discount  \\\n",
       "count  51290.00000   9994.000000  51290.000000  51290.000000  51290.000000   \n",
       "mean   25645.50000  55190.379428    246.490581      3.476545      0.142908   \n",
       "std    14806.29199  32063.693350    487.565361      2.278766      0.212280   \n",
       "min        1.00000   1040.000000      0.444000      1.000000      0.000000   \n",
       "25%    12823.25000  23223.000000     30.758625      2.000000      0.000000   \n",
       "50%    25645.50000  56430.500000     85.053000      3.000000      0.000000   \n",
       "75%    38467.75000  90008.000000    251.053200      5.000000      0.200000   \n",
       "max    51290.00000  99301.000000  22638.480000     14.000000      0.850000   \n",
       "\n",
       "             Profit  Shipping Cost  \n",
       "count  51290.000000   51290.000000  \n",
       "mean      28.610982      26.478567  \n",
       "std      174.340972      57.251373  \n",
       "min    -6599.978000       1.002000  \n",
       "25%        0.000000       2.610000  \n",
       "50%        9.240000       7.790000  \n",
       "75%       36.810000      24.450000  \n",
       "max     8399.976000     933.570000  "
      ]
     },
     "execution_count": 73,
     "metadata": {},
     "output_type": "execute_result"
    }
   ],
   "source": [
    "orders.describe()"
   ]
  },
  {
   "cell_type": "markdown",
   "id": "2633f5a9",
   "metadata": {},
   "source": [
    "### 將Pandas的資料另存新檔到excel格式。"
   ]
  },
  {
   "cell_type": "code",
   "execution_count": 74,
   "id": "e56b7e5b",
   "metadata": {},
   "outputs": [],
   "source": [
    "a_dataframe=pd.DataFrame(np.arange(12).reshape(3,4), index=['a','b','c'], columns=['one','two','three','four'])"
   ]
  },
  {
   "cell_type": "code",
   "execution_count": 75,
   "id": "e20b337f",
   "metadata": {},
   "outputs": [
    {
     "data": {
      "text/html": [
       "<div>\n",
       "<style scoped>\n",
       "    .dataframe tbody tr th:only-of-type {\n",
       "        vertical-align: middle;\n",
       "    }\n",
       "\n",
       "    .dataframe tbody tr th {\n",
       "        vertical-align: top;\n",
       "    }\n",
       "\n",
       "    .dataframe thead th {\n",
       "        text-align: right;\n",
       "    }\n",
       "</style>\n",
       "<table border=\"1\" class=\"dataframe\">\n",
       "  <thead>\n",
       "    <tr style=\"text-align: right;\">\n",
       "      <th></th>\n",
       "      <th>one</th>\n",
       "      <th>two</th>\n",
       "      <th>three</th>\n",
       "      <th>four</th>\n",
       "    </tr>\n",
       "  </thead>\n",
       "  <tbody>\n",
       "    <tr>\n",
       "      <th>a</th>\n",
       "      <td>0</td>\n",
       "      <td>1</td>\n",
       "      <td>2</td>\n",
       "      <td>3</td>\n",
       "    </tr>\n",
       "    <tr>\n",
       "      <th>b</th>\n",
       "      <td>4</td>\n",
       "      <td>5</td>\n",
       "      <td>6</td>\n",
       "      <td>7</td>\n",
       "    </tr>\n",
       "    <tr>\n",
       "      <th>c</th>\n",
       "      <td>8</td>\n",
       "      <td>9</td>\n",
       "      <td>10</td>\n",
       "      <td>11</td>\n",
       "    </tr>\n",
       "  </tbody>\n",
       "</table>\n",
       "</div>"
      ],
      "text/plain": [
       "   one  two  three  four\n",
       "a    0    1      2     3\n",
       "b    4    5      6     7\n",
       "c    8    9     10    11"
      ]
     },
     "execution_count": 75,
     "metadata": {},
     "output_type": "execute_result"
    }
   ],
   "source": [
    "a_dataframe"
   ]
  },
  {
   "cell_type": "markdown",
   "id": "e83408f3",
   "metadata": {},
   "source": [
    "### pd.ExcelWriter('儲存的新檔案路徑')"
   ]
  },
  {
   "cell_type": "code",
   "execution_count": 76,
   "id": "136167e7",
   "metadata": {},
   "outputs": [],
   "source": [
    "writer=pd.ExcelWriter('examples/frame1.xlsx') "
   ]
  },
  {
   "cell_type": "markdown",
   "id": "bab114cd",
   "metadata": {},
   "source": [
    "### to_excel('路徑', '工作表名稱')"
   ]
  },
  {
   "cell_type": "code",
   "execution_count": 77,
   "id": "f70553bb",
   "metadata": {},
   "outputs": [],
   "source": [
    "a_dataframe.to_excel(writer,'a_dataframe') "
   ]
  },
  {
   "cell_type": "code",
   "execution_count": 78,
   "id": "4197b2da",
   "metadata": {},
   "outputs": [],
   "source": [
    "writer.save()"
   ]
  },
  {
   "cell_type": "markdown",
   "id": "0598cd67",
   "metadata": {},
   "source": [
    "### 如果不想要這麼麻煩，可以直接使用to_excel('路徑','工作表名稱')"
   ]
  },
  {
   "cell_type": "code",
   "execution_count": 79,
   "id": "42613b1a",
   "metadata": {},
   "outputs": [],
   "source": [
    "a_dataframe.to_excel('examples/frame2.xlsx','a_dataframe')"
   ]
  },
  {
   "cell_type": "markdown",
   "id": "ebaebbe4",
   "metadata": {},
   "source": [
    "### 使用Web API"
   ]
  },
  {
   "cell_type": "markdown",
   "id": "e97f4527",
   "metadata": {},
   "source": [
    "### requests: 最容易使用Web API的套件。"
   ]
  },
  {
   "cell_type": "code",
   "execution_count": 80,
   "id": "a27e3c36",
   "metadata": {},
   "outputs": [],
   "source": [
    "import requests"
   ]
  },
  {
   "cell_type": "code",
   "execution_count": 81,
   "id": "c85c2ee5",
   "metadata": {},
   "outputs": [],
   "source": [
    "url='https://api.github.com/repos/pandas-dev/pandas/issues'"
   ]
  },
  {
   "cell_type": "code",
   "execution_count": 82,
   "id": "6be35353",
   "metadata": {},
   "outputs": [],
   "source": [
    "resp=requests.get(url)"
   ]
  },
  {
   "cell_type": "code",
   "execution_count": 83,
   "id": "4e8ca87d",
   "metadata": {},
   "outputs": [
    {
     "data": {
      "text/plain": [
       "<Response [200]>"
      ]
     },
     "execution_count": 83,
     "metadata": {},
     "output_type": "execute_result"
    }
   ],
   "source": [
    "resp"
   ]
  },
  {
   "cell_type": "code",
   "execution_count": 84,
   "id": "6b2df25d",
   "metadata": {},
   "outputs": [],
   "source": [
    "data=resp.json()"
   ]
  },
  {
   "cell_type": "code",
   "execution_count": 85,
   "id": "0d7d55a8",
   "metadata": {},
   "outputs": [
    {
     "data": {
      "text/plain": [
       "'Issues for new contributors – update'"
      ]
     },
     "execution_count": 85,
     "metadata": {},
     "output_type": "execute_result"
    }
   ],
   "source": [
    "data[0]['title']"
   ]
  },
  {
   "cell_type": "code",
   "execution_count": 86,
   "id": "f975eff6",
   "metadata": {},
   "outputs": [],
   "source": [
    "issues=pd.DataFrame(data,columns=['number','title','labels','state'])"
   ]
  },
  {
   "cell_type": "code",
   "execution_count": 87,
   "id": "49eec3da",
   "metadata": {},
   "outputs": [
    {
     "data": {
      "text/html": [
       "<div>\n",
       "<style scoped>\n",
       "    .dataframe tbody tr th:only-of-type {\n",
       "        vertical-align: middle;\n",
       "    }\n",
       "\n",
       "    .dataframe tbody tr th {\n",
       "        vertical-align: top;\n",
       "    }\n",
       "\n",
       "    .dataframe thead th {\n",
       "        text-align: right;\n",
       "    }\n",
       "</style>\n",
       "<table border=\"1\" class=\"dataframe\">\n",
       "  <thead>\n",
       "    <tr style=\"text-align: right;\">\n",
       "      <th></th>\n",
       "      <th>number</th>\n",
       "      <th>title</th>\n",
       "      <th>labels</th>\n",
       "      <th>state</th>\n",
       "    </tr>\n",
       "  </thead>\n",
       "  <tbody>\n",
       "    <tr>\n",
       "      <th>0</th>\n",
       "      <td>49275</td>\n",
       "      <td>Issues for new contributors – update</td>\n",
       "      <td>[{'id': 717120670, 'node_id': 'MDU6TGFiZWw3MTc...</td>\n",
       "      <td>open</td>\n",
       "    </tr>\n",
       "    <tr>\n",
       "      <th>1</th>\n",
       "      <td>49274</td>\n",
       "      <td>PERF: GH28635 Add ASV benchmark for resample a...</td>\n",
       "      <td>[]</td>\n",
       "      <td>open</td>\n",
       "    </tr>\n",
       "    <tr>\n",
       "      <th>2</th>\n",
       "      <td>49272</td>\n",
       "      <td>DOC: Removed parenthesis from .loc,.iloc,.at,.iat</td>\n",
       "      <td>[{'id': 134699, 'node_id': 'MDU6TGFiZWwxMzQ2OT...</td>\n",
       "      <td>open</td>\n",
       "    </tr>\n",
       "    <tr>\n",
       "      <th>3</th>\n",
       "      <td>49269</td>\n",
       "      <td>TST: repr of Arrow-backed object (GH #48238)</td>\n",
       "      <td>[]</td>\n",
       "      <td>open</td>\n",
       "    </tr>\n",
       "    <tr>\n",
       "      <th>4</th>\n",
       "      <td>49268</td>\n",
       "      <td>DEP: Remove Series.str.__iter__</td>\n",
       "      <td>[{'id': 87485152, 'node_id': 'MDU6TGFiZWw4NzQ4...</td>\n",
       "      <td>open</td>\n",
       "    </tr>\n",
       "    <tr>\n",
       "      <th>5</th>\n",
       "      <td>49267</td>\n",
       "      <td>DEP: Remove truediv from eval</td>\n",
       "      <td>[{'id': 87485152, 'node_id': 'MDU6TGFiZWw4NzQ4...</td>\n",
       "      <td>open</td>\n",
       "    </tr>\n",
       "    <tr>\n",
       "      <th>6</th>\n",
       "      <td>49265</td>\n",
       "      <td>DEPR: kind kwarg in Index.get_slice_bound, Ind...</td>\n",
       "      <td>[{'id': 87485152, 'node_id': 'MDU6TGFiZWw4NzQ4...</td>\n",
       "      <td>open</td>\n",
       "    </tr>\n",
       "    <tr>\n",
       "      <th>7</th>\n",
       "      <td>49264</td>\n",
       "      <td>Improve error message about duplicate columns ...</td>\n",
       "      <td>[]</td>\n",
       "      <td>open</td>\n",
       "    </tr>\n",
       "    <tr>\n",
       "      <th>8</th>\n",
       "      <td>49262</td>\n",
       "      <td>BUG: groupby.nth should be a filter</td>\n",
       "      <td>[{'id': 76811, 'node_id': 'MDU6TGFiZWw3NjgxMQ=...</td>\n",
       "      <td>open</td>\n",
       "    </tr>\n",
       "    <tr>\n",
       "      <th>9</th>\n",
       "      <td>49261</td>\n",
       "      <td>ENH: Add pre-commit check for setup.cfg option...</td>\n",
       "      <td>[]</td>\n",
       "      <td>open</td>\n",
       "    </tr>\n",
       "    <tr>\n",
       "      <th>10</th>\n",
       "      <td>49259</td>\n",
       "      <td>DEPR: disallow non-keyword arguments</td>\n",
       "      <td>[{'id': 87485152, 'node_id': 'MDU6TGFiZWw4NzQ4...</td>\n",
       "      <td>open</td>\n",
       "    </tr>\n",
       "    <tr>\n",
       "      <th>11</th>\n",
       "      <td>49258</td>\n",
       "      <td>DEPR: drop setting categorical codes</td>\n",
       "      <td>[{'id': 87485152, 'node_id': 'MDU6TGFiZWw4NzQ4...</td>\n",
       "      <td>open</td>\n",
       "    </tr>\n",
       "    <tr>\n",
       "      <th>12</th>\n",
       "      <td>49256</td>\n",
       "      <td>BUG: groupby.describe with as_index=False desc...</td>\n",
       "      <td>[{'id': 76811, 'node_id': 'MDU6TGFiZWw3NjgxMQ=...</td>\n",
       "      <td>open</td>\n",
       "    </tr>\n",
       "    <tr>\n",
       "      <th>13</th>\n",
       "      <td>49254</td>\n",
       "      <td>DOC: 10 minutes to pandas Selection section `D...</td>\n",
       "      <td>[{'id': 134699, 'node_id': 'MDU6TGFiZWwxMzQ2OT...</td>\n",
       "      <td>open</td>\n",
       "    </tr>\n",
       "    <tr>\n",
       "      <th>14</th>\n",
       "      <td>49251</td>\n",
       "      <td>Inconsistency on dtype and fillna</td>\n",
       "      <td>[{'id': 134699, 'node_id': 'MDU6TGFiZWwxMzQ2OT...</td>\n",
       "      <td>open</td>\n",
       "    </tr>\n",
       "    <tr>\n",
       "      <th>15</th>\n",
       "      <td>49250</td>\n",
       "      <td>DEPR: DataFrame.median/mean with numeric_only=...</td>\n",
       "      <td>[{'id': 87485152, 'node_id': 'MDU6TGFiZWw4NzQ4...</td>\n",
       "      <td>open</td>\n",
       "    </tr>\n",
       "    <tr>\n",
       "      <th>16</th>\n",
       "      <td>49249</td>\n",
       "      <td>read_json engine keyword and pyarrow integration</td>\n",
       "      <td>[]</td>\n",
       "      <td>open</td>\n",
       "    </tr>\n",
       "    <tr>\n",
       "      <th>17</th>\n",
       "      <td>49248</td>\n",
       "      <td>BUG: UndefinedVariableError in DataFrame.query...</td>\n",
       "      <td>[]</td>\n",
       "      <td>open</td>\n",
       "    </tr>\n",
       "    <tr>\n",
       "      <th>18</th>\n",
       "      <td>49247</td>\n",
       "      <td>BUG: Getting FutureWarning for Groupby.mean wh...</td>\n",
       "      <td>[{'id': 76811, 'node_id': 'MDU6TGFiZWw3NjgxMQ=...</td>\n",
       "      <td>open</td>\n",
       "    </tr>\n",
       "    <tr>\n",
       "      <th>19</th>\n",
       "      <td>49246</td>\n",
       "      <td>ENH: The need to re-design to_sql() method</td>\n",
       "      <td>[{'id': 76812, 'node_id': 'MDU6TGFiZWw3NjgxMg=...</td>\n",
       "      <td>open</td>\n",
       "    </tr>\n",
       "    <tr>\n",
       "      <th>20</th>\n",
       "      <td>49245</td>\n",
       "      <td>ENH: Add `complement` argument to `(Series|Dat...</td>\n",
       "      <td>[{'id': 76812, 'node_id': 'MDU6TGFiZWw3NjgxMg=...</td>\n",
       "      <td>open</td>\n",
       "    </tr>\n",
       "    <tr>\n",
       "      <th>21</th>\n",
       "      <td>49244</td>\n",
       "      <td>DEPR: to_native_types, set_value, iteritems, u...</td>\n",
       "      <td>[{'id': 87485152, 'node_id': 'MDU6TGFiZWw4NzQ4...</td>\n",
       "      <td>open</td>\n",
       "    </tr>\n",
       "    <tr>\n",
       "      <th>22</th>\n",
       "      <td>49243</td>\n",
       "      <td>STYLE: fix pylint consider-using-dict-items wa...</td>\n",
       "      <td>[]</td>\n",
       "      <td>open</td>\n",
       "    </tr>\n",
       "    <tr>\n",
       "      <th>23</th>\n",
       "      <td>49242</td>\n",
       "      <td>DEPR: Series(dt64_naive, dtype=dt64tz)</td>\n",
       "      <td>[{'id': 87485152, 'node_id': 'MDU6TGFiZWw4NzQ4...</td>\n",
       "      <td>open</td>\n",
       "    </tr>\n",
       "    <tr>\n",
       "      <th>24</th>\n",
       "      <td>49241</td>\n",
       "      <td>CI/TST: pip extras install</td>\n",
       "      <td>[{'id': 48070600, 'node_id': 'MDU6TGFiZWw0ODA3...</td>\n",
       "      <td>open</td>\n",
       "    </tr>\n",
       "    <tr>\n",
       "      <th>25</th>\n",
       "      <td>49240</td>\n",
       "      <td>BUG: pivot_table with margins=True on empty Da...</td>\n",
       "      <td>[{'id': 76811, 'node_id': 'MDU6TGFiZWw3NjgxMQ=...</td>\n",
       "      <td>open</td>\n",
       "    </tr>\n",
       "    <tr>\n",
       "      <th>26</th>\n",
       "      <td>49239</td>\n",
       "      <td>ENH: read_json() should work with single entry...</td>\n",
       "      <td>[{'id': 76812, 'node_id': 'MDU6TGFiZWw3NjgxMg=...</td>\n",
       "      <td>open</td>\n",
       "    </tr>\n",
       "    <tr>\n",
       "      <th>27</th>\n",
       "      <td>49236</td>\n",
       "      <td>ENH: Expose `to_pandas_kwargs` in `read_parque...</td>\n",
       "      <td>[{'id': 76812, 'node_id': 'MDU6TGFiZWw3NjgxMg=...</td>\n",
       "      <td>open</td>\n",
       "    </tr>\n",
       "    <tr>\n",
       "      <th>28</th>\n",
       "      <td>49233</td>\n",
       "      <td>BUG: inconsistent index order when creating Da...</td>\n",
       "      <td>[{'id': 76811, 'node_id': 'MDU6TGFiZWw3NjgxMQ=...</td>\n",
       "      <td>open</td>\n",
       "    </tr>\n",
       "    <tr>\n",
       "      <th>29</th>\n",
       "      <td>49232</td>\n",
       "      <td>BUG: pandas.to_datetime() does not respect exa...</td>\n",
       "      <td>[{'id': 211840, 'node_id': 'MDU6TGFiZWwyMTE4ND...</td>\n",
       "      <td>open</td>\n",
       "    </tr>\n",
       "  </tbody>\n",
       "</table>\n",
       "</div>"
      ],
      "text/plain": [
       "    number                                              title  \\\n",
       "0    49275               Issues for new contributors – update   \n",
       "1    49274  PERF: GH28635 Add ASV benchmark for resample a...   \n",
       "2    49272  DOC: Removed parenthesis from .loc,.iloc,.at,.iat   \n",
       "3    49269       TST: repr of Arrow-backed object (GH #48238)   \n",
       "4    49268                    DEP: Remove Series.str.__iter__   \n",
       "5    49267                      DEP: Remove truediv from eval   \n",
       "6    49265  DEPR: kind kwarg in Index.get_slice_bound, Ind...   \n",
       "7    49264  Improve error message about duplicate columns ...   \n",
       "8    49262                BUG: groupby.nth should be a filter   \n",
       "9    49261  ENH: Add pre-commit check for setup.cfg option...   \n",
       "10   49259               DEPR: disallow non-keyword arguments   \n",
       "11   49258               DEPR: drop setting categorical codes   \n",
       "12   49256  BUG: groupby.describe with as_index=False desc...   \n",
       "13   49254  DOC: 10 minutes to pandas Selection section `D...   \n",
       "14   49251                  Inconsistency on dtype and fillna   \n",
       "15   49250  DEPR: DataFrame.median/mean with numeric_only=...   \n",
       "16   49249   read_json engine keyword and pyarrow integration   \n",
       "17   49248  BUG: UndefinedVariableError in DataFrame.query...   \n",
       "18   49247  BUG: Getting FutureWarning for Groupby.mean wh...   \n",
       "19   49246        ENH: The need to re-design to_sql() method    \n",
       "20   49245  ENH: Add `complement` argument to `(Series|Dat...   \n",
       "21   49244  DEPR: to_native_types, set_value, iteritems, u...   \n",
       "22   49243  STYLE: fix pylint consider-using-dict-items wa...   \n",
       "23   49242             DEPR: Series(dt64_naive, dtype=dt64tz)   \n",
       "24   49241                         CI/TST: pip extras install   \n",
       "25   49240  BUG: pivot_table with margins=True on empty Da...   \n",
       "26   49239  ENH: read_json() should work with single entry...   \n",
       "27   49236  ENH: Expose `to_pandas_kwargs` in `read_parque...   \n",
       "28   49233  BUG: inconsistent index order when creating Da...   \n",
       "29   49232  BUG: pandas.to_datetime() does not respect exa...   \n",
       "\n",
       "                                               labels state  \n",
       "0   [{'id': 717120670, 'node_id': 'MDU6TGFiZWw3MTc...  open  \n",
       "1                                                  []  open  \n",
       "2   [{'id': 134699, 'node_id': 'MDU6TGFiZWwxMzQ2OT...  open  \n",
       "3                                                  []  open  \n",
       "4   [{'id': 87485152, 'node_id': 'MDU6TGFiZWw4NzQ4...  open  \n",
       "5   [{'id': 87485152, 'node_id': 'MDU6TGFiZWw4NzQ4...  open  \n",
       "6   [{'id': 87485152, 'node_id': 'MDU6TGFiZWw4NzQ4...  open  \n",
       "7                                                  []  open  \n",
       "8   [{'id': 76811, 'node_id': 'MDU6TGFiZWw3NjgxMQ=...  open  \n",
       "9                                                  []  open  \n",
       "10  [{'id': 87485152, 'node_id': 'MDU6TGFiZWw4NzQ4...  open  \n",
       "11  [{'id': 87485152, 'node_id': 'MDU6TGFiZWw4NzQ4...  open  \n",
       "12  [{'id': 76811, 'node_id': 'MDU6TGFiZWw3NjgxMQ=...  open  \n",
       "13  [{'id': 134699, 'node_id': 'MDU6TGFiZWwxMzQ2OT...  open  \n",
       "14  [{'id': 134699, 'node_id': 'MDU6TGFiZWwxMzQ2OT...  open  \n",
       "15  [{'id': 87485152, 'node_id': 'MDU6TGFiZWw4NzQ4...  open  \n",
       "16                                                 []  open  \n",
       "17                                                 []  open  \n",
       "18  [{'id': 76811, 'node_id': 'MDU6TGFiZWw3NjgxMQ=...  open  \n",
       "19  [{'id': 76812, 'node_id': 'MDU6TGFiZWw3NjgxMg=...  open  \n",
       "20  [{'id': 76812, 'node_id': 'MDU6TGFiZWw3NjgxMg=...  open  \n",
       "21  [{'id': 87485152, 'node_id': 'MDU6TGFiZWw4NzQ4...  open  \n",
       "22                                                 []  open  \n",
       "23  [{'id': 87485152, 'node_id': 'MDU6TGFiZWw4NzQ4...  open  \n",
       "24  [{'id': 48070600, 'node_id': 'MDU6TGFiZWw0ODA3...  open  \n",
       "25  [{'id': 76811, 'node_id': 'MDU6TGFiZWw3NjgxMQ=...  open  \n",
       "26  [{'id': 76812, 'node_id': 'MDU6TGFiZWw3NjgxMg=...  open  \n",
       "27  [{'id': 76812, 'node_id': 'MDU6TGFiZWw3NjgxMg=...  open  \n",
       "28  [{'id': 76811, 'node_id': 'MDU6TGFiZWw3NjgxMQ=...  open  \n",
       "29  [{'id': 211840, 'node_id': 'MDU6TGFiZWwyMTE4ND...  open  "
      ]
     },
     "execution_count": 87,
     "metadata": {},
     "output_type": "execute_result"
    }
   ],
   "source": [
    "issues"
   ]
  },
  {
   "cell_type": "markdown",
   "id": "3e66a75c",
   "metadata": {},
   "source": [
    "### 使用資料庫"
   ]
  },
  {
   "cell_type": "markdown",
   "id": "ba9d063d",
   "metadata": {},
   "source": [
    "### sqlite3: Python內建的資料庫。"
   ]
  },
  {
   "cell_type": "code",
   "execution_count": 88,
   "id": "5419a831",
   "metadata": {},
   "outputs": [],
   "source": [
    "import sqlite3"
   ]
  },
  {
   "cell_type": "markdown",
   "id": "183f9056",
   "metadata": {},
   "source": [
    "### 創立一個表格叫做test"
   ]
  },
  {
   "cell_type": "code",
   "execution_count": 89,
   "id": "6e6464ff",
   "metadata": {},
   "outputs": [],
   "source": [
    "query=\"\"\"\n",
    "CREATE TABLE test\n",
    "(a VARCHAR(20), b VARCHAR(20), c REAL, d INTERGER\n",
    "); \"\"\""
   ]
  },
  {
   "cell_type": "markdown",
   "id": "da7c7a8e",
   "metadata": {},
   "source": [
    "### 連接到資料庫con"
   ]
  },
  {
   "cell_type": "code",
   "execution_count": 90,
   "id": "cae69ec4",
   "metadata": {},
   "outputs": [],
   "source": [
    "con=sqlite3.connect('mydata.sqlite')"
   ]
  },
  {
   "cell_type": "markdown",
   "id": "e7723c5d",
   "metadata": {},
   "source": [
    "### 對資料庫con執行query"
   ]
  },
  {
   "cell_type": "code",
   "execution_count": 91,
   "id": "837938bf",
   "metadata": {
    "scrolled": true
   },
   "outputs": [
    {
     "ename": "OperationalError",
     "evalue": "table test already exists",
     "output_type": "error",
     "traceback": [
      "\u001b[0;31m---------------------------------------------------------------------------\u001b[0m",
      "\u001b[0;31mOperationalError\u001b[0m                          Traceback (most recent call last)",
      "Input \u001b[0;32mIn [91]\u001b[0m, in \u001b[0;36m<cell line: 1>\u001b[0;34m()\u001b[0m\n\u001b[0;32m----> 1\u001b[0m \u001b[43mcon\u001b[49m\u001b[38;5;241;43m.\u001b[39;49m\u001b[43mexecute\u001b[49m\u001b[43m(\u001b[49m\u001b[43mquery\u001b[49m\u001b[43m)\u001b[49m\n",
      "\u001b[0;31mOperationalError\u001b[0m: table test already exists"
     ]
    }
   ],
   "source": [
    "con.execute(query)"
   ]
  },
  {
   "cell_type": "markdown",
   "id": "60b04111",
   "metadata": {},
   "source": [
    "### 完成資料庫更新"
   ]
  },
  {
   "cell_type": "code",
   "execution_count": 92,
   "id": "d1db05a8",
   "metadata": {},
   "outputs": [
    {
     "data": {
      "text/plain": [
       "<function Connection.commit>"
      ]
     },
     "execution_count": 92,
     "metadata": {},
     "output_type": "execute_result"
    }
   ],
   "source": [
    "con.commit"
   ]
  },
  {
   "cell_type": "markdown",
   "id": "df982ca8",
   "metadata": {},
   "source": [
    "### 對資料庫con插入資料。"
   ]
  },
  {
   "cell_type": "code",
   "execution_count": 93,
   "id": "b0b15ec3",
   "metadata": {},
   "outputs": [],
   "source": [
    "data=[('Atlanta','Gerogia', 1.25,6),\n",
    "      ('Tallahassee','Florida',2.6,3),\n",
    "       ('Scaramento','California',1.7,5)]"
   ]
  },
  {
   "cell_type": "code",
   "execution_count": 94,
   "id": "76fc1f8f",
   "metadata": {},
   "outputs": [],
   "source": [
    "stmt=\"INSERT INTO test VALUES(?,?,?,?)\""
   ]
  },
  {
   "cell_type": "code",
   "execution_count": 95,
   "id": "48a91143",
   "metadata": {},
   "outputs": [
    {
     "data": {
      "text/plain": [
       "<sqlite3.Cursor at 0x7ff7ebc32420>"
      ]
     },
     "execution_count": 95,
     "metadata": {},
     "output_type": "execute_result"
    }
   ],
   "source": [
    "con.executemany(stmt,data)"
   ]
  },
  {
   "cell_type": "markdown",
   "id": "aa11c7ea",
   "metadata": {},
   "source": [
    "### 完成資料更新"
   ]
  },
  {
   "cell_type": "code",
   "execution_count": 96,
   "id": "eadcd330",
   "metadata": {},
   "outputs": [
    {
     "data": {
      "text/plain": [
       "<function Connection.commit>"
      ]
     },
     "execution_count": 96,
     "metadata": {},
     "output_type": "execute_result"
    }
   ],
   "source": [
    "con.commit"
   ]
  },
  {
   "cell_type": "markdown",
   "id": "54277993",
   "metadata": {},
   "source": [
    "### 取出表格test內所有資料。"
   ]
  },
  {
   "cell_type": "code",
   "execution_count": 97,
   "id": "21043e6b",
   "metadata": {},
   "outputs": [],
   "source": [
    "cursor=con.execute('select * from test')"
   ]
  },
  {
   "cell_type": "code",
   "execution_count": 98,
   "id": "ff3f0cf3",
   "metadata": {},
   "outputs": [],
   "source": [
    "rows=cursor.fetchall()"
   ]
  },
  {
   "cell_type": "code",
   "execution_count": 99,
   "id": "91c783d4",
   "metadata": {},
   "outputs": [
    {
     "data": {
      "text/plain": [
       "[('Atlanta', 'Gerogia', 1.25, 6),\n",
       " ('Tallahassee', 'Florida', 2.6, 3),\n",
       " ('Scaramento', 'California', 1.7, 5)]"
      ]
     },
     "execution_count": 99,
     "metadata": {},
     "output_type": "execute_result"
    }
   ],
   "source": [
    "rows"
   ]
  },
  {
   "cell_type": "code",
   "execution_count": 100,
   "id": "af3d60f0",
   "metadata": {},
   "outputs": [
    {
     "data": {
      "text/plain": [
       "(('a', None, None, None, None, None, None),\n",
       " ('b', None, None, None, None, None, None),\n",
       " ('c', None, None, None, None, None, None),\n",
       " ('d', None, None, None, None, None, None))"
      ]
     },
     "execution_count": 100,
     "metadata": {},
     "output_type": "execute_result"
    }
   ],
   "source": [
    "cursor.description"
   ]
  },
  {
   "cell_type": "code",
   "execution_count": 101,
   "id": "38778d9f",
   "metadata": {},
   "outputs": [
    {
     "data": {
      "text/html": [
       "<div>\n",
       "<style scoped>\n",
       "    .dataframe tbody tr th:only-of-type {\n",
       "        vertical-align: middle;\n",
       "    }\n",
       "\n",
       "    .dataframe tbody tr th {\n",
       "        vertical-align: top;\n",
       "    }\n",
       "\n",
       "    .dataframe thead th {\n",
       "        text-align: right;\n",
       "    }\n",
       "</style>\n",
       "<table border=\"1\" class=\"dataframe\">\n",
       "  <thead>\n",
       "    <tr style=\"text-align: right;\">\n",
       "      <th></th>\n",
       "      <th>a</th>\n",
       "      <th>b</th>\n",
       "      <th>c</th>\n",
       "      <th>d</th>\n",
       "    </tr>\n",
       "  </thead>\n",
       "  <tbody>\n",
       "    <tr>\n",
       "      <th>0</th>\n",
       "      <td>Atlanta</td>\n",
       "      <td>Gerogia</td>\n",
       "      <td>1.25</td>\n",
       "      <td>6</td>\n",
       "    </tr>\n",
       "    <tr>\n",
       "      <th>1</th>\n",
       "      <td>Tallahassee</td>\n",
       "      <td>Florida</td>\n",
       "      <td>2.60</td>\n",
       "      <td>3</td>\n",
       "    </tr>\n",
       "    <tr>\n",
       "      <th>2</th>\n",
       "      <td>Scaramento</td>\n",
       "      <td>California</td>\n",
       "      <td>1.70</td>\n",
       "      <td>5</td>\n",
       "    </tr>\n",
       "  </tbody>\n",
       "</table>\n",
       "</div>"
      ],
      "text/plain": [
       "             a           b     c  d\n",
       "0      Atlanta     Gerogia  1.25  6\n",
       "1  Tallahassee     Florida  2.60  3\n",
       "2   Scaramento  California  1.70  5"
      ]
     },
     "execution_count": 101,
     "metadata": {},
     "output_type": "execute_result"
    }
   ],
   "source": [
    "pd.DataFrame(rows,columns=[x[0] for x in cursor.description])"
   ]
  },
  {
   "cell_type": "markdown",
   "id": "e082bb4f",
   "metadata": {},
   "source": [
    "### SQLAlchemy"
   ]
  },
  {
   "cell_type": "code",
   "execution_count": 102,
   "id": "6c14b2c7",
   "metadata": {},
   "outputs": [],
   "source": [
    "import sqlalchemy as sqla"
   ]
  },
  {
   "cell_type": "code",
   "execution_count": 103,
   "id": "e0d23dac",
   "metadata": {},
   "outputs": [],
   "source": [
    "db=sqla.create_engine('sqlite:///mydata.sqlite')"
   ]
  },
  {
   "cell_type": "code",
   "execution_count": 104,
   "id": "26e703c8",
   "metadata": {},
   "outputs": [
    {
     "data": {
      "text/html": [
       "<div>\n",
       "<style scoped>\n",
       "    .dataframe tbody tr th:only-of-type {\n",
       "        vertical-align: middle;\n",
       "    }\n",
       "\n",
       "    .dataframe tbody tr th {\n",
       "        vertical-align: top;\n",
       "    }\n",
       "\n",
       "    .dataframe thead th {\n",
       "        text-align: right;\n",
       "    }\n",
       "</style>\n",
       "<table border=\"1\" class=\"dataframe\">\n",
       "  <thead>\n",
       "    <tr style=\"text-align: right;\">\n",
       "      <th></th>\n",
       "      <th>a</th>\n",
       "      <th>b</th>\n",
       "      <th>c</th>\n",
       "      <th>d</th>\n",
       "    </tr>\n",
       "  </thead>\n",
       "  <tbody>\n",
       "  </tbody>\n",
       "</table>\n",
       "</div>"
      ],
      "text/plain": [
       "Empty DataFrame\n",
       "Columns: [a, b, c, d]\n",
       "Index: []"
      ]
     },
     "execution_count": 104,
     "metadata": {},
     "output_type": "execute_result"
    }
   ],
   "source": [
    "pd.read_sql('select * from test' , db)"
   ]
  }
 ],
 "metadata": {
  "kernelspec": {
   "display_name": "Python 3 (ipykernel)",
   "language": "python",
   "name": "python3"
  },
  "language_info": {
   "codemirror_mode": {
    "name": "ipython",
    "version": 3
   },
   "file_extension": ".py",
   "mimetype": "text/x-python",
   "name": "python",
   "nbconvert_exporter": "python",
   "pygments_lexer": "ipython3",
   "version": "3.9.12"
  }
 },
 "nbformat": 4,
 "nbformat_minor": 5
}
