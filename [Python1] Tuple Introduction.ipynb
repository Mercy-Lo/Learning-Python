{
 "cells": [
  {
   "cell_type": "markdown",
   "id": "aef1d3c4",
   "metadata": {},
   "source": [
    "# Chapter 3 內建資料結構, 函式和檔案"
   ]
  },
  {
   "cell_type": "markdown",
   "id": "c6564ebf",
   "metadata": {},
   "source": [
    "# Tuple Introduction"
   ]
  },
  {
   "cell_type": "markdown",
   "id": "0fb199e4",
   "metadata": {},
   "source": [
    "### Tuple 元件：是一個固定長度、immutable的Python序列物件。"
   ]
  },
  {
   "cell_type": "code",
   "execution_count": 1,
   "id": "ebc9f196",
   "metadata": {},
   "outputs": [
    {
     "name": "stdout",
     "output_type": "stream",
     "text": [
      "tup: (1, 2, 3, 4, 5, 6, 7)\n"
     ]
    }
   ],
   "source": [
    "tup=1,2,3,4,5,6,7\n",
    "print(f'tup: {tup}')"
   ]
  },
  {
   "cell_type": "markdown",
   "id": "bd54b2fe",
   "metadata": {},
   "source": [
    "### () 可以用來定義不同內容的tuple。"
   ]
  },
  {
   "cell_type": "code",
   "execution_count": 2,
   "id": "ad14e151",
   "metadata": {},
   "outputs": [
    {
     "name": "stdout",
     "output_type": "stream",
     "text": [
      "nested_tup: (('w', 'o'), ('r', 'l', 'd'))\n"
     ]
    }
   ],
   "source": [
    "nested_tup=('w','o'),('r','l','d')\n",
    "print(f'nested_tup: {nested_tup}')"
   ]
  },
  {
   "cell_type": "markdown",
   "id": "f3ce6b60",
   "metadata": {},
   "source": [
    "### tuple() 可以將任何序列或疊代器轉化爲tuple。"
   ]
  },
  {
   "cell_type": "code",
   "execution_count": 3,
   "id": "5f2baace",
   "metadata": {},
   "outputs": [
    {
     "name": "stdout",
     "output_type": "stream",
     "text": [
      "num_tup: (1, 2, 3, 4) \n"
     ]
    }
   ],
   "source": [
    "num_tup=tuple([1,2,3,4])\n",
    "print(f'num_tup: {num_tup} ')"
   ]
  },
  {
   "cell_type": "code",
   "execution_count": 4,
   "id": "7d8fa2da",
   "metadata": {},
   "outputs": [
    {
     "name": "stdout",
     "output_type": "stream",
     "text": [
      "str_tup: ('p', 'y', 't', 'h', 'o', 'n')\n"
     ]
    }
   ],
   "source": [
    "str_tup=tuple('python')\n",
    "print(f'str_tup: {str_tup}')"
   ]
  },
  {
   "cell_type": "markdown",
   "id": "888a58fc",
   "metadata": {},
   "source": [
    "### [] 可以存取tuple中的個別元素，0為Index的開頭。"
   ]
  },
  {
   "cell_type": "code",
   "execution_count": 5,
   "id": "ac9a2b75",
   "metadata": {},
   "outputs": [
    {
     "name": "stdout",
     "output_type": "stream",
     "text": [
      "num_tup[3]: 4\n",
      "str_tup[3]: t\n"
     ]
    }
   ],
   "source": [
    "print(f'num_tup[3]: {num_tup[3]}')\n",
    "print(f'str_tup[3]: {str_tup[2]}')"
   ]
  },
  {
   "cell_type": "markdown",
   "id": "1552659b",
   "metadata": {},
   "source": [
    "### tuple 內的物件不可被修改。'tuple' object does not support item assignment"
   ]
  },
  {
   "cell_type": "code",
   "execution_count": 6,
   "id": "d369018d",
   "metadata": {},
   "outputs": [
    {
     "name": "stdout",
     "output_type": "stream",
     "text": [
      "num_tup: (1, 2, 3, 4)\n"
     ]
    },
    {
     "ename": "TypeError",
     "evalue": "'tuple' object does not support item assignment",
     "output_type": "error",
     "traceback": [
      "\u001b[0;31m---------------------------------------------------------------------------\u001b[0m",
      "\u001b[0;31mTypeError\u001b[0m                                 Traceback (most recent call last)",
      "Input \u001b[0;32mIn [6]\u001b[0m, in \u001b[0;36m<cell line: 2>\u001b[0;34m()\u001b[0m\n\u001b[1;32m      1\u001b[0m \u001b[38;5;28mprint\u001b[39m(\u001b[38;5;124mf\u001b[39m\u001b[38;5;124m'\u001b[39m\u001b[38;5;124mnum_tup: \u001b[39m\u001b[38;5;132;01m{\u001b[39;00mnum_tup\u001b[38;5;132;01m}\u001b[39;00m\u001b[38;5;124m'\u001b[39m)\n\u001b[0;32m----> 2\u001b[0m num_tup[\u001b[38;5;241m0\u001b[39m]\u001b[38;5;241m=\u001b[39m\u001b[38;5;241m10\u001b[39m\n",
      "\u001b[0;31mTypeError\u001b[0m: 'tuple' object does not support item assignment"
     ]
    }
   ],
   "source": [
    "print(f'num_tup: {num_tup}')\n",
    "num_tup[0]=10"
   ]
  },
  {
   "cell_type": "markdown",
   "id": "9f72ed95",
   "metadata": {},
   "source": [
    "### 如果tuple內存在list，可以針對list本身進行修改。"
   ]
  },
  {
   "cell_type": "code",
   "execution_count": 7,
   "id": "63d2fadb",
   "metadata": {},
   "outputs": [
    {
     "name": "stdout",
     "output_type": "stream",
     "text": [
      "tup: ('cool', [1, 2, 3], False)\n"
     ]
    }
   ],
   "source": [
    "tup=tuple(['cool',[1,2],False])\n",
    "tup[1].append(3)\n",
    "print(f'tup: {tup}')"
   ]
  },
  {
   "cell_type": "markdown",
   "id": "5cc590e9",
   "metadata": {},
   "source": [
    "### 可以使用 + 將不同tuple連接起來。 文字(string)後面務必加上逗號, 才可以順利連成tuple。"
   ]
  },
  {
   "cell_type": "code",
   "execution_count": 8,
   "id": "afc70491",
   "metadata": {},
   "outputs": [
    {
     "name": "stdout",
     "output_type": "stream",
     "text": [
      "tup2: ('cool', [1, 2, 3], False, 'starfish', 4, 5, 6, 'ocean')\n"
     ]
    }
   ],
   "source": [
    "tup2=tup+('starfish',)+(4,5,6)+('ocean',)\n",
    "print(f'tup2: {tup2}')"
   ]
  },
  {
   "cell_type": "markdown",
   "id": "c1732927",
   "metadata": {},
   "source": [
    "### ＊可以重複tuple內的物件。"
   ]
  },
  {
   "cell_type": "code",
   "execution_count": 9,
   "id": "238fcbfd",
   "metadata": {},
   "outputs": [
    {
     "name": "stdout",
     "output_type": "stream",
     "text": [
      "tup: ('cool', [1, 2, 3], False, 'cool', [1, 2, 3], False, 'cool', [1, 2, 3], False)\n"
     ]
    }
   ],
   "source": [
    "print(f'tup: {tup*3}')"
   ]
  },
  {
   "cell_type": "markdown",
   "id": "b45d91b1",
   "metadata": {},
   "source": [
    "### 提供一串變數給tuple，tuple會自動將值依序拆分給變數。"
   ]
  },
  {
   "cell_type": "code",
   "execution_count": 10,
   "id": "e562d6f0",
   "metadata": {},
   "outputs": [
    {
     "name": "stdout",
     "output_type": "stream",
     "text": [
      "num_tup: (1, 2, 3, 4)\n",
      "4\n"
     ]
    }
   ],
   "source": [
    "print(f'num_tup: {num_tup}')\n",
    "a,b,c,d=num_tup\n",
    "print(d)"
   ]
  },
  {
   "cell_type": "markdown",
   "id": "c7164dad",
   "metadata": {},
   "source": [
    "### 拆分變數的功能，可以將變數內容互換。"
   ]
  },
  {
   "cell_type": "code",
   "execution_count": 11,
   "id": "34e6ac39",
   "metadata": {},
   "outputs": [
    {
     "name": "stdout",
     "output_type": "stream",
     "text": [
      "num_tup: (1, 2, 3, 4)\n",
      "a=1; b=2 ; c=3; d4\n",
      "a=4; b=3 ; c=2; d1\n"
     ]
    }
   ],
   "source": [
    "print(f'num_tup: {num_tup}')\n",
    "a,b,c,d=num_tup\n",
    "print(f'a={a}; b={b} ; c={c}; d{d}')\n",
    "d,c,b,a=a,b,c,d\n",
    "print(f'a={a}; b={b} ; c={c}; d{d}')"
   ]
  },
  {
   "cell_type": "markdown",
   "id": "af251e51",
   "metadata": {},
   "source": [
    "### 拆分變數的時機：對list做疊代。"
   ]
  },
  {
   "cell_type": "code",
   "execution_count": 12,
   "id": "07a1599a",
   "metadata": {},
   "outputs": [
    {
     "name": "stdout",
     "output_type": "stream",
     "text": [
      "a=1,b=2,c=3\n",
      "a=4,b=5,c=6\n",
      "a=7,b=8,c=9\n"
     ]
    }
   ],
   "source": [
    "seq=[(1,2,3),(4,5,6),(7,8,9)]\n",
    "for a,b,c in seq:\n",
    "    print('a={0},b={1},c={2}'.format(a,b,c))"
   ]
  },
  {
   "cell_type": "markdown",
   "id": "a4f4454f",
   "metadata": {},
   "source": [
    "### *rest 可抓取任意位置、長度的list (rest可改為任何的英文字母或是底線_)"
   ]
  },
  {
   "cell_type": "code",
   "execution_count": 13,
   "id": "9633e431",
   "metadata": {},
   "outputs": [
    {
     "name": "stdout",
     "output_type": "stream",
     "text": [
      "str_tup: ('p', 'y', 't', 'h', 'o', 'n')\n",
      "a,b= ('p', 'y')\n",
      "_= ['t', 'h', 'o', 'n']\n"
     ]
    }
   ],
   "source": [
    "print(f'str_tup: {str_tup}')\n",
    "a,b,*_=str_tup\n",
    "print(f'a,b= {a,b}')\n",
    "print(f'_= {_}')"
   ]
  },
  {
   "cell_type": "markdown",
   "id": "eb924c56",
   "metadata": {},
   "source": [
    "### .count可以計算tuple內物件的數量。"
   ]
  },
  {
   "cell_type": "code",
   "execution_count": 14,
   "id": "409960e7",
   "metadata": {},
   "outputs": [
    {
     "name": "stdout",
     "output_type": "stream",
     "text": [
      "tup:('cool', [1, 2, 3], False, 'cool', [1, 2, 3], False, 'cool', [1, 2, 3], False)\n"
     ]
    },
    {
     "data": {
      "text/plain": [
       "3"
      ]
     },
     "execution_count": 14,
     "metadata": {},
     "output_type": "execute_result"
    }
   ],
   "source": [
    "print(f'tup:{tup*3}')\n",
    "tup=tup*3\n",
    "tup.count(False)"
   ]
  }
 ],
 "metadata": {
  "kernelspec": {
   "display_name": "Python 3 (ipykernel)",
   "language": "python",
   "name": "python3"
  },
  "language_info": {
   "codemirror_mode": {
    "name": "ipython",
    "version": 3
   },
   "file_extension": ".py",
   "mimetype": "text/x-python",
   "name": "python",
   "nbconvert_exporter": "python",
   "pygments_lexer": "ipython3",
   "version": "3.9.12"
  }
 },
 "nbformat": 4,
 "nbformat_minor": 5
}
