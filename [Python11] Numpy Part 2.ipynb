{
 "cells": [
  {
   "cell_type": "markdown",
   "id": "2657ecfd",
   "metadata": {},
   "source": [
    "# Chapter 4 Numpy基礎：陣列和向量化計算"
   ]
  },
  {
   "cell_type": "markdown",
   "id": "875e8833",
   "metadata": {},
   "source": [
    "## Numpy Part2"
   ]
  },
  {
   "cell_type": "markdown",
   "id": "2e5b3630",
   "metadata": {},
   "source": [
    "### 花式索引"
   ]
  },
  {
   "cell_type": "code",
   "execution_count": 1,
   "id": "cdb266f9",
   "metadata": {},
   "outputs": [],
   "source": [
    "import numpy as np"
   ]
  },
  {
   "cell_type": "code",
   "execution_count": 2,
   "id": "11c34862",
   "metadata": {
    "scrolled": true
   },
   "outputs": [],
   "source": [
    "arr= np.empty((8,4))"
   ]
  },
  {
   "cell_type": "code",
   "execution_count": 3,
   "id": "322c8c51",
   "metadata": {},
   "outputs": [],
   "source": [
    "for i in range(8):\n",
    "    arr[i]= i"
   ]
  },
  {
   "cell_type": "code",
   "execution_count": 4,
   "id": "9dfc020e",
   "metadata": {},
   "outputs": [
    {
     "data": {
      "text/plain": [
       "array([[0., 0., 0., 0.],\n",
       "       [1., 1., 1., 1.],\n",
       "       [2., 2., 2., 2.],\n",
       "       [3., 3., 3., 3.],\n",
       "       [4., 4., 4., 4.],\n",
       "       [5., 5., 5., 5.],\n",
       "       [6., 6., 6., 6.],\n",
       "       [7., 7., 7., 7.]])"
      ]
     },
     "execution_count": 4,
     "metadata": {},
     "output_type": "execute_result"
    }
   ],
   "source": [
    "arr"
   ]
  },
  {
   "cell_type": "markdown",
   "id": "0ac0392e",
   "metadata": {},
   "source": [
    "### 特定索引，可以給予一個有順序的list或ndarray。"
   ]
  },
  {
   "cell_type": "code",
   "execution_count": 5,
   "id": "f5c18349",
   "metadata": {},
   "outputs": [
    {
     "data": {
      "text/plain": [
       "array([[4., 4., 4., 4.],\n",
       "       [5., 5., 5., 5.],\n",
       "       [7., 7., 7., 7.],\n",
       "       [0., 0., 0., 0.]])"
      ]
     },
     "execution_count": 5,
     "metadata": {},
     "output_type": "execute_result"
    }
   ],
   "source": [
    "arr [[4,5,7,0]]"
   ]
  },
  {
   "cell_type": "markdown",
   "id": "5942e884",
   "metadata": {},
   "source": [
    "### 如果list內的元素為負值，可以讓array由後面數回前面。"
   ]
  },
  {
   "cell_type": "code",
   "execution_count": 6,
   "id": "a8a6db8f",
   "metadata": {},
   "outputs": [
    {
     "data": {
      "text/plain": [
       "array([[5., 5., 5., 5.],\n",
       "       [4., 4., 4., 4.],\n",
       "       [7., 7., 7., 7.],\n",
       "       [3., 3., 3., 3.]])"
      ]
     },
     "execution_count": 6,
     "metadata": {},
     "output_type": "execute_result"
    }
   ],
   "source": [
    "arr[[-3,-4,-1,-5]]"
   ]
  },
  {
   "cell_type": "markdown",
   "id": "3afd9db5",
   "metadata": {},
   "source": [
    "### arange(): 可以產出有順序的array。 reshape((x,y))：可以將array變成多維矩陣。"
   ]
  },
  {
   "cell_type": "code",
   "execution_count": 7,
   "id": "69d0be06",
   "metadata": {},
   "outputs": [
    {
     "data": {
      "text/plain": [
       "array([[ 0,  1,  2,  3],\n",
       "       [ 4,  5,  6,  7],\n",
       "       [ 8,  9, 10, 11],\n",
       "       [12, 13, 14, 15],\n",
       "       [16, 17, 18, 19],\n",
       "       [20, 21, 22, 23],\n",
       "       [24, 25, 26, 27],\n",
       "       [28, 29, 30, 31]])"
      ]
     },
     "execution_count": 7,
     "metadata": {},
     "output_type": "execute_result"
    }
   ],
   "source": [
    "arr= np.arange(32).reshape((8,4))\n",
    "arr"
   ]
  },
  {
   "cell_type": "code",
   "execution_count": 8,
   "id": "5f12cc22",
   "metadata": {},
   "outputs": [
    {
     "data": {
      "text/plain": [
       "array([ 4, 23, 29, 10])"
      ]
     },
     "execution_count": 8,
     "metadata": {},
     "output_type": "execute_result"
    }
   ],
   "source": [
    "arr[[1,5,7,2],[0,3,1,2]]"
   ]
  },
  {
   "cell_type": "markdown",
   "id": "13135980",
   "metadata": {},
   "source": [
    "### 先從arr取出4列 [1,5,7,2], 再維持取出來的值[:]，並將值做順序調整 [0,3,1,2]。"
   ]
  },
  {
   "cell_type": "code",
   "execution_count": 9,
   "id": "f9de35f6",
   "metadata": {},
   "outputs": [
    {
     "data": {
      "text/plain": [
       "array([[ 4,  7,  5,  6],\n",
       "       [20, 23, 21, 22],\n",
       "       [28, 31, 29, 30],\n",
       "       [ 8, 11,  9, 10]])"
      ]
     },
     "execution_count": 9,
     "metadata": {},
     "output_type": "execute_result"
    }
   ],
   "source": [
    "arr[[1,5,7,2]][:,[0,3,1,2]]"
   ]
  },
  {
   "cell_type": "markdown",
   "id": "1e70a2e3",
   "metadata": {},
   "source": [
    "### 轉置陣列和軸交換"
   ]
  },
  {
   "cell_type": "markdown",
   "id": "ab8b58a2",
   "metadata": {},
   "source": [
    "### reshaping 重新塑形會改變view，不會把底層的資料重新安排。"
   ]
  },
  {
   "cell_type": "code",
   "execution_count": 10,
   "id": "6b8e42d3",
   "metadata": {},
   "outputs": [],
   "source": [
    "import numpy as np"
   ]
  },
  {
   "cell_type": "code",
   "execution_count": 11,
   "id": "8876e46c",
   "metadata": {},
   "outputs": [],
   "source": [
    "arr= np.arange(15).reshape((3,5))"
   ]
  },
  {
   "cell_type": "code",
   "execution_count": 12,
   "id": "bee495a0",
   "metadata": {},
   "outputs": [
    {
     "data": {
      "text/plain": [
       "array([[ 0,  1,  2,  3,  4],\n",
       "       [ 5,  6,  7,  8,  9],\n",
       "       [10, 11, 12, 13, 14]])"
      ]
     },
     "execution_count": 12,
     "metadata": {},
     "output_type": "execute_result"
    }
   ],
   "source": [
    "arr"
   ]
  },
  {
   "cell_type": "markdown",
   "id": "1a3ea0dd",
   "metadata": {},
   "source": [
    "### T： 可以將行翻轉成列。"
   ]
  },
  {
   "cell_type": "code",
   "execution_count": 13,
   "id": "62c68812",
   "metadata": {},
   "outputs": [
    {
     "data": {
      "text/plain": [
       "array([[ 0,  5, 10],\n",
       "       [ 1,  6, 11],\n",
       "       [ 2,  7, 12],\n",
       "       [ 3,  8, 13],\n",
       "       [ 4,  9, 14]])"
      ]
     },
     "execution_count": 13,
     "metadata": {},
     "output_type": "execute_result"
    }
   ],
   "source": [
    "arr.T"
   ]
  },
  {
   "cell_type": "markdown",
   "id": "7a70b081",
   "metadata": {},
   "source": [
    "### np.dot(arr1,arr2) 計算矩陣乘積。"
   ]
  },
  {
   "cell_type": "code",
   "execution_count": 14,
   "id": "3e286b51",
   "metadata": {},
   "outputs": [
    {
     "data": {
      "text/plain": [
       "6"
      ]
     },
     "execution_count": 14,
     "metadata": {},
     "output_type": "execute_result"
    }
   ],
   "source": [
    "np.dot([2],[3])"
   ]
  },
  {
   "cell_type": "code",
   "execution_count": 15,
   "id": "c89e0740",
   "metadata": {},
   "outputs": [
    {
     "data": {
      "text/plain": [
       "array([[0, 1],\n",
       "       [2, 3]])"
      ]
     },
     "execution_count": 15,
     "metadata": {},
     "output_type": "execute_result"
    }
   ],
   "source": [
    "arr=np.arange(4).reshape((2,2))\n",
    "arr"
   ]
  },
  {
   "cell_type": "code",
   "execution_count": 16,
   "id": "16bc2e09",
   "metadata": {},
   "outputs": [
    {
     "data": {
      "text/plain": [
       "array([[0, 2],\n",
       "       [1, 3]])"
      ]
     },
     "execution_count": 16,
     "metadata": {},
     "output_type": "execute_result"
    }
   ],
   "source": [
    "arr.T"
   ]
  },
  {
   "cell_type": "code",
   "execution_count": 17,
   "id": "3a8bb630",
   "metadata": {},
   "outputs": [
    {
     "data": {
      "text/plain": [
       "array([[ 4,  6],\n",
       "       [ 6, 10]])"
      ]
     },
     "execution_count": 17,
     "metadata": {},
     "output_type": "execute_result"
    }
   ],
   "source": [
    "np.dot(arr.T,arr)"
   ]
  },
  {
   "cell_type": "markdown",
   "id": "7df4dd25",
   "metadata": {},
   "source": [
    "#### reshape(x,y,z)：代表這個陣列有三個維度，最外面那層[],中間那層[],最裡面那些元素。"
   ]
  },
  {
   "cell_type": "code",
   "execution_count": 18,
   "id": "103b2fe3",
   "metadata": {},
   "outputs": [
    {
     "data": {
      "text/plain": [
       "array([[[ 0,  1,  2,  3],\n",
       "        [ 4,  5,  6,  7]],\n",
       "\n",
       "       [[ 8,  9, 10, 11],\n",
       "        [12, 13, 14, 15]]])"
      ]
     },
     "execution_count": 18,
     "metadata": {},
     "output_type": "execute_result"
    }
   ],
   "source": [
    "arr =np.arange(16).reshape(2,2,4)\n",
    "arr"
   ]
  },
  {
   "cell_type": "markdown",
   "id": "359e6da5",
   "metadata": {},
   "source": [
    "### transpose(x,y,z): 代表這裡有3個維度，包含0,1,2，0代表最外層，也就是(0,8)，1代表中間層，也就是(0,4)，2代表最內層，也就是（0,1,2,3)\n",
    "### transpose(1,0,2): 代表最外層改為(0,4),中間層改為(0,8)，最內層維持不動為（0,1,2,3)。"
   ]
  },
  {
   "cell_type": "code",
   "execution_count": 19,
   "id": "e0b4c43e",
   "metadata": {},
   "outputs": [
    {
     "data": {
      "text/plain": [
       "array([[[ 0,  1,  2,  3],\n",
       "        [ 8,  9, 10, 11]],\n",
       "\n",
       "       [[ 4,  5,  6,  7],\n",
       "        [12, 13, 14, 15]]])"
      ]
     },
     "execution_count": 19,
     "metadata": {},
     "output_type": "execute_result"
    }
   ],
   "source": [
    "arr.transpose((1,0,2))"
   ]
  },
  {
   "cell_type": "code",
   "execution_count": 20,
   "id": "a7950cc2",
   "metadata": {},
   "outputs": [
    {
     "data": {
      "text/plain": [
       "array([[[ 0,  8],\n",
       "        [ 4, 12]],\n",
       "\n",
       "       [[ 1,  9],\n",
       "        [ 5, 13]],\n",
       "\n",
       "       [[ 2, 10],\n",
       "        [ 6, 14]],\n",
       "\n",
       "       [[ 3, 11],\n",
       "        [ 7, 15]]])"
      ]
     },
     "execution_count": 20,
     "metadata": {},
     "output_type": "execute_result"
    }
   ],
   "source": [
    "np.transpose(arr)"
   ]
  },
  {
   "cell_type": "markdown",
   "id": "da0b9c56",
   "metadata": {},
   "source": [
    "### swapaxes(x,y): x,y表示想要互相交換的維度。這裡總共有3個維度，包含0,1,2，0維度代表（0,8),1維度代表（0,4),2維度代表（0,1,2,3)。\n",
    "### swapaxes(1,2): 1維度與2維度交換，表示0維持為（0,8), 1維度改為（0,1,2,3), 2維度改為(0,4)。\n",
    "### swapaxes(): 不進行資料複製，只回傳view。"
   ]
  },
  {
   "cell_type": "code",
   "execution_count": 21,
   "id": "d3934526",
   "metadata": {},
   "outputs": [
    {
     "data": {
      "text/plain": [
       "array([[[ 0,  1,  2,  3],\n",
       "        [ 4,  5,  6,  7]],\n",
       "\n",
       "       [[ 8,  9, 10, 11],\n",
       "        [12, 13, 14, 15]]])"
      ]
     },
     "execution_count": 21,
     "metadata": {},
     "output_type": "execute_result"
    }
   ],
   "source": [
    "arr=np.arange(16).reshape(2,2,4)\n",
    "arr"
   ]
  },
  {
   "cell_type": "code",
   "execution_count": 22,
   "id": "2fe8bf7c",
   "metadata": {},
   "outputs": [
    {
     "data": {
      "text/plain": [
       "array([[[ 0,  4],\n",
       "        [ 1,  5],\n",
       "        [ 2,  6],\n",
       "        [ 3,  7]],\n",
       "\n",
       "       [[ 8, 12],\n",
       "        [ 9, 13],\n",
       "        [10, 14],\n",
       "        [11, 15]]])"
      ]
     },
     "execution_count": 22,
     "metadata": {},
     "output_type": "execute_result"
    }
   ],
   "source": [
    "arr.swapaxes(1,2)"
   ]
  },
  {
   "cell_type": "markdown",
   "id": "6a972e83",
   "metadata": {},
   "source": [
    "### 全域函式：快速元素級別陣列函式，對陣列裡的資料，執行元素級別運算的函式，也稱ufunc。"
   ]
  },
  {
   "cell_type": "code",
   "execution_count": 23,
   "id": "8a1d4083",
   "metadata": {},
   "outputs": [
    {
     "data": {
      "text/plain": [
       "array([0, 1, 2, 3, 4, 5, 6, 7, 8, 9])"
      ]
     },
     "execution_count": 23,
     "metadata": {},
     "output_type": "execute_result"
    }
   ],
   "source": [
    "arr= np.arange(10)\n",
    "arr"
   ]
  },
  {
   "cell_type": "markdown",
   "id": "9ec770af",
   "metadata": {},
   "source": [
    "### sqrt(): 開根號，屬於一元的全域函式。"
   ]
  },
  {
   "cell_type": "code",
   "execution_count": 24,
   "id": "18733fde",
   "metadata": {},
   "outputs": [
    {
     "data": {
      "text/plain": [
       "array([0.        , 1.        , 1.41421356, 1.73205081, 2.        ,\n",
       "       2.23606798, 2.44948974, 2.64575131, 2.82842712, 3.        ])"
      ]
     },
     "execution_count": 24,
     "metadata": {},
     "output_type": "execute_result"
    }
   ],
   "source": [
    "np.sqrt(arr)"
   ]
  },
  {
   "cell_type": "markdown",
   "id": "6297c4d4",
   "metadata": {},
   "source": [
    "### exp()：指的是常數e的指數。ｅ=2.7182...無限無理數，屬於一元的全域函式。"
   ]
  },
  {
   "cell_type": "code",
   "execution_count": 25,
   "id": "6bbc8efb",
   "metadata": {},
   "outputs": [
    {
     "data": {
      "text/plain": [
       "array([1.00000000e+00, 2.71828183e+00, 7.38905610e+00, 2.00855369e+01,\n",
       "       5.45981500e+01, 1.48413159e+02, 4.03428793e+02, 1.09663316e+03,\n",
       "       2.98095799e+03, 8.10308393e+03])"
      ]
     },
     "execution_count": 25,
     "metadata": {},
     "output_type": "execute_result"
    }
   ],
   "source": [
    "arr\n",
    "np.exp(arr)"
   ]
  },
  {
   "cell_type": "markdown",
   "id": "0df7cd34",
   "metadata": {},
   "source": [
    "### maximum():可以找出最大值，屬於二元的全域函式。"
   ]
  },
  {
   "cell_type": "code",
   "execution_count": 26,
   "id": "01fc25f2",
   "metadata": {},
   "outputs": [
    {
     "data": {
      "text/plain": [
       "array([ 0.64496294, -0.61813673, -0.76928167, -0.34560339,  0.06471281,\n",
       "        0.51091906, -0.71365475, -0.27177632])"
      ]
     },
     "execution_count": 26,
     "metadata": {},
     "output_type": "execute_result"
    }
   ],
   "source": [
    "x=np.random.randn(8)\n",
    "x"
   ]
  },
  {
   "cell_type": "code",
   "execution_count": 27,
   "id": "67822742",
   "metadata": {},
   "outputs": [
    {
     "data": {
      "text/plain": [
       "array([ 0.19523397, -1.6612966 , -1.21565024, -1.00307517,  0.05741082,\n",
       "        0.28606692,  0.21237459, -0.10989605])"
      ]
     },
     "execution_count": 27,
     "metadata": {},
     "output_type": "execute_result"
    }
   ],
   "source": [
    "y=np.random.randn(8)\n",
    "y"
   ]
  },
  {
   "cell_type": "code",
   "execution_count": 28,
   "id": "18946a31",
   "metadata": {},
   "outputs": [
    {
     "data": {
      "text/plain": [
       "array([ 0.64496294, -0.61813673, -0.76928167, -0.34560339,  0.06471281,\n",
       "        0.51091906,  0.21237459, -0.10989605])"
      ]
     },
     "execution_count": 28,
     "metadata": {},
     "output_type": "execute_result"
    }
   ],
   "source": [
    "np.maximum(x,y)"
   ]
  },
  {
   "cell_type": "markdown",
   "id": "2490fdb5",
   "metadata": {},
   "source": [
    "### modf(): 返回x的整數部分與小數部份，為一元函式，會回傳多個陣列。"
   ]
  },
  {
   "cell_type": "code",
   "execution_count": 29,
   "id": "83479700",
   "metadata": {},
   "outputs": [
    {
     "data": {
      "text/plain": [
       "array([ 1.49901209,  8.52765505, -2.52171906, -3.02262741, -7.07661067,\n",
       "        0.38806585, -4.15872887])"
      ]
     },
     "execution_count": 29,
     "metadata": {},
     "output_type": "execute_result"
    }
   ],
   "source": [
    "arr=np.random.randn(7)*5\n",
    "arr"
   ]
  },
  {
   "cell_type": "code",
   "execution_count": 30,
   "id": "096eaaf4",
   "metadata": {},
   "outputs": [],
   "source": [
    "remaindar, whole_part=np.modf(arr)"
   ]
  },
  {
   "cell_type": "code",
   "execution_count": 31,
   "id": "03d9d000",
   "metadata": {},
   "outputs": [
    {
     "data": {
      "text/plain": [
       "array([ 0.49901209,  0.52765505, -0.52171906, -0.02262741, -0.07661067,\n",
       "        0.38806585, -0.15872887])"
      ]
     },
     "execution_count": 31,
     "metadata": {},
     "output_type": "execute_result"
    }
   ],
   "source": [
    "remaindar #小數部份"
   ]
  },
  {
   "cell_type": "code",
   "execution_count": 32,
   "id": "3f28f88c",
   "metadata": {},
   "outputs": [
    {
     "data": {
      "text/plain": [
       "array([ 1.,  8., -2., -3., -7.,  0., -4.])"
      ]
     },
     "execution_count": 32,
     "metadata": {},
     "output_type": "execute_result"
    }
   ],
   "source": [
    "whole_part #整數部份"
   ]
  },
  {
   "cell_type": "markdown",
   "id": "d4caf336",
   "metadata": {},
   "source": [
    "### 運用全域函式，增加一個out的參數，就可以讓原本的陣列更改為全域函式作用後的陣列。"
   ]
  },
  {
   "cell_type": "code",
   "execution_count": 33,
   "id": "42679bce",
   "metadata": {},
   "outputs": [
    {
     "data": {
      "text/plain": [
       "array([11.49901209, 18.52765505,  7.47828094,  6.97737259,  2.92338933,\n",
       "       10.38806585,  5.84127113])"
      ]
     },
     "execution_count": 33,
     "metadata": {},
     "output_type": "execute_result"
    }
   ],
   "source": [
    "arr2=arr+10\n",
    "arr2"
   ]
  },
  {
   "cell_type": "code",
   "execution_count": 34,
   "id": "de70abec",
   "metadata": {},
   "outputs": [
    {
     "data": {
      "text/plain": [
       "array([3.39101933, 4.30437627, 2.73464457, 2.64147167, 1.70979219,\n",
       "       3.22305226, 2.41687218])"
      ]
     },
     "execution_count": 34,
     "metadata": {},
     "output_type": "execute_result"
    }
   ],
   "source": [
    "np.sqrt(arr2,arr2)"
   ]
  },
  {
   "cell_type": "code",
   "execution_count": 35,
   "id": "7101e9b0",
   "metadata": {},
   "outputs": [
    {
     "data": {
      "text/plain": [
       "array([3.39101933, 4.30437627, 2.73464457, 2.64147167, 1.70979219,\n",
       "       3.22305226, 2.41687218])"
      ]
     },
     "execution_count": 35,
     "metadata": {},
     "output_type": "execute_result"
    }
   ],
   "source": [
    "arr2"
   ]
  },
  {
   "cell_type": "markdown",
   "id": "d327003a",
   "metadata": {},
   "source": [
    "### 一元全域函式"
   ]
  },
  {
   "cell_type": "markdown",
   "id": "9d419efe",
   "metadata": {},
   "source": [
    "### abs(), fabs()：計算絕對值。"
   ]
  },
  {
   "cell_type": "code",
   "execution_count": 36,
   "id": "1a1ac036",
   "metadata": {},
   "outputs": [
    {
     "data": {
      "text/plain": [
       "100"
      ]
     },
     "execution_count": 36,
     "metadata": {},
     "output_type": "execute_result"
    }
   ],
   "source": [
    "np.abs(-100)"
   ]
  },
  {
   "cell_type": "code",
   "execution_count": 37,
   "id": "698fa8bc",
   "metadata": {},
   "outputs": [
    {
     "data": {
      "text/plain": [
       "200.0"
      ]
     },
     "execution_count": 37,
     "metadata": {},
     "output_type": "execute_result"
    }
   ],
   "source": [
    "np.fabs(-200)"
   ]
  },
  {
   "cell_type": "markdown",
   "id": "34d5c77d",
   "metadata": {},
   "source": [
    "### sqrt(): 計算平方根。"
   ]
  },
  {
   "cell_type": "code",
   "execution_count": 38,
   "id": "a7dcc678",
   "metadata": {},
   "outputs": [
    {
     "data": {
      "text/plain": [
       "5.0"
      ]
     },
     "execution_count": 38,
     "metadata": {},
     "output_type": "execute_result"
    }
   ],
   "source": [
    "np.sqrt(25)"
   ]
  },
  {
   "cell_type": "markdown",
   "id": "2a957b65",
   "metadata": {},
   "source": [
    "### square(): 計算平方。"
   ]
  },
  {
   "cell_type": "code",
   "execution_count": 39,
   "id": "cbdae29f",
   "metadata": {},
   "outputs": [
    {
     "data": {
      "text/plain": [
       "900"
      ]
     },
     "execution_count": 39,
     "metadata": {},
     "output_type": "execute_result"
    }
   ],
   "source": [
    "np.square(30)"
   ]
  },
  {
   "cell_type": "markdown",
   "id": "1384970d",
   "metadata": {},
   "source": [
    "### exp(): 求出e的指數值，e=2.7182..."
   ]
  },
  {
   "cell_type": "code",
   "execution_count": 40,
   "id": "26a773f3",
   "metadata": {},
   "outputs": [
    {
     "data": {
      "text/plain": [
       "20.085536923187668"
      ]
     },
     "execution_count": 40,
     "metadata": {},
     "output_type": "execute_result"
    }
   ],
   "source": [
    "np.exp(3)"
   ]
  },
  {
   "cell_type": "markdown",
   "id": "4b47e5e6",
   "metadata": {},
   "source": [
    "### log(),log10(),log2(),log1p: 做自然對數(以e為底), 以10為底，以2為底，以log(1+x)為底"
   ]
  },
  {
   "cell_type": "code",
   "execution_count": 41,
   "id": "f18bdb40",
   "metadata": {},
   "outputs": [
    {
     "data": {
      "text/plain": [
       "2.9998904622918503"
      ]
     },
     "execution_count": 41,
     "metadata": {},
     "output_type": "execute_result"
    }
   ],
   "source": [
    "np.log(20.08333692)"
   ]
  },
  {
   "cell_type": "code",
   "execution_count": 42,
   "id": "02049967",
   "metadata": {},
   "outputs": [
    {
     "data": {
      "text/plain": [
       "3.0"
      ]
     },
     "execution_count": 42,
     "metadata": {},
     "output_type": "execute_result"
    }
   ],
   "source": [
    "np.log10(1000)"
   ]
  },
  {
   "cell_type": "code",
   "execution_count": 43,
   "id": "57d71b31",
   "metadata": {},
   "outputs": [
    {
     "data": {
      "text/plain": [
       "5.0"
      ]
     },
     "execution_count": 43,
     "metadata": {},
     "output_type": "execute_result"
    }
   ],
   "source": [
    "np.log2(32)"
   ]
  },
  {
   "cell_type": "code",
   "execution_count": 44,
   "id": "21cd6e9a",
   "metadata": {},
   "outputs": [
    {
     "data": {
      "text/plain": [
       "1.791759469228055"
      ]
     },
     "execution_count": 44,
     "metadata": {},
     "output_type": "execute_result"
    }
   ],
   "source": [
    "np.log1p(5)"
   ]
  },
  {
   "cell_type": "markdown",
   "id": "e396ee93",
   "metadata": {},
   "source": [
    "### sign(): 計算每個元素的正負值：0,1,-1"
   ]
  },
  {
   "cell_type": "code",
   "execution_count": 45,
   "id": "f689959f",
   "metadata": {},
   "outputs": [
    {
     "data": {
      "text/plain": [
       "-1"
      ]
     },
     "execution_count": 45,
     "metadata": {},
     "output_type": "execute_result"
    }
   ],
   "source": [
    "np.sign(-21)"
   ]
  },
  {
   "cell_type": "code",
   "execution_count": 46,
   "id": "dbcbddb2",
   "metadata": {},
   "outputs": [
    {
     "data": {
      "text/plain": [
       "1"
      ]
     },
     "execution_count": 46,
     "metadata": {},
     "output_type": "execute_result"
    }
   ],
   "source": [
    "np.sign(56)"
   ]
  },
  {
   "cell_type": "code",
   "execution_count": 47,
   "id": "ac22641d",
   "metadata": {},
   "outputs": [
    {
     "data": {
      "text/plain": [
       "0"
      ]
     },
     "execution_count": 47,
     "metadata": {},
     "output_type": "execute_result"
    }
   ],
   "source": [
    "np.sign(0)"
   ]
  },
  {
   "cell_type": "markdown",
   "id": "9a4b8e6f",
   "metadata": {},
   "source": [
    "### ceil(): 向上取整數。"
   ]
  },
  {
   "cell_type": "code",
   "execution_count": 48,
   "id": "a5e79653",
   "metadata": {},
   "outputs": [
    {
     "data": {
      "text/plain": [
       "-6.0"
      ]
     },
     "execution_count": 48,
     "metadata": {},
     "output_type": "execute_result"
    }
   ],
   "source": [
    "np.ceil(-6.17)"
   ]
  },
  {
   "cell_type": "markdown",
   "id": "87c285b6",
   "metadata": {},
   "source": [
    "### floor(): 向下取整數。"
   ]
  },
  {
   "cell_type": "code",
   "execution_count": 49,
   "id": "1b155d97",
   "metadata": {},
   "outputs": [
    {
     "data": {
      "text/plain": [
       "-7.0"
      ]
     },
     "execution_count": 49,
     "metadata": {},
     "output_type": "execute_result"
    }
   ],
   "source": [
    "np.floor(-6.17)"
   ]
  },
  {
   "cell_type": "markdown",
   "id": "ea618ca2",
   "metadata": {},
   "source": [
    "### rint(): 將元素取最靠近的整數，並保留dtype。"
   ]
  },
  {
   "cell_type": "code",
   "execution_count": 50,
   "id": "ddd22773",
   "metadata": {
    "scrolled": true
   },
   "outputs": [
    {
     "data": {
      "text/plain": [
       "-4.0"
      ]
     },
     "execution_count": 50,
     "metadata": {},
     "output_type": "execute_result"
    }
   ],
   "source": [
    "np.rint(-3.9)"
   ]
  },
  {
   "cell_type": "code",
   "execution_count": 51,
   "id": "a9a322c3",
   "metadata": {},
   "outputs": [
    {
     "data": {
      "text/plain": [
       "3.0"
      ]
     },
     "execution_count": 51,
     "metadata": {},
     "output_type": "execute_result"
    }
   ],
   "source": [
    "np.rint(3.15)"
   ]
  },
  {
   "cell_type": "markdown",
   "id": "7ba3d830",
   "metadata": {},
   "source": [
    "### modf(): 取出整數與小數的部分。"
   ]
  },
  {
   "cell_type": "code",
   "execution_count": 52,
   "id": "789d4b5b",
   "metadata": {},
   "outputs": [
    {
     "data": {
      "text/plain": [
       "(0.14000000000000012, 2.0)"
      ]
     },
     "execution_count": 52,
     "metadata": {},
     "output_type": "execute_result"
    }
   ],
   "source": [
    "np.modf(2.14)"
   ]
  },
  {
   "cell_type": "markdown",
   "id": "f95dfdbc",
   "metadata": {},
   "source": [
    "### isnan(): 回傳布林列，確認是否為NaN。"
   ]
  },
  {
   "cell_type": "code",
   "execution_count": 53,
   "id": "3054e102",
   "metadata": {},
   "outputs": [
    {
     "name": "stderr",
     "output_type": "stream",
     "text": [
      "/var/folders/vr/_3sp_lh159v5j4x3967w8v8m0000gn/T/ipykernel_37919/3693353312.py:1: RuntimeWarning: invalid value encountered in sqrt\n",
      "  np.isnan(np.sqrt(-100))\n"
     ]
    },
    {
     "data": {
      "text/plain": [
       "True"
      ]
     },
     "execution_count": 53,
     "metadata": {},
     "output_type": "execute_result"
    }
   ],
   "source": [
    "np.isnan(np.sqrt(-100))"
   ]
  },
  {
   "cell_type": "markdown",
   "id": "91bdb8cd",
   "metadata": {},
   "source": [
    "### isfinite(),isinf(): 回傳是否為有限。"
   ]
  },
  {
   "cell_type": "code",
   "execution_count": 54,
   "id": "bec4a2f7",
   "metadata": {},
   "outputs": [
    {
     "data": {
      "text/plain": [
       "True"
      ]
     },
     "execution_count": 54,
     "metadata": {},
     "output_type": "execute_result"
    }
   ],
   "source": [
    "np.isfinite(1/3)"
   ]
  },
  {
   "cell_type": "markdown",
   "id": "3b710eac",
   "metadata": {},
   "source": [
    "### sin(),cos(),tan(),sinh(),cosh(),tanh(): 三角函數或是雙曲三角函數。"
   ]
  },
  {
   "cell_type": "code",
   "execution_count": 55,
   "id": "7ad7fbe5",
   "metadata": {},
   "outputs": [
    {
     "data": {
      "text/plain": [
       "0.9092974268256817"
      ]
     },
     "execution_count": 55,
     "metadata": {},
     "output_type": "execute_result"
    }
   ],
   "source": [
    "np.sin(2)"
   ]
  },
  {
   "cell_type": "markdown",
   "id": "53e01476",
   "metadata": {},
   "source": [
    "### logical_not(): 相當於~arr，逐元素計算not x 的真值。"
   ]
  },
  {
   "cell_type": "code",
   "execution_count": 56,
   "id": "511a8cf9",
   "metadata": {},
   "outputs": [
    {
     "data": {
      "text/plain": [
       "array([False, False, False, False,  True,  True])"
      ]
     },
     "execution_count": 56,
     "metadata": {},
     "output_type": "execute_result"
    }
   ],
   "source": [
    "arr=np.arange(6)\n",
    "np.logical_not(arr<4)"
   ]
  },
  {
   "cell_type": "markdown",
   "id": "5603f912",
   "metadata": {},
   "source": [
    "### 二元全域函式"
   ]
  },
  {
   "cell_type": "markdown",
   "id": "687a96de",
   "metadata": {},
   "source": [
    "### add(): 把陣列相對位置函式相加。"
   ]
  },
  {
   "cell_type": "code",
   "execution_count": 57,
   "id": "2740fa60",
   "metadata": {},
   "outputs": [],
   "source": [
    "x=np.random.randn(4).reshape(2,2)\n",
    "y=np.random.randn(4).reshape(2,2)"
   ]
  },
  {
   "cell_type": "code",
   "execution_count": 58,
   "id": "d1cbe476",
   "metadata": {},
   "outputs": [
    {
     "data": {
      "text/plain": [
       "array([[-0.00223498,  0.96147204],\n",
       "       [-0.8883916 , -0.35021816]])"
      ]
     },
     "execution_count": 58,
     "metadata": {},
     "output_type": "execute_result"
    }
   ],
   "source": [
    "x"
   ]
  },
  {
   "cell_type": "code",
   "execution_count": 59,
   "id": "4a4258f4",
   "metadata": {},
   "outputs": [
    {
     "data": {
      "text/plain": [
       "array([[ 0.53697861, -0.50054598],\n",
       "       [-0.95000129, -0.32087045]])"
      ]
     },
     "execution_count": 59,
     "metadata": {},
     "output_type": "execute_result"
    }
   ],
   "source": [
    "y"
   ]
  },
  {
   "cell_type": "code",
   "execution_count": 60,
   "id": "9720f150",
   "metadata": {},
   "outputs": [
    {
     "data": {
      "text/plain": [
       "array([[ 0.53474363,  0.46092607],\n",
       "       [-1.83839289, -0.6710886 ]])"
      ]
     },
     "execution_count": 60,
     "metadata": {},
     "output_type": "execute_result"
    }
   ],
   "source": [
    "np.add(x,y)"
   ]
  },
  {
   "cell_type": "markdown",
   "id": "26feef35",
   "metadata": {},
   "source": [
    "### subtract(): 第一個陣列減掉第二個陣列。"
   ]
  },
  {
   "cell_type": "code",
   "execution_count": 61,
   "id": "57f31162",
   "metadata": {},
   "outputs": [
    {
     "data": {
      "text/plain": [
       "array([[-0.53921359,  1.46201802],\n",
       "       [ 0.06160969, -0.02934771]])"
      ]
     },
     "execution_count": 61,
     "metadata": {},
     "output_type": "execute_result"
    }
   ],
   "source": [
    "np.subtract(x,y)"
   ]
  },
  {
   "cell_type": "markdown",
   "id": "c0210018",
   "metadata": {},
   "source": [
    "### multiply(): 兩個陣列相乘。"
   ]
  },
  {
   "cell_type": "code",
   "execution_count": 62,
   "id": "9ecdc6b6",
   "metadata": {},
   "outputs": [
    {
     "data": {
      "text/plain": [
       "array([[-0.00120014, -0.48126096],\n",
       "       [ 0.84397317,  0.11237466]])"
      ]
     },
     "execution_count": 62,
     "metadata": {},
     "output_type": "execute_result"
    }
   ],
   "source": [
    "np.multiply(x,y)"
   ]
  },
  {
   "cell_type": "markdown",
   "id": "e7a37475",
   "metadata": {},
   "source": [
    "### divide(), floor_divide(): 除或整除（去除餘數）"
   ]
  },
  {
   "cell_type": "code",
   "execution_count": 63,
   "id": "b147b09e",
   "metadata": {},
   "outputs": [
    {
     "data": {
      "text/plain": [
       "0.3333333333333333"
      ]
     },
     "execution_count": 63,
     "metadata": {},
     "output_type": "execute_result"
    }
   ],
   "source": [
    "np.divide(1,3)"
   ]
  },
  {
   "cell_type": "code",
   "execution_count": 64,
   "id": "1d857f23",
   "metadata": {},
   "outputs": [
    {
     "data": {
      "text/plain": [
       "0"
      ]
     },
     "execution_count": 64,
     "metadata": {},
     "output_type": "execute_result"
    }
   ],
   "source": [
    "np.floor_divide(1,3)"
   ]
  },
  {
   "cell_type": "markdown",
   "id": "10573cea",
   "metadata": {},
   "source": [
    "### power(): 將第一個陣列作為第二個陣列的次方。"
   ]
  },
  {
   "cell_type": "code",
   "execution_count": 65,
   "id": "697703ed",
   "metadata": {},
   "outputs": [
    {
     "data": {
      "text/plain": [
       "81"
      ]
     },
     "execution_count": 65,
     "metadata": {},
     "output_type": "execute_result"
    }
   ],
   "source": [
    "np.power(3,4)"
   ]
  },
  {
   "cell_type": "markdown",
   "id": "b997dc9a",
   "metadata": {},
   "source": [
    "### maximum(),fmax(): 找到最大值或忽視NAN找到最大值。"
   ]
  },
  {
   "cell_type": "code",
   "execution_count": 66,
   "id": "fa7e3ab1",
   "metadata": {},
   "outputs": [
    {
     "name": "stderr",
     "output_type": "stream",
     "text": [
      "/var/folders/vr/_3sp_lh159v5j4x3967w8v8m0000gn/T/ipykernel_37919/1522434441.py:1: RuntimeWarning: invalid value encountered in sqrt\n",
      "  np.maximum(np.sqrt(x),np.sqrt(y))\n"
     ]
    },
    {
     "data": {
      "text/plain": [
       "array([[nan, nan],\n",
       "       [nan, nan]])"
      ]
     },
     "execution_count": 66,
     "metadata": {},
     "output_type": "execute_result"
    }
   ],
   "source": [
    "np.maximum(np.sqrt(x),np.sqrt(y))"
   ]
  },
  {
   "cell_type": "code",
   "execution_count": 67,
   "id": "529a731e",
   "metadata": {},
   "outputs": [
    {
     "name": "stderr",
     "output_type": "stream",
     "text": [
      "/var/folders/vr/_3sp_lh159v5j4x3967w8v8m0000gn/T/ipykernel_37919/1904332427.py:1: RuntimeWarning: invalid value encountered in sqrt\n",
      "  np.fmax(np.sqrt(x),np.sqrt(y))\n"
     ]
    },
    {
     "data": {
      "text/plain": [
       "array([[0.73278825, 0.98054681],\n",
       "       [       nan,        nan]])"
      ]
     },
     "execution_count": 67,
     "metadata": {},
     "output_type": "execute_result"
    }
   ],
   "source": [
    "np.fmax(np.sqrt(x),np.sqrt(y))"
   ]
  },
  {
   "cell_type": "markdown",
   "id": "715a138c",
   "metadata": {},
   "source": [
    "### mod():取出餘數。"
   ]
  },
  {
   "cell_type": "code",
   "execution_count": 68,
   "id": "60e34acd",
   "metadata": {},
   "outputs": [
    {
     "data": {
      "text/plain": [
       "2"
      ]
     },
     "execution_count": 68,
     "metadata": {},
     "output_type": "execute_result"
    }
   ],
   "source": [
    "np.mod(20,3)"
   ]
  },
  {
   "cell_type": "markdown",
   "id": "2ad9af86",
   "metadata": {},
   "source": [
    "### copysign(): 複製第二個陣列的正負號給第一個陣列。"
   ]
  },
  {
   "cell_type": "code",
   "execution_count": 69,
   "id": "4d8857d8",
   "metadata": {},
   "outputs": [
    {
     "data": {
      "text/plain": [
       "1.0"
      ]
     },
     "execution_count": 69,
     "metadata": {},
     "output_type": "execute_result"
    }
   ],
   "source": [
    "np.copysign(-1,10)"
   ]
  },
  {
   "cell_type": "code",
   "execution_count": 70,
   "id": "a326944b",
   "metadata": {},
   "outputs": [
    {
     "data": {
      "text/plain": [
       "-100.0"
      ]
     },
     "execution_count": 70,
     "metadata": {},
     "output_type": "execute_result"
    }
   ],
   "source": [
    "np.copysign(100,-30)"
   ]
  },
  {
   "cell_type": "markdown",
   "id": "85c9bc8f",
   "metadata": {},
   "source": [
    "### greater(), greater_equal, less(), less_equal(), equal(), not_equal(): 等同於>,>=,<,<=,=,!="
   ]
  },
  {
   "cell_type": "code",
   "execution_count": 71,
   "id": "00019c57",
   "metadata": {},
   "outputs": [
    {
     "data": {
      "text/plain": [
       "array([[False,  True],\n",
       "       [ True, False]])"
      ]
     },
     "execution_count": 71,
     "metadata": {},
     "output_type": "execute_result"
    }
   ],
   "source": [
    "np.greater(x,y)"
   ]
  },
  {
   "cell_type": "markdown",
   "id": "b9552b16",
   "metadata": {},
   "source": [
    "### logical_and(), logical_or, logical_xor: 等同於＆, |, ^"
   ]
  },
  {
   "cell_type": "code",
   "execution_count": 72,
   "id": "e5739e92",
   "metadata": {},
   "outputs": [
    {
     "data": {
      "text/plain": [
       "array([[-0.00223498,  0.96147204],\n",
       "       [-0.8883916 , -0.35021816]])"
      ]
     },
     "execution_count": 72,
     "metadata": {},
     "output_type": "execute_result"
    }
   ],
   "source": [
    "x"
   ]
  },
  {
   "cell_type": "code",
   "execution_count": 73,
   "id": "0da3337c",
   "metadata": {},
   "outputs": [
    {
     "data": {
      "text/plain": [
       "array([[ 0.53697861, -0.50054598],\n",
       "       [-0.95000129, -0.32087045]])"
      ]
     },
     "execution_count": 73,
     "metadata": {},
     "output_type": "execute_result"
    }
   ],
   "source": [
    "y"
   ]
  },
  {
   "cell_type": "code",
   "execution_count": 74,
   "id": "5aa1406b",
   "metadata": {},
   "outputs": [
    {
     "data": {
      "text/plain": [
       "array([[False, False],\n",
       "       [False, False]])"
      ]
     },
     "execution_count": 74,
     "metadata": {},
     "output_type": "execute_result"
    }
   ],
   "source": [
    "np.logical_xor(x,y)"
   ]
  },
  {
   "cell_type": "markdown",
   "id": "24bd57e1",
   "metadata": {},
   "source": [
    "### 用陣列寫陣式導向程式"
   ]
  },
  {
   "cell_type": "markdown",
   "id": "38013e9f",
   "metadata": {},
   "source": [
    "### 向量化：迴圈替換成陣列表達式。"
   ]
  },
  {
   "cell_type": "markdown",
   "id": "6ad12b96",
   "metadata": {},
   "source": [
    "### meshgrid()：可以產生二維矩陣。"
   ]
  },
  {
   "cell_type": "code",
   "execution_count": 75,
   "id": "42b2a043",
   "metadata": {},
   "outputs": [],
   "source": [
    "points= np.arange(-5,5,0.01)"
   ]
  },
  {
   "cell_type": "code",
   "execution_count": 76,
   "id": "9a5010f5",
   "metadata": {},
   "outputs": [],
   "source": [
    "xs,ys= np.meshgrid(points,points)"
   ]
  },
  {
   "cell_type": "code",
   "execution_count": 77,
   "id": "9c6aa2dc",
   "metadata": {},
   "outputs": [
    {
     "data": {
      "text/plain": [
       "array([[-5.  , -5.  , -5.  , ..., -5.  , -5.  , -5.  ],\n",
       "       [-4.99, -4.99, -4.99, ..., -4.99, -4.99, -4.99],\n",
       "       [-4.98, -4.98, -4.98, ..., -4.98, -4.98, -4.98],\n",
       "       ...,\n",
       "       [ 4.97,  4.97,  4.97, ...,  4.97,  4.97,  4.97],\n",
       "       [ 4.98,  4.98,  4.98, ...,  4.98,  4.98,  4.98],\n",
       "       [ 4.99,  4.99,  4.99, ...,  4.99,  4.99,  4.99]])"
      ]
     },
     "execution_count": 77,
     "metadata": {},
     "output_type": "execute_result"
    }
   ],
   "source": [
    "ys"
   ]
  },
  {
   "cell_type": "code",
   "execution_count": 78,
   "id": "43d01fbc",
   "metadata": {},
   "outputs": [
    {
     "data": {
      "text/plain": [
       "array([[-5.  , -4.99, -4.98, ...,  4.97,  4.98,  4.99],\n",
       "       [-5.  , -4.99, -4.98, ...,  4.97,  4.98,  4.99],\n",
       "       [-5.  , -4.99, -4.98, ...,  4.97,  4.98,  4.99],\n",
       "       ...,\n",
       "       [-5.  , -4.99, -4.98, ...,  4.97,  4.98,  4.99],\n",
       "       [-5.  , -4.99, -4.98, ...,  4.97,  4.98,  4.99],\n",
       "       [-5.  , -4.99, -4.98, ...,  4.97,  4.98,  4.99]])"
      ]
     },
     "execution_count": 78,
     "metadata": {},
     "output_type": "execute_result"
    }
   ],
   "source": [
    "xs"
   ]
  },
  {
   "cell_type": "code",
   "execution_count": 79,
   "id": "3b595746",
   "metadata": {},
   "outputs": [
    {
     "data": {
      "text/plain": [
       "array([[5.  , 4.99, 4.98, ..., 4.97, 4.98, 4.99],\n",
       "       [5.  , 4.99, 4.98, ..., 4.97, 4.98, 4.99],\n",
       "       [5.  , 4.99, 4.98, ..., 4.97, 4.98, 4.99],\n",
       "       ...,\n",
       "       [5.  , 4.99, 4.98, ..., 4.97, 4.98, 4.99],\n",
       "       [5.  , 4.99, 4.98, ..., 4.97, 4.98, 4.99],\n",
       "       [5.  , 4.99, 4.98, ..., 4.97, 4.98, 4.99]])"
      ]
     },
     "execution_count": 79,
     "metadata": {},
     "output_type": "execute_result"
    }
   ],
   "source": [
    "z=np.sqrt(xs**2, ys**2)\n",
    "z"
   ]
  },
  {
   "cell_type": "markdown",
   "id": "8b09afb9",
   "metadata": {},
   "source": [
    "### matplotlib: 可將產出的二維陣列視覺化。"
   ]
  },
  {
   "cell_type": "code",
   "execution_count": 80,
   "id": "54cdf354",
   "metadata": {},
   "outputs": [],
   "source": [
    "import matplotlib.pyplot as plt"
   ]
  },
  {
   "cell_type": "code",
   "execution_count": 81,
   "id": "7bbb2413",
   "metadata": {},
   "outputs": [
    {
     "data": {
      "text/plain": [
       "<matplotlib.colorbar.Colorbar at 0x7fbfcc34c220>"
      ]
     },
     "execution_count": 81,
     "metadata": {},
     "output_type": "execute_result"
    },
    {
     "data": {
      "image/png": "[encoded data removed]",
      "text/plain": [
       "<Figure size 432x288 with 2 Axes>"
      ]
     },
     "metadata": {
      "needs_background": "light"
     },
     "output_type": "display_data"
    }
   ],
   "source": [
    "plt.imshow(z, cmap=plt.cm.gray) ; plt.colorbar()"
   ]
  },
  {
   "cell_type": "code",
   "execution_count": 82,
   "id": "81448dfd",
   "metadata": {},
   "outputs": [
    {
     "data": {
      "text/plain": [
       "Text(0.5, 1.0, 'Image plot of $\\\\sqrt{x^2 +y^2}$ for a grid of values')"
      ]
     },
     "execution_count": 82,
     "metadata": {},
     "output_type": "execute_result"
    },
    {
     "data": {
      "image/png": "[encoded data removed]",
      "text/plain": [
       "<Figure size 432x288 with 1 Axes>"
      ]
     },
     "metadata": {
      "needs_background": "light"
     },
     "output_type": "display_data"
    }
   ],
   "source": [
    "plt.title('Image plot of $\\sqrt{x^2 +y^2}$ for a grid of values')"
   ]
  },
  {
   "cell_type": "markdown",
   "id": "9a485799",
   "metadata": {},
   "source": [
    "### 用陣列運算表達條件邏輯"
   ]
  },
  {
   "cell_type": "markdown",
   "id": "5bedf392",
   "metadata": {},
   "source": [
    "### numpy.where 是 x if condition else y 的向量版本。"
   ]
  },
  {
   "cell_type": "code",
   "execution_count": 83,
   "id": "d696bace",
   "metadata": {},
   "outputs": [],
   "source": [
    "xarr = np.array([1.1,1.2,1.3,1.4,1.5])"
   ]
  },
  {
   "cell_type": "code",
   "execution_count": 84,
   "id": "90ab1412",
   "metadata": {},
   "outputs": [],
   "source": [
    "yarr = np.array([2.1,2.2,2.3,2.4,2.5])"
   ]
  },
  {
   "cell_type": "code",
   "execution_count": 85,
   "id": "9c7b7e5b",
   "metadata": {},
   "outputs": [],
   "source": [
    "cond = np.array([True,False,True,False,True])"
   ]
  },
  {
   "cell_type": "markdown",
   "id": "7d7412f3",
   "metadata": {},
   "source": [
    "### 假設我們只要在cond中看到True，就拿xarr，否則yarr"
   ]
  },
  {
   "cell_type": "code",
   "execution_count": 86,
   "id": "cdadf090",
   "metadata": {},
   "outputs": [
    {
     "data": {
      "text/plain": [
       "[1.1, 2.2, 1.3, 2.4, 1.5]"
      ]
     },
     "execution_count": 86,
     "metadata": {},
     "output_type": "execute_result"
    }
   ],
   "source": [
    "result=[(x if c else y)\n",
    "       for x,y,c in zip(xarr,yarr,cond)]\n",
    "result"
   ]
  },
  {
   "cell_type": "markdown",
   "id": "f069cb82",
   "metadata": {},
   "source": [
    "### 不過上面的寫法遇到大陣列會很慢。"
   ]
  },
  {
   "cell_type": "markdown",
   "id": "814d57c6",
   "metadata": {},
   "source": [
    "### np.where 可以提升運算效率與精簡度。"
   ]
  },
  {
   "cell_type": "code",
   "execution_count": 87,
   "id": "70304de4",
   "metadata": {},
   "outputs": [
    {
     "data": {
      "text/plain": [
       "array([1.1, 2.2, 1.3, 2.4, 1.5])"
      ]
     },
     "execution_count": 87,
     "metadata": {},
     "output_type": "execute_result"
    }
   ],
   "source": [
    "result= np.where(cond,xarr,yarr)\n",
    "result"
   ]
  },
  {
   "cell_type": "markdown",
   "id": "fdc4b498",
   "metadata": {},
   "source": [
    "### 假設有一個隨機的資料庫，要把正值改為2, 負值改為-2, 可以使用np.where"
   ]
  },
  {
   "cell_type": "code",
   "execution_count": 88,
   "id": "028935c9",
   "metadata": {},
   "outputs": [
    {
     "data": {
      "text/plain": [
       "array([[ 0.3189048 , -0.41235395, -0.48389955, -0.12015617],\n",
       "       [-0.99855304, -1.52695038, -0.09230889, -0.62541459],\n",
       "       [-0.31487202, -1.73727178, -0.18819256, -0.25164977],\n",
       "       [ 1.63395041, -1.66748218,  1.6468894 ,  0.15368853]])"
      ]
     },
     "execution_count": 88,
     "metadata": {},
     "output_type": "execute_result"
    }
   ],
   "source": [
    "arr = np.random.randn(4,4)\n",
    "arr"
   ]
  },
  {
   "cell_type": "code",
   "execution_count": 89,
   "id": "833625e6",
   "metadata": {},
   "outputs": [
    {
     "data": {
      "text/plain": [
       "array([[ True, False, False, False],\n",
       "       [False, False, False, False],\n",
       "       [False, False, False, False],\n",
       "       [ True, False,  True,  True]])"
      ]
     },
     "execution_count": 89,
     "metadata": {},
     "output_type": "execute_result"
    }
   ],
   "source": [
    "arr >0"
   ]
  },
  {
   "cell_type": "code",
   "execution_count": 90,
   "id": "315baa4f",
   "metadata": {},
   "outputs": [
    {
     "data": {
      "text/plain": [
       "array([[ 2, -2, -2, -2],\n",
       "       [-2, -2, -2, -2],\n",
       "       [-2, -2, -2, -2],\n",
       "       [ 2, -2,  2,  2]])"
      ]
     },
     "execution_count": 90,
     "metadata": {},
     "output_type": "execute_result"
    }
   ],
   "source": [
    "np.where(arr>0, 2, -2) #常數＋常數"
   ]
  },
  {
   "cell_type": "code",
   "execution_count": 91,
   "id": "383451a0",
   "metadata": {},
   "outputs": [
    {
     "data": {
      "text/plain": [
       "array([[ 2.        , -0.41235395, -0.48389955, -0.12015617],\n",
       "       [-0.99855304, -1.52695038, -0.09230889, -0.62541459],\n",
       "       [-0.31487202, -1.73727178, -0.18819256, -0.25164977],\n",
       "       [ 2.        , -1.66748218,  2.        ,  2.        ]])"
      ]
     },
     "execution_count": 91,
     "metadata": {},
     "output_type": "execute_result"
    }
   ],
   "source": [
    "np.where(arr>0, 2, arr) #常數＋陣列"
   ]
  },
  {
   "cell_type": "markdown",
   "id": "31a9457c",
   "metadata": {},
   "source": [
    "### 數學和統計方法"
   ]
  },
  {
   "cell_type": "markdown",
   "id": "46913a4f",
   "metadata": {},
   "source": [
    "### 聚合函數（aggregation, reduction)：sum(),mean(),std()"
   ]
  },
  {
   "cell_type": "code",
   "execution_count": 92,
   "id": "6b98c063",
   "metadata": {},
   "outputs": [
    {
     "data": {
      "text/plain": [
       "array([[ 0,  1,  2,  3],\n",
       "       [ 4,  5,  6,  7],\n",
       "       [ 8,  9, 10, 11],\n",
       "       [12, 13, 14, 15]])"
      ]
     },
     "execution_count": 92,
     "metadata": {},
     "output_type": "execute_result"
    }
   ],
   "source": [
    "arr = np.arange(16).reshape(4,4)\n",
    "arr"
   ]
  },
  {
   "cell_type": "code",
   "execution_count": 93,
   "id": "b1e7f2e5",
   "metadata": {},
   "outputs": [
    {
     "data": {
      "text/plain": [
       "7.5"
      ]
     },
     "execution_count": 93,
     "metadata": {},
     "output_type": "execute_result"
    }
   ],
   "source": [
    "arr.mean()"
   ]
  },
  {
   "cell_type": "code",
   "execution_count": 94,
   "id": "4585da26",
   "metadata": {},
   "outputs": [
    {
     "data": {
      "text/plain": [
       "120"
      ]
     },
     "execution_count": 94,
     "metadata": {},
     "output_type": "execute_result"
    }
   ],
   "source": [
    "arr.sum()"
   ]
  },
  {
   "cell_type": "markdown",
   "id": "d73e30cd",
   "metadata": {},
   "source": [
    "### 第一個維度:(0,4,8,12), 第二個維度：(0,1,2,4)，如下表示僅計算第二維度的中位數與總和。"
   ]
  },
  {
   "cell_type": "code",
   "execution_count": 95,
   "id": "2a1032f3",
   "metadata": {},
   "outputs": [
    {
     "data": {
      "text/plain": [
       "array([ 1.5,  5.5,  9.5, 13.5])"
      ]
     },
     "execution_count": 95,
     "metadata": {},
     "output_type": "execute_result"
    }
   ],
   "source": [
    "arr.mean(axis=1)"
   ]
  },
  {
   "cell_type": "code",
   "execution_count": 96,
   "id": "419166d1",
   "metadata": {},
   "outputs": [
    {
     "data": {
      "text/plain": [
       "array([ 6, 22, 38, 54])"
      ]
     },
     "execution_count": 96,
     "metadata": {},
     "output_type": "execute_result"
    }
   ],
   "source": [
    "arr.sum(axis=1)"
   ]
  },
  {
   "cell_type": "markdown",
   "id": "d9452e6d",
   "metadata": {},
   "source": [
    "### cumsum(): a, a+b, a+b+c, a+b+c+d,,,構成的數列。"
   ]
  },
  {
   "cell_type": "markdown",
   "id": "a24bbe89",
   "metadata": {},
   "source": [
    "### cumprod(): a, a*b, a*b*c, a*b*c*d,,,構成的數列。 "
   ]
  },
  {
   "cell_type": "code",
   "execution_count": 97,
   "id": "980f952e",
   "metadata": {},
   "outputs": [
    {
     "data": {
      "text/plain": [
       "array([1, 2, 3, 4, 5, 6, 7, 8, 9])"
      ]
     },
     "execution_count": 97,
     "metadata": {},
     "output_type": "execute_result"
    }
   ],
   "source": [
    "arr= np.array([1,2,3,4,5,6,7,8,9])\n",
    "arr"
   ]
  },
  {
   "cell_type": "code",
   "execution_count": 98,
   "id": "208ec904",
   "metadata": {},
   "outputs": [
    {
     "data": {
      "text/plain": [
       "array([ 1,  3,  6, 10, 15, 21, 28, 36, 45])"
      ]
     },
     "execution_count": 98,
     "metadata": {},
     "output_type": "execute_result"
    }
   ],
   "source": [
    "arr.cumsum()"
   ]
  },
  {
   "cell_type": "code",
   "execution_count": 99,
   "id": "7e6ff794",
   "metadata": {},
   "outputs": [
    {
     "data": {
      "text/plain": [
       "array([     1,      2,      6,     24,    120,    720,   5040,  40320,\n",
       "       362880])"
      ]
     },
     "execution_count": 99,
     "metadata": {},
     "output_type": "execute_result"
    }
   ],
   "source": [
    "arr.cumprod()"
   ]
  },
  {
   "cell_type": "markdown",
   "id": "ac8e49d2",
   "metadata": {},
   "source": [
    "### 多維陣列的運算"
   ]
  },
  {
   "cell_type": "code",
   "execution_count": 100,
   "id": "a9bfeac4",
   "metadata": {},
   "outputs": [
    {
     "data": {
      "text/plain": [
       "array([[0, 1, 2],\n",
       "       [3, 4, 5],\n",
       "       [7, 8, 9]])"
      ]
     },
     "execution_count": 100,
     "metadata": {},
     "output_type": "execute_result"
    }
   ],
   "source": [
    "arr = np.array([[0,1,2],[3,4,5],[7,8,9]])\n",
    "arr"
   ]
  },
  {
   "cell_type": "code",
   "execution_count": 101,
   "id": "09b68e2c",
   "metadata": {},
   "outputs": [
    {
     "data": {
      "text/plain": [
       "array([[ 0,  1,  2],\n",
       "       [ 3,  5,  7],\n",
       "       [10, 13, 16]])"
      ]
     },
     "execution_count": 101,
     "metadata": {},
     "output_type": "execute_result"
    }
   ],
   "source": [
    "arr.cumsum(axis=0) #第一維度（0,3,7)"
   ]
  },
  {
   "cell_type": "code",
   "execution_count": 102,
   "id": "e043ceca",
   "metadata": {},
   "outputs": [
    {
     "data": {
      "text/plain": [
       "array([[ 0,  1,  3],\n",
       "       [ 3,  7, 12],\n",
       "       [ 7, 15, 24]])"
      ]
     },
     "execution_count": 102,
     "metadata": {},
     "output_type": "execute_result"
    }
   ],
   "source": [
    "arr.cumsum(axis=1) #第二維度（0,1,2)"
   ]
  },
  {
   "cell_type": "markdown",
   "id": "614cb81f",
   "metadata": {},
   "source": [
    "### 布林陣列的方法"
   ]
  },
  {
   "cell_type": "markdown",
   "id": "dfd8185b",
   "metadata": {},
   "source": [
    "### sum()：可以用來計算Ture有幾個。"
   ]
  },
  {
   "cell_type": "code",
   "execution_count": 103,
   "id": "ca154164",
   "metadata": {},
   "outputs": [
    {
     "data": {
      "text/plain": [
       "array([-0.5190979 , -1.19014412, -0.14138816, -0.97155688, -0.064619  ,\n",
       "       -0.02710452, -1.72867419,  0.4738486 ,  0.70052504, -1.56252929,\n",
       "        2.67461777, -0.85974836, -0.06119661,  1.18019598,  0.77322628,\n",
       "        0.13630347, -0.24176299,  0.00937989, -0.44345412, -1.46679723])"
      ]
     },
     "execution_count": 103,
     "metadata": {},
     "output_type": "execute_result"
    }
   ],
   "source": [
    "arr= np.random.randn(20)\n",
    "arr"
   ]
  },
  {
   "cell_type": "code",
   "execution_count": 104,
   "id": "1be53e3a",
   "metadata": {},
   "outputs": [
    {
     "data": {
      "text/plain": [
       "7"
      ]
     },
     "execution_count": 104,
     "metadata": {},
     "output_type": "execute_result"
    }
   ],
   "source": [
    "(arr>0).sum()"
   ]
  },
  {
   "cell_type": "markdown",
   "id": "1f92bebb",
   "metadata": {},
   "source": [
    "### any(): 可以查找是否有至少一個True。 all(): 可以用來確認是不是全部都是True。"
   ]
  },
  {
   "cell_type": "code",
   "execution_count": 105,
   "id": "724fb094",
   "metadata": {},
   "outputs": [],
   "source": [
    "bools= np.array([True, False, False, False])"
   ]
  },
  {
   "cell_type": "code",
   "execution_count": 106,
   "id": "d96aab6b",
   "metadata": {},
   "outputs": [
    {
     "data": {
      "text/plain": [
       "True"
      ]
     },
     "execution_count": 106,
     "metadata": {},
     "output_type": "execute_result"
    }
   ],
   "source": [
    "bools.any()"
   ]
  },
  {
   "cell_type": "code",
   "execution_count": 107,
   "id": "cd31f900",
   "metadata": {},
   "outputs": [
    {
     "data": {
      "text/plain": [
       "False"
      ]
     },
     "execution_count": 107,
     "metadata": {},
     "output_type": "execute_result"
    }
   ],
   "source": [
    "bools.all()"
   ]
  },
  {
   "cell_type": "markdown",
   "id": "12e52d9d",
   "metadata": {},
   "source": [
    "### 排序"
   ]
  },
  {
   "cell_type": "markdown",
   "id": "8f18b201",
   "metadata": {},
   "source": [
    "### sort(): 跟list一樣，可以讓array排序。"
   ]
  },
  {
   "cell_type": "code",
   "execution_count": 108,
   "id": "cb054e1d",
   "metadata": {},
   "outputs": [
    {
     "data": {
      "text/plain": [
       "array([-0.39470953,  0.18661288,  0.16079341, -0.64465535, -1.41005931])"
      ]
     },
     "execution_count": 108,
     "metadata": {},
     "output_type": "execute_result"
    }
   ],
   "source": [
    "arr= np.random.randn(5)\n",
    "arr"
   ]
  },
  {
   "cell_type": "code",
   "execution_count": 109,
   "id": "eef8e92a",
   "metadata": {},
   "outputs": [],
   "source": [
    "arr.sort()"
   ]
  },
  {
   "cell_type": "code",
   "execution_count": 110,
   "id": "d8ef4cb9",
   "metadata": {},
   "outputs": [
    {
     "data": {
      "text/plain": [
       "array([-1.41005931, -0.64465535, -0.39470953,  0.16079341,  0.18661288])"
      ]
     },
     "execution_count": 110,
     "metadata": {},
     "output_type": "execute_result"
    }
   ],
   "source": [
    "arr"
   ]
  },
  {
   "cell_type": "markdown",
   "id": "3bd09480",
   "metadata": {},
   "source": [
    "### 除了全部一起排序外，寫入axis，就可以根據特定維度做排序。"
   ]
  },
  {
   "cell_type": "code",
   "execution_count": 111,
   "id": "7f122d9a",
   "metadata": {},
   "outputs": [
    {
     "data": {
      "text/plain": [
       "array([[ 0.40544107, -0.56747573,  0.48580693,  0.57782036],\n",
       "       [ 1.39503939, -0.43775652,  1.8872054 ,  0.84881814],\n",
       "       [ 1.33451013,  0.88569876, -0.13864299,  1.00907507]])"
      ]
     },
     "execution_count": 111,
     "metadata": {},
     "output_type": "execute_result"
    }
   ],
   "source": [
    "arr = np.random.randn(3,4)\n",
    "arr"
   ]
  },
  {
   "cell_type": "code",
   "execution_count": 112,
   "id": "47a7e7d7",
   "metadata": {},
   "outputs": [
    {
     "data": {
      "text/plain": [
       "array([[-0.56747573,  0.40544107,  0.48580693,  0.57782036],\n",
       "       [-0.43775652,  0.84881814,  1.39503939,  1.8872054 ],\n",
       "       [-0.13864299,  0.88569876,  1.00907507,  1.33451013]])"
      ]
     },
     "execution_count": 112,
     "metadata": {},
     "output_type": "execute_result"
    }
   ],
   "source": [
    "arr.sort(1) #針對第二維度做排序。\n",
    "arr"
   ]
  },
  {
   "cell_type": "markdown",
   "id": "7ab182c6",
   "metadata": {},
   "source": [
    "### np.sort(): 會回傳一個已經排好序的複製序列。"
   ]
  },
  {
   "cell_type": "code",
   "execution_count": 113,
   "id": "3bc8b7c8",
   "metadata": {},
   "outputs": [
    {
     "data": {
      "text/plain": [
       "array([ 0.71601595, -0.22122271, -0.94734634,  1.47648892, -0.40157018])"
      ]
     },
     "execution_count": 113,
     "metadata": {},
     "output_type": "execute_result"
    }
   ],
   "source": [
    "large_arr = np.random.randn(5)\n",
    "large_arr"
   ]
  },
  {
   "cell_type": "code",
   "execution_count": 114,
   "id": "e77b4d28",
   "metadata": {},
   "outputs": [
    {
     "data": {
      "text/plain": [
       "array([-0.94734634, -0.40157018, -0.22122271,  0.71601595,  1.47648892])"
      ]
     },
     "execution_count": 114,
     "metadata": {},
     "output_type": "execute_result"
    }
   ],
   "source": [
    "large_arr.sort()\n",
    "large_arr"
   ]
  },
  {
   "cell_type": "markdown",
   "id": "8a9184fe",
   "metadata": {},
   "source": [
    "### len(array): 可以計算array內元素的數量。"
   ]
  },
  {
   "cell_type": "code",
   "execution_count": 115,
   "id": "61ee857a",
   "metadata": {},
   "outputs": [
    {
     "data": {
      "text/plain": [
       "4"
      ]
     },
     "execution_count": 115,
     "metadata": {},
     "output_type": "execute_result"
    }
   ],
   "source": [
    "len([1,2,3,4])"
   ]
  },
  {
   "cell_type": "code",
   "execution_count": 116,
   "id": "8bda9dfe",
   "metadata": {},
   "outputs": [
    {
     "data": {
      "text/plain": [
       "2"
      ]
     },
     "execution_count": 116,
     "metadata": {},
     "output_type": "execute_result"
    }
   ],
   "source": [
    "len([[1,2],[3,4]])"
   ]
  },
  {
   "cell_type": "code",
   "execution_count": 117,
   "id": "3417d8d9",
   "metadata": {},
   "outputs": [
    {
     "data": {
      "text/plain": [
       "3"
      ]
     },
     "execution_count": 117,
     "metadata": {},
     "output_type": "execute_result"
    }
   ],
   "source": [
    "len([[1,2],3,4])"
   ]
  },
  {
   "cell_type": "markdown",
   "id": "6e169bee",
   "metadata": {},
   "source": [
    "### int(): 可以取出整數值。"
   ]
  },
  {
   "cell_type": "code",
   "execution_count": 118,
   "id": "fb8c61a6",
   "metadata": {},
   "outputs": [
    {
     "data": {
      "text/plain": [
       "1"
      ]
     },
     "execution_count": 118,
     "metadata": {},
     "output_type": "execute_result"
    }
   ],
   "source": [
    "int(1.25)"
   ]
  },
  {
   "cell_type": "code",
   "execution_count": 119,
   "id": "bbee9e67",
   "metadata": {},
   "outputs": [
    {
     "data": {
      "text/plain": [
       "-0.9473463446442046"
      ]
     },
     "execution_count": 119,
     "metadata": {},
     "output_type": "execute_result"
    }
   ],
   "source": [
    "large_arr[int(0.05*len(large_arr))] #large_arr[0]"
   ]
  },
  {
   "cell_type": "markdown",
   "id": "21086707",
   "metadata": {},
   "source": [
    "### Unique 和其他集合操作"
   ]
  },
  {
   "cell_type": "markdown",
   "id": "b99520f1",
   "metadata": {},
   "source": [
    "### unique(): 回傳排好序的不重複的值。"
   ]
  },
  {
   "cell_type": "code",
   "execution_count": 120,
   "id": "959f6afc",
   "metadata": {},
   "outputs": [],
   "source": [
    "name= np.array(['Joe','Joe','Joe','Tom','Tom','Tom','Eric','Eric','Eric'])"
   ]
  },
  {
   "cell_type": "code",
   "execution_count": 121,
   "id": "d77384e3",
   "metadata": {},
   "outputs": [
    {
     "data": {
      "text/plain": [
       "array(['Eric', 'Joe', 'Tom'], dtype='<U4')"
      ]
     },
     "execution_count": 121,
     "metadata": {},
     "output_type": "execute_result"
    }
   ],
   "source": [
    "np.unique(name)"
   ]
  },
  {
   "cell_type": "code",
   "execution_count": 122,
   "id": "0c7ba61a",
   "metadata": {},
   "outputs": [],
   "source": [
    "ints= np.array([50,20,80,70,70,80,60,20,50,50])"
   ]
  },
  {
   "cell_type": "code",
   "execution_count": 123,
   "id": "26f1d612",
   "metadata": {},
   "outputs": [
    {
     "data": {
      "text/plain": [
       "array([20, 50, 60, 70, 80])"
      ]
     },
     "execution_count": 123,
     "metadata": {},
     "output_type": "execute_result"
    }
   ],
   "source": [
    "np.unique(ints)"
   ]
  },
  {
   "cell_type": "markdown",
   "id": "b1389581",
   "metadata": {},
   "source": [
    "### 上面的動作，等同於set(), sorted()功能的加總"
   ]
  },
  {
   "cell_type": "code",
   "execution_count": 124,
   "id": "8330eb77",
   "metadata": {},
   "outputs": [
    {
     "data": {
      "text/plain": [
       "array(['Joe', 'Joe', 'Joe', 'Tom', 'Tom', 'Tom', 'Eric', 'Eric', 'Eric'],\n",
       "      dtype='<U4')"
      ]
     },
     "execution_count": 124,
     "metadata": {},
     "output_type": "execute_result"
    }
   ],
   "source": [
    "name"
   ]
  },
  {
   "cell_type": "code",
   "execution_count": 125,
   "id": "44a573f3",
   "metadata": {},
   "outputs": [
    {
     "data": {
      "text/plain": [
       "['Eric', 'Joe', 'Tom']"
      ]
     },
     "execution_count": 125,
     "metadata": {},
     "output_type": "execute_result"
    }
   ],
   "source": [
    "sorted(set(name))"
   ]
  },
  {
   "cell_type": "code",
   "execution_count": 126,
   "id": "3629b244",
   "metadata": {},
   "outputs": [
    {
     "data": {
      "text/plain": [
       "[20, 50, 60, 70, 80]"
      ]
     },
     "execution_count": 126,
     "metadata": {},
     "output_type": "execute_result"
    }
   ],
   "source": [
    "sorted(set(ints))"
   ]
  },
  {
   "cell_type": "markdown",
   "id": "c70aeda2",
   "metadata": {},
   "source": [
    "### in1d(): 用來檢查一個陣列是否存在於另一個陣列。"
   ]
  },
  {
   "cell_type": "code",
   "execution_count": 127,
   "id": "76c57492",
   "metadata": {},
   "outputs": [
    {
     "data": {
      "text/plain": [
       "array([50, 20, 80, 70, 70, 80, 60, 20, 50, 50])"
      ]
     },
     "execution_count": 127,
     "metadata": {},
     "output_type": "execute_result"
    }
   ],
   "source": [
    "ints"
   ]
  },
  {
   "cell_type": "code",
   "execution_count": 128,
   "id": "44600856",
   "metadata": {},
   "outputs": [
    {
     "data": {
      "text/plain": [
       "array([ True, False, False,  True,  True, False,  True, False,  True,\n",
       "        True])"
      ]
     },
     "execution_count": 128,
     "metadata": {},
     "output_type": "execute_result"
    }
   ],
   "source": [
    "np.in1d(ints, [50,60,70])"
   ]
  },
  {
   "cell_type": "markdown",
   "id": "f5a19a75",
   "metadata": {},
   "source": [
    "### 從檔案中輸入或輸出值到陣列"
   ]
  },
  {
   "cell_type": "code",
   "execution_count": 129,
   "id": "655df529",
   "metadata": {},
   "outputs": [],
   "source": [
    "arr = np.arange(10)"
   ]
  },
  {
   "cell_type": "markdown",
   "id": "e1e19b09",
   "metadata": {},
   "source": [
    "### save(): 將一個陣列儲存起來。"
   ]
  },
  {
   "cell_type": "code",
   "execution_count": 130,
   "id": "412768dd",
   "metadata": {},
   "outputs": [],
   "source": [
    "np.save('some_array',arr)"
   ]
  },
  {
   "cell_type": "markdown",
   "id": "2b733be6",
   "metadata": {},
   "source": [
    "### load(): 載入該陣列，檔名必須要加.npy"
   ]
  },
  {
   "cell_type": "code",
   "execution_count": 131,
   "id": "ca1980cb",
   "metadata": {},
   "outputs": [
    {
     "data": {
      "text/plain": [
       "array([0, 1, 2, 3, 4, 5, 6, 7, 8, 9])"
      ]
     },
     "execution_count": 131,
     "metadata": {},
     "output_type": "execute_result"
    }
   ],
   "source": [
    "np.load('some_array.npy')"
   ]
  },
  {
   "cell_type": "markdown",
   "id": "cd9faac3",
   "metadata": {},
   "source": [
    "### savez(): 儲存多個未壓縮的陣列。"
   ]
  },
  {
   "cell_type": "code",
   "execution_count": 132,
   "id": "eb729e3c",
   "metadata": {},
   "outputs": [],
   "source": [
    "np.savez('array_archive.npz',a=arr,b=arr)"
   ]
  },
  {
   "cell_type": "code",
   "execution_count": 133,
   "id": "9e2fa510",
   "metadata": {},
   "outputs": [],
   "source": [
    "arch=np.load('array_archive.npz')"
   ]
  },
  {
   "cell_type": "code",
   "execution_count": 134,
   "id": "f8c8b3cc",
   "metadata": {},
   "outputs": [
    {
     "data": {
      "text/plain": [
       "array([0, 1, 2, 3, 4, 5, 6, 7, 8, 9])"
      ]
     },
     "execution_count": 134,
     "metadata": {},
     "output_type": "execute_result"
    }
   ],
   "source": [
    "arch['b']"
   ]
  },
  {
   "cell_type": "markdown",
   "id": "99892904",
   "metadata": {},
   "source": [
    "### savez.compressed()：可使用在壓縮資料。"
   ]
  },
  {
   "cell_type": "code",
   "execution_count": 135,
   "id": "68844a06",
   "metadata": {},
   "outputs": [],
   "source": [
    "np.savez_compressed('arrays_compressed.npz',a=arr,b=arr,c=arr,d=arr)"
   ]
  },
  {
   "cell_type": "code",
   "execution_count": 136,
   "id": "c0e736f9",
   "metadata": {},
   "outputs": [],
   "source": [
    "arch2=np.load('arrays_compressed.npz')"
   ]
  },
  {
   "cell_type": "code",
   "execution_count": 137,
   "id": "38b6ac6f",
   "metadata": {},
   "outputs": [
    {
     "data": {
      "text/plain": [
       "array([0, 1, 2, 3, 4, 5, 6, 7, 8, 9])"
      ]
     },
     "execution_count": 137,
     "metadata": {},
     "output_type": "execute_result"
    }
   ],
   "source": [
    "arch2['d']"
   ]
  },
  {
   "cell_type": "markdown",
   "id": "9f232819",
   "metadata": {},
   "source": [
    "### 線性代數"
   ]
  },
  {
   "cell_type": "markdown",
   "id": "56f6786e",
   "metadata": {},
   "source": [
    "### dot(): 用來計算矩陣的內積。"
   ]
  },
  {
   "cell_type": "code",
   "execution_count": 138,
   "id": "e7a7b039",
   "metadata": {},
   "outputs": [
    {
     "data": {
      "text/plain": [
       "array([[1, 2, 3],\n",
       "       [4, 5, 6]])"
      ]
     },
     "execution_count": 138,
     "metadata": {},
     "output_type": "execute_result"
    }
   ],
   "source": [
    "x= np.array([[1,2,3],[4,5,6]])\n",
    "x"
   ]
  },
  {
   "cell_type": "code",
   "execution_count": 139,
   "id": "2200a0fc",
   "metadata": {},
   "outputs": [
    {
     "data": {
      "text/plain": [
       "array([[ 7,  8],\n",
       "       [ 9, 10],\n",
       "       [11, 12]])"
      ]
     },
     "execution_count": 139,
     "metadata": {},
     "output_type": "execute_result"
    }
   ],
   "source": [
    "y= np.array([[7,8],[9,10],[11,12]])\n",
    "y"
   ]
  },
  {
   "cell_type": "code",
   "execution_count": 140,
   "id": "a99890e7",
   "metadata": {},
   "outputs": [
    {
     "data": {
      "text/plain": [
       "array([[ 58,  64],\n",
       "       [139, 154]])"
      ]
     },
     "execution_count": 140,
     "metadata": {},
     "output_type": "execute_result"
    }
   ],
   "source": [
    "x.dot(y)"
   ]
  },
  {
   "cell_type": "code",
   "execution_count": 141,
   "id": "3591c84d",
   "metadata": {},
   "outputs": [
    {
     "data": {
      "text/plain": [
       "array([[ 58,  64],\n",
       "       [139, 154]])"
      ]
     },
     "execution_count": 141,
     "metadata": {},
     "output_type": "execute_result"
    }
   ],
   "source": [
    "np.dot(x,y)"
   ]
  },
  {
   "cell_type": "code",
   "execution_count": 142,
   "id": "7f2e25c1",
   "metadata": {},
   "outputs": [
    {
     "data": {
      "text/plain": [
       "array([1., 1., 1.])"
      ]
     },
     "execution_count": 142,
     "metadata": {},
     "output_type": "execute_result"
    }
   ],
   "source": [
    "np.ones(3)"
   ]
  },
  {
   "cell_type": "code",
   "execution_count": 143,
   "id": "46f3fbdf",
   "metadata": {},
   "outputs": [
    {
     "data": {
      "text/plain": [
       "array([ 6., 15.])"
      ]
     },
     "execution_count": 143,
     "metadata": {},
     "output_type": "execute_result"
    }
   ],
   "source": [
    "np.dot(x,np.ones(3))"
   ]
  },
  {
   "cell_type": "markdown",
   "id": "00a7309c",
   "metadata": {},
   "source": [
    "### @的符號功能等同於dot()"
   ]
  },
  {
   "cell_type": "code",
   "execution_count": 144,
   "id": "929c1469",
   "metadata": {},
   "outputs": [
    {
     "data": {
      "text/plain": [
       "array([[ 58,  64],\n",
       "       [139, 154]])"
      ]
     },
     "execution_count": 144,
     "metadata": {},
     "output_type": "execute_result"
    }
   ],
   "source": [
    "x @ y"
   ]
  },
  {
   "cell_type": "markdown",
   "id": "4dfcad8e",
   "metadata": {},
   "source": [
    "### 介紹linalg內的inv(), qr()"
   ]
  },
  {
   "cell_type": "code",
   "execution_count": 145,
   "id": "7116157e",
   "metadata": {},
   "outputs": [],
   "source": [
    "from numpy.linalg import inv,qr"
   ]
  },
  {
   "cell_type": "code",
   "execution_count": 146,
   "id": "9c05918f",
   "metadata": {},
   "outputs": [
    {
     "data": {
      "text/plain": [
       "array([[1, 2],\n",
       "       [3, 4],\n",
       "       [5, 6]])"
      ]
     },
     "execution_count": 146,
     "metadata": {},
     "output_type": "execute_result"
    }
   ],
   "source": [
    "x = np.array([[1,2],[3,4],[5,6]])\n",
    "x"
   ]
  },
  {
   "cell_type": "markdown",
   "id": "779b0775",
   "metadata": {},
   "source": [
    "### T: 可以用來將矩陣的行換成列。"
   ]
  },
  {
   "cell_type": "code",
   "execution_count": 147,
   "id": "80aa4e44",
   "metadata": {},
   "outputs": [
    {
     "data": {
      "text/plain": [
       "array([[1, 3, 5],\n",
       "       [2, 4, 6]])"
      ]
     },
     "execution_count": 147,
     "metadata": {},
     "output_type": "execute_result"
    }
   ],
   "source": [
    "x.T"
   ]
  },
  {
   "cell_type": "code",
   "execution_count": 148,
   "id": "865a7545",
   "metadata": {},
   "outputs": [
    {
     "data": {
      "text/plain": [
       "array([[35, 44],\n",
       "       [44, 56]])"
      ]
     },
     "execution_count": 148,
     "metadata": {},
     "output_type": "execute_result"
    }
   ],
   "source": [
    "mat=x.T.dot(x)\n",
    "mat"
   ]
  },
  {
   "cell_type": "markdown",
   "id": "ec03f1fd",
   "metadata": {},
   "source": [
    "### inv(): 逆矩陣的一種。 如果一個矩陣為[[a,b],[c,d]]，使用inv()後，該矩陣的a,d會互換位置，並且變成負值，\n",
    "### 此外，a,b,c,d都會除以-(ab-cd)。"
   ]
  },
  {
   "cell_type": "code",
   "execution_count": 149,
   "id": "5e6beb07",
   "metadata": {},
   "outputs": [
    {
     "data": {
      "text/plain": [
       "array([[10, 20],\n",
       "       [30, 40]])"
      ]
     },
     "execution_count": 149,
     "metadata": {},
     "output_type": "execute_result"
    }
   ],
   "source": [
    "arr = np.array([[10,20],[30,40]])\n",
    "arr"
   ]
  },
  {
   "cell_type": "code",
   "execution_count": 150,
   "id": "be9b5a6f",
   "metadata": {},
   "outputs": [
    {
     "data": {
      "text/plain": [
       "array([[-0.2 ,  0.1 ],\n",
       "       [ 0.15, -0.05]])"
      ]
     },
     "execution_count": 150,
     "metadata": {},
     "output_type": "execute_result"
    }
   ],
   "source": [
    "inv(arr)"
   ]
  },
  {
   "cell_type": "code",
   "execution_count": 151,
   "id": "bf8e4093",
   "metadata": {},
   "outputs": [
    {
     "data": {
      "text/plain": [
       "array([[35, 44],\n",
       "       [44, 56]])"
      ]
     },
     "execution_count": 151,
     "metadata": {},
     "output_type": "execute_result"
    }
   ],
   "source": [
    "mat"
   ]
  },
  {
   "cell_type": "code",
   "execution_count": 152,
   "id": "7fdc3dd8",
   "metadata": {
    "scrolled": false
   },
   "outputs": [
    {
     "data": {
      "text/plain": [
       "array([[ 2.33333333, -1.83333333],\n",
       "       [-1.83333333,  1.45833333]])"
      ]
     },
     "execution_count": 152,
     "metadata": {},
     "output_type": "execute_result"
    }
   ],
   "source": [
    "inv(mat) #35,56互換位置，由於35*56-44*44=24，故每個值要除以24。"
   ]
  },
  {
   "cell_type": "code",
   "execution_count": 153,
   "id": "33571ae5",
   "metadata": {},
   "outputs": [
    {
     "data": {
      "text/plain": [
       "array([[1., 0.],\n",
       "       [0., 1.]])"
      ]
     },
     "execution_count": 153,
     "metadata": {},
     "output_type": "execute_result"
    }
   ],
   "source": [
    "mat.dot(inv(mat)) #因為互為反矩陣，故呈現結果為[1,0],[0,1]"
   ]
  },
  {
   "cell_type": "markdown",
   "id": "deb26812",
   "metadata": {},
   "source": [
    "### qr(): 可將現有矩陣轉換為三角矩陣。"
   ]
  },
  {
   "cell_type": "code",
   "execution_count": 154,
   "id": "6e9ffde6",
   "metadata": {},
   "outputs": [],
   "source": [
    "q,r =qr(mat) "
   ]
  },
  {
   "cell_type": "code",
   "execution_count": 155,
   "id": "00d352ae",
   "metadata": {},
   "outputs": [
    {
     "data": {
      "text/plain": [
       "array([[-56.22277119, -71.21669593],\n",
       "       [  0.        ,   0.4268733 ]])"
      ]
     },
     "execution_count": 155,
     "metadata": {},
     "output_type": "execute_result"
    }
   ],
   "source": [
    "r"
   ]
  },
  {
   "cell_type": "markdown",
   "id": "421ae957",
   "metadata": {},
   "source": [
    "### 生成偽隨機變數"
   ]
  },
  {
   "cell_type": "markdown",
   "id": "49e2120e",
   "metadata": {},
   "source": [
    "### 常態分布(Normal Distribution)，又稱高斯分佈，可以透過normail(size=(x,y))執行出來。"
   ]
  },
  {
   "cell_type": "code",
   "execution_count": 156,
   "id": "4e56497c",
   "metadata": {},
   "outputs": [
    {
     "data": {
      "text/plain": [
       "array([[-1.20904585, -0.80513347,  1.0773881 ,  1.68691361],\n",
       "       [-1.23211419,  0.22004777,  1.16651038,  0.44465685],\n",
       "       [ 1.12557397, -0.57383763, -1.98596513,  1.01960923],\n",
       "       [ 1.30995844,  1.19161004,  1.57931479, -1.74710015]])"
      ]
     },
     "execution_count": 156,
     "metadata": {},
     "output_type": "execute_result"
    }
   ],
   "source": [
    "samples = np.random.normal(size=(4,4))\n",
    "samples"
   ]
  },
  {
   "cell_type": "markdown",
   "id": "661b9fc6",
   "metadata": {},
   "source": [
    "### random.normalvariate(mu,sigma): 可以做出常態分佈，mu代表平均數，sigma代表標準差。"
   ]
  },
  {
   "cell_type": "markdown",
   "id": "379962cc",
   "metadata": {},
   "source": [
    "### %timeit: 可以用來計算該程式的執行速度。"
   ]
  },
  {
   "cell_type": "code",
   "execution_count": 157,
   "id": "b664d10b",
   "metadata": {},
   "outputs": [],
   "source": [
    "from random import normalvariate"
   ]
  },
  {
   "cell_type": "code",
   "execution_count": 158,
   "id": "95c21398",
   "metadata": {},
   "outputs": [],
   "source": [
    "n =100"
   ]
  },
  {
   "cell_type": "code",
   "execution_count": 159,
   "id": "50a37be7",
   "metadata": {
    "scrolled": true
   },
   "outputs": [
    {
     "name": "stdout",
     "output_type": "stream",
     "text": [
      "72.9 µs ± 1.05 µs per loop (mean ± std. dev. of 7 runs, 10,000 loops each)\n"
     ]
    }
   ],
   "source": [
    "%timeit samples=[normalvariate(0,1) for _ in range(n)]"
   ]
  },
  {
   "cell_type": "code",
   "execution_count": 160,
   "id": "789b6b25",
   "metadata": {},
   "outputs": [
    {
     "name": "stdout",
     "output_type": "stream",
     "text": [
      "8 µs ± 1.14 µs per loop (mean ± std. dev. of 7 runs, 100,000 loops each)\n"
     ]
    }
   ],
   "source": [
    "%timeit np.random.normal(size=n)"
   ]
  },
  {
   "cell_type": "markdown",
   "id": "fe98bb7f",
   "metadata": {},
   "source": [
    "### 由上述的時間比較可知，在進行常態分佈的運算時，random.mormal的運行效率比random.normalvariate好！"
   ]
  },
  {
   "cell_type": "markdown",
   "id": "54d0818c",
   "metadata": {},
   "source": [
    "### 之所以為偽隨機變數，是因為亂數器產生的種子可以透過np.random.seed()做改變。"
   ]
  },
  {
   "cell_type": "code",
   "execution_count": 161,
   "id": "7c1e665e",
   "metadata": {},
   "outputs": [
    {
     "ename": "NameError",
     "evalue": "name 'random' is not defined",
     "output_type": "error",
     "traceback": [
      "\u001b[0;31m---------------------------------------------------------------------------\u001b[0m",
      "\u001b[0;31mNameError\u001b[0m                                 Traceback (most recent call last)",
      "Input \u001b[0;32mIn [161]\u001b[0m, in \u001b[0;36m<cell line: 4>\u001b[0;34m()\u001b[0m\n\u001b[1;32m      1\u001b[0m \u001b[38;5;66;03m### 在 random.seed(0)的情況下，若要隨機產生１-1000中的整數，會出現固定值865。\u001b[39;00m\n\u001b[1;32m      2\u001b[0m \u001b[38;5;66;03m### 在 random.seed(1)的情況下，會出現138。\u001b[39;00m\n\u001b[1;32m      3\u001b[0m \u001b[38;5;66;03m### 由此可知，seed()的功用在於變換當下隨機產生的亂數，一次產生一個。\u001b[39;00m\n\u001b[1;32m      4\u001b[0m \u001b[38;5;28;01mfor\u001b[39;00m i \u001b[38;5;129;01min\u001b[39;00m \u001b[38;5;28mrange\u001b[39m(\u001b[38;5;241m5\u001b[39m):\n\u001b[0;32m----> 5\u001b[0m     \u001b[43mrandom\u001b[49m\u001b[38;5;241m.\u001b[39mseed(\u001b[38;5;241m1\u001b[39m)\n\u001b[1;32m      6\u001b[0m     \u001b[38;5;28mprint\u001b[39m(random\u001b[38;5;241m.\u001b[39mrandint(\u001b[38;5;241m1\u001b[39m,\u001b[38;5;241m1000\u001b[39m))\n",
      "\u001b[0;31mNameError\u001b[0m: name 'random' is not defined"
     ]
    }
   ],
   "source": [
    "### 在 random.seed(0)的情況下，若要隨機產生１-1000中的整數，會出現固定值865。\n",
    "### 在 random.seed(1)的情況下，會出現138。\n",
    "### 由此可知，seed()的功用在於變換當下隨機產生的亂數，一次產生一個。\n",
    "for i in range(5):\n",
    "    random.seed(1)\n",
    "    print(random.randint(1,1000))"
   ]
  },
  {
   "cell_type": "code",
   "execution_count": 162,
   "id": "b63a177e",
   "metadata": {},
   "outputs": [
    {
     "ename": "NameError",
     "evalue": "name 'random' is not defined",
     "output_type": "error",
     "traceback": [
      "\u001b[0;31m---------------------------------------------------------------------------\u001b[0m",
      "\u001b[0;31mNameError\u001b[0m                                 Traceback (most recent call last)",
      "Input \u001b[0;32mIn [162]\u001b[0m, in \u001b[0;36m<cell line: 2>\u001b[0;34m()\u001b[0m\n\u001b[1;32m      1\u001b[0m \u001b[38;5;66;03m### 如果希望不要有重複的亂數，直接移除 random.seed()即可。\u001b[39;00m\n\u001b[1;32m      2\u001b[0m \u001b[38;5;28;01mfor\u001b[39;00m i \u001b[38;5;129;01min\u001b[39;00m \u001b[38;5;28mrange\u001b[39m(\u001b[38;5;241m5\u001b[39m):\n\u001b[0;32m----> 3\u001b[0m     \u001b[38;5;28mprint\u001b[39m(\u001b[43mrandom\u001b[49m\u001b[38;5;241m.\u001b[39mrandint(\u001b[38;5;241m1\u001b[39m,\u001b[38;5;241m1000\u001b[39m))\n",
      "\u001b[0;31mNameError\u001b[0m: name 'random' is not defined"
     ]
    }
   ],
   "source": [
    "### 如果希望不要有重複的亂數，直接移除 random.seed()即可。\n",
    "for i in range(5):\n",
    "    print(random.randint(1,1000))"
   ]
  },
  {
   "cell_type": "code",
   "execution_count": 163,
   "id": "ba19f610",
   "metadata": {},
   "outputs": [],
   "source": [
    "np.random.seed(1)"
   ]
  },
  {
   "cell_type": "markdown",
   "id": "037c82a5",
   "metadata": {},
   "source": [
    "### random.RandomState()：建立獨立的亂數產生器，一次可以產生多個值。"
   ]
  },
  {
   "cell_type": "code",
   "execution_count": 164,
   "id": "f2e4c843",
   "metadata": {},
   "outputs": [],
   "source": [
    "rng= np.random.RandomState(1)"
   ]
  },
  {
   "cell_type": "code",
   "execution_count": 165,
   "id": "7bb2d33c",
   "metadata": {},
   "outputs": [
    {
     "data": {
      "text/plain": [
       "array([1.62434536])"
      ]
     },
     "execution_count": 165,
     "metadata": {},
     "output_type": "execute_result"
    }
   ],
   "source": [
    "rng.randn(1)"
   ]
  },
  {
   "cell_type": "code",
   "execution_count": 166,
   "id": "d3c1b319",
   "metadata": {},
   "outputs": [
    {
     "ename": "NameError",
     "evalue": "name 'random' is not defined",
     "output_type": "error",
     "traceback": [
      "\u001b[0;31m---------------------------------------------------------------------------\u001b[0m",
      "\u001b[0;31mNameError\u001b[0m                                 Traceback (most recent call last)",
      "Input \u001b[0;32mIn [166]\u001b[0m, in \u001b[0;36m<cell line: 1>\u001b[0;34m()\u001b[0m\n\u001b[1;32m      1\u001b[0m \u001b[38;5;28;01mfor\u001b[39;00m i \u001b[38;5;129;01min\u001b[39;00m \u001b[38;5;28mrange\u001b[39m(\u001b[38;5;241m5\u001b[39m):\n\u001b[1;32m      2\u001b[0m     np\u001b[38;5;241m.\u001b[39mrandom\u001b[38;5;241m.\u001b[39mRandomState(\u001b[38;5;241m1\u001b[39m)\n\u001b[0;32m----> 3\u001b[0m     \u001b[38;5;28mprint\u001b[39m(\u001b[43mrandom\u001b[49m\u001b[38;5;241m.\u001b[39mrandint(\u001b[38;5;241m1\u001b[39m,\u001b[38;5;241m1000\u001b[39m))\n",
      "\u001b[0;31mNameError\u001b[0m: name 'random' is not defined"
     ]
    }
   ],
   "source": [
    "for i in range(5):\n",
    "    np.random.RandomState(1)\n",
    "    print(random.randint(1,1000))"
   ]
  },
  {
   "cell_type": "markdown",
   "id": "14fbca81",
   "metadata": {},
   "source": [
    "### 隨機漫步(Random Walk Theory): 股票價格是隨機波動的，價格的去向並沒有規律的。\n",
    "\n",
    "### 任何投資者都明白影響股價走向的因素很多。但若然從長時間的價格走勢來看，價格上下起伏的機會其實差不多均等的。\n",
    "\n",
    "### 隨機漫步理論假設：股票市場每一個人都懂得分析，而資料都是公開的，人人皆知。"
   ]
  },
  {
   "cell_type": "markdown",
   "id": "87be4f86",
   "metadata": {},
   "source": [
    "### 隨機漫步的起點為0, 接下來每一步可能是1, -1，且每一步機率相等。"
   ]
  },
  {
   "cell_type": "code",
   "execution_count": 167,
   "id": "cdbb53bd",
   "metadata": {},
   "outputs": [],
   "source": [
    "import random"
   ]
  },
  {
   "cell_type": "code",
   "execution_count": 168,
   "id": "e886f48d",
   "metadata": {},
   "outputs": [],
   "source": [
    "position=0"
   ]
  },
  {
   "cell_type": "code",
   "execution_count": 169,
   "id": "4269362d",
   "metadata": {},
   "outputs": [],
   "source": [
    "walk=[position]"
   ]
  },
  {
   "cell_type": "code",
   "execution_count": 170,
   "id": "80cec8ec",
   "metadata": {},
   "outputs": [],
   "source": [
    "steps=1000"
   ]
  },
  {
   "cell_type": "code",
   "execution_count": 171,
   "id": "e020413d",
   "metadata": {},
   "outputs": [],
   "source": [
    "for i in range(steps):\n",
    "    step = 1 if random.randint(0,1) else -1\n",
    "    position += step\n",
    "    walk.append(position)"
   ]
  },
  {
   "cell_type": "code",
   "execution_count": 172,
   "id": "e6bd478d",
   "metadata": {},
   "outputs": [
    {
     "data": {
      "text/plain": [
       "[<matplotlib.lines.Line2D at 0x7fbfcda1c400>]"
      ]
     },
     "execution_count": 172,
     "metadata": {},
     "output_type": "execute_result"
    },
    {
     "data": {
      "image/png": "[encoded data removed]",
      "text/plain": [
       "<Figure size 432x288 with 1 Axes>"
      ]
     },
     "metadata": {
      "needs_background": "light"
     },
     "output_type": "display_data"
    }
   ],
   "source": [
    "plt.plot(walk[:100])"
   ]
  },
  {
   "cell_type": "markdown",
   "id": "b70ba4f5",
   "metadata": {},
   "source": [
    "### 將硬幣連續擲1000次，正面為１，反面為-1，計算累積加總數。"
   ]
  },
  {
   "cell_type": "code",
   "execution_count": 173,
   "id": "0690026c",
   "metadata": {},
   "outputs": [],
   "source": [
    "nsteps=1000"
   ]
  },
  {
   "cell_type": "code",
   "execution_count": 174,
   "id": "bdcae87a",
   "metadata": {},
   "outputs": [],
   "source": [
    "draws = np.random.randint(0,2,size=nsteps)"
   ]
  },
  {
   "cell_type": "code",
   "execution_count": 175,
   "id": "0562e135",
   "metadata": {},
   "outputs": [],
   "source": [
    "steps=np.where(draws>0, 1, -1)"
   ]
  },
  {
   "cell_type": "code",
   "execution_count": 176,
   "id": "b0374877",
   "metadata": {},
   "outputs": [],
   "source": [
    "walk = steps.cumsum()"
   ]
  },
  {
   "cell_type": "code",
   "execution_count": 177,
   "id": "5199eb9e",
   "metadata": {},
   "outputs": [
    {
     "data": {
      "text/plain": [
       "-46"
      ]
     },
     "execution_count": 177,
     "metadata": {},
     "output_type": "execute_result"
    }
   ],
   "source": [
    "walk.min()"
   ]
  },
  {
   "cell_type": "code",
   "execution_count": 178,
   "id": "ca51e9c3",
   "metadata": {},
   "outputs": [
    {
     "data": {
      "text/plain": [
       "16"
      ]
     },
     "execution_count": 178,
     "metadata": {},
     "output_type": "execute_result"
    }
   ],
   "source": [
    "walk.max()"
   ]
  },
  {
   "cell_type": "markdown",
   "id": "9fc31646",
   "metadata": {},
   "source": [
    "### 首次穿越時間 (first crossing time)：計算走了多少步以後才能夠首次到達10, -10。"
   ]
  },
  {
   "cell_type": "markdown",
   "id": "b810f4a1",
   "metadata": {},
   "source": [
    "### argmax(): 可以找到最大值，並且回傳index。"
   ]
  },
  {
   "cell_type": "code",
   "execution_count": 179,
   "id": "55fc1800",
   "metadata": {},
   "outputs": [
    {
     "data": {
      "text/plain": [
       "97"
      ]
     },
     "execution_count": 179,
     "metadata": {},
     "output_type": "execute_result"
    }
   ],
   "source": [
    "(np.abs(walk) >= 10).argmax()"
   ]
  },
  {
   "cell_type": "markdown",
   "id": "d7de4013",
   "metadata": {},
   "source": [
    "### 一次模擬許多隨機漫步"
   ]
  },
  {
   "cell_type": "code",
   "execution_count": 180,
   "id": "53894442",
   "metadata": {},
   "outputs": [],
   "source": [
    "nwalks=5000"
   ]
  },
  {
   "cell_type": "code",
   "execution_count": 181,
   "id": "a9743006",
   "metadata": {},
   "outputs": [],
   "source": [
    "nsteps=1000"
   ]
  },
  {
   "cell_type": "code",
   "execution_count": 182,
   "id": "3c7814b2",
   "metadata": {},
   "outputs": [],
   "source": [
    "draws=np.random.randint(0,2,size=(nwalks,nsteps)) "
   ]
  },
  {
   "cell_type": "code",
   "execution_count": 183,
   "id": "8a0c6ec4",
   "metadata": {},
   "outputs": [],
   "source": [
    "steps = np.where(draws >0, 1, -1)"
   ]
  },
  {
   "cell_type": "code",
   "execution_count": 184,
   "id": "4a340a66",
   "metadata": {},
   "outputs": [],
   "source": [
    "walks = steps.cumsum(1)"
   ]
  },
  {
   "cell_type": "code",
   "execution_count": 185,
   "id": "c8de6e5d",
   "metadata": {},
   "outputs": [
    {
     "data": {
      "text/plain": [
       "array([[ -1,  -2,  -3, ...,  -4,  -5,  -6],\n",
       "       [  1,   2,   1, ..., -36, -37, -38],\n",
       "       [  1,   2,   1, ...,  36,  35,  34],\n",
       "       ...,\n",
       "       [  1,   0,   1, ...,  64,  65,  64],\n",
       "       [  1,   0,   1, ..., -36, -37, -38],\n",
       "       [  1,   2,   1, ...,  30,  31,  30]])"
      ]
     },
     "execution_count": 185,
     "metadata": {},
     "output_type": "execute_result"
    }
   ],
   "source": [
    "walks"
   ]
  },
  {
   "cell_type": "code",
   "execution_count": 186,
   "id": "16650ed5",
   "metadata": {},
   "outputs": [
    {
     "data": {
      "text/plain": [
       "129"
      ]
     },
     "execution_count": 186,
     "metadata": {},
     "output_type": "execute_result"
    }
   ],
   "source": [
    "walks.max()"
   ]
  },
  {
   "cell_type": "code",
   "execution_count": 187,
   "id": "11deb934",
   "metadata": {},
   "outputs": [
    {
     "data": {
      "text/plain": [
       "-116"
      ]
     },
     "execution_count": 187,
     "metadata": {},
     "output_type": "execute_result"
    }
   ],
   "source": [
    "walks.min()"
   ]
  },
  {
   "cell_type": "markdown",
   "id": "1dd73ef8",
   "metadata": {},
   "source": [
    "### 第幾步穿越30, -30"
   ]
  },
  {
   "cell_type": "code",
   "execution_count": 188,
   "id": "862af5d8",
   "metadata": {},
   "outputs": [],
   "source": [
    "hits30= (np.abs(walks)>=30).any(1)"
   ]
  },
  {
   "cell_type": "code",
   "execution_count": 189,
   "id": "642f2d54",
   "metadata": {},
   "outputs": [
    {
     "data": {
      "text/plain": [
       "array([ True,  True,  True, ...,  True,  True,  True])"
      ]
     },
     "execution_count": 189,
     "metadata": {},
     "output_type": "execute_result"
    }
   ],
   "source": [
    "hits30"
   ]
  },
  {
   "cell_type": "code",
   "execution_count": 190,
   "id": "027e01e3",
   "metadata": {},
   "outputs": [
    {
     "data": {
      "text/plain": [
       "3429"
      ]
     },
     "execution_count": 190,
     "metadata": {},
     "output_type": "execute_result"
    }
   ],
   "source": [
    "hits30.sum()"
   ]
  },
  {
   "cell_type": "markdown",
   "id": "412e5728",
   "metadata": {},
   "source": [
    "### 把walks中累加步數絕對值30以上的列，利用布林陣列選出來。"
   ]
  },
  {
   "cell_type": "code",
   "execution_count": 191,
   "id": "34cda8d1",
   "metadata": {},
   "outputs": [],
   "source": [
    "crossing_times = (np.abs(walks[hits30]) >=30).argmax(1)"
   ]
  },
  {
   "cell_type": "code",
   "execution_count": 192,
   "id": "eb940d31",
   "metadata": {},
   "outputs": [
    {
     "data": {
      "text/plain": [
       "493.81423155438904"
      ]
     },
     "execution_count": 192,
     "metadata": {},
     "output_type": "execute_result"
    }
   ],
   "source": [
    "crossing_times.mean()"
   ]
  },
  {
   "cell_type": "markdown",
   "id": "c0ac118b",
   "metadata": {},
   "source": [
    "### 常態分布的漫步值"
   ]
  },
  {
   "cell_type": "code",
   "execution_count": 193,
   "id": "fbe6d244",
   "metadata": {},
   "outputs": [],
   "source": [
    "steps = np.random.normal(loc=0, scale=0.25, size=(nwalks, nsteps))"
   ]
  }
 ],
 "metadata": {
  "kernelspec": {
   "display_name": "Python 3 (ipykernel)",
   "language": "python",
   "name": "python3"
  },
  "language_info": {
   "codemirror_mode": {
    "name": "ipython",
    "version": 3
   },
   "file_extension": ".py",
   "mimetype": "text/x-python",
   "name": "python",
   "nbconvert_exporter": "python",
   "pygments_lexer": "ipython3",
   "version": "3.9.12"
  }
 },
 "nbformat": 4,
 "nbformat_minor": 5
}
