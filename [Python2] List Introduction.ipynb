{
 "cells": [
  {
   "cell_type": "markdown",
   "id": "8eb7ceac",
   "metadata": {},
   "source": [
    "# Chapter 3 內建資料結構、函式和檔案"
   ]
  },
  {
   "cell_type": "markdown",
   "id": "969970de",
   "metadata": {},
   "source": [
    "## List Introduction"
   ]
  },
  {
   "cell_type": "markdown",
   "id": "55468a55",
   "metadata": {},
   "source": [
    "### list: 長度可變，內容也可以變，使用 [] 定義list，或透過 list() 型態函數定義list。"
   ]
  },
  {
   "cell_type": "code",
   "execution_count": 1,
   "id": "d627a021",
   "metadata": {},
   "outputs": [
    {
     "name": "stdout",
     "output_type": "stream",
     "text": [
      "b_list: ['a', 'b', 'c', 'd', 'e']\n"
     ]
    }
   ],
   "source": [
    "a_list=[1,2,3,4,5]\n",
    "tup=('a','b','c','d','e')\n",
    "b_list=list(tup)\n",
    "print(f'b_list: {b_list}')"
   ]
  },
  {
   "cell_type": "markdown",
   "id": "3d2c7456",
   "metadata": {},
   "source": [
    "### [] : 可以透過中括號存取list中的值外，還可以變換值。"
   ]
  },
  {
   "cell_type": "code",
   "execution_count": 2,
   "id": "9312c0ba",
   "metadata": {},
   "outputs": [
    {
     "name": "stdout",
     "output_type": "stream",
     "text": [
      "b_list: ['apple', 'b', 'c', 'd', 'e']\n"
     ]
    }
   ],
   "source": [
    "b_list[0]='apple'\n",
    "print(f'b_list: {b_list}')"
   ]
  },
  {
   "cell_type": "markdown",
   "id": "1f111d18",
   "metadata": {},
   "source": [
    "### list常用來實體化一個疊代器或是產生器述句。"
   ]
  },
  {
   "cell_type": "code",
   "execution_count": 3,
   "id": "d063f5a9",
   "metadata": {},
   "outputs": [
    {
     "name": "stdout",
     "output_type": "stream",
     "text": [
      "a: range(0, 10)\n",
      "list(a): [0, 1, 2, 3, 4, 5, 6, 7, 8, 9]\n"
     ]
    }
   ],
   "source": [
    "a=range(10)\n",
    "print(f'a: {a}')\n",
    "print(f'list(a): {list(a)}')"
   ]
  },
  {
   "cell_type": "markdown",
   "id": "aabf22ea",
   "metadata": {},
   "source": [
    "### append() 可以加入尾端元素。(一次只能加入一個元素（one tuple/list)"
   ]
  },
  {
   "cell_type": "code",
   "execution_count": 4,
   "id": "66a6c85f",
   "metadata": {},
   "outputs": [
    {
     "name": "stdout",
     "output_type": "stream",
     "text": [
      "b_list: ['apple', 'b', 'c', 'd', 'e']\n",
      "b_list: ['apple', 'b', 'c', 'd', 'e', ['f', 'g', 'h']]\n"
     ]
    }
   ],
   "source": [
    "print(f'b_list: {b_list}')\n",
    "b_list.append(['f','g','h'])\n",
    "print(f'b_list: {b_list}')"
   ]
  },
  {
   "cell_type": "markdown",
   "id": "6ef9618c",
   "metadata": {},
   "source": [
    "### insert()可以將元素插入到list中任何位置。"
   ]
  },
  {
   "cell_type": "code",
   "execution_count": 5,
   "id": "0f36d55b",
   "metadata": {},
   "outputs": [
    {
     "name": "stdout",
     "output_type": "stream",
     "text": [
      "b_list: ['apple', 'b', 'c', 'different', 'd', 'e', ['f', 'g', 'h']]\n"
     ]
    }
   ],
   "source": [
    "b_list.insert(3,'different')\n",
    "print(f'b_list: {b_list}')"
   ]
  },
  {
   "cell_type": "markdown",
   "id": "d397c45e",
   "metadata": {},
   "source": [
    "### 注意到insert()的動作計算量比append()來的多，如果要增加最前面或最後面，可使用collections.deque"
   ]
  },
  {
   "cell_type": "markdown",
   "id": "f7c4d992",
   "metadata": {},
   "source": [
    "### pop() 可以移除指定位置的元素，並回傳該元素內容。"
   ]
  },
  {
   "cell_type": "code",
   "execution_count": 6,
   "id": "2eb26f3d",
   "metadata": {},
   "outputs": [
    {
     "data": {
      "text/plain": [
       "'d'"
      ]
     },
     "execution_count": 6,
     "metadata": {},
     "output_type": "execute_result"
    }
   ],
   "source": [
    "b_list.pop(4) "
   ]
  },
  {
   "cell_type": "code",
   "execution_count": 7,
   "id": "4ddfaf4a",
   "metadata": {},
   "outputs": [
    {
     "name": "stdout",
     "output_type": "stream",
     "text": [
      "b_list: ['apple', 'b', 'c', 'different', 'e', ['f', 'g', 'h']]\n"
     ]
    }
   ],
   "source": [
    "print(f'b_list: {b_list}')"
   ]
  },
  {
   "cell_type": "markdown",
   "id": "4fab4149",
   "metadata": {},
   "source": [
    "### remove() 可以刪除第一個符合的元素。"
   ]
  },
  {
   "cell_type": "code",
   "execution_count": 8,
   "id": "c0412cf3",
   "metadata": {},
   "outputs": [
    {
     "name": "stdout",
     "output_type": "stream",
     "text": [
      "b_list: ['apple', 'b', 'c', 'different', 'e', ['f', 'g', 'h'], 'apple']\n"
     ]
    }
   ],
   "source": [
    "b_list.append('apple')\n",
    "print(f'b_list: {b_list}')"
   ]
  },
  {
   "cell_type": "code",
   "execution_count": 9,
   "id": "d6077242",
   "metadata": {},
   "outputs": [],
   "source": [
    "b_list.remove('apple')"
   ]
  },
  {
   "cell_type": "code",
   "execution_count": 10,
   "id": "4d916e92",
   "metadata": {},
   "outputs": [
    {
     "name": "stdout",
     "output_type": "stream",
     "text": [
      "b_list: ['b', 'c', 'different', 'e', ['f', 'g', 'h'], 'apple']\n"
     ]
    }
   ],
   "source": [
    "print(f'b_list: {b_list}')"
   ]
  },
  {
   "cell_type": "markdown",
   "id": "503acccb",
   "metadata": {},
   "source": [
    "### 透過 in, not in 可以用來檢查是否有指定值。不過，list的執行效率比dict, set慢許多，因為list是線性掃描; dict, set是hash table。"
   ]
  },
  {
   "cell_type": "code",
   "execution_count": 11,
   "id": "96bd7f3d",
   "metadata": {},
   "outputs": [
    {
     "data": {
      "text/plain": [
       "True"
      ]
     },
     "execution_count": 11,
     "metadata": {},
     "output_type": "execute_result"
    }
   ],
   "source": [
    "3 in a_list"
   ]
  },
  {
   "cell_type": "code",
   "execution_count": 12,
   "id": "f61a0b8e",
   "metadata": {},
   "outputs": [
    {
     "data": {
      "text/plain": [
       "True"
      ]
     },
     "execution_count": 12,
     "metadata": {},
     "output_type": "execute_result"
    }
   ],
   "source": [
    "'app' not in b_list"
   ]
  },
  {
   "cell_type": "markdown",
   "id": "4587c75b",
   "metadata": {},
   "source": [
    "### + 可以連結2個list"
   ]
  },
  {
   "cell_type": "code",
   "execution_count": 13,
   "id": "3a70fdee",
   "metadata": {},
   "outputs": [
    {
     "data": {
      "text/plain": [
       "[1, 2, 3, 4, 5, 'b', 'c', 'different', 'e', ['f', 'g', 'h'], 'apple']"
      ]
     },
     "execution_count": 13,
     "metadata": {},
     "output_type": "execute_result"
    }
   ],
   "source": [
    "a_list + b_list"
   ]
  },
  {
   "cell_type": "markdown",
   "id": "c59d9cf0",
   "metadata": {},
   "source": [
    "### extend() ：可用來一次加入多個元素。"
   ]
  },
  {
   "cell_type": "code",
   "execution_count": 14,
   "id": "dffadce5",
   "metadata": {},
   "outputs": [
    {
     "name": "stdout",
     "output_type": "stream",
     "text": [
      "a_list: [1, 2, 3, 4, 5, 6, 7, 8, True]\n"
     ]
    }
   ],
   "source": [
    "a_list.extend([6,7,8,True])\n",
    "print(f'a_list: {a_list}')"
   ]
  },
  {
   "cell_type": "markdown",
   "id": "ce6f725b",
   "metadata": {},
   "source": [
    "### extend()內可以直接加入一個list的名稱。"
   ]
  },
  {
   "cell_type": "code",
   "execution_count": 15,
   "id": "a7e96fde",
   "metadata": {},
   "outputs": [],
   "source": [
    "everything=['a','b','c']\n",
    "list_of_lists=[[1,2,3],[4,5,6],[7,8,9]]"
   ]
  },
  {
   "cell_type": "code",
   "execution_count": 16,
   "id": "ff67c4c2",
   "metadata": {},
   "outputs": [
    {
     "data": {
      "text/plain": [
       "['a', 'b', 'c', [1, 2, 3], [4, 5, 6], [7, 8, 9]]"
      ]
     },
     "execution_count": 16,
     "metadata": {},
     "output_type": "execute_result"
    }
   ],
   "source": [
    "everything.extend(list_of_lists)\n",
    "everything"
   ]
  },
  {
   "cell_type": "markdown",
   "id": "a597f4a6",
   "metadata": {},
   "source": [
    "### extend(): 如果list內還有list，想要拆開裡面的值，可以使用for迴圈。"
   ]
  },
  {
   "cell_type": "code",
   "execution_count": 17,
   "id": "5be062c7",
   "metadata": {},
   "outputs": [],
   "source": [
    "everything=['a','b','c']\n",
    "list_of_lists=[[1,2,3],[4,5,6],[7,8,9]]"
   ]
  },
  {
   "cell_type": "code",
   "execution_count": 18,
   "id": "10b9c126",
   "metadata": {},
   "outputs": [
    {
     "name": "stdout",
     "output_type": "stream",
     "text": [
      "chunk: [1, 2, 3], everything: ['a', 'b', 'c', 1, 2, 3]\n",
      "chunk: [4, 5, 6], everything: ['a', 'b', 'c', 1, 2, 3, 4, 5, 6]\n",
      "chunk: [7, 8, 9], everything: ['a', 'b', 'c', 1, 2, 3, 4, 5, 6, 7, 8, 9]\n"
     ]
    }
   ],
   "source": [
    "for chunk in list_of_lists:\n",
    "    everything.extend(chunk)\n",
    "    print(f'chunk: {chunk}, everything: {everything}')"
   ]
  },
  {
   "cell_type": "markdown",
   "id": "6896ba22",
   "metadata": {},
   "source": [
    "### 由於加號需要開一個新的list，在效率上，使用extend()會更好。"
   ]
  },
  {
   "cell_type": "code",
   "execution_count": 19,
   "id": "bd7ba76e",
   "metadata": {},
   "outputs": [],
   "source": [
    "everything=['a','b','c']\n",
    "list_of_lists=[[1,2,3],[4,5,6],[7,8,9]]"
   ]
  },
  {
   "cell_type": "code",
   "execution_count": 20,
   "id": "2deb3440",
   "metadata": {},
   "outputs": [
    {
     "name": "stdout",
     "output_type": "stream",
     "text": [
      "chunk: [1, 2, 3], everything: ['a', 'b', 'c', 1, 2, 3]\n",
      "chunk: [4, 5, 6], everything: ['a', 'b', 'c', 1, 2, 3, 4, 5, 6]\n",
      "chunk: [7, 8, 9], everything: ['a', 'b', 'c', 1, 2, 3, 4, 5, 6, 7, 8, 9]\n"
     ]
    }
   ],
   "source": [
    "for chunk in list_of_lists:\n",
    "    everything=everything+chunk\n",
    "    print(f'chunk: {chunk}, everything: {everything}')"
   ]
  },
  {
   "cell_type": "markdown",
   "id": "5390e300",
   "metadata": {},
   "source": [
    "### sort(): 可以in-place不建立新物件的進行排序。"
   ]
  },
  {
   "cell_type": "code",
   "execution_count": 21,
   "id": "be9e577c",
   "metadata": {},
   "outputs": [],
   "source": [
    "a=[8,9,4,6,2,0]\n",
    "a.sort()"
   ]
  },
  {
   "cell_type": "code",
   "execution_count": 22,
   "id": "75cde591",
   "metadata": {},
   "outputs": [
    {
     "data": {
      "text/plain": [
       "[0, 2, 4, 6, 8, 9]"
      ]
     },
     "execution_count": 22,
     "metadata": {},
     "output_type": "execute_result"
    }
   ],
   "source": [
    "a"
   ]
  },
  {
   "cell_type": "markdown",
   "id": "aa95a16c",
   "metadata": {},
   "source": [
    "### sort(): 可以輸入sort key，例如len()"
   ]
  },
  {
   "cell_type": "code",
   "execution_count": 23,
   "id": "6c370b7c",
   "metadata": {},
   "outputs": [],
   "source": [
    "b=['hi','ocean','sky','blue','fantastic']\n",
    "b.sort(key=len)"
   ]
  },
  {
   "cell_type": "code",
   "execution_count": 24,
   "id": "77819369",
   "metadata": {},
   "outputs": [
    {
     "data": {
      "text/plain": [
       "['hi', 'sky', 'blue', 'ocean', 'fantastic']"
      ]
     },
     "execution_count": 24,
     "metadata": {},
     "output_type": "execute_result"
    }
   ],
   "source": [
    "b"
   ]
  },
  {
   "cell_type": "markdown",
   "id": "777ae0d8",
   "metadata": {},
   "source": [
    "### bisect(): 可以對已排序的list進行二元搜尋與插入，並不會破壞原本的排序。"
   ]
  },
  {
   "cell_type": "markdown",
   "id": "e9d0979c",
   "metadata": {},
   "source": [
    "### bisect.bisect 用來找到元素應該插入的正確位置。 bisect.insort 用來實際插入該元素。"
   ]
  },
  {
   "cell_type": "code",
   "execution_count": 25,
   "id": "847f1523",
   "metadata": {},
   "outputs": [],
   "source": [
    "import bisect"
   ]
  },
  {
   "cell_type": "code",
   "execution_count": 26,
   "id": "a9512c39",
   "metadata": {},
   "outputs": [
    {
     "name": "stdout",
     "output_type": "stream",
     "text": [
      "a=[0, 2, 4, 6, 8, 9]\n"
     ]
    },
    {
     "data": {
      "text/plain": [
       "1"
      ]
     },
     "execution_count": 26,
     "metadata": {},
     "output_type": "execute_result"
    }
   ],
   "source": [
    "print(f'a={a}')\n",
    "bisect.bisect(a,1) # bisect.bisect: 搜尋結果為1可插入在index=1的位置。"
   ]
  },
  {
   "cell_type": "code",
   "execution_count": 27,
   "id": "c96cd13e",
   "metadata": {},
   "outputs": [
    {
     "name": "stdout",
     "output_type": "stream",
     "text": [
      "a= [0, 1, 2, 4, 6, 8, 9]\n"
     ]
    }
   ],
   "source": [
    "bisect.insort(a,1)\n",
    "print(f'a= {a}')  # bisect.insort()： 執行1插入到a內的指令。"
   ]
  },
  {
   "cell_type": "markdown",
   "id": "6517dd88",
   "metadata": {},
   "source": [
    "### bisect() 本身並不會先排序好list()再執行插入，建議可以搭配sort()，先行整理好資料，再透過bisect()將元素插到正確的位置。"
   ]
  }
 ],
 "metadata": {
  "kernelspec": {
   "display_name": "Python 3 (ipykernel)",
   "language": "python",
   "name": "python3"
  },
  "language_info": {
   "codemirror_mode": {
    "name": "ipython",
    "version": 3
   },
   "file_extension": ".py",
   "mimetype": "text/x-python",
   "name": "python",
   "nbconvert_exporter": "python",
   "pygments_lexer": "ipython3",
   "version": "3.9.12"
  }
 },
 "nbformat": 4,
 "nbformat_minor": 5
}
