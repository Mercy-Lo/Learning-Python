{
 "cells": [
  {
   "cell_type": "markdown",
   "id": "eb37fa92",
   "metadata": {},
   "source": [
    "# 資料聚合和分組"
   ]
  },
  {
   "cell_type": "markdown",
   "id": "768d2fe5",
   "metadata": {},
   "source": [
    "## Data Aggregation and Group Operations Part I"
   ]
  },
  {
   "cell_type": "markdown",
   "id": "fd780206",
   "metadata": {},
   "source": [
    "### 分組Group是由分裂-套用-合併 split-apply-combine 一系列的動作而成。"
   ]
  },
  {
   "cell_type": "code",
   "execution_count": 1,
   "id": "66fd9c93",
   "metadata": {},
   "outputs": [],
   "source": [
    "import numpy as np\n",
    "import pandas as pd"
   ]
  },
  {
   "cell_type": "code",
   "execution_count": 2,
   "id": "68c49485",
   "metadata": {},
   "outputs": [],
   "source": [
    "df=pd.DataFrame({'key1':['a','a','b','b','a'],\n",
    "                 'key2': ['one','two','one','two','one'],\n",
    "                 'data1': np.random.randn(5),\n",
    "                 'data2': np.random.randn(5)})"
   ]
  },
  {
   "cell_type": "code",
   "execution_count": 3,
   "id": "c6da0bca",
   "metadata": {},
   "outputs": [
    {
     "data": {
      "text/html": [
       "<div>\n",
       "<style scoped>\n",
       "    .dataframe tbody tr th:only-of-type {\n",
       "        vertical-align: middle;\n",
       "    }\n",
       "\n",
       "    .dataframe tbody tr th {\n",
       "        vertical-align: top;\n",
       "    }\n",
       "\n",
       "    .dataframe thead th {\n",
       "        text-align: right;\n",
       "    }\n",
       "</style>\n",
       "<table border=\"1\" class=\"dataframe\">\n",
       "  <thead>\n",
       "    <tr style=\"text-align: right;\">\n",
       "      <th></th>\n",
       "      <th>key1</th>\n",
       "      <th>key2</th>\n",
       "      <th>data1</th>\n",
       "      <th>data2</th>\n",
       "    </tr>\n",
       "  </thead>\n",
       "  <tbody>\n",
       "    <tr>\n",
       "      <th>0</th>\n",
       "      <td>a</td>\n",
       "      <td>one</td>\n",
       "      <td>-1.209082</td>\n",
       "      <td>-1.063916</td>\n",
       "    </tr>\n",
       "    <tr>\n",
       "      <th>1</th>\n",
       "      <td>a</td>\n",
       "      <td>two</td>\n",
       "      <td>0.946712</td>\n",
       "      <td>0.605243</td>\n",
       "    </tr>\n",
       "    <tr>\n",
       "      <th>2</th>\n",
       "      <td>b</td>\n",
       "      <td>one</td>\n",
       "      <td>-1.098662</td>\n",
       "      <td>0.223535</td>\n",
       "    </tr>\n",
       "    <tr>\n",
       "      <th>3</th>\n",
       "      <td>b</td>\n",
       "      <td>two</td>\n",
       "      <td>0.783335</td>\n",
       "      <td>-1.293517</td>\n",
       "    </tr>\n",
       "    <tr>\n",
       "      <th>4</th>\n",
       "      <td>a</td>\n",
       "      <td>one</td>\n",
       "      <td>-0.956635</td>\n",
       "      <td>0.492003</td>\n",
       "    </tr>\n",
       "  </tbody>\n",
       "</table>\n",
       "</div>"
      ],
      "text/plain": [
       "  key1 key2     data1     data2\n",
       "0    a  one -1.209082 -1.063916\n",
       "1    a  two  0.946712  0.605243\n",
       "2    b  one -1.098662  0.223535\n",
       "3    b  two  0.783335 -1.293517\n",
       "4    a  one -0.956635  0.492003"
      ]
     },
     "execution_count": 3,
     "metadata": {},
     "output_type": "execute_result"
    }
   ],
   "source": [
    "df"
   ]
  },
  {
   "cell_type": "markdown",
   "id": "398e1281",
   "metadata": {},
   "source": [
    "### groupby(): 可以用來形成一個groupby的元件，如下為"
   ]
  },
  {
   "cell_type": "code",
   "execution_count": 4,
   "id": "8a367ffb",
   "metadata": {},
   "outputs": [],
   "source": [
    "grouped=df['data1'].groupby(df['key1'])"
   ]
  },
  {
   "cell_type": "code",
   "execution_count": 5,
   "id": "c325989a",
   "metadata": {},
   "outputs": [
    {
     "data": {
      "text/plain": [
       "<pandas.core.groupby.generic.SeriesGroupBy object at 0x7f86958dbd90>"
      ]
     },
     "execution_count": 5,
     "metadata": {},
     "output_type": "execute_result"
    }
   ],
   "source": [
    "grouped"
   ]
  },
  {
   "cell_type": "code",
   "execution_count": 6,
   "id": "b1ebecb4",
   "metadata": {},
   "outputs": [
    {
     "data": {
      "text/plain": [
       "key1\n",
       "a   -0.406335\n",
       "b   -0.157663\n",
       "Name: data1, dtype: float64"
      ]
     },
     "execution_count": 6,
     "metadata": {},
     "output_type": "execute_result"
    }
   ],
   "source": [
    "grouped.mean()"
   ]
  },
  {
   "cell_type": "markdown",
   "id": "ca37ccb6",
   "metadata": {},
   "source": [
    "### groupby(list) 如果有2個以上的key，可以放入list。"
   ]
  },
  {
   "cell_type": "code",
   "execution_count": 7,
   "id": "81649393",
   "metadata": {},
   "outputs": [],
   "source": [
    "means=df['data1'].groupby([df['key1'],df['key2']]).mean()"
   ]
  },
  {
   "cell_type": "code",
   "execution_count": 8,
   "id": "3906509c",
   "metadata": {},
   "outputs": [
    {
     "data": {
      "text/plain": [
       "key1  key2\n",
       "a     one    -1.082858\n",
       "      two     0.946712\n",
       "b     one    -1.098662\n",
       "      two     0.783335\n",
       "Name: data1, dtype: float64"
      ]
     },
     "execution_count": 8,
     "metadata": {},
     "output_type": "execute_result"
    }
   ],
   "source": [
    "means"
   ]
  },
  {
   "cell_type": "markdown",
   "id": "3d613997",
   "metadata": {},
   "source": [
    "### 2個以上的key值會進行階層式索引，unstack(): 將index轉為column。"
   ]
  },
  {
   "cell_type": "code",
   "execution_count": 9,
   "id": "36ffae62",
   "metadata": {},
   "outputs": [
    {
     "data": {
      "text/html": [
       "<div>\n",
       "<style scoped>\n",
       "    .dataframe tbody tr th:only-of-type {\n",
       "        vertical-align: middle;\n",
       "    }\n",
       "\n",
       "    .dataframe tbody tr th {\n",
       "        vertical-align: top;\n",
       "    }\n",
       "\n",
       "    .dataframe thead th {\n",
       "        text-align: right;\n",
       "    }\n",
       "</style>\n",
       "<table border=\"1\" class=\"dataframe\">\n",
       "  <thead>\n",
       "    <tr style=\"text-align: right;\">\n",
       "      <th>key2</th>\n",
       "      <th>one</th>\n",
       "      <th>two</th>\n",
       "    </tr>\n",
       "    <tr>\n",
       "      <th>key1</th>\n",
       "      <th></th>\n",
       "      <th></th>\n",
       "    </tr>\n",
       "  </thead>\n",
       "  <tbody>\n",
       "    <tr>\n",
       "      <th>a</th>\n",
       "      <td>-1.082858</td>\n",
       "      <td>0.946712</td>\n",
       "    </tr>\n",
       "    <tr>\n",
       "      <th>b</th>\n",
       "      <td>-1.098662</td>\n",
       "      <td>0.783335</td>\n",
       "    </tr>\n",
       "  </tbody>\n",
       "</table>\n",
       "</div>"
      ],
      "text/plain": [
       "key2       one       two\n",
       "key1                    \n",
       "a    -1.082858  0.946712\n",
       "b    -1.098662  0.783335"
      ]
     },
     "execution_count": 9,
     "metadata": {},
     "output_type": "execute_result"
    }
   ],
   "source": [
    "means.unstack() "
   ]
  },
  {
   "cell_type": "markdown",
   "id": "1802cb16",
   "metadata": {},
   "source": [
    "### 分組的內容也可以從其他array輸入"
   ]
  },
  {
   "cell_type": "code",
   "execution_count": 10,
   "id": "928fcf05",
   "metadata": {},
   "outputs": [],
   "source": [
    "states=np.array(['Ohio','California','California','Ohio','Ohio'])"
   ]
  },
  {
   "cell_type": "code",
   "execution_count": 11,
   "id": "b6444314",
   "metadata": {},
   "outputs": [],
   "source": [
    "years=np.array([2005,2005,2006,2005,2006])"
   ]
  },
  {
   "cell_type": "code",
   "execution_count": 12,
   "id": "2a4b79aa",
   "metadata": {},
   "outputs": [
    {
     "data": {
      "text/plain": [
       "California  2005    0.946712\n",
       "            2006   -1.098662\n",
       "Ohio        2005   -0.212873\n",
       "            2006   -0.956635\n",
       "Name: data1, dtype: float64"
      ]
     },
     "execution_count": 12,
     "metadata": {},
     "output_type": "execute_result"
    }
   ],
   "source": [
    "df['data1'].groupby([states,years]).mean()"
   ]
  },
  {
   "cell_type": "markdown",
   "id": "b9512969",
   "metadata": {},
   "source": [
    "### 如果要分組的資料來自於同一個DataFrame，直接在groupby內寫入欄位名稱即可。"
   ]
  },
  {
   "cell_type": "code",
   "execution_count": 13,
   "id": "af9c5180",
   "metadata": {},
   "outputs": [
    {
     "data": {
      "text/html": [
       "<div>\n",
       "<style scoped>\n",
       "    .dataframe tbody tr th:only-of-type {\n",
       "        vertical-align: middle;\n",
       "    }\n",
       "\n",
       "    .dataframe tbody tr th {\n",
       "        vertical-align: top;\n",
       "    }\n",
       "\n",
       "    .dataframe thead th {\n",
       "        text-align: right;\n",
       "    }\n",
       "</style>\n",
       "<table border=\"1\" class=\"dataframe\">\n",
       "  <thead>\n",
       "    <tr style=\"text-align: right;\">\n",
       "      <th></th>\n",
       "      <th>data1</th>\n",
       "      <th>data2</th>\n",
       "    </tr>\n",
       "    <tr>\n",
       "      <th>key1</th>\n",
       "      <th></th>\n",
       "      <th></th>\n",
       "    </tr>\n",
       "  </thead>\n",
       "  <tbody>\n",
       "    <tr>\n",
       "      <th>a</th>\n",
       "      <td>-0.406335</td>\n",
       "      <td>0.011110</td>\n",
       "    </tr>\n",
       "    <tr>\n",
       "      <th>b</th>\n",
       "      <td>-0.157663</td>\n",
       "      <td>-0.534991</td>\n",
       "    </tr>\n",
       "  </tbody>\n",
       "</table>\n",
       "</div>"
      ],
      "text/plain": [
       "         data1     data2\n",
       "key1                    \n",
       "a    -0.406335  0.011110\n",
       "b    -0.157663 -0.534991"
      ]
     },
     "execution_count": 13,
     "metadata": {},
     "output_type": "execute_result"
    }
   ],
   "source": [
    "df.groupby('key1').mean()"
   ]
  },
  {
   "cell_type": "code",
   "execution_count": 14,
   "id": "af23b8d9",
   "metadata": {},
   "outputs": [
    {
     "data": {
      "text/html": [
       "<div>\n",
       "<style scoped>\n",
       "    .dataframe tbody tr th:only-of-type {\n",
       "        vertical-align: middle;\n",
       "    }\n",
       "\n",
       "    .dataframe tbody tr th {\n",
       "        vertical-align: top;\n",
       "    }\n",
       "\n",
       "    .dataframe thead th {\n",
       "        text-align: right;\n",
       "    }\n",
       "</style>\n",
       "<table border=\"1\" class=\"dataframe\">\n",
       "  <thead>\n",
       "    <tr style=\"text-align: right;\">\n",
       "      <th></th>\n",
       "      <th></th>\n",
       "      <th>data1</th>\n",
       "      <th>data2</th>\n",
       "    </tr>\n",
       "    <tr>\n",
       "      <th>key1</th>\n",
       "      <th>key2</th>\n",
       "      <th></th>\n",
       "      <th></th>\n",
       "    </tr>\n",
       "  </thead>\n",
       "  <tbody>\n",
       "    <tr>\n",
       "      <th rowspan=\"2\" valign=\"top\">a</th>\n",
       "      <th>one</th>\n",
       "      <td>-1.082858</td>\n",
       "      <td>-0.285957</td>\n",
       "    </tr>\n",
       "    <tr>\n",
       "      <th>two</th>\n",
       "      <td>0.946712</td>\n",
       "      <td>0.605243</td>\n",
       "    </tr>\n",
       "    <tr>\n",
       "      <th rowspan=\"2\" valign=\"top\">b</th>\n",
       "      <th>one</th>\n",
       "      <td>-1.098662</td>\n",
       "      <td>0.223535</td>\n",
       "    </tr>\n",
       "    <tr>\n",
       "      <th>two</th>\n",
       "      <td>0.783335</td>\n",
       "      <td>-1.293517</td>\n",
       "    </tr>\n",
       "  </tbody>\n",
       "</table>\n",
       "</div>"
      ],
      "text/plain": [
       "              data1     data2\n",
       "key1 key2                    \n",
       "a    one  -1.082858 -0.285957\n",
       "     two   0.946712  0.605243\n",
       "b    one  -1.098662  0.223535\n",
       "     two   0.783335 -1.293517"
      ]
     },
     "execution_count": 14,
     "metadata": {},
     "output_type": "execute_result"
    }
   ],
   "source": [
    "df.groupby(['key1','key2']).mean()"
   ]
  },
  {
   "cell_type": "markdown",
   "id": "894d9068",
   "metadata": {},
   "source": [
    "### size(): 可以用來計算每組有多少數值，不過，遺失值NAN不會被列入計算之中。"
   ]
  },
  {
   "cell_type": "code",
   "execution_count": 15,
   "id": "46f73d5c",
   "metadata": {},
   "outputs": [
    {
     "data": {
      "text/plain": [
       "key1  key2\n",
       "a     one     2\n",
       "      two     1\n",
       "b     one     1\n",
       "      two     1\n",
       "dtype: int64"
      ]
     },
     "execution_count": 15,
     "metadata": {},
     "output_type": "execute_result"
    }
   ],
   "source": [
    "df.groupby(['key1','key2']).size()"
   ]
  },
  {
   "cell_type": "markdown",
   "id": "befa30f4",
   "metadata": {},
   "source": [
    "### 疊代分組"
   ]
  },
  {
   "cell_type": "code",
   "execution_count": 16,
   "id": "c25f947e",
   "metadata": {},
   "outputs": [
    {
     "data": {
      "text/html": [
       "<div>\n",
       "<style scoped>\n",
       "    .dataframe tbody tr th:only-of-type {\n",
       "        vertical-align: middle;\n",
       "    }\n",
       "\n",
       "    .dataframe tbody tr th {\n",
       "        vertical-align: top;\n",
       "    }\n",
       "\n",
       "    .dataframe thead th {\n",
       "        text-align: right;\n",
       "    }\n",
       "</style>\n",
       "<table border=\"1\" class=\"dataframe\">\n",
       "  <thead>\n",
       "    <tr style=\"text-align: right;\">\n",
       "      <th></th>\n",
       "      <th>key1</th>\n",
       "      <th>key2</th>\n",
       "      <th>data1</th>\n",
       "      <th>data2</th>\n",
       "    </tr>\n",
       "  </thead>\n",
       "  <tbody>\n",
       "    <tr>\n",
       "      <th>0</th>\n",
       "      <td>a</td>\n",
       "      <td>one</td>\n",
       "      <td>-1.209082</td>\n",
       "      <td>-1.063916</td>\n",
       "    </tr>\n",
       "    <tr>\n",
       "      <th>1</th>\n",
       "      <td>a</td>\n",
       "      <td>two</td>\n",
       "      <td>0.946712</td>\n",
       "      <td>0.605243</td>\n",
       "    </tr>\n",
       "    <tr>\n",
       "      <th>2</th>\n",
       "      <td>b</td>\n",
       "      <td>one</td>\n",
       "      <td>-1.098662</td>\n",
       "      <td>0.223535</td>\n",
       "    </tr>\n",
       "    <tr>\n",
       "      <th>3</th>\n",
       "      <td>b</td>\n",
       "      <td>two</td>\n",
       "      <td>0.783335</td>\n",
       "      <td>-1.293517</td>\n",
       "    </tr>\n",
       "    <tr>\n",
       "      <th>4</th>\n",
       "      <td>a</td>\n",
       "      <td>one</td>\n",
       "      <td>-0.956635</td>\n",
       "      <td>0.492003</td>\n",
       "    </tr>\n",
       "  </tbody>\n",
       "</table>\n",
       "</div>"
      ],
      "text/plain": [
       "  key1 key2     data1     data2\n",
       "0    a  one -1.209082 -1.063916\n",
       "1    a  two  0.946712  0.605243\n",
       "2    b  one -1.098662  0.223535\n",
       "3    b  two  0.783335 -1.293517\n",
       "4    a  one -0.956635  0.492003"
      ]
     },
     "execution_count": 16,
     "metadata": {},
     "output_type": "execute_result"
    }
   ],
   "source": [
    "df"
   ]
  },
  {
   "cell_type": "markdown",
   "id": "b1009631",
   "metadata": {},
   "source": [
    "### 如下會顯示groupby()功能運作的原理，會先找到key1內的a,b。"
   ]
  },
  {
   "cell_type": "code",
   "execution_count": 17,
   "id": "032848af",
   "metadata": {
    "scrolled": true
   },
   "outputs": [
    {
     "name": "stdout",
     "output_type": "stream",
     "text": [
      "a\n",
      "b\n"
     ]
    }
   ],
   "source": [
    "for name, group in df.groupby('key1'):\n",
    "    print(name)"
   ]
  },
  {
   "cell_type": "markdown",
   "id": "2ee16492",
   "metadata": {},
   "source": [
    "### 再依據a,b的順序進行df全部資料的排序。"
   ]
  },
  {
   "cell_type": "code",
   "execution_count": 18,
   "id": "a5e01c9b",
   "metadata": {
    "scrolled": true
   },
   "outputs": [
    {
     "name": "stdout",
     "output_type": "stream",
     "text": [
      "  key1 key2     data1     data2\n",
      "0    a  one -1.209082 -1.063916\n",
      "1    a  two  0.946712  0.605243\n",
      "4    a  one -0.956635  0.492003\n",
      "  key1 key2     data1     data2\n",
      "2    b  one -1.098662  0.223535\n",
      "3    b  two  0.783335 -1.293517\n"
     ]
    }
   ],
   "source": [
    "for name, group in df.groupby('key1'):\n",
    "    print(group)"
   ]
  },
  {
   "cell_type": "markdown",
   "id": "d2e0d78b",
   "metadata": {},
   "source": [
    "### 先找到(k1,k2)，再依據k1,k2做資料重組。"
   ]
  },
  {
   "cell_type": "code",
   "execution_count": 19,
   "id": "9e5f51e5",
   "metadata": {},
   "outputs": [
    {
     "name": "stdout",
     "output_type": "stream",
     "text": [
      "a one\n",
      "  key1 key2     data1     data2\n",
      "0    a  one -1.209082 -1.063916\n",
      "4    a  one -0.956635  0.492003\n",
      "a two\n",
      "  key1 key2     data1     data2\n",
      "1    a  two  0.946712  0.605243\n",
      "b one\n",
      "  key1 key2     data1     data2\n",
      "2    b  one -1.098662  0.223535\n",
      "b two\n",
      "  key1 key2     data1     data2\n",
      "3    b  two  0.783335 -1.293517\n"
     ]
    }
   ],
   "source": [
    "for (k1,k2), group in df.groupby(['key1','key2']):\n",
    "    print(k1,k2)\n",
    "    print(group)"
   ]
  },
  {
   "cell_type": "markdown",
   "id": "fba4d421",
   "metadata": {},
   "source": [
    "### 可以把groupby的物件做list, dict的格式轉換。"
   ]
  },
  {
   "cell_type": "code",
   "execution_count": 20,
   "id": "2a18efef",
   "metadata": {},
   "outputs": [],
   "source": [
    "pieces=dict(list(df.groupby('key1')))"
   ]
  },
  {
   "cell_type": "code",
   "execution_count": 21,
   "id": "5e9246bc",
   "metadata": {
    "scrolled": true
   },
   "outputs": [
    {
     "data": {
      "text/html": [
       "<div>\n",
       "<style scoped>\n",
       "    .dataframe tbody tr th:only-of-type {\n",
       "        vertical-align: middle;\n",
       "    }\n",
       "\n",
       "    .dataframe tbody tr th {\n",
       "        vertical-align: top;\n",
       "    }\n",
       "\n",
       "    .dataframe thead th {\n",
       "        text-align: right;\n",
       "    }\n",
       "</style>\n",
       "<table border=\"1\" class=\"dataframe\">\n",
       "  <thead>\n",
       "    <tr style=\"text-align: right;\">\n",
       "      <th></th>\n",
       "      <th>key1</th>\n",
       "      <th>key2</th>\n",
       "      <th>data1</th>\n",
       "      <th>data2</th>\n",
       "    </tr>\n",
       "  </thead>\n",
       "  <tbody>\n",
       "    <tr>\n",
       "      <th>2</th>\n",
       "      <td>b</td>\n",
       "      <td>one</td>\n",
       "      <td>-1.098662</td>\n",
       "      <td>0.223535</td>\n",
       "    </tr>\n",
       "    <tr>\n",
       "      <th>3</th>\n",
       "      <td>b</td>\n",
       "      <td>two</td>\n",
       "      <td>0.783335</td>\n",
       "      <td>-1.293517</td>\n",
       "    </tr>\n",
       "  </tbody>\n",
       "</table>\n",
       "</div>"
      ],
      "text/plain": [
       "  key1 key2     data1     data2\n",
       "2    b  one -1.098662  0.223535\n",
       "3    b  two  0.783335 -1.293517"
      ]
     },
     "execution_count": 21,
     "metadata": {},
     "output_type": "execute_result"
    }
   ],
   "source": [
    "pieces['b']"
   ]
  },
  {
   "cell_type": "code",
   "execution_count": 22,
   "id": "76ca2059",
   "metadata": {},
   "outputs": [
    {
     "data": {
      "text/plain": [
       "[('a',\n",
       "    key1 key2     data1     data2\n",
       "  0    a  one -1.209082 -1.063916\n",
       "  1    a  two  0.946712  0.605243\n",
       "  4    a  one -0.956635  0.492003),\n",
       " ('b',\n",
       "    key1 key2     data1     data2\n",
       "  2    b  one -1.098662  0.223535\n",
       "  3    b  two  0.783335 -1.293517)]"
      ]
     },
     "execution_count": 22,
     "metadata": {},
     "output_type": "execute_result"
    }
   ],
   "source": [
    "a=list(df.groupby('key1'))\n",
    "a"
   ]
  },
  {
   "cell_type": "code",
   "execution_count": 23,
   "id": "6407641d",
   "metadata": {},
   "outputs": [
    {
     "data": {
      "text/plain": [
       "{'a':   key1 key2     data1     data2\n",
       " 0    a  one -1.209082 -1.063916\n",
       " 1    a  two  0.946712  0.605243\n",
       " 4    a  one -0.956635  0.492003,\n",
       " 'b':   key1 key2     data1     data2\n",
       " 2    b  one -1.098662  0.223535\n",
       " 3    b  two  0.783335 -1.293517}"
      ]
     },
     "execution_count": 23,
     "metadata": {},
     "output_type": "execute_result"
    }
   ],
   "source": [
    "b=dict(a)\n",
    "b"
   ]
  },
  {
   "cell_type": "code",
   "execution_count": 24,
   "id": "01cb69c5",
   "metadata": {},
   "outputs": [
    {
     "data": {
      "text/plain": [
       "key1      object\n",
       "key2      object\n",
       "data1    float64\n",
       "data2    float64\n",
       "dtype: object"
      ]
     },
     "execution_count": 24,
     "metadata": {},
     "output_type": "execute_result"
    }
   ],
   "source": [
    "df.dtypes"
   ]
  },
  {
   "cell_type": "markdown",
   "id": "0a284897",
   "metadata": {},
   "source": [
    "### axis=1 以欄為主做資料分群。故float64包含data1,data2 ; object包含key1, key2。"
   ]
  },
  {
   "cell_type": "code",
   "execution_count": 25,
   "id": "3282ed17",
   "metadata": {},
   "outputs": [],
   "source": [
    "grouped=df.groupby(df.dtypes,axis=1)"
   ]
  },
  {
   "cell_type": "code",
   "execution_count": 26,
   "id": "0f086c77",
   "metadata": {},
   "outputs": [
    {
     "name": "stdout",
     "output_type": "stream",
     "text": [
      "float64\n",
      "      data1     data2\n",
      "0 -1.209082 -1.063916\n",
      "1  0.946712  0.605243\n",
      "2 -1.098662  0.223535\n",
      "3  0.783335 -1.293517\n",
      "4 -0.956635  0.492003\n",
      "object\n",
      "  key1 key2\n",
      "0    a  one\n",
      "1    a  two\n",
      "2    b  one\n",
      "3    b  two\n",
      "4    a  one\n"
     ]
    }
   ],
   "source": [
    "for dtype, group in grouped:\n",
    "    print(dtype)\n",
    "    print(group)"
   ]
  },
  {
   "cell_type": "markdown",
   "id": "65958248",
   "metadata": {},
   "source": [
    "### 選取一個或多個欄"
   ]
  },
  {
   "cell_type": "code",
   "execution_count": 27,
   "id": "a7a4aed1",
   "metadata": {},
   "outputs": [
    {
     "data": {
      "text/plain": [
       "False"
      ]
     },
     "execution_count": 27,
     "metadata": {},
     "output_type": "execute_result"
    }
   ],
   "source": [
    "df.groupby('key1')['data1'] == df['data1'].groupby(df['key1'])"
   ]
  },
  {
   "cell_type": "code",
   "execution_count": 28,
   "id": "38fb1a3f",
   "metadata": {},
   "outputs": [
    {
     "data": {
      "text/plain": [
       "key1\n",
       "a   -0.406335\n",
       "b   -0.157663\n",
       "Name: data1, dtype: float64"
      ]
     },
     "execution_count": 28,
     "metadata": {},
     "output_type": "execute_result"
    }
   ],
   "source": [
    "df.groupby('key1')['data1'].mean()"
   ]
  },
  {
   "cell_type": "code",
   "execution_count": 29,
   "id": "27dfb32a",
   "metadata": {},
   "outputs": [
    {
     "data": {
      "text/plain": [
       "key1\n",
       "a   -0.406335\n",
       "b   -0.157663\n",
       "Name: data1, dtype: float64"
      ]
     },
     "execution_count": 29,
     "metadata": {},
     "output_type": "execute_result"
    }
   ],
   "source": [
    "df['data1'].groupby(df['key1']).mean()"
   ]
  },
  {
   "cell_type": "code",
   "execution_count": 30,
   "id": "e05847ef",
   "metadata": {},
   "outputs": [
    {
     "data": {
      "text/plain": [
       "False"
      ]
     },
     "execution_count": 30,
     "metadata": {},
     "output_type": "execute_result"
    }
   ],
   "source": [
    "df.groupby('key1')[['data2']] == df[['data2']].groupby(df['key1'])"
   ]
  },
  {
   "cell_type": "code",
   "execution_count": 31,
   "id": "0d5a19ed",
   "metadata": {},
   "outputs": [
    {
     "data": {
      "text/html": [
       "<div>\n",
       "<style scoped>\n",
       "    .dataframe tbody tr th:only-of-type {\n",
       "        vertical-align: middle;\n",
       "    }\n",
       "\n",
       "    .dataframe tbody tr th {\n",
       "        vertical-align: top;\n",
       "    }\n",
       "\n",
       "    .dataframe thead th {\n",
       "        text-align: right;\n",
       "    }\n",
       "</style>\n",
       "<table border=\"1\" class=\"dataframe\">\n",
       "  <thead>\n",
       "    <tr style=\"text-align: right;\">\n",
       "      <th></th>\n",
       "      <th>data2</th>\n",
       "    </tr>\n",
       "    <tr>\n",
       "      <th>key1</th>\n",
       "      <th></th>\n",
       "    </tr>\n",
       "  </thead>\n",
       "  <tbody>\n",
       "    <tr>\n",
       "      <th>a</th>\n",
       "      <td>0.011110</td>\n",
       "    </tr>\n",
       "    <tr>\n",
       "      <th>b</th>\n",
       "      <td>-0.534991</td>\n",
       "    </tr>\n",
       "  </tbody>\n",
       "</table>\n",
       "</div>"
      ],
      "text/plain": [
       "         data2\n",
       "key1          \n",
       "a     0.011110\n",
       "b    -0.534991"
      ]
     },
     "execution_count": 31,
     "metadata": {},
     "output_type": "execute_result"
    }
   ],
   "source": [
    "df.groupby('key1')[['data2']].mean()"
   ]
  },
  {
   "cell_type": "code",
   "execution_count": 32,
   "id": "800803c6",
   "metadata": {},
   "outputs": [
    {
     "data": {
      "text/plain": [
       "key1\n",
       "a    0.011110\n",
       "b   -0.534991\n",
       "Name: data2, dtype: float64"
      ]
     },
     "execution_count": 32,
     "metadata": {},
     "output_type": "execute_result"
    }
   ],
   "source": [
    "df['data2'].groupby(df['key1']).mean()"
   ]
  },
  {
   "cell_type": "markdown",
   "id": "30cae168",
   "metadata": {},
   "source": [
    "### 將data2進行分組平均。"
   ]
  },
  {
   "cell_type": "code",
   "execution_count": 33,
   "id": "b3a31feb",
   "metadata": {},
   "outputs": [
    {
     "data": {
      "text/html": [
       "<div>\n",
       "<style scoped>\n",
       "    .dataframe tbody tr th:only-of-type {\n",
       "        vertical-align: middle;\n",
       "    }\n",
       "\n",
       "    .dataframe tbody tr th {\n",
       "        vertical-align: top;\n",
       "    }\n",
       "\n",
       "    .dataframe thead th {\n",
       "        text-align: right;\n",
       "    }\n",
       "</style>\n",
       "<table border=\"1\" class=\"dataframe\">\n",
       "  <thead>\n",
       "    <tr style=\"text-align: right;\">\n",
       "      <th></th>\n",
       "      <th></th>\n",
       "      <th>data2</th>\n",
       "    </tr>\n",
       "    <tr>\n",
       "      <th>key1</th>\n",
       "      <th>key2</th>\n",
       "      <th></th>\n",
       "    </tr>\n",
       "  </thead>\n",
       "  <tbody>\n",
       "    <tr>\n",
       "      <th rowspan=\"2\" valign=\"top\">a</th>\n",
       "      <th>one</th>\n",
       "      <td>-0.285957</td>\n",
       "    </tr>\n",
       "    <tr>\n",
       "      <th>two</th>\n",
       "      <td>0.605243</td>\n",
       "    </tr>\n",
       "    <tr>\n",
       "      <th rowspan=\"2\" valign=\"top\">b</th>\n",
       "      <th>one</th>\n",
       "      <td>0.223535</td>\n",
       "    </tr>\n",
       "    <tr>\n",
       "      <th>two</th>\n",
       "      <td>-1.293517</td>\n",
       "    </tr>\n",
       "  </tbody>\n",
       "</table>\n",
       "</div>"
      ],
      "text/plain": [
       "              data2\n",
       "key1 key2          \n",
       "a    one  -0.285957\n",
       "     two   0.605243\n",
       "b    one   0.223535\n",
       "     two  -1.293517"
      ]
     },
     "execution_count": 33,
     "metadata": {},
     "output_type": "execute_result"
    }
   ],
   "source": [
    "df.groupby(['key1','key2'])[['data2']].mean()"
   ]
  },
  {
   "cell_type": "markdown",
   "id": "ce461260",
   "metadata": {},
   "source": [
    "### 如果data提供的為list, array，groupby產出會是DataFrame。如果data是單純的數字，groupby產出會是Series。"
   ]
  },
  {
   "cell_type": "code",
   "execution_count": 34,
   "id": "44cef7f7",
   "metadata": {},
   "outputs": [],
   "source": [
    "s_grouped=df.groupby(['key1','key2'])['data2']"
   ]
  },
  {
   "cell_type": "code",
   "execution_count": 35,
   "id": "43018233",
   "metadata": {},
   "outputs": [
    {
     "data": {
      "text/plain": [
       "<pandas.core.groupby.generic.SeriesGroupBy object at 0x7f8695a7c2b0>"
      ]
     },
     "execution_count": 35,
     "metadata": {},
     "output_type": "execute_result"
    }
   ],
   "source": [
    "s_grouped"
   ]
  },
  {
   "cell_type": "code",
   "execution_count": 36,
   "id": "b0281377",
   "metadata": {},
   "outputs": [
    {
     "data": {
      "text/plain": [
       "key1  key2\n",
       "a     one    -0.285957\n",
       "      two     0.605243\n",
       "b     one     0.223535\n",
       "      two    -1.293517\n",
       "Name: data2, dtype: float64"
      ]
     },
     "execution_count": 36,
     "metadata": {},
     "output_type": "execute_result"
    }
   ],
   "source": [
    "s_grouped.mean()"
   ]
  },
  {
   "cell_type": "markdown",
   "id": "d335f9f2",
   "metadata": {},
   "source": [
    "### 用Dict和Series進行分組"
   ]
  },
  {
   "cell_type": "code",
   "execution_count": 37,
   "id": "97240252",
   "metadata": {},
   "outputs": [],
   "source": [
    "people=pd.DataFrame(np.random.randn(5,5),\n",
    "                   columns=['a','b','c','d','e'],\n",
    "                   index=['Joe','Steve','Wes','Jim','Tres'])"
   ]
  },
  {
   "cell_type": "code",
   "execution_count": 38,
   "id": "e60e9aff",
   "metadata": {},
   "outputs": [],
   "source": [
    "people.iloc[2:3, [1,2]]=np.nan"
   ]
  },
  {
   "cell_type": "code",
   "execution_count": 39,
   "id": "7ee405ff",
   "metadata": {},
   "outputs": [
    {
     "data": {
      "text/html": [
       "<div>\n",
       "<style scoped>\n",
       "    .dataframe tbody tr th:only-of-type {\n",
       "        vertical-align: middle;\n",
       "    }\n",
       "\n",
       "    .dataframe tbody tr th {\n",
       "        vertical-align: top;\n",
       "    }\n",
       "\n",
       "    .dataframe thead th {\n",
       "        text-align: right;\n",
       "    }\n",
       "</style>\n",
       "<table border=\"1\" class=\"dataframe\">\n",
       "  <thead>\n",
       "    <tr style=\"text-align: right;\">\n",
       "      <th></th>\n",
       "      <th>a</th>\n",
       "      <th>b</th>\n",
       "      <th>c</th>\n",
       "      <th>d</th>\n",
       "      <th>e</th>\n",
       "    </tr>\n",
       "  </thead>\n",
       "  <tbody>\n",
       "    <tr>\n",
       "      <th>Joe</th>\n",
       "      <td>-1.027396</td>\n",
       "      <td>-0.258384</td>\n",
       "      <td>0.652083</td>\n",
       "      <td>-1.612787</td>\n",
       "      <td>0.293035</td>\n",
       "    </tr>\n",
       "    <tr>\n",
       "      <th>Steve</th>\n",
       "      <td>1.355604</td>\n",
       "      <td>-1.868450</td>\n",
       "      <td>-1.300112</td>\n",
       "      <td>-1.268887</td>\n",
       "      <td>1.936118</td>\n",
       "    </tr>\n",
       "    <tr>\n",
       "      <th>Wes</th>\n",
       "      <td>-1.387468</td>\n",
       "      <td>NaN</td>\n",
       "      <td>NaN</td>\n",
       "      <td>-0.668607</td>\n",
       "      <td>-0.914216</td>\n",
       "    </tr>\n",
       "    <tr>\n",
       "      <th>Jim</th>\n",
       "      <td>-1.530624</td>\n",
       "      <td>0.457796</td>\n",
       "      <td>0.447499</td>\n",
       "      <td>-1.600257</td>\n",
       "      <td>-0.087642</td>\n",
       "    </tr>\n",
       "    <tr>\n",
       "      <th>Tres</th>\n",
       "      <td>-0.686350</td>\n",
       "      <td>1.170687</td>\n",
       "      <td>0.372309</td>\n",
       "      <td>-0.443858</td>\n",
       "      <td>-0.746222</td>\n",
       "    </tr>\n",
       "  </tbody>\n",
       "</table>\n",
       "</div>"
      ],
      "text/plain": [
       "              a         b         c         d         e\n",
       "Joe   -1.027396 -0.258384  0.652083 -1.612787  0.293035\n",
       "Steve  1.355604 -1.868450 -1.300112 -1.268887  1.936118\n",
       "Wes   -1.387468       NaN       NaN -0.668607 -0.914216\n",
       "Jim   -1.530624  0.457796  0.447499 -1.600257 -0.087642\n",
       "Tres  -0.686350  1.170687  0.372309 -0.443858 -0.746222"
      ]
     },
     "execution_count": 39,
     "metadata": {},
     "output_type": "execute_result"
    }
   ],
   "source": [
    "people"
   ]
  },
  {
   "cell_type": "code",
   "execution_count": 40,
   "id": "518e7489",
   "metadata": {},
   "outputs": [],
   "source": [
    "mapping={'a':'red','b':'red','c':'blue','d':'blue','e':'red','f':'orange'}"
   ]
  },
  {
   "cell_type": "code",
   "execution_count": 41,
   "id": "e3d550dd",
   "metadata": {},
   "outputs": [],
   "source": [
    "by_column=people.groupby(mapping, axis=1)"
   ]
  },
  {
   "cell_type": "code",
   "execution_count": 42,
   "id": "20dd1994",
   "metadata": {},
   "outputs": [
    {
     "name": "stdout",
     "output_type": "stream",
     "text": [
      "blue\n",
      "              c         d\n",
      "Joe    0.652083 -1.612787\n",
      "Steve -1.300112 -1.268887\n",
      "Wes         NaN -0.668607\n",
      "Jim    0.447499 -1.600257\n",
      "Tres   0.372309 -0.443858\n",
      "red\n",
      "              a         b         e\n",
      "Joe   -1.027396 -0.258384  0.293035\n",
      "Steve  1.355604 -1.868450  1.936118\n",
      "Wes   -1.387468       NaN -0.914216\n",
      "Jim   -1.530624  0.457796 -0.087642\n",
      "Tres  -0.686350  1.170687 -0.746222\n"
     ]
    }
   ],
   "source": [
    "for name, group in people.groupby(mapping, axis=1):\n",
    "    print(name)\n",
    "    print(group)"
   ]
  },
  {
   "cell_type": "markdown",
   "id": "22746c88",
   "metadata": {},
   "source": [
    "### dict的key=df的column name(axis=1)\n",
    "### dict的value會直接變為groupby分組名稱，對應不到的ｆ，不會出現。\n",
    "### 即使people內有nan，也不影響加總。"
   ]
  },
  {
   "cell_type": "code",
   "execution_count": 43,
   "id": "9ce95bc2",
   "metadata": {},
   "outputs": [
    {
     "data": {
      "text/html": [
       "<div>\n",
       "<style scoped>\n",
       "    .dataframe tbody tr th:only-of-type {\n",
       "        vertical-align: middle;\n",
       "    }\n",
       "\n",
       "    .dataframe tbody tr th {\n",
       "        vertical-align: top;\n",
       "    }\n",
       "\n",
       "    .dataframe thead th {\n",
       "        text-align: right;\n",
       "    }\n",
       "</style>\n",
       "<table border=\"1\" class=\"dataframe\">\n",
       "  <thead>\n",
       "    <tr style=\"text-align: right;\">\n",
       "      <th></th>\n",
       "      <th>blue</th>\n",
       "      <th>red</th>\n",
       "    </tr>\n",
       "  </thead>\n",
       "  <tbody>\n",
       "    <tr>\n",
       "      <th>Joe</th>\n",
       "      <td>-0.960705</td>\n",
       "      <td>-0.992746</td>\n",
       "    </tr>\n",
       "    <tr>\n",
       "      <th>Steve</th>\n",
       "      <td>-2.568999</td>\n",
       "      <td>1.423272</td>\n",
       "    </tr>\n",
       "    <tr>\n",
       "      <th>Wes</th>\n",
       "      <td>-0.668607</td>\n",
       "      <td>-2.301684</td>\n",
       "    </tr>\n",
       "    <tr>\n",
       "      <th>Jim</th>\n",
       "      <td>-1.152758</td>\n",
       "      <td>-1.160470</td>\n",
       "    </tr>\n",
       "    <tr>\n",
       "      <th>Tres</th>\n",
       "      <td>-0.071548</td>\n",
       "      <td>-0.261884</td>\n",
       "    </tr>\n",
       "  </tbody>\n",
       "</table>\n",
       "</div>"
      ],
      "text/plain": [
       "           blue       red\n",
       "Joe   -0.960705 -0.992746\n",
       "Steve -2.568999  1.423272\n",
       "Wes   -0.668607 -2.301684\n",
       "Jim   -1.152758 -1.160470\n",
       "Tres  -0.071548 -0.261884"
      ]
     },
     "execution_count": 43,
     "metadata": {},
     "output_type": "execute_result"
    }
   ],
   "source": [
    "by_column.sum()"
   ]
  },
  {
   "cell_type": "code",
   "execution_count": 44,
   "id": "48fd3281",
   "metadata": {},
   "outputs": [],
   "source": [
    "map_series=pd.Series(mapping)"
   ]
  },
  {
   "cell_type": "code",
   "execution_count": 45,
   "id": "28d56771",
   "metadata": {},
   "outputs": [
    {
     "data": {
      "text/plain": [
       "a       red\n",
       "b       red\n",
       "c      blue\n",
       "d      blue\n",
       "e       red\n",
       "f    orange\n",
       "dtype: object"
      ]
     },
     "execution_count": 45,
     "metadata": {},
     "output_type": "execute_result"
    }
   ],
   "source": [
    "map_series"
   ]
  },
  {
   "cell_type": "markdown",
   "id": "6153848b",
   "metadata": {},
   "source": [
    "### 將mapping從原先的dict改為series，也不會影響groupby的值。"
   ]
  },
  {
   "cell_type": "code",
   "execution_count": 46,
   "id": "2c06ce0d",
   "metadata": {},
   "outputs": [
    {
     "data": {
      "text/html": [
       "<div>\n",
       "<style scoped>\n",
       "    .dataframe tbody tr th:only-of-type {\n",
       "        vertical-align: middle;\n",
       "    }\n",
       "\n",
       "    .dataframe tbody tr th {\n",
       "        vertical-align: top;\n",
       "    }\n",
       "\n",
       "    .dataframe thead th {\n",
       "        text-align: right;\n",
       "    }\n",
       "</style>\n",
       "<table border=\"1\" class=\"dataframe\">\n",
       "  <thead>\n",
       "    <tr style=\"text-align: right;\">\n",
       "      <th></th>\n",
       "      <th>blue</th>\n",
       "      <th>red</th>\n",
       "    </tr>\n",
       "  </thead>\n",
       "  <tbody>\n",
       "    <tr>\n",
       "      <th>Joe</th>\n",
       "      <td>2</td>\n",
       "      <td>3</td>\n",
       "    </tr>\n",
       "    <tr>\n",
       "      <th>Steve</th>\n",
       "      <td>2</td>\n",
       "      <td>3</td>\n",
       "    </tr>\n",
       "    <tr>\n",
       "      <th>Wes</th>\n",
       "      <td>1</td>\n",
       "      <td>2</td>\n",
       "    </tr>\n",
       "    <tr>\n",
       "      <th>Jim</th>\n",
       "      <td>2</td>\n",
       "      <td>3</td>\n",
       "    </tr>\n",
       "    <tr>\n",
       "      <th>Tres</th>\n",
       "      <td>2</td>\n",
       "      <td>3</td>\n",
       "    </tr>\n",
       "  </tbody>\n",
       "</table>\n",
       "</div>"
      ],
      "text/plain": [
       "       blue  red\n",
       "Joe       2    3\n",
       "Steve     2    3\n",
       "Wes       1    2\n",
       "Jim       2    3\n",
       "Tres      2    3"
      ]
     },
     "execution_count": 46,
     "metadata": {},
     "output_type": "execute_result"
    }
   ],
   "source": [
    "people.groupby(map_series,axis=1).count()"
   ]
  },
  {
   "cell_type": "markdown",
   "id": "7e841462",
   "metadata": {},
   "source": [
    "### 用函式分組"
   ]
  },
  {
   "cell_type": "markdown",
   "id": "5ae468af",
   "metadata": {},
   "source": [
    "### groupby()內也可以放入函式。\n",
    "### len() 在這裡會計算英文名稱的長度。\n",
    "### 由於groupby()預設值axis=0，所以每列為單位做運算。"
   ]
  },
  {
   "cell_type": "code",
   "execution_count": 47,
   "id": "c40c30f9",
   "metadata": {},
   "outputs": [
    {
     "data": {
      "text/html": [
       "<div>\n",
       "<style scoped>\n",
       "    .dataframe tbody tr th:only-of-type {\n",
       "        vertical-align: middle;\n",
       "    }\n",
       "\n",
       "    .dataframe tbody tr th {\n",
       "        vertical-align: top;\n",
       "    }\n",
       "\n",
       "    .dataframe thead th {\n",
       "        text-align: right;\n",
       "    }\n",
       "</style>\n",
       "<table border=\"1\" class=\"dataframe\">\n",
       "  <thead>\n",
       "    <tr style=\"text-align: right;\">\n",
       "      <th></th>\n",
       "      <th>a</th>\n",
       "      <th>b</th>\n",
       "      <th>c</th>\n",
       "      <th>d</th>\n",
       "      <th>e</th>\n",
       "    </tr>\n",
       "  </thead>\n",
       "  <tbody>\n",
       "    <tr>\n",
       "      <th>Joe</th>\n",
       "      <td>-1.027396</td>\n",
       "      <td>-0.258384</td>\n",
       "      <td>0.652083</td>\n",
       "      <td>-1.612787</td>\n",
       "      <td>0.293035</td>\n",
       "    </tr>\n",
       "    <tr>\n",
       "      <th>Steve</th>\n",
       "      <td>1.355604</td>\n",
       "      <td>-1.868450</td>\n",
       "      <td>-1.300112</td>\n",
       "      <td>-1.268887</td>\n",
       "      <td>1.936118</td>\n",
       "    </tr>\n",
       "    <tr>\n",
       "      <th>Wes</th>\n",
       "      <td>-1.387468</td>\n",
       "      <td>NaN</td>\n",
       "      <td>NaN</td>\n",
       "      <td>-0.668607</td>\n",
       "      <td>-0.914216</td>\n",
       "    </tr>\n",
       "    <tr>\n",
       "      <th>Jim</th>\n",
       "      <td>-1.530624</td>\n",
       "      <td>0.457796</td>\n",
       "      <td>0.447499</td>\n",
       "      <td>-1.600257</td>\n",
       "      <td>-0.087642</td>\n",
       "    </tr>\n",
       "    <tr>\n",
       "      <th>Tres</th>\n",
       "      <td>-0.686350</td>\n",
       "      <td>1.170687</td>\n",
       "      <td>0.372309</td>\n",
       "      <td>-0.443858</td>\n",
       "      <td>-0.746222</td>\n",
       "    </tr>\n",
       "  </tbody>\n",
       "</table>\n",
       "</div>"
      ],
      "text/plain": [
       "              a         b         c         d         e\n",
       "Joe   -1.027396 -0.258384  0.652083 -1.612787  0.293035\n",
       "Steve  1.355604 -1.868450 -1.300112 -1.268887  1.936118\n",
       "Wes   -1.387468       NaN       NaN -0.668607 -0.914216\n",
       "Jim   -1.530624  0.457796  0.447499 -1.600257 -0.087642\n",
       "Tres  -0.686350  1.170687  0.372309 -0.443858 -0.746222"
      ]
     },
     "execution_count": 47,
     "metadata": {},
     "output_type": "execute_result"
    }
   ],
   "source": [
    "people"
   ]
  },
  {
   "cell_type": "code",
   "execution_count": 48,
   "id": "c556eeb7",
   "metadata": {},
   "outputs": [
    {
     "data": {
      "text/html": [
       "<div>\n",
       "<style scoped>\n",
       "    .dataframe tbody tr th:only-of-type {\n",
       "        vertical-align: middle;\n",
       "    }\n",
       "\n",
       "    .dataframe tbody tr th {\n",
       "        vertical-align: top;\n",
       "    }\n",
       "\n",
       "    .dataframe thead th {\n",
       "        text-align: right;\n",
       "    }\n",
       "</style>\n",
       "<table border=\"1\" class=\"dataframe\">\n",
       "  <thead>\n",
       "    <tr style=\"text-align: right;\">\n",
       "      <th></th>\n",
       "      <th>a</th>\n",
       "      <th>b</th>\n",
       "      <th>c</th>\n",
       "      <th>d</th>\n",
       "      <th>e</th>\n",
       "    </tr>\n",
       "  </thead>\n",
       "  <tbody>\n",
       "    <tr>\n",
       "      <th>3</th>\n",
       "      <td>-3.945489</td>\n",
       "      <td>0.199412</td>\n",
       "      <td>1.099582</td>\n",
       "      <td>-3.881651</td>\n",
       "      <td>-0.708823</td>\n",
       "    </tr>\n",
       "    <tr>\n",
       "      <th>4</th>\n",
       "      <td>-0.686350</td>\n",
       "      <td>1.170687</td>\n",
       "      <td>0.372309</td>\n",
       "      <td>-0.443858</td>\n",
       "      <td>-0.746222</td>\n",
       "    </tr>\n",
       "    <tr>\n",
       "      <th>5</th>\n",
       "      <td>1.355604</td>\n",
       "      <td>-1.868450</td>\n",
       "      <td>-1.300112</td>\n",
       "      <td>-1.268887</td>\n",
       "      <td>1.936118</td>\n",
       "    </tr>\n",
       "  </tbody>\n",
       "</table>\n",
       "</div>"
      ],
      "text/plain": [
       "          a         b         c         d         e\n",
       "3 -3.945489  0.199412  1.099582 -3.881651 -0.708823\n",
       "4 -0.686350  1.170687  0.372309 -0.443858 -0.746222\n",
       "5  1.355604 -1.868450 -1.300112 -1.268887  1.936118"
      ]
     },
     "execution_count": 48,
     "metadata": {},
     "output_type": "execute_result"
    }
   ],
   "source": [
    "people.groupby(len).sum()"
   ]
  },
  {
   "cell_type": "code",
   "execution_count": 49,
   "id": "c8b242e1",
   "metadata": {},
   "outputs": [],
   "source": [
    "key_list=['one','one','one','two','two']"
   ]
  },
  {
   "cell_type": "markdown",
   "id": "70b62e8e",
   "metadata": {},
   "source": [
    "### groupby內放入list，表示有2個分組依據。\n",
    "### 由於預設值是axis=0，所以key_list直接對應到每一列。"
   ]
  },
  {
   "cell_type": "code",
   "execution_count": 50,
   "id": "75c415c2",
   "metadata": {},
   "outputs": [
    {
     "data": {
      "text/html": [
       "<div>\n",
       "<style scoped>\n",
       "    .dataframe tbody tr th:only-of-type {\n",
       "        vertical-align: middle;\n",
       "    }\n",
       "\n",
       "    .dataframe tbody tr th {\n",
       "        vertical-align: top;\n",
       "    }\n",
       "\n",
       "    .dataframe thead th {\n",
       "        text-align: right;\n",
       "    }\n",
       "</style>\n",
       "<table border=\"1\" class=\"dataframe\">\n",
       "  <thead>\n",
       "    <tr style=\"text-align: right;\">\n",
       "      <th></th>\n",
       "      <th></th>\n",
       "      <th>a</th>\n",
       "      <th>b</th>\n",
       "      <th>c</th>\n",
       "      <th>d</th>\n",
       "      <th>e</th>\n",
       "    </tr>\n",
       "  </thead>\n",
       "  <tbody>\n",
       "    <tr>\n",
       "      <th rowspan=\"2\" valign=\"top\">3</th>\n",
       "      <th>one</th>\n",
       "      <td>-1.387468</td>\n",
       "      <td>-0.258384</td>\n",
       "      <td>0.652083</td>\n",
       "      <td>-1.612787</td>\n",
       "      <td>-0.914216</td>\n",
       "    </tr>\n",
       "    <tr>\n",
       "      <th>two</th>\n",
       "      <td>-1.530624</td>\n",
       "      <td>0.457796</td>\n",
       "      <td>0.447499</td>\n",
       "      <td>-1.600257</td>\n",
       "      <td>-0.087642</td>\n",
       "    </tr>\n",
       "    <tr>\n",
       "      <th>4</th>\n",
       "      <th>two</th>\n",
       "      <td>-0.686350</td>\n",
       "      <td>1.170687</td>\n",
       "      <td>0.372309</td>\n",
       "      <td>-0.443858</td>\n",
       "      <td>-0.746222</td>\n",
       "    </tr>\n",
       "    <tr>\n",
       "      <th>5</th>\n",
       "      <th>one</th>\n",
       "      <td>1.355604</td>\n",
       "      <td>-1.868450</td>\n",
       "      <td>-1.300112</td>\n",
       "      <td>-1.268887</td>\n",
       "      <td>1.936118</td>\n",
       "    </tr>\n",
       "  </tbody>\n",
       "</table>\n",
       "</div>"
      ],
      "text/plain": [
       "              a         b         c         d         e\n",
       "3 one -1.387468 -0.258384  0.652083 -1.612787 -0.914216\n",
       "  two -1.530624  0.457796  0.447499 -1.600257 -0.087642\n",
       "4 two -0.686350  1.170687  0.372309 -0.443858 -0.746222\n",
       "5 one  1.355604 -1.868450 -1.300112 -1.268887  1.936118"
      ]
     },
     "execution_count": 50,
     "metadata": {},
     "output_type": "execute_result"
    }
   ],
   "source": [
    "people.groupby([len,key_list]).min()"
   ]
  },
  {
   "cell_type": "markdown",
   "id": "01dcc5a0",
   "metadata": {},
   "source": [
    "### 用索引層級分組"
   ]
  },
  {
   "cell_type": "code",
   "execution_count": 51,
   "id": "ebe4c24e",
   "metadata": {},
   "outputs": [],
   "source": [
    "columns=pd.MultiIndex.from_arrays([['US','US','US','JP','JP'],[1,3,5,1,3]],names=['country','number'])"
   ]
  },
  {
   "cell_type": "code",
   "execution_count": 52,
   "id": "ce6d18bd",
   "metadata": {},
   "outputs": [
    {
     "data": {
      "text/plain": [
       "MultiIndex([('US', 1),\n",
       "            ('US', 3),\n",
       "            ('US', 5),\n",
       "            ('JP', 1),\n",
       "            ('JP', 3)],\n",
       "           names=['country', 'number'])"
      ]
     },
     "execution_count": 52,
     "metadata": {},
     "output_type": "execute_result"
    }
   ],
   "source": [
    "columns"
   ]
  },
  {
   "cell_type": "code",
   "execution_count": 53,
   "id": "94c44f6a",
   "metadata": {},
   "outputs": [],
   "source": [
    "hier_df=pd.DataFrame(np.random.randn(4,5), columns=columns)"
   ]
  },
  {
   "cell_type": "code",
   "execution_count": 54,
   "id": "c3382b9c",
   "metadata": {},
   "outputs": [
    {
     "data": {
      "text/html": [
       "<div>\n",
       "<style scoped>\n",
       "    .dataframe tbody tr th:only-of-type {\n",
       "        vertical-align: middle;\n",
       "    }\n",
       "\n",
       "    .dataframe tbody tr th {\n",
       "        vertical-align: top;\n",
       "    }\n",
       "\n",
       "    .dataframe thead tr th {\n",
       "        text-align: left;\n",
       "    }\n",
       "</style>\n",
       "<table border=\"1\" class=\"dataframe\">\n",
       "  <thead>\n",
       "    <tr>\n",
       "      <th>country</th>\n",
       "      <th colspan=\"3\" halign=\"left\">US</th>\n",
       "      <th colspan=\"2\" halign=\"left\">JP</th>\n",
       "    </tr>\n",
       "    <tr>\n",
       "      <th>number</th>\n",
       "      <th>1</th>\n",
       "      <th>3</th>\n",
       "      <th>5</th>\n",
       "      <th>1</th>\n",
       "      <th>3</th>\n",
       "    </tr>\n",
       "  </thead>\n",
       "  <tbody>\n",
       "    <tr>\n",
       "      <th>0</th>\n",
       "      <td>0.389040</td>\n",
       "      <td>0.584932</td>\n",
       "      <td>1.046823</td>\n",
       "      <td>-1.077229</td>\n",
       "      <td>0.609573</td>\n",
       "    </tr>\n",
       "    <tr>\n",
       "      <th>1</th>\n",
       "      <td>-0.424024</td>\n",
       "      <td>-0.799183</td>\n",
       "      <td>-0.764295</td>\n",
       "      <td>-0.843841</td>\n",
       "      <td>1.672260</td>\n",
       "    </tr>\n",
       "    <tr>\n",
       "      <th>2</th>\n",
       "      <td>0.318307</td>\n",
       "      <td>-1.267935</td>\n",
       "      <td>-0.495333</td>\n",
       "      <td>1.061411</td>\n",
       "      <td>-1.118211</td>\n",
       "    </tr>\n",
       "    <tr>\n",
       "      <th>3</th>\n",
       "      <td>-0.530639</td>\n",
       "      <td>1.337145</td>\n",
       "      <td>-1.118584</td>\n",
       "      <td>1.334281</td>\n",
       "      <td>0.560864</td>\n",
       "    </tr>\n",
       "  </tbody>\n",
       "</table>\n",
       "</div>"
      ],
      "text/plain": [
       "country        US                            JP          \n",
       "number          1         3         5         1         3\n",
       "0        0.389040  0.584932  1.046823 -1.077229  0.609573\n",
       "1       -0.424024 -0.799183 -0.764295 -0.843841  1.672260\n",
       "2        0.318307 -1.267935 -0.495333  1.061411 -1.118211\n",
       "3       -0.530639  1.337145 -1.118584  1.334281  0.560864"
      ]
     },
     "execution_count": 54,
     "metadata": {},
     "output_type": "execute_result"
    }
   ],
   "source": [
    "hier_df"
   ]
  },
  {
   "cell_type": "code",
   "execution_count": 55,
   "id": "9dc1daf8",
   "metadata": {},
   "outputs": [
    {
     "data": {
      "text/html": [
       "<div>\n",
       "<style scoped>\n",
       "    .dataframe tbody tr th:only-of-type {\n",
       "        vertical-align: middle;\n",
       "    }\n",
       "\n",
       "    .dataframe tbody tr th {\n",
       "        vertical-align: top;\n",
       "    }\n",
       "\n",
       "    .dataframe thead th {\n",
       "        text-align: right;\n",
       "    }\n",
       "</style>\n",
       "<table border=\"1\" class=\"dataframe\">\n",
       "  <thead>\n",
       "    <tr style=\"text-align: right;\">\n",
       "      <th>country</th>\n",
       "      <th>JP</th>\n",
       "      <th>US</th>\n",
       "    </tr>\n",
       "  </thead>\n",
       "  <tbody>\n",
       "    <tr>\n",
       "      <th>0</th>\n",
       "      <td>2</td>\n",
       "      <td>3</td>\n",
       "    </tr>\n",
       "    <tr>\n",
       "      <th>1</th>\n",
       "      <td>2</td>\n",
       "      <td>3</td>\n",
       "    </tr>\n",
       "    <tr>\n",
       "      <th>2</th>\n",
       "      <td>2</td>\n",
       "      <td>3</td>\n",
       "    </tr>\n",
       "    <tr>\n",
       "      <th>3</th>\n",
       "      <td>2</td>\n",
       "      <td>3</td>\n",
       "    </tr>\n",
       "  </tbody>\n",
       "</table>\n",
       "</div>"
      ],
      "text/plain": [
       "country  JP  US\n",
       "0         2   3\n",
       "1         2   3\n",
       "2         2   3\n",
       "3         2   3"
      ]
     },
     "execution_count": 55,
     "metadata": {},
     "output_type": "execute_result"
    }
   ],
   "source": [
    "hier_df.groupby(level='country', axis=1).count()"
   ]
  }
 ],
 "metadata": {
  "kernelspec": {
   "display_name": "Python 3 (ipykernel)",
   "language": "python",
   "name": "python3"
  },
  "language_info": {
   "codemirror_mode": {
    "name": "ipython",
    "version": 3
   },
   "file_extension": ".py",
   "mimetype": "text/x-python",
   "name": "python",
   "nbconvert_exporter": "python",
   "pygments_lexer": "ipython3",
   "version": "3.9.12"
  }
 },
 "nbformat": 4,
 "nbformat_minor": 5
}
