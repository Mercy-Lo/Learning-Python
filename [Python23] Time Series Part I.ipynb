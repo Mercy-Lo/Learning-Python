{
 "cells": [
  {
   "cell_type": "markdown",
   "id": "03bc80d2",
   "metadata": {},
   "source": [
    "# Chapter11 時間序列"
   ]
  },
  {
   "cell_type": "markdown",
   "id": "48e0d8ca",
   "metadata": {},
   "source": [
    "## Time Series Part I"
   ]
  },
  {
   "cell_type": "markdown",
   "id": "760d2e3c",
   "metadata": {},
   "source": [
    "### 日期、時間日期型態和工具"
   ]
  },
  {
   "cell_type": "code",
   "execution_count": 1,
   "id": "2afc3c13",
   "metadata": {},
   "outputs": [],
   "source": [
    "import numpy as np"
   ]
  },
  {
   "cell_type": "code",
   "execution_count": 2,
   "id": "9ced9496",
   "metadata": {},
   "outputs": [],
   "source": [
    "import pandas as pd"
   ]
  },
  {
   "cell_type": "code",
   "execution_count": 3,
   "id": "87842a2b",
   "metadata": {},
   "outputs": [],
   "source": [
    "from datetime import datetime"
   ]
  },
  {
   "cell_type": "code",
   "execution_count": 4,
   "id": "25020be5",
   "metadata": {},
   "outputs": [],
   "source": [
    "now=datetime.now()"
   ]
  },
  {
   "cell_type": "code",
   "execution_count": 5,
   "id": "8f3f55b0",
   "metadata": {},
   "outputs": [
    {
     "data": {
      "text/plain": [
       "datetime.datetime(2022, 10, 28, 19, 49, 48, 268271)"
      ]
     },
     "execution_count": 5,
     "metadata": {},
     "output_type": "execute_result"
    }
   ],
   "source": [
    "now"
   ]
  },
  {
   "cell_type": "markdown",
   "id": "7a04b5a1",
   "metadata": {},
   "source": [
    "### 目前時間的年月日。"
   ]
  },
  {
   "cell_type": "code",
   "execution_count": 6,
   "id": "60099bbc",
   "metadata": {},
   "outputs": [
    {
     "data": {
      "text/plain": [
       "(2022, 10, 28)"
      ]
     },
     "execution_count": 6,
     "metadata": {},
     "output_type": "execute_result"
    }
   ],
   "source": [
    "now.year, now.month, now.day"
   ]
  },
  {
   "cell_type": "markdown",
   "id": "1672e208",
   "metadata": {},
   "source": [
    "### datetime可以直接進行日期的加減，會出現差距多少天與秒數。"
   ]
  },
  {
   "cell_type": "code",
   "execution_count": 7,
   "id": "706aa923",
   "metadata": {},
   "outputs": [],
   "source": [
    "delta=datetime(2012,10,19)-datetime(2008,5,5,8,15)"
   ]
  },
  {
   "cell_type": "code",
   "execution_count": 8,
   "id": "22aeab8b",
   "metadata": {},
   "outputs": [
    {
     "data": {
      "text/plain": [
       "datetime.timedelta(days=1627, seconds=56700)"
      ]
     },
     "execution_count": 8,
     "metadata": {},
     "output_type": "execute_result"
    }
   ],
   "source": [
    "delta"
   ]
  },
  {
   "cell_type": "code",
   "execution_count": 9,
   "id": "697fbf1a",
   "metadata": {},
   "outputs": [
    {
     "data": {
      "text/plain": [
       "1627"
      ]
     },
     "execution_count": 9,
     "metadata": {},
     "output_type": "execute_result"
    }
   ],
   "source": [
    "delta.days"
   ]
  },
  {
   "cell_type": "code",
   "execution_count": 10,
   "id": "49fe6e76",
   "metadata": {},
   "outputs": [
    {
     "data": {
      "text/plain": [
       "56700"
      ]
     },
     "execution_count": 10,
     "metadata": {},
     "output_type": "execute_result"
    }
   ],
   "source": [
    "delta.seconds"
   ]
  },
  {
   "cell_type": "markdown",
   "id": "452c5c44",
   "metadata": {},
   "source": [
    "### timedelta(天)：可以用來進行日期的計算。"
   ]
  },
  {
   "cell_type": "code",
   "execution_count": 11,
   "id": "99bc6579",
   "metadata": {},
   "outputs": [],
   "source": [
    "from datetime import timedelta"
   ]
  },
  {
   "cell_type": "code",
   "execution_count": 12,
   "id": "b77987a0",
   "metadata": {},
   "outputs": [],
   "source": [
    "start=datetime(2011,1,7)"
   ]
  },
  {
   "cell_type": "code",
   "execution_count": 13,
   "id": "4dffc6db",
   "metadata": {},
   "outputs": [
    {
     "data": {
      "text/plain": [
       "datetime.datetime(2011, 1, 19, 0, 0)"
      ]
     },
     "execution_count": 13,
     "metadata": {},
     "output_type": "execute_result"
    }
   ],
   "source": [
    "start+timedelta(12)"
   ]
  },
  {
   "cell_type": "code",
   "execution_count": 14,
   "id": "aa9dd08c",
   "metadata": {},
   "outputs": [
    {
     "data": {
      "text/plain": [
       "datetime.datetime(2010, 12, 14, 0, 0)"
      ]
     },
     "execution_count": 14,
     "metadata": {},
     "output_type": "execute_result"
    }
   ],
   "source": [
    "start - 2*timedelta(12)"
   ]
  },
  {
   "cell_type": "markdown",
   "id": "eb250530",
   "metadata": {},
   "source": [
    "### 字串和時間日期轉換"
   ]
  },
  {
   "cell_type": "code",
   "execution_count": 15,
   "id": "b422ab68",
   "metadata": {},
   "outputs": [],
   "source": [
    "stamp=datetime(2011,1,13)"
   ]
  },
  {
   "cell_type": "markdown",
   "id": "d952d8f6",
   "metadata": {},
   "source": [
    "### str(date) 會將日期轉成文字。"
   ]
  },
  {
   "cell_type": "code",
   "execution_count": 16,
   "id": "281b0d71",
   "metadata": {},
   "outputs": [
    {
     "data": {
      "text/plain": [
       "'2011-01-13 00:00:00'"
      ]
     },
     "execution_count": 16,
     "metadata": {},
     "output_type": "execute_result"
    }
   ],
   "source": [
    "str(stamp)"
   ]
  },
  {
   "cell_type": "markdown",
   "id": "d970dfbd",
   "metadata": {},
   "source": [
    "### strftime('') 可以將日期格式化\n",
    "### %Y:2021 %y:21  %m:[01,12]  %d:[01,31] \n",
    "### %H:[00,23] %I:[01,12] %M:[00,59] %S:[00,59]\n",
    "### %w:[0星期日,6星期六] %U:[00,53] 第幾週（星期日為第一天） %W:[00,53] 第幾週（星期一為第一天）\n",
    "### %F: '%Y-%m-%d' 2022-10-28  %D:'%m/%d/%y' 10/28/22"
   ]
  },
  {
   "cell_type": "code",
   "execution_count": 17,
   "id": "61eedae0",
   "metadata": {},
   "outputs": [
    {
     "data": {
      "text/plain": [
       "'2011-01-13'"
      ]
     },
     "execution_count": 17,
     "metadata": {},
     "output_type": "execute_result"
    }
   ],
   "source": [
    "stamp.strftime('%Y-%m-%d')"
   ]
  },
  {
   "cell_type": "code",
   "execution_count": 18,
   "id": "1c52440a",
   "metadata": {},
   "outputs": [],
   "source": [
    "value='2022-10-28'"
   ]
  },
  {
   "cell_type": "markdown",
   "id": "b9406237",
   "metadata": {},
   "source": [
    "### datetime.strptime(value, 格式) 可以將文字轉為日期。"
   ]
  },
  {
   "cell_type": "code",
   "execution_count": 19,
   "id": "8646b3c6",
   "metadata": {},
   "outputs": [
    {
     "data": {
      "text/plain": [
       "datetime.datetime(2022, 10, 28, 0, 0)"
      ]
     },
     "execution_count": 19,
     "metadata": {},
     "output_type": "execute_result"
    }
   ],
   "source": [
    "datetime.strptime(value,'%Y-%m-%d')"
   ]
  },
  {
   "cell_type": "code",
   "execution_count": 20,
   "id": "c7bb4bc0",
   "metadata": {},
   "outputs": [],
   "source": [
    "datestrs=['7/6/2011','8/6/2011']"
   ]
  },
  {
   "cell_type": "code",
   "execution_count": 21,
   "id": "562f82cc",
   "metadata": {},
   "outputs": [
    {
     "data": {
      "text/plain": [
       "[datetime.datetime(2011, 7, 6, 0, 0), datetime.datetime(2011, 8, 6, 0, 0)]"
      ]
     },
     "execution_count": 21,
     "metadata": {},
     "output_type": "execute_result"
    }
   ],
   "source": [
    "[datetime.strptime(x, '%m/%d/%Y') for x in datestrs]"
   ]
  },
  {
   "cell_type": "markdown",
   "id": "e372019c",
   "metadata": {},
   "source": [
    "### dateutil.parser的模組可以直接產生日期，非常方便，但偶爾也會有辨識錯誤的時候，要小心。"
   ]
  },
  {
   "cell_type": "code",
   "execution_count": 22,
   "id": "ffd7ad58",
   "metadata": {},
   "outputs": [],
   "source": [
    "from dateutil.parser import parse"
   ]
  },
  {
   "cell_type": "code",
   "execution_count": 23,
   "id": "efbd3691",
   "metadata": {},
   "outputs": [
    {
     "data": {
      "text/plain": [
       "datetime.datetime(2011, 1, 3, 0, 0)"
      ]
     },
     "execution_count": 23,
     "metadata": {},
     "output_type": "execute_result"
    }
   ],
   "source": [
    "parse('2011-01-03')"
   ]
  },
  {
   "cell_type": "code",
   "execution_count": 24,
   "id": "4a809af9",
   "metadata": {},
   "outputs": [
    {
     "data": {
      "text/plain": [
       "datetime.datetime(1997, 1, 31, 22, 45)"
      ]
     },
     "execution_count": 24,
     "metadata": {},
     "output_type": "execute_result"
    }
   ],
   "source": [
    "parse('Jan 31, 1997 10:45 PM')"
   ]
  },
  {
   "cell_type": "markdown",
   "id": "73fca587",
   "metadata": {},
   "source": [
    "### 如果是日/月/年，dayfirst=True。"
   ]
  },
  {
   "cell_type": "code",
   "execution_count": 25,
   "id": "632f9adf",
   "metadata": {},
   "outputs": [
    {
     "data": {
      "text/plain": [
       "datetime.datetime(2011, 12, 6, 0, 0)"
      ]
     },
     "execution_count": 25,
     "metadata": {},
     "output_type": "execute_result"
    }
   ],
   "source": [
    "parse('6/12/2011', dayfirst=True)"
   ]
  },
  {
   "cell_type": "code",
   "execution_count": 26,
   "id": "fd77a04c",
   "metadata": {},
   "outputs": [],
   "source": [
    "datestrs=['2011-07-06 12:00:00', '2011-08-06 00:00:00']"
   ]
  },
  {
   "cell_type": "markdown",
   "id": "e3c7d5f9",
   "metadata": {},
   "source": [
    "### pd.to_datetime(文字) 可以直接將文字轉為日期。"
   ]
  },
  {
   "cell_type": "code",
   "execution_count": 27,
   "id": "2fa3450c",
   "metadata": {
    "scrolled": true
   },
   "outputs": [
    {
     "data": {
      "text/plain": [
       "DatetimeIndex(['2011-07-06 12:00:00', '2011-08-06 00:00:00'], dtype='datetime64[ns]', freq=None)"
      ]
     },
     "execution_count": 27,
     "metadata": {},
     "output_type": "execute_result"
    }
   ],
   "source": [
    "pd.to_datetime(datestrs)"
   ]
  },
  {
   "cell_type": "markdown",
   "id": "019ba83a",
   "metadata": {},
   "source": [
    "### pd.to_datetime() 遇到None，會出現NaT，也就是Not a Time。"
   ]
  },
  {
   "cell_type": "code",
   "execution_count": 28,
   "id": "4936db6f",
   "metadata": {},
   "outputs": [],
   "source": [
    "idx=pd.to_datetime(datestrs+[None])"
   ]
  },
  {
   "cell_type": "code",
   "execution_count": 29,
   "id": "c83749d4",
   "metadata": {},
   "outputs": [
    {
     "data": {
      "text/plain": [
       "DatetimeIndex(['2011-07-06 12:00:00', '2011-08-06 00:00:00', 'NaT'], dtype='datetime64[ns]', freq=None)"
      ]
     },
     "execution_count": 29,
     "metadata": {},
     "output_type": "execute_result"
    }
   ],
   "source": [
    "idx"
   ]
  },
  {
   "cell_type": "code",
   "execution_count": 30,
   "id": "e0aa2317",
   "metadata": {},
   "outputs": [
    {
     "data": {
      "text/plain": [
       "NaT"
      ]
     },
     "execution_count": 30,
     "metadata": {},
     "output_type": "execute_result"
    }
   ],
   "source": [
    "idx[2]"
   ]
  },
  {
   "cell_type": "code",
   "execution_count": 31,
   "id": "d7addbe4",
   "metadata": {},
   "outputs": [
    {
     "data": {
      "text/plain": [
       "array([False, False,  True])"
      ]
     },
     "execution_count": 31,
     "metadata": {},
     "output_type": "execute_result"
    }
   ],
   "source": [
    "pd.isnull(idx)"
   ]
  },
  {
   "cell_type": "markdown",
   "id": "4fce271e",
   "metadata": {},
   "source": [
    "### 時間序列基本概念"
   ]
  },
  {
   "cell_type": "code",
   "execution_count": 32,
   "id": "e58ba337",
   "metadata": {},
   "outputs": [],
   "source": [
    "from datetime import datetime"
   ]
  },
  {
   "cell_type": "code",
   "execution_count": 33,
   "id": "417dc593",
   "metadata": {},
   "outputs": [],
   "source": [
    "dates= [datetime(2011,1,2), datetime(2011,1,5), datetime(2011,1,7), \n",
    "        datetime(2011,1,8), datetime(2011,1,10), datetime(2011,1,12)]"
   ]
  },
  {
   "cell_type": "code",
   "execution_count": 34,
   "id": "e67e643f",
   "metadata": {},
   "outputs": [],
   "source": [
    "ts=pd.Series(np.random.randn(6),index=dates)"
   ]
  },
  {
   "cell_type": "code",
   "execution_count": 35,
   "id": "cfe6e3b8",
   "metadata": {},
   "outputs": [
    {
     "data": {
      "text/plain": [
       "2011-01-02    0.358977\n",
       "2011-01-05   -0.183092\n",
       "2011-01-07    0.716136\n",
       "2011-01-08    0.897524\n",
       "2011-01-10   -0.019949\n",
       "2011-01-12    0.065215\n",
       "dtype: float64"
      ]
     },
     "execution_count": 35,
     "metadata": {},
     "output_type": "execute_result"
    }
   ],
   "source": [
    "ts"
   ]
  },
  {
   "cell_type": "markdown",
   "id": "4e69a098",
   "metadata": {},
   "source": [
    "### datetime的資料會被儲存在DatetimeIndex內。"
   ]
  },
  {
   "cell_type": "code",
   "execution_count": 36,
   "id": "08bd552e",
   "metadata": {},
   "outputs": [
    {
     "data": {
      "text/plain": [
       "DatetimeIndex(['2011-01-02', '2011-01-05', '2011-01-07', '2011-01-08',\n",
       "               '2011-01-10', '2011-01-12'],\n",
       "              dtype='datetime64[ns]', freq=None)"
      ]
     },
     "execution_count": 36,
     "metadata": {},
     "output_type": "execute_result"
    }
   ],
   "source": [
    "ts.index"
   ]
  },
  {
   "cell_type": "code",
   "execution_count": 37,
   "id": "4164e29b",
   "metadata": {},
   "outputs": [
    {
     "data": {
      "text/plain": [
       "2011-01-02    0.358977\n",
       "2011-01-07    0.716136\n",
       "2011-01-10   -0.019949\n",
       "dtype: float64"
      ]
     },
     "execution_count": 37,
     "metadata": {},
     "output_type": "execute_result"
    }
   ],
   "source": [
    "ts[::2]"
   ]
  },
  {
   "cell_type": "markdown",
   "id": "361fe65c",
   "metadata": {},
   "source": [
    "### 在進行陣列加總的時候，對應不到的index，計算出來的值會呈現NAN。"
   ]
  },
  {
   "cell_type": "code",
   "execution_count": 38,
   "id": "3ada6882",
   "metadata": {
    "scrolled": true
   },
   "outputs": [
    {
     "data": {
      "text/plain": [
       "2011-01-02    0.717953\n",
       "2011-01-05         NaN\n",
       "2011-01-07    1.432273\n",
       "2011-01-08         NaN\n",
       "2011-01-10   -0.039898\n",
       "2011-01-12         NaN\n",
       "dtype: float64"
      ]
     },
     "execution_count": 38,
     "metadata": {},
     "output_type": "execute_result"
    }
   ],
   "source": [
    "ts+ts[::2]"
   ]
  },
  {
   "cell_type": "code",
   "execution_count": 39,
   "id": "163fc22e",
   "metadata": {},
   "outputs": [
    {
     "data": {
      "text/plain": [
       "dtype('<M8[ns]')"
      ]
     },
     "execution_count": 39,
     "metadata": {},
     "output_type": "execute_result"
    }
   ],
   "source": [
    "ts.index.dtype"
   ]
  },
  {
   "cell_type": "markdown",
   "id": "b3c375b6",
   "metadata": {},
   "source": [
    "### 從pandas series取出日期的index，格式為Timestamp。"
   ]
  },
  {
   "cell_type": "code",
   "execution_count": 40,
   "id": "7a7d559f",
   "metadata": {},
   "outputs": [],
   "source": [
    "stamp=ts.index[0]"
   ]
  },
  {
   "cell_type": "code",
   "execution_count": 41,
   "id": "fbc8e524",
   "metadata": {},
   "outputs": [
    {
     "data": {
      "text/plain": [
       "Timestamp('2011-01-02 00:00:00')"
      ]
     },
     "execution_count": 41,
     "metadata": {},
     "output_type": "execute_result"
    }
   ],
   "source": [
    "stamp"
   ]
  },
  {
   "cell_type": "markdown",
   "id": "19dfa75f",
   "metadata": {},
   "source": [
    "### 索引、選取和相減"
   ]
  },
  {
   "cell_type": "code",
   "execution_count": 42,
   "id": "02a7522a",
   "metadata": {},
   "outputs": [],
   "source": [
    "stamp=ts.index[2]"
   ]
  },
  {
   "cell_type": "markdown",
   "id": "a1236d8e",
   "metadata": {},
   "source": [
    "### 從Pandas Series以日期為index取值時，除了可以使用.index[2]外，也可以直接輸入日期。"
   ]
  },
  {
   "cell_type": "code",
   "execution_count": 43,
   "id": "b288ff7f",
   "metadata": {},
   "outputs": [
    {
     "data": {
      "text/plain": [
       "0.716136489081796"
      ]
     },
     "execution_count": 43,
     "metadata": {},
     "output_type": "execute_result"
    }
   ],
   "source": [
    "ts[stamp]"
   ]
  },
  {
   "cell_type": "code",
   "execution_count": 44,
   "id": "dd0a7aac",
   "metadata": {},
   "outputs": [
    {
     "data": {
      "text/plain": [
       "-0.019949090408591486"
      ]
     },
     "execution_count": 44,
     "metadata": {},
     "output_type": "execute_result"
    }
   ],
   "source": [
    "ts['1/10/2011']"
   ]
  },
  {
   "cell_type": "code",
   "execution_count": 45,
   "id": "f8d17398",
   "metadata": {},
   "outputs": [
    {
     "data": {
      "text/plain": [
       "-0.019949090408591486"
      ]
     },
     "execution_count": 45,
     "metadata": {},
     "output_type": "execute_result"
    }
   ],
   "source": [
    "ts['20110110']"
   ]
  },
  {
   "cell_type": "markdown",
   "id": "99030c11",
   "metadata": {},
   "source": [
    "### pd.date_range(起始日, periods=持續幾天) "
   ]
  },
  {
   "cell_type": "code",
   "execution_count": 46,
   "id": "4e3227b4",
   "metadata": {},
   "outputs": [],
   "source": [
    "longer_ts=pd.Series(np.random.randn(1000),index=pd.date_range('1/1/2000',periods=1000))"
   ]
  },
  {
   "cell_type": "code",
   "execution_count": 47,
   "id": "76525387",
   "metadata": {},
   "outputs": [
    {
     "data": {
      "text/plain": [
       "2000-01-01   -1.989683\n",
       "2000-01-02    1.104973\n",
       "2000-01-03   -0.067964\n",
       "2000-01-04   -0.868626\n",
       "2000-01-05   -0.178573\n",
       "                ...   \n",
       "2002-09-22   -0.891946\n",
       "2002-09-23   -0.398830\n",
       "2002-09-24   -1.333462\n",
       "2002-09-25   -0.709664\n",
       "2002-09-26    0.968782\n",
       "Freq: D, Length: 1000, dtype: float64"
      ]
     },
     "execution_count": 47,
     "metadata": {},
     "output_type": "execute_result"
    }
   ],
   "source": [
    "longer_ts"
   ]
  },
  {
   "cell_type": "markdown",
   "id": "2a50a2ca",
   "metadata": {},
   "source": [
    "### 輸日四個數字，會被解讀為年份。"
   ]
  },
  {
   "cell_type": "code",
   "execution_count": 48,
   "id": "f3509251",
   "metadata": {
    "scrolled": true
   },
   "outputs": [
    {
     "data": {
      "text/plain": [
       "2001-01-01    1.060566\n",
       "2001-01-02    1.192007\n",
       "2001-01-03   -1.527857\n",
       "2001-01-04   -0.843426\n",
       "2001-01-05    0.468173\n",
       "                ...   \n",
       "2001-12-27   -0.396864\n",
       "2001-12-28    0.080427\n",
       "2001-12-29    0.500981\n",
       "2001-12-30   -0.161507\n",
       "2001-12-31   -0.447260\n",
       "Freq: D, Length: 365, dtype: float64"
      ]
     },
     "execution_count": 48,
     "metadata": {},
     "output_type": "execute_result"
    }
   ],
   "source": [
    "longer_ts['2001']"
   ]
  },
  {
   "cell_type": "markdown",
   "id": "97105ec8",
   "metadata": {},
   "source": [
    "### 也可以年搭配月份"
   ]
  },
  {
   "cell_type": "code",
   "execution_count": 49,
   "id": "500b8731",
   "metadata": {},
   "outputs": [
    {
     "data": {
      "text/plain": [
       "2001-05-01    0.311744\n",
       "2001-05-02    1.770886\n",
       "2001-05-03    0.316932\n",
       "2001-05-04   -1.691429\n",
       "2001-05-05   -2.307274\n",
       "2001-05-06   -1.155820\n",
       "2001-05-07    1.186648\n",
       "2001-05-08   -0.939881\n",
       "2001-05-09    0.667098\n",
       "2001-05-10   -0.213028\n",
       "2001-05-11   -0.211203\n",
       "2001-05-12   -0.673715\n",
       "2001-05-13   -1.126643\n",
       "2001-05-14   -1.809748\n",
       "2001-05-15    0.860185\n",
       "2001-05-16    1.026283\n",
       "2001-05-17   -0.535046\n",
       "2001-05-18   -0.758183\n",
       "2001-05-19    0.558369\n",
       "2001-05-20    1.346997\n",
       "2001-05-21   -1.513403\n",
       "2001-05-22    0.036818\n",
       "2001-05-23    1.240824\n",
       "2001-05-24   -0.541690\n",
       "2001-05-25   -1.147801\n",
       "2001-05-26   -0.104439\n",
       "2001-05-27    1.032717\n",
       "2001-05-28   -0.817090\n",
       "2001-05-29   -0.966421\n",
       "2001-05-30   -3.110778\n",
       "2001-05-31   -1.010294\n",
       "Freq: D, dtype: float64"
      ]
     },
     "execution_count": 49,
     "metadata": {},
     "output_type": "execute_result"
    }
   ],
   "source": [
    "longer_ts['2001-05']"
   ]
  },
  {
   "cell_type": "markdown",
   "id": "a59d4d8e",
   "metadata": {},
   "source": [
    "### 日期也可以使用切片。"
   ]
  },
  {
   "cell_type": "code",
   "execution_count": 50,
   "id": "5f5ab6f7",
   "metadata": {},
   "outputs": [
    {
     "data": {
      "text/plain": [
       "2011-01-07    0.716136\n",
       "2011-01-08    0.897524\n",
       "2011-01-10   -0.019949\n",
       "2011-01-12    0.065215\n",
       "dtype: float64"
      ]
     },
     "execution_count": 50,
     "metadata": {},
     "output_type": "execute_result"
    }
   ],
   "source": [
    "ts[datetime(2011,1,7):]"
   ]
  },
  {
   "cell_type": "code",
   "execution_count": 51,
   "id": "d10de7c6",
   "metadata": {},
   "outputs": [
    {
     "data": {
      "text/plain": [
       "2011-01-02    0.358977\n",
       "2011-01-05   -0.183092\n",
       "2011-01-07    0.716136\n",
       "2011-01-08    0.897524\n",
       "2011-01-10   -0.019949\n",
       "2011-01-12    0.065215\n",
       "dtype: float64"
      ]
     },
     "execution_count": 51,
     "metadata": {},
     "output_type": "execute_result"
    }
   ],
   "source": [
    "ts"
   ]
  },
  {
   "cell_type": "markdown",
   "id": "55227d9e",
   "metadata": {},
   "source": [
    "### 可以用時間戳記切掉不需要的資料。"
   ]
  },
  {
   "cell_type": "code",
   "execution_count": 52,
   "id": "7b9a0ff5",
   "metadata": {},
   "outputs": [
    {
     "data": {
      "text/plain": [
       "2011-01-07    0.716136\n",
       "2011-01-08    0.897524\n",
       "2011-01-10   -0.019949\n",
       "dtype: float64"
      ]
     },
     "execution_count": 52,
     "metadata": {},
     "output_type": "execute_result"
    }
   ],
   "source": [
    "ts['1/6/2011':'1/11/2011']"
   ]
  },
  {
   "cell_type": "markdown",
   "id": "440fddf0",
   "metadata": {},
   "source": [
    "### truncate(after=日期) 跟切片很像，找到日期之後的資料。"
   ]
  },
  {
   "cell_type": "code",
   "execution_count": 53,
   "id": "d3ea57ec",
   "metadata": {
    "scrolled": true
   },
   "outputs": [
    {
     "data": {
      "text/plain": [
       "2011-01-02    0.358977\n",
       "2011-01-05   -0.183092\n",
       "2011-01-07    0.716136\n",
       "2011-01-08    0.897524\n",
       "dtype: float64"
      ]
     },
     "execution_count": 53,
     "metadata": {},
     "output_type": "execute_result"
    }
   ],
   "source": [
    "ts.truncate(after='1/9/2011')"
   ]
  },
  {
   "cell_type": "markdown",
   "id": "43fa5e8a",
   "metadata": {},
   "source": [
    "### pd.date_range(起始日, periods=持續幾天, freq=間隔多久 )\n",
    "### freq='W-WED' 間隔一週，也就是7天。"
   ]
  },
  {
   "cell_type": "code",
   "execution_count": 54,
   "id": "6670da83",
   "metadata": {},
   "outputs": [],
   "source": [
    "dates=pd.date_range('1/1/2000', periods=100, freq='W-WED')"
   ]
  },
  {
   "cell_type": "code",
   "execution_count": 55,
   "id": "96417c1e",
   "metadata": {},
   "outputs": [
    {
     "data": {
      "text/plain": [
       "DatetimeIndex(['2000-01-05', '2000-01-12', '2000-01-19', '2000-01-26',\n",
       "               '2000-02-02', '2000-02-09', '2000-02-16', '2000-02-23',\n",
       "               '2000-03-01', '2000-03-08', '2000-03-15', '2000-03-22',\n",
       "               '2000-03-29', '2000-04-05', '2000-04-12', '2000-04-19',\n",
       "               '2000-04-26', '2000-05-03', '2000-05-10', '2000-05-17',\n",
       "               '2000-05-24', '2000-05-31', '2000-06-07', '2000-06-14',\n",
       "               '2000-06-21', '2000-06-28', '2000-07-05', '2000-07-12',\n",
       "               '2000-07-19', '2000-07-26', '2000-08-02', '2000-08-09',\n",
       "               '2000-08-16', '2000-08-23', '2000-08-30', '2000-09-06',\n",
       "               '2000-09-13', '2000-09-20', '2000-09-27', '2000-10-04',\n",
       "               '2000-10-11', '2000-10-18', '2000-10-25', '2000-11-01',\n",
       "               '2000-11-08', '2000-11-15', '2000-11-22', '2000-11-29',\n",
       "               '2000-12-06', '2000-12-13', '2000-12-20', '2000-12-27',\n",
       "               '2001-01-03', '2001-01-10', '2001-01-17', '2001-01-24',\n",
       "               '2001-01-31', '2001-02-07', '2001-02-14', '2001-02-21',\n",
       "               '2001-02-28', '2001-03-07', '2001-03-14', '2001-03-21',\n",
       "               '2001-03-28', '2001-04-04', '2001-04-11', '2001-04-18',\n",
       "               '2001-04-25', '2001-05-02', '2001-05-09', '2001-05-16',\n",
       "               '2001-05-23', '2001-05-30', '2001-06-06', '2001-06-13',\n",
       "               '2001-06-20', '2001-06-27', '2001-07-04', '2001-07-11',\n",
       "               '2001-07-18', '2001-07-25', '2001-08-01', '2001-08-08',\n",
       "               '2001-08-15', '2001-08-22', '2001-08-29', '2001-09-05',\n",
       "               '2001-09-12', '2001-09-19', '2001-09-26', '2001-10-03',\n",
       "               '2001-10-10', '2001-10-17', '2001-10-24', '2001-10-31',\n",
       "               '2001-11-07', '2001-11-14', '2001-11-21', '2001-11-28'],\n",
       "              dtype='datetime64[ns]', freq='W-WED')"
      ]
     },
     "execution_count": 55,
     "metadata": {},
     "output_type": "execute_result"
    }
   ],
   "source": [
    "dates"
   ]
  },
  {
   "cell_type": "code",
   "execution_count": 56,
   "id": "8170ccb3",
   "metadata": {},
   "outputs": [],
   "source": [
    "long_df=pd.DataFrame(np.random.randn(100,4),\n",
    "                     index=dates,\n",
    "                     columns=['Colorado','Texas','New York','Ohio'])"
   ]
  },
  {
   "cell_type": "code",
   "execution_count": 57,
   "id": "42569f64",
   "metadata": {},
   "outputs": [
    {
     "data": {
      "text/html": [
       "<div>\n",
       "<style scoped>\n",
       "    .dataframe tbody tr th:only-of-type {\n",
       "        vertical-align: middle;\n",
       "    }\n",
       "\n",
       "    .dataframe tbody tr th {\n",
       "        vertical-align: top;\n",
       "    }\n",
       "\n",
       "    .dataframe thead th {\n",
       "        text-align: right;\n",
       "    }\n",
       "</style>\n",
       "<table border=\"1\" class=\"dataframe\">\n",
       "  <thead>\n",
       "    <tr style=\"text-align: right;\">\n",
       "      <th></th>\n",
       "      <th>Colorado</th>\n",
       "      <th>Texas</th>\n",
       "      <th>New York</th>\n",
       "      <th>Ohio</th>\n",
       "    </tr>\n",
       "  </thead>\n",
       "  <tbody>\n",
       "    <tr>\n",
       "      <th>2001-05-02</th>\n",
       "      <td>1.904257</td>\n",
       "      <td>-1.322218</td>\n",
       "      <td>0.283460</td>\n",
       "      <td>-1.080033</td>\n",
       "    </tr>\n",
       "    <tr>\n",
       "      <th>2001-05-09</th>\n",
       "      <td>1.601939</td>\n",
       "      <td>-0.729314</td>\n",
       "      <td>0.554877</td>\n",
       "      <td>0.826218</td>\n",
       "    </tr>\n",
       "    <tr>\n",
       "      <th>2001-05-16</th>\n",
       "      <td>0.205701</td>\n",
       "      <td>0.178225</td>\n",
       "      <td>1.392081</td>\n",
       "      <td>-0.277564</td>\n",
       "    </tr>\n",
       "    <tr>\n",
       "      <th>2001-05-23</th>\n",
       "      <td>1.006040</td>\n",
       "      <td>2.009794</td>\n",
       "      <td>0.109584</td>\n",
       "      <td>0.916001</td>\n",
       "    </tr>\n",
       "    <tr>\n",
       "      <th>2001-05-30</th>\n",
       "      <td>0.050315</td>\n",
       "      <td>0.677378</td>\n",
       "      <td>-3.057286</td>\n",
       "      <td>-0.664176</td>\n",
       "    </tr>\n",
       "  </tbody>\n",
       "</table>\n",
       "</div>"
      ],
      "text/plain": [
       "            Colorado     Texas  New York      Ohio\n",
       "2001-05-02  1.904257 -1.322218  0.283460 -1.080033\n",
       "2001-05-09  1.601939 -0.729314  0.554877  0.826218\n",
       "2001-05-16  0.205701  0.178225  1.392081 -0.277564\n",
       "2001-05-23  1.006040  2.009794  0.109584  0.916001\n",
       "2001-05-30  0.050315  0.677378 -3.057286 -0.664176"
      ]
     },
     "execution_count": 57,
     "metadata": {},
     "output_type": "execute_result"
    }
   ],
   "source": [
    "long_df.loc['5-2001']"
   ]
  },
  {
   "cell_type": "markdown",
   "id": "a3a1123d",
   "metadata": {},
   "source": [
    "### 有重複索引的時間序列"
   ]
  },
  {
   "cell_type": "code",
   "execution_count": 58,
   "id": "130babcc",
   "metadata": {},
   "outputs": [],
   "source": [
    "dates=pd.DatetimeIndex(['1/1/2000','1/2/2000','1/2/2000','1/2/2000','1/3/2000'])"
   ]
  },
  {
   "cell_type": "code",
   "execution_count": 59,
   "id": "b7e0fc55",
   "metadata": {},
   "outputs": [],
   "source": [
    "dup_ts=pd.Series(np.arange(5),index=dates)"
   ]
  },
  {
   "cell_type": "code",
   "execution_count": 60,
   "id": "fe6b6fae",
   "metadata": {},
   "outputs": [
    {
     "data": {
      "text/plain": [
       "2000-01-01    0\n",
       "2000-01-02    1\n",
       "2000-01-02    2\n",
       "2000-01-02    3\n",
       "2000-01-03    4\n",
       "dtype: int64"
      ]
     },
     "execution_count": 60,
     "metadata": {},
     "output_type": "execute_result"
    }
   ],
   "source": [
    "dup_ts"
   ]
  },
  {
   "cell_type": "markdown",
   "id": "330b628c",
   "metadata": {},
   "source": [
    "### is_unique 可以判斷是否有重複值。"
   ]
  },
  {
   "cell_type": "code",
   "execution_count": 61,
   "id": "4e5cea35",
   "metadata": {},
   "outputs": [
    {
     "data": {
      "text/plain": [
       "False"
      ]
     },
     "execution_count": 61,
     "metadata": {},
     "output_type": "execute_result"
    }
   ],
   "source": [
    "dup_ts.index.is_unique"
   ]
  },
  {
   "cell_type": "code",
   "execution_count": 62,
   "id": "64cc328a",
   "metadata": {},
   "outputs": [
    {
     "data": {
      "text/plain": [
       "4"
      ]
     },
     "execution_count": 62,
     "metadata": {},
     "output_type": "execute_result"
    }
   ],
   "source": [
    "dup_ts['1/3/2000']"
   ]
  },
  {
   "cell_type": "code",
   "execution_count": 63,
   "id": "26037769",
   "metadata": {},
   "outputs": [
    {
     "data": {
      "text/plain": [
       "2000-01-02    1\n",
       "2000-01-02    2\n",
       "2000-01-02    3\n",
       "dtype: int64"
      ]
     },
     "execution_count": 63,
     "metadata": {},
     "output_type": "execute_result"
    }
   ],
   "source": [
    "dup_ts['1/2/2000']"
   ]
  },
  {
   "cell_type": "markdown",
   "id": "ca4a31f3",
   "metadata": {},
   "source": [
    "### 可以使用時間戳記作為groupby的分組依據。"
   ]
  },
  {
   "cell_type": "code",
   "execution_count": 64,
   "id": "04942a46",
   "metadata": {},
   "outputs": [],
   "source": [
    "grouped=dup_ts.groupby(level=0)"
   ]
  },
  {
   "cell_type": "code",
   "execution_count": 65,
   "id": "1ccb0b08",
   "metadata": {},
   "outputs": [
    {
     "data": {
      "text/plain": [
       "2000-01-01    0.0\n",
       "2000-01-02    2.0\n",
       "2000-01-03    4.0\n",
       "dtype: float64"
      ]
     },
     "execution_count": 65,
     "metadata": {},
     "output_type": "execute_result"
    }
   ],
   "source": [
    "grouped.mean()"
   ]
  },
  {
   "cell_type": "code",
   "execution_count": 66,
   "id": "45fa38b5",
   "metadata": {},
   "outputs": [
    {
     "data": {
      "text/plain": [
       "2000-01-01    1\n",
       "2000-01-02    3\n",
       "2000-01-03    1\n",
       "dtype: int64"
      ]
     },
     "execution_count": 66,
     "metadata": {},
     "output_type": "execute_result"
    }
   ],
   "source": [
    "grouped.count()"
   ]
  }
 ],
 "metadata": {
  "kernelspec": {
   "display_name": "Python 3 (ipykernel)",
   "language": "python",
   "name": "python3"
  },
  "language_info": {
   "codemirror_mode": {
    "name": "ipython",
    "version": 3
   },
   "file_extension": ".py",
   "mimetype": "text/x-python",
   "name": "python",
   "nbconvert_exporter": "python",
   "pygments_lexer": "ipython3",
   "version": "3.9.12"
  }
 },
 "nbformat": 4,
 "nbformat_minor": 5
}
