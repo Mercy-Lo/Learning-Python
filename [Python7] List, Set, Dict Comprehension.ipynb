{
 "cells": [
  {
   "cell_type": "markdown",
   "id": "7abe5f9b",
   "metadata": {},
   "source": [
    "# Chapter 3 內建資料結構、函式和檔案"
   ]
  },
  {
   "cell_type": "markdown",
   "id": "99d430b1",
   "metadata": {},
   "source": [
    "## List Comprehension 包含式"
   ]
  },
  {
   "cell_type": "markdown",
   "id": "70e4d325",
   "metadata": {},
   "source": [
    "### [] 內放入for迴圈，if 條件句，可以將特定的list元素選出來。\n",
    "### upper() : 可使string的字母變成大寫。"
   ]
  },
  {
   "cell_type": "code",
   "execution_count": 1,
   "id": "1b2c8696",
   "metadata": {},
   "outputs": [
    {
     "data": {
      "text/plain": [
       "['TRIP', 'ROAD']"
      ]
     },
     "execution_count": 1,
     "metadata": {},
     "output_type": "execute_result"
    }
   ],
   "source": [
    "a_list=['hi','can','trip','road','ice']\n",
    "[x.upper() \n",
    "for x \n",
    "in a_list \n",
    "if len(x)>3]"
   ]
  },
  {
   "cell_type": "markdown",
   "id": "502a1806",
   "metadata": {},
   "source": [
    "### Set Comprehension"
   ]
  },
  {
   "cell_type": "code",
   "execution_count": 2,
   "id": "fbf86e82",
   "metadata": {},
   "outputs": [
    {
     "data": {
      "text/plain": [
       "{2, 3, 4}"
      ]
     },
     "execution_count": 2,
     "metadata": {},
     "output_type": "execute_result"
    }
   ],
   "source": [
    "unique_lengths={len(x) for x in a_list}\n",
    "unique_lengths"
   ]
  },
  {
   "cell_type": "markdown",
   "id": "8e646a22",
   "metadata": {},
   "source": [
    "### map(function, list): 前面放上任何一個function，例如len，後面放上list的名稱，就可以讓list內的每一個元素執行function。"
   ]
  },
  {
   "cell_type": "code",
   "execution_count": 3,
   "id": "1f2a01de",
   "metadata": {},
   "outputs": [
    {
     "data": {
      "text/plain": [
       "{2, 3, 4}"
      ]
     },
     "execution_count": 3,
     "metadata": {},
     "output_type": "execute_result"
    }
   ],
   "source": [
    "set(map(len,a_list))"
   ]
  },
  {
   "cell_type": "markdown",
   "id": "d0d68aae",
   "metadata": {},
   "source": [
    "### Dict Comprehension: 搭配enumerate() 一起使用，可以找到dict中，每一個value的index。"
   ]
  },
  {
   "cell_type": "markdown",
   "id": "43ae163b",
   "metadata": {},
   "source": [
    "### val: index 用來定義dict的形式。\n",
    "### for index, val in enumerate(list)，用來定義list內的index就是值，list內的元素就是key。"
   ]
  },
  {
   "cell_type": "code",
   "execution_count": 4,
   "id": "1c451583",
   "metadata": {},
   "outputs": [
    {
     "data": {
      "text/plain": [
       "{'hi': 0, 'can': 1, 'trip': 2, 'road': 3, 'ice': 4}"
      ]
     },
     "execution_count": 4,
     "metadata": {},
     "output_type": "execute_result"
    }
   ],
   "source": [
    "a_list=['hi','can','trip','road','ice']\n",
    "\n",
    "loc_mapping={val: index for index, val in enumerate(a_list)}\n",
    "loc_mapping"
   ]
  },
  {
   "cell_type": "markdown",
   "id": "d7dca6d3",
   "metadata": {},
   "source": [
    "### 巢式list包含式: 今有一個list叫做all_data，請找出包含2個e的名字。"
   ]
  },
  {
   "cell_type": "markdown",
   "id": "aed12201",
   "metadata": {},
   "source": [
    "### 善用2個fo迴圈，找到list與vaule的相互關係。"
   ]
  },
  {
   "cell_type": "code",
   "execution_count": 5,
   "id": "8b085641",
   "metadata": {},
   "outputs": [
    {
     "name": "stdout",
     "output_type": "stream",
     "text": [
      "names_of_interest: ['Steven']\n"
     ]
    }
   ],
   "source": [
    "all_data=[['John','Emily','Michael','Mary','Steven'],['Maria','Juan','Javier','Natalia','Pilar']]\n",
    "\n",
    "### 先給答案設定一個list，叫做name_of_interest\n",
    "names_of_interest=[]\n",
    "\n",
    "### 第一個for迴圈表示all_data內的每一個元素name。\n",
    "for names in all_data:\n",
    "    \n",
    "### 第二個for迴圈表示all_data內的name在e>=2的條件下，才可以成為enough_as這個list的元素，而且元素是name。\n",
    "    enough_as=[name for name in names if name.count('e')>=2]\n",
    "\n",
    "### 找到enough_as的value後，其實答案也出來了，再透過extend()增加多個元素給name_of_interest這個List。\n",
    "    names_of_interest.extend(enough_as)\n",
    "    \n",
    "print(f'names_of_interest: {names_of_interest}')"
   ]
  },
  {
   "cell_type": "markdown",
   "id": "d640f536",
   "metadata": {},
   "source": [
    "### 其實答案可以用一句話就寫完，迴圈的迴圈，還有一樣的value，構成了巢式list包含式。\n",
    "### result的目標要找到name。\n",
    "### 第一個迴圈代表all_date內的每一個值。\n",
    "### 第二個迴圈代表真正的答案在每一個值的裡面，條件必須是e>=2，就可以找到答案了！"
   ]
  },
  {
   "cell_type": "code",
   "execution_count": 6,
   "id": "3ffdc026",
   "metadata": {},
   "outputs": [
    {
     "data": {
      "text/plain": [
       "['Steven']"
      ]
     },
     "execution_count": 6,
     "metadata": {},
     "output_type": "execute_result"
    }
   ],
   "source": [
    "result=[name for names in all_data for name in names if name.count('e')>=2]\n",
    "result"
   ]
  },
  {
   "cell_type": "markdown",
   "id": "caf14654",
   "metadata": {},
   "source": [
    "### 將一個包含許多tuple的list，變成一條單一的list。"
   ]
  },
  {
   "cell_type": "markdown",
   "id": "d0665ca6",
   "metadata": {},
   "source": [
    "### 第一個ｘ代表one_list內的value。\n",
    "### 第一個for迴圈代表 some_tuples這個 list內的每一個tuple。\n",
    "### 第二個for迴圈代表 one_list的value x來自於tuple in some_tuples。"
   ]
  },
  {
   "cell_type": "code",
   "execution_count": 7,
   "id": "e93edda0",
   "metadata": {},
   "outputs": [
    {
     "name": "stdout",
     "output_type": "stream",
     "text": [
      "one_list= [1, 2, 3, 4, 5, 6, 7, 8, 9]\n"
     ]
    }
   ],
   "source": [
    "some_tuples=[(1,2,3),(4,5,6),(7,8,9)]\n",
    "\n",
    "\n",
    "one_list=[x for tup in some_tuples for x in tup]\n",
    "print(f'one_list= {one_list}')"
   ]
  },
  {
   "cell_type": "code",
   "execution_count": 8,
   "id": "10f796a9",
   "metadata": {},
   "outputs": [
    {
     "name": "stdout",
     "output_type": "stream",
     "text": [
      "b= ['a', 'b', 'c', 'd', 'e', 'f', 'g', 'h', 'i']\n"
     ]
    }
   ],
   "source": [
    "a=[('a','b','c'),('d','e','f'),('g','h','i')]\n",
    "b=[x for y in a for x in y ]\n",
    "print(f'b= {b}')"
   ]
  },
  {
   "cell_type": "markdown",
   "id": "a8e5ee12",
   "metadata": {},
   "source": [
    "### 由大到小，第一個迴圈先找到每一個tuple，第二個迴圈再找到每一個tuple內單一的value x，最後再把每次增加的x透過append()增加給one_list()"
   ]
  },
  {
   "cell_type": "code",
   "execution_count": 9,
   "id": "c8608604",
   "metadata": {},
   "outputs": [
    {
     "data": {
      "text/plain": [
       "[1, 2, 3, 4, 5, 6, 7, 8, 9]"
      ]
     },
     "execution_count": 9,
     "metadata": {},
     "output_type": "execute_result"
    }
   ],
   "source": [
    "one_list=[]\n",
    "\n",
    "for tup in some_tuples:\n",
    "    for x in tup:\n",
    "        one_list.append(x)\n",
    "one_list"
   ]
  }
 ],
 "metadata": {
  "kernelspec": {
   "display_name": "Python 3 (ipykernel)",
   "language": "python",
   "name": "python3"
  },
  "language_info": {
   "codemirror_mode": {
    "name": "ipython",
    "version": 3
   },
   "file_extension": ".py",
   "mimetype": "text/x-python",
   "name": "python",
   "nbconvert_exporter": "python",
   "pygments_lexer": "ipython3",
   "version": "3.9.12"
  }
 },
 "nbformat": 4,
 "nbformat_minor": 5
}
