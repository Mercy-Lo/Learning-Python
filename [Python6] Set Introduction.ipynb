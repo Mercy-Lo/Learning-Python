{
 "cells": [
  {
   "cell_type": "markdown",
   "id": "09681e6b",
   "metadata": {},
   "source": [
    "# Chapter 3 內建資料結構、函式和檔案"
   ]
  },
  {
   "cell_type": "markdown",
   "id": "70e439d2",
   "metadata": {},
   "source": [
    "## Set Introduction"
   ]
  },
  {
   "cell_type": "markdown",
   "id": "aad51c12",
   "metadata": {},
   "source": [
    "### set 是無序不重複元素的集合。呈現方式：set函式或用中括號寫成set常數。"
   ]
  },
  {
   "cell_type": "code",
   "execution_count": 1,
   "id": "f555f4a3",
   "metadata": {},
   "outputs": [
    {
     "data": {
      "text/plain": [
       "{1, 5, 7}"
      ]
     },
     "execution_count": 1,
     "metadata": {},
     "output_type": "execute_result"
    }
   ],
   "source": [
    "set([5,5,5,7,7,1,1,1])"
   ]
  },
  {
   "cell_type": "code",
   "execution_count": 2,
   "id": "ce16edda",
   "metadata": {},
   "outputs": [
    {
     "data": {
      "text/plain": [
       "{0, 1, 2, 5, 8}"
      ]
     },
     "execution_count": 2,
     "metadata": {},
     "output_type": "execute_result"
    }
   ],
   "source": [
    "{0,0,0,5,5,2,2,8,1}"
   ]
  },
  {
   "cell_type": "markdown",
   "id": "16504b0e",
   "metadata": {},
   "source": [
    "### set 支援數學上的集合運算，像是聯集、交集、差集、對稱差等計算。"
   ]
  },
  {
   "cell_type": "markdown",
   "id": "aa23479c",
   "metadata": {},
   "source": [
    "### union() 或是二元運算子| ，可以將兩個集合做不重複的連集。"
   ]
  },
  {
   "cell_type": "code",
   "execution_count": 3,
   "id": "ebb13cbb",
   "metadata": {},
   "outputs": [
    {
     "data": {
      "text/plain": [
       "{1, 2, 3, 4, 5, 6, 7, 8}"
      ]
     },
     "execution_count": 3,
     "metadata": {},
     "output_type": "execute_result"
    }
   ],
   "source": [
    "a={1,2,3,4,5}\n",
    "b={5,6,7,8}\n",
    "a.union(b)"
   ]
  },
  {
   "cell_type": "code",
   "execution_count": 4,
   "id": "b8cf76ae",
   "metadata": {},
   "outputs": [
    {
     "data": {
      "text/plain": [
       "{1, 2, 3, 4, 5, 6, 7, 8}"
      ]
     },
     "execution_count": 4,
     "metadata": {},
     "output_type": "execute_result"
    }
   ],
   "source": [
    "a|b"
   ]
  },
  {
   "cell_type": "markdown",
   "id": "c447afe2",
   "metadata": {},
   "source": [
    "### ＆ 或是 intersection() 可以取出同時存在於２個set中的元素。"
   ]
  },
  {
   "cell_type": "code",
   "execution_count": 5,
   "id": "1b0c38df",
   "metadata": {},
   "outputs": [
    {
     "data": {
      "text/plain": [
       "{5}"
      ]
     },
     "execution_count": 5,
     "metadata": {},
     "output_type": "execute_result"
    }
   ],
   "source": [
    "a.intersection(b)"
   ]
  },
  {
   "cell_type": "code",
   "execution_count": 6,
   "id": "187668cb",
   "metadata": {},
   "outputs": [
    {
     "data": {
      "text/plain": [
       "{5}"
      ]
     },
     "execution_count": 6,
     "metadata": {},
     "output_type": "execute_result"
    }
   ],
   "source": [
    "a & b"
   ]
  },
  {
   "cell_type": "markdown",
   "id": "72ebab90",
   "metadata": {},
   "source": [
    "### 所有的集合運算子都有對應的in-place版本，可以將結果直接取代左側的集合 ->更有效率。"
   ]
  },
  {
   "cell_type": "markdown",
   "id": "01e76aa2",
   "metadata": {},
   "source": [
    "### add() 將元素加入集合。"
   ]
  },
  {
   "cell_type": "code",
   "execution_count": 7,
   "id": "50d7e447",
   "metadata": {},
   "outputs": [
    {
     "data": {
      "text/plain": [
       "{0, 1, 2, 3, 4, 5}"
      ]
     },
     "execution_count": 7,
     "metadata": {},
     "output_type": "execute_result"
    }
   ],
   "source": [
    "a.add(0)\n",
    "a"
   ]
  },
  {
   "cell_type": "markdown",
   "id": "53577b9a",
   "metadata": {},
   "source": [
    "### clear() 將集合a清空，丟棄所有元素。"
   ]
  },
  {
   "cell_type": "code",
   "execution_count": 8,
   "id": "a849d778",
   "metadata": {},
   "outputs": [
    {
     "data": {
      "text/plain": [
       "set()"
      ]
     },
     "execution_count": 8,
     "metadata": {},
     "output_type": "execute_result"
    }
   ],
   "source": [
    "a.clear()\n",
    "a"
   ]
  },
  {
   "cell_type": "code",
   "execution_count": 9,
   "id": "29ded845",
   "metadata": {},
   "outputs": [
    {
     "data": {
      "text/plain": [
       "{0, 1, 2, 3, 4, 5, 6}"
      ]
     },
     "execution_count": 9,
     "metadata": {},
     "output_type": "execute_result"
    }
   ],
   "source": [
    "a=set([0,1,2,3,4,5,6,6])\n",
    "a"
   ]
  },
  {
   "cell_type": "markdown",
   "id": "4528d7c7",
   "metadata": {},
   "source": [
    "### remove() 移除特定元素。"
   ]
  },
  {
   "cell_type": "code",
   "execution_count": 10,
   "id": "0f4cc823",
   "metadata": {},
   "outputs": [
    {
     "data": {
      "text/plain": [
       "{0, 1, 2, 3, 4, 5}"
      ]
     },
     "execution_count": 10,
     "metadata": {},
     "output_type": "execute_result"
    }
   ],
   "source": [
    "a.remove(6)\n",
    "a"
   ]
  },
  {
   "cell_type": "markdown",
   "id": "da7daa77",
   "metadata": {},
   "source": [
    "### pop() 從集合中移除任意元素，如果集合為空，會丟出keyerror例外。"
   ]
  },
  {
   "cell_type": "code",
   "execution_count": 11,
   "id": "437cc4c8",
   "metadata": {},
   "outputs": [
    {
     "data": {
      "text/plain": [
       "{1, 2, 3, 4, 5}"
      ]
     },
     "execution_count": 11,
     "metadata": {},
     "output_type": "execute_result"
    }
   ],
   "source": [
    "a.pop()\n",
    "a"
   ]
  },
  {
   "cell_type": "code",
   "execution_count": 12,
   "id": "b20ee6d6",
   "metadata": {},
   "outputs": [
    {
     "data": {
      "text/plain": [
       "{2, 3, 4, 5}"
      ]
     },
     "execution_count": 12,
     "metadata": {},
     "output_type": "execute_result"
    }
   ],
   "source": [
    "a.pop()\n",
    "a"
   ]
  },
  {
   "cell_type": "markdown",
   "id": "d823f861",
   "metadata": {},
   "source": [
    "### update() 或是 |= 代表指定a為a與b的聯集。"
   ]
  },
  {
   "cell_type": "code",
   "execution_count": 13,
   "id": "ae55d1f6",
   "metadata": {},
   "outputs": [
    {
     "data": {
      "text/plain": [
       "{5, 6, 7, 8}"
      ]
     },
     "execution_count": 13,
     "metadata": {},
     "output_type": "execute_result"
    }
   ],
   "source": [
    "b"
   ]
  },
  {
   "cell_type": "code",
   "execution_count": 14,
   "id": "9120e769",
   "metadata": {},
   "outputs": [
    {
     "data": {
      "text/plain": [
       "{2, 3, 4, 5, 6, 7, 8}"
      ]
     },
     "execution_count": 14,
     "metadata": {},
     "output_type": "execute_result"
    }
   ],
   "source": [
    "a.update(b)\n",
    "a"
   ]
  },
  {
   "cell_type": "code",
   "execution_count": 15,
   "id": "ada91074",
   "metadata": {},
   "outputs": [
    {
     "data": {
      "text/plain": [
       "{2, 3, 4, 5, 6, 7, 8}"
      ]
     },
     "execution_count": 15,
     "metadata": {},
     "output_type": "execute_result"
    }
   ],
   "source": [
    "a |= b\n",
    "a"
   ]
  },
  {
   "cell_type": "markdown",
   "id": "7e4ef920",
   "metadata": {},
   "source": [
    "### intersection_update() 或是 &= 代表a為a與b的交集。"
   ]
  },
  {
   "cell_type": "code",
   "execution_count": 16,
   "id": "4b941baf",
   "metadata": {},
   "outputs": [
    {
     "data": {
      "text/plain": [
       "{5}"
      ]
     },
     "execution_count": 16,
     "metadata": {},
     "output_type": "execute_result"
    }
   ],
   "source": [
    "a={2, 3, 4, 5}\n",
    "b={5, 6, 7, 8}\n",
    "a.intersection_update(b)\n",
    "a"
   ]
  },
  {
   "cell_type": "code",
   "execution_count": 17,
   "id": "f59b4340",
   "metadata": {},
   "outputs": [
    {
     "data": {
      "text/plain": [
       "{5}"
      ]
     },
     "execution_count": 17,
     "metadata": {},
     "output_type": "execute_result"
    }
   ],
   "source": [
    "a={2, 3, 4, 5}\n",
    "b={5, 6, 7, 8}\n",
    "a &= b\n",
    "a"
   ]
  },
  {
   "cell_type": "markdown",
   "id": "b74d1b67",
   "metadata": {},
   "source": [
    "### difference() 或是 a-b 代表在集合a但是不在集合b的元素。"
   ]
  },
  {
   "cell_type": "code",
   "execution_count": 18,
   "id": "ba20a804",
   "metadata": {},
   "outputs": [
    {
     "data": {
      "text/plain": [
       "{2, 3, 4}"
      ]
     },
     "execution_count": 18,
     "metadata": {},
     "output_type": "execute_result"
    }
   ],
   "source": [
    "a={2, 3, 4, 5}\n",
    "b={5, 6, 7, 8}\n",
    "a.difference(b)"
   ]
  },
  {
   "cell_type": "code",
   "execution_count": 19,
   "id": "67faeb34",
   "metadata": {},
   "outputs": [
    {
     "data": {
      "text/plain": [
       "{2, 3, 4}"
      ]
     },
     "execution_count": 19,
     "metadata": {},
     "output_type": "execute_result"
    }
   ],
   "source": [
    "a={2, 3, 4, 5}\n",
    "b={5, 6, 7, 8}\n",
    "a-b"
   ]
  },
  {
   "cell_type": "markdown",
   "id": "55847ae6",
   "metadata": {},
   "source": [
    "### difference_update() 或是 a-=b 代表指定a的內容為在集合a但是不在集合b的元素。"
   ]
  },
  {
   "cell_type": "code",
   "execution_count": 20,
   "id": "1855b5ea",
   "metadata": {},
   "outputs": [
    {
     "data": {
      "text/plain": [
       "{2, 3, 4}"
      ]
     },
     "execution_count": 20,
     "metadata": {},
     "output_type": "execute_result"
    }
   ],
   "source": [
    "a={2, 3, 4, 5}\n",
    "b={5, 6, 7, 8}\n",
    "a.difference_update(b)\n",
    "a"
   ]
  },
  {
   "cell_type": "code",
   "execution_count": 21,
   "id": "8ef36a26",
   "metadata": {},
   "outputs": [
    {
     "data": {
      "text/plain": [
       "{2, 3, 4}"
      ]
     },
     "execution_count": 21,
     "metadata": {},
     "output_type": "execute_result"
    }
   ],
   "source": [
    "a={2, 3, 4, 5}\n",
    "b={5, 6, 7, 8}\n",
    "a -= b\n",
    "a"
   ]
  },
  {
   "cell_type": "markdown",
   "id": "35bbdbd5",
   "metadata": {},
   "source": [
    "### symmetric_difference() 或是 a^b 代表在集合a、b中的所有元素，但是不能同時存在。"
   ]
  },
  {
   "cell_type": "code",
   "execution_count": 22,
   "id": "411d34e4",
   "metadata": {},
   "outputs": [
    {
     "data": {
      "text/plain": [
       "{2, 3, 4, 6, 7, 8}"
      ]
     },
     "execution_count": 22,
     "metadata": {},
     "output_type": "execute_result"
    }
   ],
   "source": [
    "a={2, 3, 4, 5}\n",
    "b={5, 6, 7, 8}\n",
    "a.symmetric_difference(b)"
   ]
  },
  {
   "cell_type": "code",
   "execution_count": 23,
   "id": "a5a25b4e",
   "metadata": {},
   "outputs": [
    {
     "data": {
      "text/plain": [
       "{2, 3, 4, 6, 7, 8}"
      ]
     },
     "execution_count": 23,
     "metadata": {},
     "output_type": "execute_result"
    }
   ],
   "source": [
    "a={2, 3, 4, 5}\n",
    "b={5, 6, 7, 8}\n",
    "a ^ b"
   ]
  },
  {
   "cell_type": "markdown",
   "id": "8aad5a0c",
   "metadata": {},
   "source": [
    "### symmetric_difference_update() 或是 a^=b 代表指定集合a的內容為a,b中的所有元素，但是不能同時存在。"
   ]
  },
  {
   "cell_type": "code",
   "execution_count": 24,
   "id": "74ae9aab",
   "metadata": {},
   "outputs": [
    {
     "data": {
      "text/plain": [
       "{2, 3, 4, 6, 7, 8}"
      ]
     },
     "execution_count": 24,
     "metadata": {},
     "output_type": "execute_result"
    }
   ],
   "source": [
    "a={2, 3, 4, 5}\n",
    "b={5, 6, 7, 8}\n",
    "a.symmetric_difference_update(b)\n",
    "a"
   ]
  },
  {
   "cell_type": "code",
   "execution_count": 25,
   "id": "00dd31e7",
   "metadata": {},
   "outputs": [
    {
     "data": {
      "text/plain": [
       "{2, 3, 4, 6, 7, 8}"
      ]
     },
     "execution_count": 25,
     "metadata": {},
     "output_type": "execute_result"
    }
   ],
   "source": [
    "a={2, 3, 4, 5}\n",
    "b={5, 6, 7, 8}\n",
    "a ^= b\n",
    "a"
   ]
  },
  {
   "cell_type": "markdown",
   "id": "db4ed6dc",
   "metadata": {},
   "source": [
    "### issubset() 如果集合a所有的元素都包含在b中，則回傳True。"
   ]
  },
  {
   "cell_type": "code",
   "execution_count": 26,
   "id": "ab372fa7",
   "metadata": {},
   "outputs": [
    {
     "data": {
      "text/plain": [
       "True"
      ]
     },
     "execution_count": 26,
     "metadata": {},
     "output_type": "execute_result"
    }
   ],
   "source": [
    "a={4,5,6}\n",
    "b={1,2,3,4,5,6}\n",
    "a.issubset(b)"
   ]
  },
  {
   "cell_type": "markdown",
   "id": "58b43953",
   "metadata": {},
   "source": [
    "### issuperset() 如果集合b所有的元素都包含在a中，則回傳True。"
   ]
  },
  {
   "cell_type": "code",
   "execution_count": 27,
   "id": "193d41a9",
   "metadata": {},
   "outputs": [
    {
     "data": {
      "text/plain": [
       "True"
      ]
     },
     "execution_count": 27,
     "metadata": {},
     "output_type": "execute_result"
    }
   ],
   "source": [
    "a={4,5,6,7}\n",
    "b={5,6}\n",
    "a.issuperset(b)"
   ]
  },
  {
   "cell_type": "markdown",
   "id": "a0a8d295",
   "metadata": {},
   "source": [
    "### isdisjoint() 如果a,b都沒有交集，則回傳True。"
   ]
  },
  {
   "cell_type": "code",
   "execution_count": 28,
   "id": "9d9bc033",
   "metadata": {},
   "outputs": [
    {
     "data": {
      "text/plain": [
       "True"
      ]
     },
     "execution_count": 28,
     "metadata": {},
     "output_type": "execute_result"
    }
   ],
   "source": [
    "a={2,3,4}\n",
    "b={7,8,9}\n",
    "a.isdisjoint(b)"
   ]
  },
  {
   "cell_type": "markdown",
   "id": "5e0cecc3",
   "metadata": {},
   "source": [
    "### copy() 可以用來複製set"
   ]
  },
  {
   "cell_type": "code",
   "execution_count": 29,
   "id": "c1ae1183",
   "metadata": {},
   "outputs": [
    {
     "data": {
      "text/plain": [
       "{2, 3, 4, 7, 8, 9}"
      ]
     },
     "execution_count": 29,
     "metadata": {},
     "output_type": "execute_result"
    }
   ],
   "source": [
    "c=a.copy()\n",
    "c |=b\n",
    "c"
   ]
  },
  {
   "cell_type": "code",
   "execution_count": 30,
   "id": "6a5f9d74",
   "metadata": {},
   "outputs": [
    {
     "data": {
      "text/plain": [
       "{2, 3, 4}"
      ]
     },
     "execution_count": 30,
     "metadata": {},
     "output_type": "execute_result"
    }
   ],
   "source": [
    "a={1,2,3,4}\n",
    "b={2,3,4,5}\n",
    "d = a.copy()\n",
    "d &= b\n",
    "d"
   ]
  },
  {
   "cell_type": "markdown",
   "id": "01d9adff",
   "metadata": {},
   "source": [
    "### set的元素通常都是immutable，如果希望將list放進set，建議可以把list轉為tuple。"
   ]
  },
  {
   "cell_type": "code",
   "execution_count": 31,
   "id": "fc4a9793",
   "metadata": {},
   "outputs": [
    {
     "data": {
      "text/plain": [
       "{(1, 2, 3, 4)}"
      ]
     },
     "execution_count": 31,
     "metadata": {},
     "output_type": "execute_result"
    }
   ],
   "source": [
    "e={tuple([1,2,3,4])}\n",
    "e"
   ]
  },
  {
   "cell_type": "markdown",
   "id": "91285913",
   "metadata": {},
   "source": [
    "### 集合相等必須兩個set的元素都符合。"
   ]
  },
  {
   "cell_type": "code",
   "execution_count": 32,
   "id": "9c8a0d7d",
   "metadata": {},
   "outputs": [
    {
     "data": {
      "text/plain": [
       "True"
      ]
     },
     "execution_count": 32,
     "metadata": {},
     "output_type": "execute_result"
    }
   ],
   "source": [
    "{1,2,3} == {3,2,1}"
   ]
  }
 ],
 "metadata": {
  "kernelspec": {
   "display_name": "Python 3 (ipykernel)",
   "language": "python",
   "name": "python3"
  },
  "language_info": {
   "codemirror_mode": {
    "name": "ipython",
    "version": 3
   },
   "file_extension": ".py",
   "mimetype": "text/x-python",
   "name": "python",
   "nbconvert_exporter": "python",
   "pygments_lexer": "ipython3",
   "version": "3.9.12"
  }
 },
 "nbformat": 4,
 "nbformat_minor": 5
}
