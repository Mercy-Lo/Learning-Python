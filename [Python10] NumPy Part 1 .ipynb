{
 "cells": [
  {
   "cell_type": "markdown",
   "id": "27e8eeb3",
   "metadata": {},
   "source": [
    "# Chapter 4 Numpy基礎:陣列和向量化計算"
   ]
  },
  {
   "cell_type": "markdown",
   "id": "ff4a2564",
   "metadata": {},
   "source": [
    "## NumPy: Numerical Python，是計算最重要的基礎。"
   ]
  },
  {
   "cell_type": "markdown",
   "id": "5136bd8b",
   "metadata": {},
   "source": [
    "### NumPy的數學運算非常有效率，不需要透過for迴圈也可以將資料計算出來，速度比一般python語法快上10-100倍，記憶體的容量也很少。"
   ]
  },
  {
   "cell_type": "code",
   "execution_count": 1,
   "id": "b84191a7",
   "metadata": {},
   "outputs": [],
   "source": [
    "import numpy as np"
   ]
  },
  {
   "cell_type": "markdown",
   "id": "65bbb099",
   "metadata": {},
   "source": [
    "### 使用np.arrange的元素去乘以２倍，計算運算時間。"
   ]
  },
  {
   "cell_type": "code",
   "execution_count": 2,
   "id": "2e12de2e",
   "metadata": {},
   "outputs": [],
   "source": [
    "my_arr=np.arange(1000000) "
   ]
  },
  {
   "cell_type": "code",
   "execution_count": 3,
   "id": "3d299fe7",
   "metadata": {},
   "outputs": [
    {
     "name": "stdout",
     "output_type": "stream",
     "text": [
      "CPU times: user 19 ms, sys: 12.4 ms, total: 31.4 ms\n",
      "Wall time: 39.5 ms\n"
     ]
    }
   ],
   "source": [
    "%time for _ in range(10):my_arr2=my_arr*2"
   ]
  },
  {
   "cell_type": "markdown",
   "id": "f08f30e9",
   "metadata": {},
   "source": [
    "### 使用python內建的list，計算運算時間。"
   ]
  },
  {
   "cell_type": "code",
   "execution_count": 4,
   "id": "194dc959",
   "metadata": {},
   "outputs": [],
   "source": [
    "my_list=list(range(1000000))"
   ]
  },
  {
   "cell_type": "code",
   "execution_count": 5,
   "id": "742d613d",
   "metadata": {},
   "outputs": [
    {
     "name": "stdout",
     "output_type": "stream",
     "text": [
      "CPU times: user 747 ms, sys: 190 ms, total: 938 ms\n",
      "Wall time: 942 ms\n"
     ]
    }
   ],
   "source": [
    "%time for _ in range(10): my_list2=[x*2 for x in my_list]"
   ]
  },
  {
   "cell_type": "markdown",
   "id": "caeae33a",
   "metadata": {},
   "source": [
    "### NumPy ndarray: 多維陣列物件"
   ]
  },
  {
   "cell_type": "code",
   "execution_count": 6,
   "id": "606a54a8",
   "metadata": {},
   "outputs": [],
   "source": [
    "import numpy as np"
   ]
  },
  {
   "cell_type": "code",
   "execution_count": 7,
   "id": "6a289fe9",
   "metadata": {},
   "outputs": [],
   "source": [
    "data=np.random.randn(2,3)"
   ]
  },
  {
   "cell_type": "code",
   "execution_count": 8,
   "id": "2ec87aae",
   "metadata": {},
   "outputs": [
    {
     "data": {
      "text/plain": [
       "array([[-0.99666659,  0.1748735 , -1.90861688],\n",
       "       [-0.28775397, -1.03863131,  0.34861808]])"
      ]
     },
     "execution_count": 8,
     "metadata": {},
     "output_type": "execute_result"
    }
   ],
   "source": [
    "data"
   ]
  },
  {
   "cell_type": "code",
   "execution_count": 9,
   "id": "e65504ee",
   "metadata": {},
   "outputs": [
    {
     "data": {
      "text/plain": [
       "array([[ -9.96666585,   1.74873501, -19.08616879],\n",
       "       [ -2.87753966, -10.38631313,   3.48618076]])"
      ]
     },
     "execution_count": 9,
     "metadata": {},
     "output_type": "execute_result"
    }
   ],
   "source": [
    "data*10"
   ]
  },
  {
   "cell_type": "code",
   "execution_count": 10,
   "id": "711f2b1d",
   "metadata": {},
   "outputs": [
    {
     "data": {
      "text/plain": [
       "array([[-1.99333317,  0.349747  , -3.81723376],\n",
       "       [-0.57550793, -2.07726263,  0.69723615]])"
      ]
     },
     "execution_count": 10,
     "metadata": {},
     "output_type": "execute_result"
    }
   ],
   "source": [
    "data+data"
   ]
  },
  {
   "cell_type": "markdown",
   "id": "45d6503e",
   "metadata": {},
   "source": [
    "### ndarray是同質資料的多為容器，每一個元素型態要一致，每一個陣列都有shape與dtype。"
   ]
  },
  {
   "cell_type": "markdown",
   "id": "23316785",
   "metadata": {},
   "source": [
    "### shape: 標明維度的tuple。dtype: 資料型態。"
   ]
  },
  {
   "cell_type": "code",
   "execution_count": 11,
   "id": "d97d8c07",
   "metadata": {},
   "outputs": [
    {
     "data": {
      "text/plain": [
       "(2, 3)"
      ]
     },
     "execution_count": 11,
     "metadata": {},
     "output_type": "execute_result"
    }
   ],
   "source": [
    "data.shape"
   ]
  },
  {
   "cell_type": "code",
   "execution_count": 12,
   "id": "90eb2125",
   "metadata": {},
   "outputs": [
    {
     "data": {
      "text/plain": [
       "dtype('float64')"
      ]
     },
     "execution_count": 12,
     "metadata": {},
     "output_type": "execute_result"
    }
   ],
   "source": [
    "data.dtype"
   ]
  },
  {
   "cell_type": "markdown",
   "id": "fb4d5768",
   "metadata": {},
   "source": [
    "### 建立ndarray: 使用array()，list很適合傳入物件。"
   ]
  },
  {
   "cell_type": "code",
   "execution_count": 13,
   "id": "2e3bd4cc",
   "metadata": {},
   "outputs": [],
   "source": [
    "data1=[6,7.5,9,0,2]"
   ]
  },
  {
   "cell_type": "code",
   "execution_count": 14,
   "id": "b6699769",
   "metadata": {},
   "outputs": [],
   "source": [
    "arr1=np.array(data1)"
   ]
  },
  {
   "cell_type": "code",
   "execution_count": 15,
   "id": "09f53916",
   "metadata": {},
   "outputs": [
    {
     "data": {
      "text/plain": [
       "array([6. , 7.5, 9. , 0. , 2. ])"
      ]
     },
     "execution_count": 15,
     "metadata": {},
     "output_type": "execute_result"
    }
   ],
   "source": [
    "arr1"
   ]
  },
  {
   "cell_type": "markdown",
   "id": "2c87f086",
   "metadata": {},
   "source": [
    "### 使用巢式list，等長的list會形成多維陣列。"
   ]
  },
  {
   "cell_type": "code",
   "execution_count": 16,
   "id": "d3fe0048",
   "metadata": {},
   "outputs": [],
   "source": [
    "data2=[[1,2,3,4],[5,6,7,8]]"
   ]
  },
  {
   "cell_type": "code",
   "execution_count": 17,
   "id": "4bcd6c1d",
   "metadata": {},
   "outputs": [],
   "source": [
    "arr2=np.array(data2)"
   ]
  },
  {
   "cell_type": "code",
   "execution_count": 18,
   "id": "3edddc6b",
   "metadata": {},
   "outputs": [
    {
     "data": {
      "text/plain": [
       "array([[1, 2, 3, 4],\n",
       "       [5, 6, 7, 8]])"
      ]
     },
     "execution_count": 18,
     "metadata": {},
     "output_type": "execute_result"
    }
   ],
   "source": [
    "arr2"
   ]
  },
  {
   "cell_type": "markdown",
   "id": "00722f62",
   "metadata": {},
   "source": [
    "### ndim: 確認陣列的行數，shape: 確認陣列的型態，包含欄與列。"
   ]
  },
  {
   "cell_type": "code",
   "execution_count": 19,
   "id": "4ee26cc8",
   "metadata": {},
   "outputs": [
    {
     "data": {
      "text/plain": [
       "2"
      ]
     },
     "execution_count": 19,
     "metadata": {},
     "output_type": "execute_result"
    }
   ],
   "source": [
    "arr2.ndim"
   ]
  },
  {
   "cell_type": "code",
   "execution_count": 20,
   "id": "2a9cc6fc",
   "metadata": {},
   "outputs": [
    {
     "data": {
      "text/plain": [
       "(2, 4)"
      ]
     },
     "execution_count": 20,
     "metadata": {},
     "output_type": "execute_result"
    }
   ],
   "source": [
    "arr2.shape"
   ]
  },
  {
   "cell_type": "markdown",
   "id": "40a81283",
   "metadata": {},
   "source": [
    "### dtype: 確認陣列的資料型態。"
   ]
  },
  {
   "cell_type": "code",
   "execution_count": 21,
   "id": "3ecc15e4",
   "metadata": {},
   "outputs": [
    {
     "data": {
      "text/plain": [
       "dtype('float64')"
      ]
     },
     "execution_count": 21,
     "metadata": {},
     "output_type": "execute_result"
    }
   ],
   "source": [
    "arr1.dtype"
   ]
  },
  {
   "cell_type": "code",
   "execution_count": 22,
   "id": "863060ab",
   "metadata": {},
   "outputs": [
    {
     "data": {
      "text/plain": [
       "dtype('int64')"
      ]
     },
     "execution_count": 22,
     "metadata": {},
     "output_type": "execute_result"
    }
   ],
   "source": [
    "arr2.dtype"
   ]
  },
  {
   "cell_type": "markdown",
   "id": "77416629",
   "metadata": {},
   "source": [
    "### zeros(): 可以建立全部為0的陣列。"
   ]
  },
  {
   "cell_type": "code",
   "execution_count": 23,
   "id": "62c2da65",
   "metadata": {},
   "outputs": [
    {
     "data": {
      "text/plain": [
       "array([0., 0., 0., 0., 0., 0., 0., 0., 0., 0.])"
      ]
     },
     "execution_count": 23,
     "metadata": {},
     "output_type": "execute_result"
    }
   ],
   "source": [
    "np.zeros(10)"
   ]
  },
  {
   "cell_type": "markdown",
   "id": "b7a75763",
   "metadata": {},
   "source": [
    "### ones(): 可以建立全部為1的陣列。"
   ]
  },
  {
   "cell_type": "code",
   "execution_count": 24,
   "id": "23736e91",
   "metadata": {},
   "outputs": [
    {
     "data": {
      "text/plain": [
       "array([1., 1., 1., 1., 1., 1., 1., 1., 1., 1.])"
      ]
     },
     "execution_count": 24,
     "metadata": {},
     "output_type": "execute_result"
    }
   ],
   "source": [
    "np.ones(10)"
   ]
  },
  {
   "cell_type": "markdown",
   "id": "f782dcba",
   "metadata": {},
   "source": [
    "### 如果希望建立多維度的陣列，可以將tuple放入zeros()/ones()"
   ]
  },
  {
   "cell_type": "code",
   "execution_count": 25,
   "id": "cf1a216f",
   "metadata": {
    "scrolled": false
   },
   "outputs": [
    {
     "data": {
      "text/plain": [
       "array([[0., 0., 0., 0., 0., 0.],\n",
       "       [0., 0., 0., 0., 0., 0.],\n",
       "       [0., 0., 0., 0., 0., 0.]])"
      ]
     },
     "execution_count": 25,
     "metadata": {},
     "output_type": "execute_result"
    }
   ],
   "source": [
    "np.zeros((3,6))"
   ]
  },
  {
   "cell_type": "code",
   "execution_count": 26,
   "id": "cbc727fe",
   "metadata": {},
   "outputs": [
    {
     "data": {
      "text/plain": [
       "array([[1., 1.],\n",
       "       [1., 1.]])"
      ]
     },
     "execution_count": 26,
     "metadata": {},
     "output_type": "execute_result"
    }
   ],
   "source": [
    "np.ones((2,2))"
   ]
  },
  {
   "cell_type": "markdown",
   "id": "d232bdf9",
   "metadata": {},
   "source": [
    "### empty(): 可以產生亂數，（a,b,c)=(陣列數量,列數,欄數)"
   ]
  },
  {
   "cell_type": "code",
   "execution_count": 27,
   "id": "967e391c",
   "metadata": {},
   "outputs": [
    {
     "data": {
      "text/plain": [
       "array([[[1.99333317],\n",
       "        [0.349747  ],\n",
       "        [3.81723376]],\n",
       "\n",
       "       [[0.57550793],\n",
       "        [2.07726263],\n",
       "        [0.69723615]]])"
      ]
     },
     "execution_count": 27,
     "metadata": {},
     "output_type": "execute_result"
    }
   ],
   "source": [
    "np.empty((2,3,1))"
   ]
  },
  {
   "cell_type": "markdown",
   "id": "d03d1534",
   "metadata": {},
   "source": [
    "### arrange() 類似於range(): 可以產生連續的陣列。"
   ]
  },
  {
   "cell_type": "code",
   "execution_count": 28,
   "id": "ba54c869",
   "metadata": {},
   "outputs": [
    {
     "data": {
      "text/plain": [
       "array([ 0,  1,  2,  3,  4,  5,  6,  7,  8,  9, 10, 11, 12, 13, 14])"
      ]
     },
     "execution_count": 28,
     "metadata": {},
     "output_type": "execute_result"
    }
   ],
   "source": [
    "np.arange(15)"
   ]
  },
  {
   "cell_type": "markdown",
   "id": "dce7c97b",
   "metadata": {},
   "source": [
    "### identity(), eye() 可以做出正方形的陣列，且對角線為0,1。"
   ]
  },
  {
   "cell_type": "code",
   "execution_count": 29,
   "id": "ad6f08f0",
   "metadata": {
    "scrolled": true
   },
   "outputs": [
    {
     "data": {
      "text/plain": [
       "array([[1., 0.],\n",
       "       [0., 1.]])"
      ]
     },
     "execution_count": 29,
     "metadata": {},
     "output_type": "execute_result"
    }
   ],
   "source": [
    "np.identity(2)"
   ]
  },
  {
   "cell_type": "code",
   "execution_count": 30,
   "id": "4345a456",
   "metadata": {},
   "outputs": [
    {
     "data": {
      "text/plain": [
       "array([[1., 0.],\n",
       "       [0., 1.]])"
      ]
     },
     "execution_count": 30,
     "metadata": {},
     "output_type": "execute_result"
    }
   ],
   "source": [
    "np.eye(2)"
   ]
  },
  {
   "cell_type": "markdown",
   "id": "d8b30e55",
   "metadata": {},
   "source": [
    "### ndarray的資料型態"
   ]
  },
  {
   "cell_type": "code",
   "execution_count": 31,
   "id": "028fa578",
   "metadata": {},
   "outputs": [],
   "source": [
    "arr1 = np.array([1,2,3], dtype=np.float64)"
   ]
  },
  {
   "cell_type": "code",
   "execution_count": 32,
   "id": "7549ccd5",
   "metadata": {},
   "outputs": [],
   "source": [
    "arr2 = np.array([2,2,3], dtype=np.int32)"
   ]
  },
  {
   "cell_type": "code",
   "execution_count": 33,
   "id": "224a8a40",
   "metadata": {},
   "outputs": [
    {
     "data": {
      "text/plain": [
       "dtype('float64')"
      ]
     },
     "execution_count": 33,
     "metadata": {},
     "output_type": "execute_result"
    }
   ],
   "source": [
    "arr1.dtype"
   ]
  },
  {
   "cell_type": "code",
   "execution_count": 34,
   "id": "e8eb6278",
   "metadata": {},
   "outputs": [
    {
     "data": {
      "text/plain": [
       "dtype('int32')"
      ]
     },
     "execution_count": 34,
     "metadata": {},
     "output_type": "execute_result"
    }
   ],
   "source": [
    "arr2.dtype"
   ]
  },
  {
   "cell_type": "markdown",
   "id": "495bd220",
   "metadata": {},
   "source": [
    "### astype(): 可以轉換dtype。"
   ]
  },
  {
   "cell_type": "code",
   "execution_count": 35,
   "id": "a1e85c9b",
   "metadata": {},
   "outputs": [],
   "source": [
    "arr=np.array([1,2,3,4,5,6])"
   ]
  },
  {
   "cell_type": "code",
   "execution_count": 36,
   "id": "750915b5",
   "metadata": {},
   "outputs": [
    {
     "data": {
      "text/plain": [
       "dtype('int64')"
      ]
     },
     "execution_count": 36,
     "metadata": {},
     "output_type": "execute_result"
    }
   ],
   "source": [
    "arr.dtype"
   ]
  },
  {
   "cell_type": "code",
   "execution_count": 37,
   "id": "768d7b1f",
   "metadata": {},
   "outputs": [],
   "source": [
    "float_arr=arr.astype(np.float64)"
   ]
  },
  {
   "cell_type": "code",
   "execution_count": 38,
   "id": "7f59712e",
   "metadata": {},
   "outputs": [
    {
     "data": {
      "text/plain": [
       "dtype('float64')"
      ]
     },
     "execution_count": 38,
     "metadata": {},
     "output_type": "execute_result"
    }
   ],
   "source": [
    "float_arr.dtype"
   ]
  },
  {
   "cell_type": "markdown",
   "id": "7d63fdfa",
   "metadata": {},
   "source": [
    "### 將文字轉為數字，不過由於字串長度固定，可能會切掉部分的值，要小心。"
   ]
  },
  {
   "cell_type": "code",
   "execution_count": 39,
   "id": "98ba1c78",
   "metadata": {},
   "outputs": [],
   "source": [
    "numeric_strings=np.array(['1.5','1.25','2.75','3.5','50'],dtype=np.string_)"
   ]
  },
  {
   "cell_type": "code",
   "execution_count": 40,
   "id": "ec5ce30e",
   "metadata": {},
   "outputs": [
    {
     "data": {
      "text/plain": [
       "array([ 1.5 ,  1.25,  2.75,  3.5 , 50.  ])"
      ]
     },
     "execution_count": 40,
     "metadata": {},
     "output_type": "execute_result"
    }
   ],
   "source": [
    "numeric_strings.astype(float)"
   ]
  },
  {
   "cell_type": "markdown",
   "id": "37abee24",
   "metadata": {},
   "source": [
    "### 可以使用另外一個陣列的屬性來轉換資料型態喔！"
   ]
  },
  {
   "cell_type": "code",
   "execution_count": 41,
   "id": "a2454437",
   "metadata": {},
   "outputs": [],
   "source": [
    "int_array=np.arange(10)"
   ]
  },
  {
   "cell_type": "code",
   "execution_count": 42,
   "id": "2c3f458f",
   "metadata": {},
   "outputs": [],
   "source": [
    "calibers=np.array([.22,.279,.45,.80,.50],dtype=np.float64)"
   ]
  },
  {
   "cell_type": "code",
   "execution_count": 43,
   "id": "5fd7d52e",
   "metadata": {},
   "outputs": [
    {
     "data": {
      "text/plain": [
       "array([0., 1., 2., 3., 4., 5., 6., 7., 8., 9.])"
      ]
     },
     "execution_count": 43,
     "metadata": {},
     "output_type": "execute_result"
    }
   ],
   "source": [
    "int_array.astype(calibers.dtype)"
   ]
  },
  {
   "cell_type": "markdown",
   "id": "569c7ebe",
   "metadata": {},
   "source": [
    "### 也可以使用代碼來轉換文字格式。例如：u4=unit32 ; f4=float32"
   ]
  },
  {
   "cell_type": "code",
   "execution_count": 44,
   "id": "8703d3cd",
   "metadata": {},
   "outputs": [],
   "source": [
    "empty_unit32=np.empty(8,dtype='u4')"
   ]
  },
  {
   "cell_type": "code",
   "execution_count": 45,
   "id": "a2b4b07e",
   "metadata": {},
   "outputs": [
    {
     "data": {
      "text/plain": [
       "array([         0, 1072693248,          0,          0,          0,\n",
       "                0,          0, 1072693248], dtype=uint32)"
      ]
     },
     "execution_count": 45,
     "metadata": {},
     "output_type": "execute_result"
    }
   ],
   "source": [
    "empty_unit32"
   ]
  },
  {
   "cell_type": "markdown",
   "id": "b539dbb5",
   "metadata": {},
   "source": [
    "### 陣列的算數運算：好處是不用寫任何的迴圈，就會進行整批運算。-> 向量化（vectorization)"
   ]
  },
  {
   "cell_type": "code",
   "execution_count": 46,
   "id": "ba39c6da",
   "metadata": {},
   "outputs": [
    {
     "data": {
      "text/plain": [
       "array([[1, 2, 3],\n",
       "       [4, 5, 6]])"
      ]
     },
     "execution_count": 46,
     "metadata": {},
     "output_type": "execute_result"
    }
   ],
   "source": [
    "arr=np.array([[1,2,3],[4,5,6]])\n",
    "arr"
   ]
  },
  {
   "cell_type": "code",
   "execution_count": 47,
   "id": "2aa12435",
   "metadata": {},
   "outputs": [
    {
     "data": {
      "text/plain": [
       "array([[ 1,  4,  9],\n",
       "       [16, 25, 36]])"
      ]
     },
     "execution_count": 47,
     "metadata": {},
     "output_type": "execute_result"
    }
   ],
   "source": [
    "arr * arr"
   ]
  },
  {
   "cell_type": "code",
   "execution_count": 48,
   "id": "17a216f0",
   "metadata": {},
   "outputs": [
    {
     "data": {
      "text/plain": [
       "array([[0, 0, 0],\n",
       "       [0, 0, 0]])"
      ]
     },
     "execution_count": 48,
     "metadata": {},
     "output_type": "execute_result"
    }
   ],
   "source": [
    "arr - arr"
   ]
  },
  {
   "cell_type": "code",
   "execution_count": 49,
   "id": "5204ce0b",
   "metadata": {},
   "outputs": [
    {
     "data": {
      "text/plain": [
       "array([[1.        , 0.5       , 0.33333333],\n",
       "       [0.25      , 0.2       , 0.16666667]])"
      ]
     },
     "execution_count": 49,
     "metadata": {},
     "output_type": "execute_result"
    }
   ],
   "source": [
    "1 / arr"
   ]
  },
  {
   "cell_type": "code",
   "execution_count": 50,
   "id": "0c2585f2",
   "metadata": {},
   "outputs": [
    {
     "data": {
      "text/plain": [
       "array([[1.        , 1.41421356, 1.73205081],\n",
       "       [2.        , 2.23606798, 2.44948974]])"
      ]
     },
     "execution_count": 50,
     "metadata": {},
     "output_type": "execute_result"
    }
   ],
   "source": [
    "arr **0.5"
   ]
  },
  {
   "cell_type": "code",
   "execution_count": 51,
   "id": "231c217d",
   "metadata": {},
   "outputs": [],
   "source": [
    "arr2 = np.array([[0,4,1],[7,2,12]])"
   ]
  },
  {
   "cell_type": "code",
   "execution_count": 52,
   "id": "4912f36c",
   "metadata": {},
   "outputs": [
    {
     "data": {
      "text/plain": [
       "array([[ 0,  4,  1],\n",
       "       [ 7,  2, 12]])"
      ]
     },
     "execution_count": 52,
     "metadata": {},
     "output_type": "execute_result"
    }
   ],
   "source": [
    "arr2"
   ]
  },
  {
   "cell_type": "code",
   "execution_count": 53,
   "id": "c6cbe2b3",
   "metadata": {},
   "outputs": [
    {
     "data": {
      "text/plain": [
       "array([[False,  True, False],\n",
       "       [ True, False,  True]])"
      ]
     },
     "execution_count": 53,
     "metadata": {},
     "output_type": "execute_result"
    }
   ],
   "source": [
    "arr2 > arr"
   ]
  },
  {
   "cell_type": "markdown",
   "id": "d23414bd",
   "metadata": {},
   "source": [
    "### 基本的索引和切片"
   ]
  },
  {
   "cell_type": "code",
   "execution_count": 54,
   "id": "f036e6a4",
   "metadata": {},
   "outputs": [],
   "source": [
    "arr = np.arange(10)"
   ]
  },
  {
   "cell_type": "code",
   "execution_count": 55,
   "id": "5939f34d",
   "metadata": {},
   "outputs": [
    {
     "data": {
      "text/plain": [
       "array([0, 1, 2, 3, 4, 5, 6, 7, 8, 9])"
      ]
     },
     "execution_count": 55,
     "metadata": {},
     "output_type": "execute_result"
    }
   ],
   "source": [
    "arr"
   ]
  },
  {
   "cell_type": "code",
   "execution_count": 56,
   "id": "7d464b6e",
   "metadata": {},
   "outputs": [
    {
     "data": {
      "text/plain": [
       "5"
      ]
     },
     "execution_count": 56,
     "metadata": {},
     "output_type": "execute_result"
    }
   ],
   "source": [
    "arr[5]"
   ]
  },
  {
   "cell_type": "code",
   "execution_count": 57,
   "id": "fcda9bae",
   "metadata": {},
   "outputs": [
    {
     "data": {
      "text/plain": [
       "array([5, 6, 7])"
      ]
     },
     "execution_count": 57,
     "metadata": {},
     "output_type": "execute_result"
    }
   ],
   "source": [
    "arr[5:8]"
   ]
  },
  {
   "cell_type": "markdown",
   "id": "9950db17",
   "metadata": {},
   "source": [
    "### arr 透過索引進行修改後，會在原本的陣列上進行修改，並不會產生新的陣列。"
   ]
  },
  {
   "cell_type": "code",
   "execution_count": 58,
   "id": "8e354a64",
   "metadata": {},
   "outputs": [
    {
     "data": {
      "text/plain": [
       "array([ 0,  1,  2,  3,  4, 12, 12, 12,  8,  9])"
      ]
     },
     "execution_count": 58,
     "metadata": {},
     "output_type": "execute_result"
    }
   ],
   "source": [
    "arr[5:8]=12\n",
    "arr"
   ]
  },
  {
   "cell_type": "markdown",
   "id": "3def961e",
   "metadata": {},
   "source": [
    "### 修改由原先陣列延伸出來的切片，若修改切片的值，原本的陣列數值也會更改。"
   ]
  },
  {
   "cell_type": "code",
   "execution_count": 59,
   "id": "abfc70aa",
   "metadata": {},
   "outputs": [
    {
     "data": {
      "text/plain": [
       "array([12, 12, 12])"
      ]
     },
     "execution_count": 59,
     "metadata": {},
     "output_type": "execute_result"
    }
   ],
   "source": [
    "arr_slice=arr[5:8]\n",
    "arr_slice"
   ]
  },
  {
   "cell_type": "code",
   "execution_count": 60,
   "id": "eda32ddc",
   "metadata": {},
   "outputs": [],
   "source": [
    "arr_slice[1]=12345"
   ]
  },
  {
   "cell_type": "code",
   "execution_count": 61,
   "id": "ee6bbd7e",
   "metadata": {},
   "outputs": [
    {
     "data": {
      "text/plain": [
       "array([    0,     1,     2,     3,     4,    12, 12345,    12,     8,\n",
       "           9])"
      ]
     },
     "execution_count": 61,
     "metadata": {},
     "output_type": "execute_result"
    }
   ],
   "source": [
    "arr"
   ]
  },
  {
   "cell_type": "markdown",
   "id": "9f2d803d",
   "metadata": {},
   "source": [
    "### [:] 表示要使用陣列所有值。"
   ]
  },
  {
   "cell_type": "code",
   "execution_count": 62,
   "id": "75917bde",
   "metadata": {},
   "outputs": [
    {
     "data": {
      "text/plain": [
       "array([ 0,  1,  2,  3,  4, 64, 64, 64,  8,  9])"
      ]
     },
     "execution_count": 62,
     "metadata": {},
     "output_type": "execute_result"
    }
   ],
   "source": [
    "arr_slice[:]=64\n",
    "arr"
   ]
  },
  {
   "cell_type": "markdown",
   "id": "c9577bef",
   "metadata": {},
   "source": [
    "### numpy之所以直接修改原陣列的原因是為了效率，如果每做一個動作都要複製，會很消耗效能跟容量，所以原本設定是直接原地修改。"
   ]
  },
  {
   "cell_type": "markdown",
   "id": "b9e0350c",
   "metadata": {},
   "source": [
    "### copy(): 想把資料複製出來，可以使用copy()"
   ]
  },
  {
   "cell_type": "code",
   "execution_count": 63,
   "id": "3f4a6681",
   "metadata": {},
   "outputs": [],
   "source": [
    "a = arr[5:8].copy()"
   ]
  },
  {
   "cell_type": "code",
   "execution_count": 64,
   "id": "50a61089",
   "metadata": {},
   "outputs": [],
   "source": [
    "a[:]=5 #複製出來的a，即便修改數值，也不會影響原本的arr。"
   ]
  },
  {
   "cell_type": "code",
   "execution_count": 65,
   "id": "26b72fe3",
   "metadata": {},
   "outputs": [
    {
     "data": {
      "text/plain": [
       "array([ 0,  1,  2,  3,  4, 64, 64, 64,  8,  9])"
      ]
     },
     "execution_count": 65,
     "metadata": {},
     "output_type": "execute_result"
    }
   ],
   "source": [
    "arr"
   ]
  },
  {
   "cell_type": "markdown",
   "id": "beceb064",
   "metadata": {},
   "source": [
    "### 高維度陣列"
   ]
  },
  {
   "cell_type": "code",
   "execution_count": 66,
   "id": "a8bd23be",
   "metadata": {},
   "outputs": [],
   "source": [
    "arr2d = np.array([[1,2,3],[4,5,6],[7,8,9]])"
   ]
  },
  {
   "cell_type": "code",
   "execution_count": 67,
   "id": "f3fff4ec",
   "metadata": {},
   "outputs": [
    {
     "data": {
      "text/plain": [
       "array([7, 8, 9])"
      ]
     },
     "execution_count": 67,
     "metadata": {},
     "output_type": "execute_result"
    }
   ],
   "source": [
    "arr2d[2]"
   ]
  },
  {
   "cell_type": "markdown",
   "id": "e47a93cd",
   "metadata": {},
   "source": [
    "### 二維陣列，如果要抓取特定的值，除了[a][b]外，也可以[a,b]"
   ]
  },
  {
   "cell_type": "code",
   "execution_count": 68,
   "id": "bb5d896d",
   "metadata": {
    "scrolled": true
   },
   "outputs": [
    {
     "data": {
      "text/plain": [
       "3"
      ]
     },
     "execution_count": 68,
     "metadata": {},
     "output_type": "execute_result"
    }
   ],
   "source": [
    "arr2d[0][2]"
   ]
  },
  {
   "cell_type": "code",
   "execution_count": 69,
   "id": "1b58deb7",
   "metadata": {},
   "outputs": [
    {
     "data": {
      "text/plain": [
       "3"
      ]
     },
     "execution_count": 69,
     "metadata": {},
     "output_type": "execute_result"
    }
   ],
   "source": [
    "arr2d[0,2]"
   ]
  },
  {
   "cell_type": "code",
   "execution_count": 70,
   "id": "bc1b2f63",
   "metadata": {},
   "outputs": [
    {
     "data": {
      "text/plain": [
       "array([[[ 1,  2,  3],\n",
       "        [ 4,  5,  6]],\n",
       "\n",
       "       [[ 7,  8,  9],\n",
       "        [10, 11, 12]]])"
      ]
     },
     "execution_count": 70,
     "metadata": {},
     "output_type": "execute_result"
    }
   ],
   "source": [
    "arr3d = np.array([[[1,2,3],[4,5,6]],[[7,8,9],[10,11,12]]])\n",
    "arr3d"
   ]
  },
  {
   "cell_type": "code",
   "execution_count": 71,
   "id": "2bced0cb",
   "metadata": {},
   "outputs": [
    {
     "data": {
      "text/plain": [
       "array([[1, 2, 3],\n",
       "       [4, 5, 6]])"
      ]
     },
     "execution_count": 71,
     "metadata": {},
     "output_type": "execute_result"
    }
   ],
   "source": [
    "arr3d[0]"
   ]
  },
  {
   "cell_type": "code",
   "execution_count": 72,
   "id": "36520c1d",
   "metadata": {},
   "outputs": [],
   "source": [
    "old_values=arr3d[0].copy"
   ]
  },
  {
   "cell_type": "code",
   "execution_count": 73,
   "id": "ff5d7c07",
   "metadata": {},
   "outputs": [
    {
     "data": {
      "text/plain": [
       "array([[[42, 42, 42],\n",
       "        [42, 42, 42]],\n",
       "\n",
       "       [[ 7,  8,  9],\n",
       "        [10, 11, 12]]])"
      ]
     },
     "execution_count": 73,
     "metadata": {},
     "output_type": "execute_result"
    }
   ],
   "source": [
    "arr3d[0]=42\n",
    "arr3d"
   ]
  },
  {
   "cell_type": "markdown",
   "id": "30b015f7",
   "metadata": {},
   "source": [
    "### ???? arr3d[0]=old_values"
   ]
  },
  {
   "cell_type": "code",
   "execution_count": 74,
   "id": "738143b9",
   "metadata": {},
   "outputs": [
    {
     "data": {
      "text/plain": [
       "array([7, 8, 9])"
      ]
     },
     "execution_count": 74,
     "metadata": {},
     "output_type": "execute_result"
    }
   ],
   "source": [
    "arr3d[1,0]"
   ]
  },
  {
   "cell_type": "code",
   "execution_count": 75,
   "id": "b177726c",
   "metadata": {},
   "outputs": [],
   "source": [
    "x = arr3d[1]"
   ]
  },
  {
   "cell_type": "code",
   "execution_count": 76,
   "id": "5126cf3f",
   "metadata": {},
   "outputs": [
    {
     "data": {
      "text/plain": [
       "array([[ 7,  8,  9],\n",
       "       [10, 11, 12]])"
      ]
     },
     "execution_count": 76,
     "metadata": {},
     "output_type": "execute_result"
    }
   ],
   "source": [
    "x"
   ]
  },
  {
   "cell_type": "code",
   "execution_count": 77,
   "id": "7feff337",
   "metadata": {},
   "outputs": [
    {
     "data": {
      "text/plain": [
       "array([7, 8, 9])"
      ]
     },
     "execution_count": 77,
     "metadata": {},
     "output_type": "execute_result"
    }
   ],
   "source": [
    "x[0]"
   ]
  },
  {
   "cell_type": "markdown",
   "id": "6590c917",
   "metadata": {},
   "source": [
    "### 用切片做索引"
   ]
  },
  {
   "cell_type": "code",
   "execution_count": 78,
   "id": "1d897a0e",
   "metadata": {},
   "outputs": [
    {
     "data": {
      "text/plain": [
       "array([ 0,  1,  2,  3,  4, 64, 64, 64,  8,  9])"
      ]
     },
     "execution_count": 78,
     "metadata": {},
     "output_type": "execute_result"
    }
   ],
   "source": [
    "arr"
   ]
  },
  {
   "cell_type": "code",
   "execution_count": 79,
   "id": "52c8ea48",
   "metadata": {},
   "outputs": [
    {
     "data": {
      "text/plain": [
       "array([ 1,  2,  3,  4, 64])"
      ]
     },
     "execution_count": 79,
     "metadata": {},
     "output_type": "execute_result"
    }
   ],
   "source": [
    "arr[1:6]"
   ]
  },
  {
   "cell_type": "code",
   "execution_count": 80,
   "id": "959493a6",
   "metadata": {},
   "outputs": [
    {
     "data": {
      "text/plain": [
       "array([[1, 2, 3],\n",
       "       [4, 5, 6],\n",
       "       [7, 8, 9]])"
      ]
     },
     "execution_count": 80,
     "metadata": {},
     "output_type": "execute_result"
    }
   ],
   "source": [
    "arr2d"
   ]
  },
  {
   "cell_type": "code",
   "execution_count": 81,
   "id": "9fcbd29e",
   "metadata": {},
   "outputs": [
    {
     "data": {
      "text/plain": [
       "array([[1, 2, 3],\n",
       "       [4, 5, 6]])"
      ]
     },
     "execution_count": 81,
     "metadata": {},
     "output_type": "execute_result"
    }
   ],
   "source": [
    "arr2d[:2]"
   ]
  },
  {
   "cell_type": "code",
   "execution_count": 82,
   "id": "497f73d2",
   "metadata": {},
   "outputs": [
    {
     "data": {
      "text/plain": [
       "array([[2, 3],\n",
       "       [5, 6]])"
      ]
     },
     "execution_count": 82,
     "metadata": {},
     "output_type": "execute_result"
    }
   ],
   "source": [
    "arr2d[:2,1:]"
   ]
  },
  {
   "cell_type": "code",
   "execution_count": 83,
   "id": "d3c64711",
   "metadata": {},
   "outputs": [
    {
     "data": {
      "text/plain": [
       "array([4, 5])"
      ]
     },
     "execution_count": 83,
     "metadata": {},
     "output_type": "execute_result"
    }
   ],
   "source": [
    "arr2d[1,:2]"
   ]
  },
  {
   "cell_type": "code",
   "execution_count": 84,
   "id": "b91afc8c",
   "metadata": {},
   "outputs": [
    {
     "data": {
      "text/plain": [
       "array([7, 8])"
      ]
     },
     "execution_count": 84,
     "metadata": {},
     "output_type": "execute_result"
    }
   ],
   "source": [
    "arr2d[2,:2]"
   ]
  },
  {
   "cell_type": "code",
   "execution_count": 85,
   "id": "7f586dd6",
   "metadata": {},
   "outputs": [
    {
     "data": {
      "text/plain": [
       "array([[1],\n",
       "       [4],\n",
       "       [7]])"
      ]
     },
     "execution_count": 85,
     "metadata": {},
     "output_type": "execute_result"
    }
   ],
   "source": [
    "arr2d[:,:1]"
   ]
  },
  {
   "cell_type": "code",
   "execution_count": 86,
   "id": "9c908f98",
   "metadata": {},
   "outputs": [
    {
     "data": {
      "text/plain": [
       "array([[1, 0, 0],\n",
       "       [4, 0, 0],\n",
       "       [7, 8, 9]])"
      ]
     },
     "execution_count": 86,
     "metadata": {},
     "output_type": "execute_result"
    }
   ],
   "source": [
    "arr2d[:2,1:]=0\n",
    "arr2d"
   ]
  },
  {
   "cell_type": "markdown",
   "id": "eb16b07c",
   "metadata": {},
   "source": [
    "### 布林索引"
   ]
  },
  {
   "cell_type": "code",
   "execution_count": 87,
   "id": "6b838daf",
   "metadata": {},
   "outputs": [],
   "source": [
    "interests = np.array(['Books','Movie','Swimming','Books','Bikes','Movie','Dance'])"
   ]
  },
  {
   "cell_type": "code",
   "execution_count": 88,
   "id": "e64b0445",
   "metadata": {},
   "outputs": [],
   "source": [
    "data = np.array([[1,2,3,4],[5,6,7,8],[9,10,11,12],[13,14,15,16],[17,18,19,20],[21,22,23,24],[25,26,27,28]])"
   ]
  },
  {
   "cell_type": "code",
   "execution_count": 89,
   "id": "cc36a226",
   "metadata": {},
   "outputs": [
    {
     "data": {
      "text/plain": [
       "array(['Books', 'Movie', 'Swimming', 'Books', 'Bikes', 'Movie', 'Dance'],\n",
       "      dtype='<U8')"
      ]
     },
     "execution_count": 89,
     "metadata": {},
     "output_type": "execute_result"
    }
   ],
   "source": [
    "interests"
   ]
  },
  {
   "cell_type": "code",
   "execution_count": 90,
   "id": "5a534ca0",
   "metadata": {},
   "outputs": [
    {
     "data": {
      "text/plain": [
       "array([[ 1,  2,  3,  4],\n",
       "       [ 5,  6,  7,  8],\n",
       "       [ 9, 10, 11, 12],\n",
       "       [13, 14, 15, 16],\n",
       "       [17, 18, 19, 20],\n",
       "       [21, 22, 23, 24],\n",
       "       [25, 26, 27, 28]])"
      ]
     },
     "execution_count": 90,
     "metadata": {},
     "output_type": "execute_result"
    }
   ],
   "source": [
    "data"
   ]
  },
  {
   "cell_type": "markdown",
   "id": "4f500333",
   "metadata": {},
   "source": [
    "### 運用 == 可以進行布林值比較，可以透過比較運算子，產生布林索引。"
   ]
  },
  {
   "cell_type": "code",
   "execution_count": 91,
   "id": "176957cd",
   "metadata": {},
   "outputs": [
    {
     "data": {
      "text/plain": [
       "array([False, False, False, False,  True, False, False])"
      ]
     },
     "execution_count": 91,
     "metadata": {},
     "output_type": "execute_result"
    }
   ],
   "source": [
    "interests == 'Bikes'"
   ]
  },
  {
   "cell_type": "markdown",
   "id": "bd725c82",
   "metadata": {},
   "source": [
    "### 特別注意到使用布林陣列，兩個互相參照的行列數要一致。 "
   ]
  },
  {
   "cell_type": "markdown",
   "id": "9d84723b",
   "metadata": {},
   "source": [
    "### 由interests='Bike' 我們可以知道正確的值在index=4，放入到data，系統會找到index=4的那一列。(row)"
   ]
  },
  {
   "cell_type": "code",
   "execution_count": 92,
   "id": "83bea20b",
   "metadata": {},
   "outputs": [
    {
     "data": {
      "text/plain": [
       "array([[17, 18, 19, 20]])"
      ]
     },
     "execution_count": 92,
     "metadata": {},
     "output_type": "execute_result"
    }
   ],
   "source": [
    "data[interests == 'Bikes']"
   ]
  },
  {
   "cell_type": "markdown",
   "id": "21c7ebee",
   "metadata": {},
   "source": [
    "### 接下來再從[17,18,19,20]找到index=0,1的值，就是[17,18]囉！"
   ]
  },
  {
   "cell_type": "code",
   "execution_count": 93,
   "id": "5b773faa",
   "metadata": {},
   "outputs": [
    {
     "data": {
      "text/plain": [
       "array([[17, 18]])"
      ]
     },
     "execution_count": 93,
     "metadata": {},
     "output_type": "execute_result"
    }
   ],
   "source": [
    "data[interests == 'Bikes',:2]"
   ]
  },
  {
   "cell_type": "code",
   "execution_count": 94,
   "id": "5837dc14",
   "metadata": {},
   "outputs": [
    {
     "data": {
      "text/plain": [
       "array([20])"
      ]
     },
     "execution_count": 94,
     "metadata": {},
     "output_type": "execute_result"
    }
   ],
   "source": [
    "data[interests == 'Bikes', 3]"
   ]
  },
  {
   "cell_type": "markdown",
   "id": "90194bc2",
   "metadata": {},
   "source": [
    "### 如果要排除Bike以外的資料，可以使用 '!=' 或是反向 '~'"
   ]
  },
  {
   "cell_type": "code",
   "execution_count": 95,
   "id": "6da5c64a",
   "metadata": {},
   "outputs": [
    {
     "data": {
      "text/plain": [
       "array([ True,  True,  True,  True, False,  True,  True])"
      ]
     },
     "execution_count": 95,
     "metadata": {},
     "output_type": "execute_result"
    }
   ],
   "source": [
    "interests != 'Bikes'"
   ]
  },
  {
   "cell_type": "code",
   "execution_count": 96,
   "id": "e0bbf652",
   "metadata": {},
   "outputs": [
    {
     "data": {
      "text/plain": [
       "array([[ 1,  2,  3,  4],\n",
       "       [ 5,  6,  7,  8],\n",
       "       [ 9, 10, 11, 12],\n",
       "       [13, 14, 15, 16],\n",
       "       [21, 22, 23, 24],\n",
       "       [25, 26, 27, 28]])"
      ]
     },
     "execution_count": 96,
     "metadata": {},
     "output_type": "execute_result"
    }
   ],
   "source": [
    "data[~(interests == 'Bikes')]"
   ]
  },
  {
   "cell_type": "markdown",
   "id": "02474c14",
   "metadata": {},
   "source": [
    "### 在使用~時，可以先將資料存到另外一個陣列b_array，再套到data[]內，呈現會比較精美。"
   ]
  },
  {
   "cell_type": "code",
   "execution_count": 97,
   "id": "8a61164c",
   "metadata": {},
   "outputs": [],
   "source": [
    "b_array=interests=='Bikes'"
   ]
  },
  {
   "cell_type": "code",
   "execution_count": 98,
   "id": "4ea06d0c",
   "metadata": {},
   "outputs": [
    {
     "data": {
      "text/plain": [
       "array([[ 1,  2,  3,  4],\n",
       "       [ 5,  6,  7,  8],\n",
       "       [ 9, 10, 11, 12],\n",
       "       [13, 14, 15, 16],\n",
       "       [21, 22, 23, 24],\n",
       "       [25, 26, 27, 28]])"
      ]
     },
     "execution_count": 98,
     "metadata": {},
     "output_type": "execute_result"
    }
   ],
   "source": [
    "data[~b_array]"
   ]
  },
  {
   "cell_type": "markdown",
   "id": "85c7d150",
   "metadata": {},
   "source": [
    "### 如果想使用2個以上的條件，可以使用& , |(或)"
   ]
  },
  {
   "cell_type": "code",
   "execution_count": 99,
   "id": "0ad52e59",
   "metadata": {},
   "outputs": [],
   "source": [
    "interests2=( (interests =='Bikes') | (interests =='Movie') )"
   ]
  },
  {
   "cell_type": "code",
   "execution_count": 100,
   "id": "48a50dbc",
   "metadata": {},
   "outputs": [
    {
     "data": {
      "text/plain": [
       "array([False,  True, False, False,  True,  True, False])"
      ]
     },
     "execution_count": 100,
     "metadata": {},
     "output_type": "execute_result"
    }
   ],
   "source": [
    "interests2"
   ]
  },
  {
   "cell_type": "code",
   "execution_count": 101,
   "id": "9d24281c",
   "metadata": {},
   "outputs": [
    {
     "data": {
      "text/plain": [
       "array([[ 5,  6,  7,  8],\n",
       "       [17, 18, 19, 20],\n",
       "       [21, 22, 23, 24]])"
      ]
     },
     "execution_count": 101,
     "metadata": {},
     "output_type": "execute_result"
    }
   ],
   "source": [
    "data[interests2]"
   ]
  },
  {
   "cell_type": "markdown",
   "id": "56fcb559",
   "metadata": {},
   "source": [
    "### 注意在使用布林值陣列時，不能使用文字的and, or，必須使用符號 &, |。"
   ]
  },
  {
   "cell_type": "code",
   "execution_count": 102,
   "id": "ef67d7eb",
   "metadata": {},
   "outputs": [],
   "source": [
    "interests2=( (interests =='Bikes') & (interests =='Movie') )"
   ]
  },
  {
   "cell_type": "markdown",
   "id": "bd270936",
   "metadata": {},
   "source": [
    "### 利用布林值陣列來調整原陣列的值。"
   ]
  },
  {
   "cell_type": "code",
   "execution_count": 103,
   "id": "77106093",
   "metadata": {},
   "outputs": [
    {
     "data": {
      "text/plain": [
       "array([[ 1,  2,  3,  4],\n",
       "       [ 5,  6,  7,  8],\n",
       "       [ 9, 10, 11, 12],\n",
       "       [13, 14, 15, 16],\n",
       "       [17, 18, 19, 20],\n",
       "       [21, 22, 23, 24],\n",
       "       [25, 26, 27, 28]])"
      ]
     },
     "execution_count": 103,
     "metadata": {},
     "output_type": "execute_result"
    }
   ],
   "source": [
    "data"
   ]
  },
  {
   "cell_type": "code",
   "execution_count": 104,
   "id": "e7ab7a74",
   "metadata": {},
   "outputs": [
    {
     "data": {
      "text/plain": [
       "array([[ 0,  0,  0,  0],\n",
       "       [ 0,  0,  0,  0],\n",
       "       [ 0,  0,  0,  0],\n",
       "       [ 0,  0,  0,  0],\n",
       "       [ 0,  0,  0, 20],\n",
       "       [21, 22, 23, 24],\n",
       "       [25, 26, 27, 28]])"
      ]
     },
     "execution_count": 104,
     "metadata": {},
     "output_type": "execute_result"
    }
   ],
   "source": [
    "data[data<20]=0\n",
    "data"
   ]
  },
  {
   "cell_type": "code",
   "execution_count": 105,
   "id": "42b9f6b0",
   "metadata": {},
   "outputs": [],
   "source": [
    "data[interests=='Dance']=150"
   ]
  },
  {
   "cell_type": "code",
   "execution_count": 106,
   "id": "c9f60871",
   "metadata": {},
   "outputs": [
    {
     "data": {
      "text/plain": [
       "array([[  0,   0,   0,   0],\n",
       "       [  0,   0,   0,   0],\n",
       "       [  0,   0,   0,   0],\n",
       "       [  0,   0,   0,   0],\n",
       "       [  0,   0,   0,  20],\n",
       "       [ 21,  22,  23,  24],\n",
       "       [150, 150, 150, 150]])"
      ]
     },
     "execution_count": 106,
     "metadata": {},
     "output_type": "execute_result"
    }
   ],
   "source": [
    "data"
   ]
  }
 ],
 "metadata": {
  "kernelspec": {
   "display_name": "Python 3 (ipykernel)",
   "language": "python",
   "name": "python3"
  },
  "language_info": {
   "codemirror_mode": {
    "name": "ipython",
    "version": 3
   },
   "file_extension": ".py",
   "mimetype": "text/x-python",
   "name": "python",
   "nbconvert_exporter": "python",
   "pygments_lexer": "ipython3",
   "version": "3.9.12"
  }
 },
 "nbformat": 4,
 "nbformat_minor": 5
}
