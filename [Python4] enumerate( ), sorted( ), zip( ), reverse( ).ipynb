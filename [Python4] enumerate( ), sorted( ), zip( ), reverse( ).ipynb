{
 "cells": [
  {
   "cell_type": "markdown",
   "id": "05c6bb67",
   "metadata": {},
   "source": [
    "# Chapter 3 內建資料結構、函式和檔案"
   ]
  },
  {
   "cell_type": "markdown",
   "id": "187b3010",
   "metadata": {},
   "source": [
    "## enumerate(), sorted(), zip(), reversed()"
   ]
  },
  {
   "cell_type": "markdown",
   "id": "a601d312",
   "metadata": {},
   "source": [
    "### enumerate(): 會回傳（index, value)的序列"
   ]
  },
  {
   "cell_type": "code",
   "execution_count": 1,
   "id": "ef925536",
   "metadata": {},
   "outputs": [
    {
     "name": "stdout",
     "output_type": "stream",
     "text": [
      "{'apple': 0, 'berry': 1, 'city': 2, 'diverse': 3, 'eliminate': 4}\n"
     ]
    }
   ],
   "source": [
    "a_list=['apple','berry','city','diverse','eliminate']\n",
    "b={}\n",
    "for i,v in enumerate(a_list):\n",
    "    b[v]=i\n",
    "print(b)"
   ]
  },
  {
   "cell_type": "markdown",
   "id": "1d2d2b12",
   "metadata": {},
   "source": [
    "### enumerate() 的for 迴圈，i,v是個變數，可以置換為其他字母，但是順序很重要，前面的ｉ代表index，置換後會有相反的結果。"
   ]
  },
  {
   "cell_type": "code",
   "execution_count": 2,
   "id": "8aa94d4c",
   "metadata": {},
   "outputs": [
    {
     "name": "stdout",
     "output_type": "stream",
     "text": [
      "{0: 'apple', 1: 'berry', 2: 'city', 3: 'diverse', 4: 'eliminate'}\n"
     ]
    }
   ],
   "source": [
    "a_list=['apple','berry','city','diverse','eliminate']\n",
    "b={}\n",
    "for c,d in enumerate(a_list):\n",
    "    b[c]=d\n",
    "print(b)"
   ]
  },
  {
   "cell_type": "markdown",
   "id": "a44b74fb",
   "metadata": {},
   "source": [
    "### sorted(): 可以將任何序列排序後，以新的序列回傳。"
   ]
  },
  {
   "cell_type": "markdown",
   "id": "f683b708",
   "metadata": {},
   "source": [
    "### sorted()可以回傳新的序列;sort()僅能原地排序，不能新增新的list。"
   ]
  },
  {
   "cell_type": "code",
   "execution_count": 3,
   "id": "f061f163",
   "metadata": {},
   "outputs": [
    {
     "data": {
      "text/plain": [
       "[20, 100, 150, 300, 500, 600]"
      ]
     },
     "execution_count": 3,
     "metadata": {},
     "output_type": "execute_result"
    }
   ],
   "source": [
    "sorted([20,100,500,300,600,150])"
   ]
  },
  {
   "cell_type": "code",
   "execution_count": 4,
   "id": "e1957b3b",
   "metadata": {},
   "outputs": [
    {
     "name": "stdout",
     "output_type": "stream",
     "text": [
      "a= [20, 100, 150, 300, 500, 600]\n"
     ]
    }
   ],
   "source": [
    "a=[20,100,500,300,600,150]\n",
    "a.sort()\n",
    "print(f'a= {a}')"
   ]
  },
  {
   "cell_type": "markdown",
   "id": "b4515987",
   "metadata": {},
   "source": [
    "### sorted()與sort()只能使用在list，不能將tuple排序。 "
   ]
  },
  {
   "cell_type": "markdown",
   "id": "6fba7d26",
   "metadata": {},
   "source": [
    "### sorted()可以對文字string進行字母排序，sort()僅能針對文字序列string list進行排序。"
   ]
  },
  {
   "cell_type": "code",
   "execution_count": 5,
   "id": "639ff466",
   "metadata": {
    "scrolled": true
   },
   "outputs": [
    {
     "data": {
      "text/plain": [
       "[' ', '!', 'a', 'a', 'b', 'd', 'h', 'h', 'i', 'p', 'p', 'r', 't', 'y', 'y']"
      ]
     },
     "execution_count": 5,
     "metadata": {},
     "output_type": "execute_result"
    }
   ],
   "source": [
    "sorted('happy birthday!')"
   ]
  },
  {
   "cell_type": "code",
   "execution_count": 6,
   "id": "889df92d",
   "metadata": {},
   "outputs": [
    {
     "name": "stdout",
     "output_type": "stream",
     "text": [
      "b= ['a', 'b', 'e', 'f']\n"
     ]
    }
   ],
   "source": [
    "b=['a','e','b','f']\n",
    "b.sort()\n",
    "print(f'b= {b}')"
   ]
  },
  {
   "cell_type": "markdown",
   "id": "1aa21aac",
   "metadata": {},
   "source": [
    "### zip(): 可以將tuple, list內的元素進行配對，建立一個新的tuple list。"
   ]
  },
  {
   "cell_type": "markdown",
   "id": "ecb3e62d",
   "metadata": {},
   "source": [
    "### zip(a,b)本身為tuple list，若要呈現出資料，需要list()的協助。"
   ]
  },
  {
   "cell_type": "code",
   "execution_count": 7,
   "id": "a94742ac",
   "metadata": {},
   "outputs": [
    {
     "name": "stdout",
     "output_type": "stream",
     "text": [
      "ab_list= [('white', 'yellow'), ('black', 'orange'), ('red', 'green')]\n"
     ]
    }
   ],
   "source": [
    "a=['white','black','red']\n",
    "b=['yellow','orange','green']\n",
    "ab_list= zip(a,b)\n",
    "print(f'ab_list= {list(ab_list)}')"
   ]
  },
  {
   "cell_type": "markdown",
   "id": "4b6debaf",
   "metadata": {},
   "source": [
    "### zip() 會根據要合併的tuple, list找到最小數量的合併呈現方式，多出來不能配對的值，就不會顯現。"
   ]
  },
  {
   "cell_type": "code",
   "execution_count": 8,
   "id": "f752c3f3",
   "metadata": {},
   "outputs": [
    {
     "name": "stdout",
     "output_type": "stream",
     "text": [
      "abc_list= [('white', 'yellow', 'beautiful'), ('black', 'orange', 'ugly')]\n"
     ]
    }
   ],
   "source": [
    "c=['beautiful','ugly']\n",
    "print(f'abc_list= {list(zip(a,b,c))}')"
   ]
  },
  {
   "cell_type": "markdown",
   "id": "d50c4353",
   "metadata": {},
   "source": [
    "### zip() 可以疊代多個序列，也可以與enumerate合併使用。"
   ]
  },
  {
   "cell_type": "code",
   "execution_count": 9,
   "id": "4fc7b1b4",
   "metadata": {},
   "outputs": [
    {
     "name": "stdout",
     "output_type": "stream",
     "text": [
      "0:white,yellow\n",
      "1:black,orange\n",
      "2:red,green\n"
     ]
    }
   ],
   "source": [
    "a=['white','black','red']\n",
    "b=['yellow','orange','green']\n",
    "for i, (a,b) in enumerate(zip(a,b)):\n",
    "    print('{0}:{1},{2}'.format(i,a,b))"
   ]
  },
  {
   "cell_type": "code",
   "execution_count": 10,
   "id": "693f4956",
   "metadata": {},
   "outputs": [
    {
     "name": "stdout",
     "output_type": "stream",
     "text": [
      "0:white,yellow,beautiful\n",
      "1:black,orange,ugly\n"
     ]
    }
   ],
   "source": [
    "a=['white','black','red']\n",
    "b=['yellow','orange','green']\n",
    "c=['beautiful','ugly']\n",
    "for i, (a,b,c) in enumerate(zip(a,b,c)):\n",
    "    print('{0}:{1},{2},{3}'.format(i,a,b,c))\n"
   ]
  },
  {
   "cell_type": "markdown",
   "id": "ad952af6",
   "metadata": {},
   "source": [
    "### zip(*list): 可以將合併後的list, tuple還原成原先的樣貌。"
   ]
  },
  {
   "cell_type": "code",
   "execution_count": 11,
   "id": "98120caf",
   "metadata": {},
   "outputs": [
    {
     "data": {
      "text/plain": [
       "[('John', 60), ('Andrew', 20), ('David', 30)]"
      ]
     },
     "execution_count": 11,
     "metadata": {},
     "output_type": "execute_result"
    }
   ],
   "source": [
    "d=['John','Andrew','David']\n",
    "e=[60,20,30]\n",
    "employee=list(zip(d,e))\n",
    "employee"
   ]
  },
  {
   "cell_type": "code",
   "execution_count": 12,
   "id": "0d071df4",
   "metadata": {},
   "outputs": [
    {
     "name": "stdout",
     "output_type": "stream",
     "text": [
      "name= ('John', 'Andrew', 'David')\n",
      "age= (60, 20, 30)\n"
     ]
    }
   ],
   "source": [
    "name,age=zip(*employee)\n",
    "print(f'name= {name}')\n",
    "print(f'age= {age}')"
   ]
  },
  {
   "cell_type": "markdown",
   "id": "b7471148",
   "metadata": {},
   "source": [
    "### reversed(): 會對序列的反序做疊代。"
   ]
  },
  {
   "cell_type": "code",
   "execution_count": 13,
   "id": "7293d8e5",
   "metadata": {},
   "outputs": [
    {
     "data": {
      "text/plain": [
       "[9, 8, 7, 6, 5, 4, 3, 2, 1, 0]"
      ]
     },
     "execution_count": 13,
     "metadata": {},
     "output_type": "execute_result"
    }
   ],
   "source": [
    "list(reversed(range(10)))"
   ]
  }
 ],
 "metadata": {
  "kernelspec": {
   "display_name": "Python 3 (ipykernel)",
   "language": "python",
   "name": "python3"
  },
  "language_info": {
   "codemirror_mode": {
    "name": "ipython",
    "version": 3
   },
   "file_extension": ".py",
   "mimetype": "text/x-python",
   "name": "python",
   "nbconvert_exporter": "python",
   "pygments_lexer": "ipython3",
   "version": "3.9.12"
  }
 },
 "nbformat": 4,
 "nbformat_minor": 5
}
